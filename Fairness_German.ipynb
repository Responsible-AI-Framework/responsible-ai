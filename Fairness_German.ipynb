{
 "cells": [
  {
   "cell_type": "markdown",
   "metadata": {},
   "source": [
    "## Test German dataset\n",
    "- Document of dataset: \n",
    "    + https://aif360.readthedocs.io/en/stable/modules/generated/aif360.sklearn.datasets.fetch_german.html#aif360.sklearn.datasets.fetch_german\n",
    "    + https://archive.ics.uci.edu/dataset/144/statlog+german+credit+data\n"
   ]
  },
  {
   "cell_type": "code",
   "execution_count": 1,
   "metadata": {},
   "outputs": [],
   "source": [
    "# Custom imports\n",
    "# import my_helper # my helper functions\n",
    "from TabResNet import TabResNet  # Import from existing script\n",
    "\n",
    "# General imports\n",
    "from IPython.display import Markdown, display, clear_output\n",
    "from functools import partial\n",
    "import pathlib\n",
    "import numpy as np\n",
    "import pandas as pd\n",
    "\n",
    "# DL imports\n",
    "import torch\n",
    "import torch.nn as nn\n",
    "import torch.optim as optim\n",
    "from sklearn.metrics import accuracy_score, precision_score\n",
    "from sklearn.model_selection import train_test_split\n",
    "\n",
    "# Choose the fairness metric\n",
    "from fairlearn.metrics import (\n",
    "    MetricFrame,\n",
    "    count,\n",
    "    false_negative_rate,\n",
    "    false_positive_rate,\n",
    "    selection_rate,\n",
    ")\n",
    "\n",
    "# Some \"difference\" metrics (as in Nils' paper)\n",
    "# All ranges are [0,1] -> no need to scale \n",
    "from fairlearn.metrics import (\n",
    "    demographic_parity_difference,\n",
    "    equalized_odds_difference,\n",
    "    true_positive_rate_difference,\n",
    "    false_positive_rate_difference,\n",
    ")\n",
    "\n",
    "torch.manual_seed(27)\n",
    "clear_output()\n",
    "np.random.seed(27)"
   ]
  },
  {
   "cell_type": "markdown",
   "metadata": {},
   "source": [
    "## Data Loading"
   ]
  },
  {
   "cell_type": "code",
   "execution_count": 14,
   "metadata": {},
   "outputs": [],
   "source": [
    "# ---------------------------\n",
    "# Data Loading and Preparation\n",
    "# ---------------------------\n",
    "from aif360.sklearn.datasets import fetch_german\n",
    "\n",
    "X, y = fetch_german()\n",
    "\n",
    "\n",
    "# The dataset and target labels have 3 index groups: sex, age, and foreign_worker -> Different from the previous datasets\n",
    "# Now clear those indices to go back to the same format with previous datasets\n",
    "X.reset_index(drop=True, inplace=True)\n",
    "y.reset_index(drop=True, inplace=True)\n",
    "\n",
    "# Binarize labels\n",
    "y = y.map({'good': 1, 'bad': 0})\n"
   ]
  },
  {
   "cell_type": "code",
   "execution_count": 15,
   "metadata": {},
   "outputs": [],
   "source": [
    "y = y.to_numpy(dtype=int)"
   ]
  },
  {
   "cell_type": "code",
   "execution_count": 16,
   "metadata": {},
   "outputs": [],
   "source": [
    "# Add binary_age column based on the condition, value = aged if age >= 25 else young\n",
    "X['age_group'] = X['age'].apply(lambda x: 'aged' if x >= 25 else 'young')\n",
    "\n",
    "# X['age_group'] = (X['age'] >= 25)"
   ]
  },
  {
   "cell_type": "code",
   "execution_count": 17,
   "metadata": {},
   "outputs": [
    {
     "name": "stdout",
     "output_type": "stream",
     "text": [
      "0\n",
      "1    0.7\n",
      "0    0.3\n",
      "Name: proportion, dtype: float64\n"
     ]
    }
   ],
   "source": [
    "y_df = pd.DataFrame(y)\n",
    "print(y_df.value_counts(normalize=True))"
   ]
  },
  {
   "cell_type": "markdown",
   "metadata": {},
   "source": [
    "## Data Preprocessing"
   ]
  },
  {
   "cell_type": "markdown",
   "metadata": {},
   "source": [
    "### Label Encoding"
   ]
  },
  {
   "cell_type": "code",
   "execution_count": 7,
   "metadata": {},
   "outputs": [],
   "source": [
    "X_copy = X.copy()\n",
    "categorical_cols = X_copy.select_dtypes(include=['object', 'category']).columns"
   ]
  },
  {
   "cell_type": "code",
   "execution_count": 8,
   "metadata": {},
   "outputs": [
    {
     "name": "stdout",
     "output_type": "stream",
     "text": [
      "\n",
      "Encoded mapping for 'checking_status':\n",
      "  0<=X<200 → 0\n",
      "  <0 → 1\n",
      "  >=200 → 2\n",
      "  no checking → 3\n",
      "\n",
      "Encoded mapping for 'credit_history':\n",
      "  all paid → 0\n",
      "  critical/other existing credit → 1\n",
      "  delayed previously → 2\n",
      "  existing paid → 3\n",
      "  no credits/all paid → 4\n",
      "\n",
      "Encoded mapping for 'purpose':\n",
      "  business → 0\n",
      "  domestic appliance → 1\n",
      "  education → 2\n",
      "  furniture/equipment → 3\n",
      "  new car → 4\n",
      "  other → 5\n",
      "  radio/tv → 6\n",
      "  repairs → 7\n",
      "  retraining → 8\n",
      "  used car → 9\n",
      "\n",
      "Encoded mapping for 'savings_status':\n",
      "  100<=X<500 → 0\n",
      "  500<=X<1000 → 1\n",
      "  <100 → 2\n",
      "  >=1000 → 3\n",
      "  no known savings → 4\n",
      "\n",
      "Encoded mapping for 'employment':\n",
      "  1<=X<4 → 0\n",
      "  4<=X<7 → 1\n",
      "  <1 → 2\n",
      "  >=7 → 3\n",
      "  unemployed → 4\n",
      "\n",
      "Encoded mapping for 'other_parties':\n",
      "  co applicant → 0\n",
      "  guarantor → 1\n",
      "  none → 2\n",
      "\n",
      "Encoded mapping for 'property_magnitude':\n",
      "  car → 0\n",
      "  life insurance → 1\n",
      "  no known property → 2\n",
      "  real estate → 3\n",
      "\n",
      "Encoded mapping for 'other_payment_plans':\n",
      "  bank → 0\n",
      "  none → 1\n",
      "  stores → 2\n",
      "\n",
      "Encoded mapping for 'housing':\n",
      "  for free → 0\n",
      "  own → 1\n",
      "  rent → 2\n",
      "\n",
      "Encoded mapping for 'job':\n",
      "  high qualif/self emp/mgmt → 0\n",
      "  skilled → 1\n",
      "  unemp/unskilled non res → 2\n",
      "  unskilled resident → 3\n",
      "\n",
      "Encoded mapping for 'own_telephone':\n",
      "  none → 0\n",
      "  yes → 1\n",
      "\n",
      "Encoded mapping for 'foreign_worker':\n",
      "  no → 0\n",
      "  yes → 1\n",
      "\n",
      "Encoded mapping for 'sex':\n",
      "  female → 0\n",
      "  male → 1\n",
      "\n",
      "Encoded mapping for 'marital_status':\n",
      "  div/dep/mar → 0\n",
      "  div/sep → 1\n",
      "  mar/wid → 2\n",
      "  single → 3\n",
      "\n",
      "Encoded mapping for 'age_group':\n",
      "  aged → 0\n",
      "  young → 1\n"
     ]
    }
   ],
   "source": [
    "from sklearn.preprocessing import LabelEncoder\n",
    "label_mappings = {}\n",
    "# Apply LabelEncoder to each column and store mappings\n",
    "for col in categorical_cols:\n",
    "    le = LabelEncoder()\n",
    "    X_copy[col] = le.fit_transform(X_copy[col])\n",
    "    label_mappings[col] = dict(zip(le.classes_, le.transform(le.classes_)))\n",
    "\n",
    "# Show mappings\n",
    "for col, mapping in label_mappings.items():\n",
    "    print(f\"\\nEncoded mapping for '{col}':\")\n",
    "    for original, encoded in mapping.items():\n",
    "        print(f\"  {original} → {encoded}\")"
   ]
  },
  {
   "cell_type": "code",
   "execution_count": 9,
   "metadata": {},
   "outputs": [],
   "source": [
    "X_encoded = X_copy.copy()"
   ]
  },
  {
   "cell_type": "code",
   "execution_count": 10,
   "metadata": {},
   "outputs": [],
   "source": [
    "X_le = X_encoded.drop(columns=['sex'])"
   ]
  },
  {
   "cell_type": "markdown",
   "metadata": {},
   "source": [
    "### Data Splitting & Formatting"
   ]
  },
  {
   "cell_type": "code",
   "execution_count": 11,
   "metadata": {},
   "outputs": [],
   "source": [
    "random_state = 7\n",
    "X_train, X_test, y_train, y_test, A_train, A_test = train_test_split(\n",
    "    X_le, y, X[\"sex\"], test_size=0.2, random_state=random_state\n",
    ")\n"
   ]
  },
  {
   "cell_type": "code",
   "execution_count": 12,
   "metadata": {},
   "outputs": [
    {
     "name": "stdout",
     "output_type": "stream",
     "text": [
      "Class distribution by sex group (as percentage):\n",
      "Label       0      1\n",
      "sex                 \n",
      "female  33.96  66.04\n",
      "male    22.45  77.55\n"
     ]
    },
    {
     "name": "stderr",
     "output_type": "stream",
     "text": [
      "C:\\Users\\hungd\\AppData\\Local\\Temp\\ipykernel_15648\\471907929.py:8: FutureWarning: The default of observed=False is deprecated and will be changed to True in a future version of pandas. Pass observed=False to retain current behavior or observed=True to adopt the future default and silence this warning.\n",
      "  distribution = df_test.groupby('sex')['Label'].value_counts(normalize=True).unstack()\n"
     ]
    }
   ],
   "source": [
    "# Combine into DataFrame for easy grouping\n",
    "df_test = pd.DataFrame({\n",
    "    'sex': A_test,\n",
    "    'Label': y_test\n",
    "})\n",
    "\n",
    "# Count distribution of classes per group\n",
    "distribution = df_test.groupby('sex')['Label'].value_counts(normalize=True).unstack()\n",
    "print(\"Class distribution by sex group (as percentage):\")\n",
    "print((distribution * 100).round(2))"
   ]
  },
  {
   "cell_type": "code",
   "execution_count": 18,
   "metadata": {},
   "outputs": [
    {
     "name": "stdout",
     "output_type": "stream",
     "text": [
      "Shape of X_train:  (800, 21)\n",
      "Shape of y_train:  (800,)\n",
      "Shape of A_train:  (800,)\n",
      "Shape of A_test:  (200,)\n",
      "Shape of X_test:  (200, 21)\n",
      "Shape of y_test:  (200,)\n"
     ]
    }
   ],
   "source": [
    "print(\"Shape of X_train: \", X_train.shape)\n",
    "print(\"Shape of y_train: \", y_train.shape)\n",
    "print(\"Shape of A_train: \", A_train.shape)\n",
    "print(\"Shape of A_test: \", A_test.shape)\n",
    "print(\"Shape of X_test: \", X_test.shape)\n",
    "print(\"Shape of y_test: \", y_test.shape)"
   ]
  },
  {
   "cell_type": "code",
   "execution_count": 19,
   "metadata": {},
   "outputs": [],
   "source": [
    "X_train_np = X_train.values.astype(np.float32)\n",
    "X_test_np = X_test.values.astype(np.float32)\n",
    "\n",
    "# Convert all data to integers -> avoid errors in training\n",
    "y_train_np = y_train.astype(np.int64).values if isinstance(y_train, pd.Series) else y_train.astype(np.int64)\n",
    "y_test_np = y_test.astype(np.int64).values if isinstance(y_test, pd.Series) else y_test.astype(np.int64)\n",
    "\n",
    "\n",
    "# Convert data to tensors\n",
    "X_train_tensor = torch.from_numpy(X_train_np)\n",
    "y_train_tensor = torch.from_numpy(y_train_np)\n",
    "X_test_tensor = torch.from_numpy(X_test_np)\n",
    "y_test_tensor = torch.from_numpy(y_test_np) #.type(torch.LongTensor) "
   ]
  },
  {
   "cell_type": "code",
   "execution_count": 20,
   "metadata": {},
   "outputs": [
    {
     "name": "stdout",
     "output_type": "stream",
     "text": [
      "X_train shape: (800, 21)\n",
      "X_test shape: (200, 21)\n",
      "y_train shape: (800,)\n",
      "y_test shape: (200,)\n"
     ]
    }
   ],
   "source": [
    "# Display dim to choose suitable param of TabResNet\n",
    "# Pay attention to the number of features\n",
    "print(\"X_train shape:\", X_train.shape)\n",
    "print(\"X_test shape:\", X_test.shape)\n",
    "print(\"y_train shape:\", y_train.shape)\n",
    "print(\"y_test shape:\", y_test.shape)"
   ]
  },
  {
   "cell_type": "markdown",
   "metadata": {},
   "source": [
    "## Train"
   ]
  },
  {
   "cell_type": "markdown",
   "metadata": {},
   "source": [
    "### XGB"
   ]
  },
  {
   "cell_type": "code",
   "execution_count": 21,
   "metadata": {},
   "outputs": [],
   "source": [
    "from xgboost import XGBClassifier\n",
    "# Train XGBoost model\n",
    "xgb_model = XGBClassifier(\n",
    "    objective='binary:logistic',\n",
    "    eval_metric='logloss',\n",
    "    n_estimators=100,\n",
    "    max_depth=3,\n",
    "    learning_rate=0.1,\n",
    "    random_state=random_state\n",
    ")"
   ]
  },
  {
   "cell_type": "code",
   "execution_count": 22,
   "metadata": {},
   "outputs": [
    {
     "name": "stdout",
     "output_type": "stream",
     "text": [
      "XGBoost Test Accuracy: 0.8050\n"
     ]
    }
   ],
   "source": [
    "xgb_model.fit(X_train_np, y_train_np)\n",
    "\n",
    "# Predict and evaluate\n",
    "xgb_preds = xgb_model.predict(X_test_np)\n",
    "xgb_accuracy = accuracy_score(y_test_np, xgb_preds)\n",
    "print(f\"XGBoost Test Accuracy: {xgb_accuracy:.4f}\")"
   ]
  },
  {
   "cell_type": "code",
   "execution_count": 17,
   "metadata": {},
   "outputs": [],
   "source": [
    "# Save the model for train with XGB , diabetes dataset\n",
    "xgb_model.save_model(\"saved_model/xgb_german.json\")"
   ]
  },
  {
   "cell_type": "code",
   "execution_count": null,
   "metadata": {},
   "outputs": [],
   "source": [
    "# Load the model\n",
    "# xgb_model.load_model(\"saved_model/xgb_german.json\")"
   ]
  },
  {
   "cell_type": "markdown",
   "metadata": {},
   "source": [
    "### MLP"
   ]
  },
  {
   "cell_type": "code",
   "execution_count": 27,
   "metadata": {},
   "outputs": [],
   "source": [
    "from sklearn.neural_network import MLPClassifier\n",
    "\n",
    "# Train MLP model\n",
    "mlp_model = MLPClassifier(\n",
    "    hidden_layer_sizes=50,\n",
    "    activation='relu',\n",
    "    solver='adam',\n",
    "    learning_rate_init=1e-3,\n",
    "    max_iter=400,\n",
    "    random_state=random_state\n",
    ")"
   ]
  },
  {
   "cell_type": "code",
   "execution_count": 28,
   "metadata": {},
   "outputs": [
    {
     "name": "stdout",
     "output_type": "stream",
     "text": [
      "MLP Test Accuracy: 0.7550\n"
     ]
    }
   ],
   "source": [
    "\n",
    "mlp_model.fit(X_train_np, y_train_np)\n",
    "\n",
    "# Predict and evaluate\n",
    "mlp_preds = mlp_model.predict(X_test_np)\n",
    "mlp_accuracy = accuracy_score(y_test_np, mlp_preds)\n",
    "print(f\"MLP Test Accuracy: {mlp_accuracy:.4f}\")"
   ]
  },
  {
   "cell_type": "code",
   "execution_count": 28,
   "metadata": {},
   "outputs": [
    {
     "data": {
      "text/plain": [
       "['saved_model/mlp_german.pkl']"
      ]
     },
     "execution_count": 28,
     "metadata": {},
     "output_type": "execute_result"
    }
   ],
   "source": [
    "import joblib\n",
    "\n",
    "# Save\n",
    "joblib.dump(mlp_model, \"saved_model/mlp_german.pkl\")"
   ]
  },
  {
   "cell_type": "code",
   "execution_count": null,
   "metadata": {},
   "outputs": [],
   "source": [
    "# import joblib\n",
    "\n",
    "# mlp_model = joblib.load(\"saved_model/mlp_german.pkl\")"
   ]
  },
  {
   "cell_type": "markdown",
   "metadata": {},
   "source": [
    "### TabResNet"
   ]
  },
  {
   "cell_type": "code",
   "execution_count": 29,
   "metadata": {},
   "outputs": [],
   "source": [
    "# Instantiate model\n",
    "model = TabResNet(\n",
    "    d_in=X_test.shape[1], # Match input features\n",
    "    d_out=2,\n",
    "    n_blocks=2,\n",
    "    d_block=32,\n",
    "    d_hidden=64,\n",
    "    dropout1=0.2,\n",
    "    dropout2=0.05\n",
    ")\n",
    "\n",
    "# Loss function and optimizer\n",
    "criterion = nn.CrossEntropyLoss() \n",
    "optimizer = optim.Adam(model.parameters(), lr=0.001)\n"
   ]
  },
  {
   "cell_type": "code",
   "execution_count": 30,
   "metadata": {},
   "outputs": [
    {
     "name": "stdout",
     "output_type": "stream",
     "text": [
      "Epoch [100/400], Loss: 0.5418\n",
      "Epoch [200/400], Loss: 0.4820\n",
      "Epoch [300/400], Loss: 0.4268\n",
      "Epoch [400/400], Loss: 0.3672\n"
     ]
    }
   ],
   "source": [
    "# Training loop\n",
    "num_epochs = 400\n",
    "for epoch in range(num_epochs):\n",
    "    # Forward pass\n",
    "    logits = model(X_train_tensor)\n",
    "    loss = criterion(logits, y_train_tensor)\n",
    "\n",
    "    # Backward pass and optimization\n",
    "    optimizer.zero_grad()\n",
    "    loss.backward()\n",
    "    optimizer.step()\n",
    "\n",
    "    # Print loss\n",
    "    if (epoch + 1) % 100 == 0:\n",
    "        print(f\"Epoch [{epoch+1}/{num_epochs}], Loss: {loss.item():.4f}\")"
   ]
  },
  {
   "cell_type": "code",
   "execution_count": 31,
   "metadata": {},
   "outputs": [
    {
     "name": "stdout",
     "output_type": "stream",
     "text": [
      "Test Accuracy: 0.7600\n"
     ]
    }
   ],
   "source": [
    "# Evaluate on test data\n",
    "model.eval()\n",
    "with torch.no_grad():\n",
    "    logits = model(X_test_tensor) \n",
    "    probs = torch.softmax(logits, dim=1)\n",
    "    preds = torch.argmax(probs, dim=1)\n",
    "    accuracy = (preds == y_test_tensor).float().mean().item()\n",
    "    print(f\"Test Accuracy: {accuracy:.4f}\")"
   ]
  },
  {
   "cell_type": "code",
   "execution_count": null,
   "metadata": {},
   "outputs": [],
   "source": [
    "# Save the model\n",
    "torch.save(model.state_dict(), \"saved_model/tabresnet_german.pth\")"
   ]
  },
  {
   "cell_type": "code",
   "execution_count": 30,
   "metadata": {},
   "outputs": [
    {
     "name": "stderr",
     "output_type": "stream",
     "text": [
      "C:\\Users\\hungd\\AppData\\Local\\Temp\\ipykernel_5468\\618963660.py:2: FutureWarning: You are using `torch.load` with `weights_only=False` (the current default value), which uses the default pickle module implicitly. It is possible to construct malicious pickle data which will execute arbitrary code during unpickling (See https://github.com/pytorch/pytorch/blob/main/SECURITY.md#untrusted-models for more details). In a future release, the default value for `weights_only` will be flipped to `True`. This limits the functions that could be executed during unpickling. Arbitrary objects will no longer be allowed to be loaded via this mode unless they are explicitly allowlisted by the user via `torch.serialization.add_safe_globals`. We recommend you start setting `weights_only=True` for any use case where you don't have full control of the loaded file. Please open an issue on GitHub for any issues related to this experimental feature.\n",
      "  model.load_state_dict(torch.load(\"saved_model/tabresnet_german.pth\"))\n"
     ]
    },
    {
     "data": {
      "text/plain": [
       "<All keys matched successfully>"
      ]
     },
     "execution_count": 30,
     "metadata": {},
     "output_type": "execute_result"
    }
   ],
   "source": [
    "# Load the model\n",
    "model.load_state_dict(torch.load(\"saved_model/tabresnet_german.pth\"))"
   ]
  },
  {
   "cell_type": "markdown",
   "metadata": {},
   "source": [
    "## Results"
   ]
  },
  {
   "cell_type": "markdown",
   "metadata": {},
   "source": [
    "### Predicted positive counts by group (German Credit):"
   ]
  },
  {
   "cell_type": "code",
   "execution_count": 39,
   "metadata": {},
   "outputs": [
    {
     "name": "stdout",
     "output_type": "stream",
     "text": [
      "Class distribution by Sex group (as percentage) - Credit Dataset:\n",
      "Label       0      1\n",
      "sex                 \n",
      "female  33.96  66.04\n",
      "male    22.45  77.55\n"
     ]
    },
    {
     "name": "stderr",
     "output_type": "stream",
     "text": [
      "C:\\Users\\hungd\\AppData\\Local\\Temp\\ipykernel_15648\\3851402921.py:8: FutureWarning: The default of observed=False is deprecated and will be changed to True in a future version of pandas. Pass observed=False to retain current behavior or observed=True to adopt the future default and silence this warning.\n",
      "  distribution = df_test.groupby('sex')['Label'].value_counts(normalize=True).unstack()\n"
     ]
    }
   ],
   "source": [
    "# Combine into DataFrame for easy grouping\n",
    "df_test = pd.DataFrame({\n",
    "    'sex': A_test,\n",
    "    'Label': y_test\n",
    "})\n",
    "\n",
    "# Count distribution of classes per group\n",
    "distribution = df_test.groupby('sex')['Label'].value_counts(normalize=True).unstack()\n",
    "print(\"Class distribution by Sex group (as percentage) - Credit Dataset:\")\n",
    "print((distribution * 100).round(2))"
   ]
  },
  {
   "cell_type": "markdown",
   "metadata": {},
   "source": [
    "Imbalance Assessment\n",
    "German Credit:\n",
    "\n",
    "Females: 66.04% positive label (1), Males: 77.55% positive label.\n",
    "\n",
    "There's notable disparity in class distribution across sex groups (~11.5 percentage points difference in positive rate), indicating group-level bias in label assignment.\n",
    "\n",
    "Conclusion: High imbalance in label distribution and sample size between male and female → risk of model overfitting to dominant patterns, reducing fairness."
   ]
  },
  {
   "cell_type": "code",
   "execution_count": 40,
   "metadata": {},
   "outputs": [
    {
     "name": "stdout",
     "output_type": "stream",
     "text": [
      "Predicted positive counts by group of Model XGB:\n",
      "sex\n",
      "female     40\n",
      "male      118\n",
      "dtype: int64\n"
     ]
    },
    {
     "name": "stderr",
     "output_type": "stream",
     "text": [
      "C:\\Users\\hungd\\AppData\\Local\\Temp\\ipykernel_15648\\1041707650.py:2: FutureWarning: The default of observed=False is deprecated and will be changed to True in a future version of pandas. Pass observed=False to retain current behavior or observed=True to adopt the future default and silence this warning.\n",
      "  print(pd.Series(xgb_preds, index=A_test.index).groupby(A_test).sum())\n"
     ]
    }
   ],
   "source": [
    "print(\"Predicted positive counts by group of Model XGB:\")\n",
    "print(pd.Series(xgb_preds, index=A_test.index).groupby(A_test).sum())"
   ]
  },
  {
   "cell_type": "code",
   "execution_count": 41,
   "metadata": {},
   "outputs": [
    {
     "name": "stdout",
     "output_type": "stream",
     "text": [
      "Predicted positive counts by group of Model MLP:\n",
      "sex\n",
      "female     52\n",
      "male      136\n",
      "dtype: int64\n"
     ]
    },
    {
     "name": "stderr",
     "output_type": "stream",
     "text": [
      "C:\\Users\\hungd\\AppData\\Local\\Temp\\ipykernel_15648\\3801193028.py:2: FutureWarning: The default of observed=False is deprecated and will be changed to True in a future version of pandas. Pass observed=False to retain current behavior or observed=True to adopt the future default and silence this warning.\n",
      "  print(pd.Series(mlp_preds, index=A_test.index).groupby(A_test).sum())\n"
     ]
    }
   ],
   "source": [
    "print(\"Predicted positive counts by group of Model MLP:\")\n",
    "print(pd.Series(mlp_preds, index=A_test.index).groupby(A_test).sum())"
   ]
  },
  {
   "cell_type": "code",
   "execution_count": 42,
   "metadata": {},
   "outputs": [
    {
     "name": "stdout",
     "output_type": "stream",
     "text": [
      "Predicted positive counts by group of Model TabResNet:\n",
      "sex\n",
      "female     32\n",
      "male      115\n",
      "dtype: int64\n"
     ]
    },
    {
     "name": "stderr",
     "output_type": "stream",
     "text": [
      "C:\\Users\\hungd\\AppData\\Local\\Temp\\ipykernel_15648\\2865812578.py:2: FutureWarning: The default of observed=False is deprecated and will be changed to True in a future version of pandas. Pass observed=False to retain current behavior or observed=True to adopt the future default and silence this warning.\n",
      "  print(pd.Series(preds, index=A_test.index).groupby(A_test).sum())\n"
     ]
    }
   ],
   "source": [
    "print(\"Predicted positive counts by group of Model TabResNet:\")\n",
    "print(pd.Series(preds, index=A_test.index).groupby(A_test).sum())"
   ]
  },
  {
   "cell_type": "markdown",
   "metadata": {},
   "source": [
    "### XGB"
   ]
  },
  {
   "cell_type": "code",
   "execution_count": 32,
   "metadata": {},
   "outputs": [
    {
     "data": {
      "text/plain": [
       "array([[<Axes: title={'center': 'Accuracy'}, xlabel='sex'>,\n",
       "        <Axes: title={'center': 'Precision'}, xlabel='sex'>,\n",
       "        <Axes: title={'center': 'False positive rate'}, xlabel='sex'>],\n",
       "       [<Axes: title={'center': 'False negative rate'}, xlabel='sex'>,\n",
       "        <Axes: title={'center': 'Selection rate'}, xlabel='sex'>,\n",
       "        <Axes: title={'center': 'Count'}, xlabel='sex'>],\n",
       "       [<Axes: xlabel='sex'>, <Axes: xlabel='sex'>, <Axes: xlabel='sex'>]],\n",
       "      dtype=object)"
      ]
     },
     "execution_count": 32,
     "metadata": {},
     "output_type": "execute_result"
    },
    {
     "data": {
      "image/png": "[encoded data removed]",
      "text/plain": [
       "<Figure size 1200x800 with 9 Axes>"
      ]
     },
     "metadata": {},
     "output_type": "display_data"
    }
   ],
   "source": [
    "# Plot metrics using MetricFrame\n",
    "xgb_metrics = {\n",
    "    \"Accuracy\": accuracy_score,\n",
    "    \"Precision\": precision_score,\n",
    "    \"False positive rate\": false_positive_rate,\n",
    "    \"False negative rate\": false_negative_rate,\n",
    "    \"Selection rate\": selection_rate,\n",
    "    \"Count\": count,\n",
    "}\n",
    "\n",
    "xgb_metric_frame = MetricFrame(\n",
    "    metrics=xgb_metrics, y_true=y_test, y_pred=xgb_preds, sensitive_features=A_test\n",
    ")\n",
    "\n",
    "# Plotting\n",
    "xgb_metric_frame.by_group.plot.bar(\n",
    "    subplots=True,\n",
    "    layout=[3, 3],\n",
    "    legend=False,\n",
    "    figsize=[12, 8],\n",
    "    title=\"Metrics by Sex\",\n",
    ")"
   ]
  },
  {
   "cell_type": "code",
   "execution_count": 33,
   "metadata": {},
   "outputs": [
    {
     "data": {
      "text/markdown": [
       "#### Raw values"
      ],
      "text/plain": [
       "<IPython.core.display.Markdown object>"
      ]
     },
     "metadata": {},
     "output_type": "display_data"
    },
    {
     "name": "stdout",
     "output_type": "stream",
     "text": [
      "Accuracy difference: 0.0171\n",
      "Precision difference: 0.0644\n",
      "True positive rate difference: 0.0195\n",
      "False positive rate difference: 0.0404\n",
      "Demographic parity difference: 0.0480\n",
      "Equalized odds difference: 0.0404\n"
     ]
    }
   ],
   "source": [
    "# Some \"difference\" metrics (as in Nils' paper)\n",
    "display(Markdown(\"#### Raw values\")) \n",
    "\n",
    "# Accuracy difference\n",
    "xgb_accuracy_values = xgb_metric_frame.by_group[\"Accuracy\"]\n",
    "xgb_acc_diff = xgb_accuracy_values.max() - xgb_accuracy_values.min()\n",
    "print(f\"Accuracy difference: {xgb_acc_diff:.4f}\")\n",
    "\n",
    "# Precision difference\n",
    "xgb_precision_values = xgb_metric_frame.by_group[\"Precision\"]\n",
    "xgb_prec_diff = xgb_precision_values.max() - xgb_precision_values.min()\n",
    "print(f\"Precision difference: {xgb_prec_diff:.4f}\")\n",
    "\n",
    "# True positive rate (TPR) difference\n",
    "# tpr_diff = true_positive_rate_difference(y_true=y_test, y_pred=y_pred, sensitive_features=A_test) # still work but not seen in current version of fairlearn\n",
    "xgb_tpr_values = 1 - xgb_metric_frame.by_group[\"False negative rate\"]\n",
    "xgb_tpr_diff = xgb_tpr_values.max() - xgb_tpr_values.min() \n",
    "print(f\"True positive rate difference: {xgb_tpr_diff:.4f}\")\n",
    "\n",
    "# False positive rate (FPR) difference\n",
    "# fpr_diff = false_positive_rate_difference(y_true=y_test, y_pred=y_pred, sensitive_features=A_test) # still work but not seen in current version of fairlearn\n",
    "xgb_fpr_values = xgb_metric_frame.by_group[\"False positive rate\"]\n",
    "xgb_fpr_diff = xgb_fpr_values.max() - xgb_fpr_values.min()\n",
    "print(f\"False positive rate difference: {xgb_fpr_diff:.4f}\")\n",
    "\n",
    "# Demographic parity (DemP) difference\n",
    "xgb_dp_diff = demographic_parity_difference(y_true=y_test, y_pred=xgb_preds, sensitive_features=A_test)\n",
    "print(f\"Demographic parity difference: {xgb_dp_diff:.4f}\")\n",
    "\n",
    "# Equalized odds (EO) difference\n",
    "# Defined as the greater of the 2 metrics: TPR difference and the FPR difference: max(tpr_diff, fpr_diff)\n",
    "# Currently, this is the same as the TPR difference\n",
    "xgb_eo_diff = equalized_odds_difference(y_true=y_test, y_pred=xgb_preds, sensitive_features=A_test)\n",
    "print(f\"Equalized odds difference: {xgb_eo_diff:.4f}\")"
   ]
  },
  {
   "cell_type": "markdown",
   "metadata": {},
   "source": [
    "### MLP"
   ]
  },
  {
   "cell_type": "code",
   "execution_count": 34,
   "metadata": {},
   "outputs": [
    {
     "data": {
      "text/plain": [
       "array([[<Axes: title={'center': 'Accuracy'}, xlabel='sex'>,\n",
       "        <Axes: title={'center': 'Precision'}, xlabel='sex'>,\n",
       "        <Axes: title={'center': 'False positive rate'}, xlabel='sex'>],\n",
       "       [<Axes: title={'center': 'False negative rate'}, xlabel='sex'>,\n",
       "        <Axes: title={'center': 'Selection rate'}, xlabel='sex'>,\n",
       "        <Axes: title={'center': 'Count'}, xlabel='sex'>],\n",
       "       [<Axes: xlabel='sex'>, <Axes: xlabel='sex'>, <Axes: xlabel='sex'>]],\n",
       "      dtype=object)"
      ]
     },
     "execution_count": 34,
     "metadata": {},
     "output_type": "execute_result"
    },
    {
     "data": {
      "image/png": "[encoded data removed]",
      "text/plain": [
       "<Figure size 1200x800 with 9 Axes>"
      ]
     },
     "metadata": {},
     "output_type": "display_data"
    }
   ],
   "source": [
    "# Plot metrics using MetricFrame\n",
    "mlp_metrics = {\n",
    "    \"Accuracy\": accuracy_score,\n",
    "    \"Precision\": precision_score,\n",
    "    \"False positive rate\": false_positive_rate,\n",
    "    \"False negative rate\": false_negative_rate,\n",
    "    \"Selection rate\": selection_rate,\n",
    "    \"Count\": count,\n",
    "}\n",
    "\n",
    "mlp_metric_frame = MetricFrame(\n",
    "    metrics=mlp_metrics, y_true=y_test, y_pred=mlp_preds, sensitive_features=A_test\n",
    ")\n",
    "\n",
    "# Plotting\n",
    "mlp_metric_frame.by_group.plot.bar(\n",
    "    subplots=True,\n",
    "    layout=[3, 3],\n",
    "    legend=False,\n",
    "    figsize=[12, 8],\n",
    "    title=\"Metrics by Sex\",\n",
    ")"
   ]
  },
  {
   "cell_type": "code",
   "execution_count": 35,
   "metadata": {},
   "outputs": [
    {
     "data": {
      "text/markdown": [
       "#### Raw values"
      ],
      "text/plain": [
       "<IPython.core.display.Markdown object>"
      ]
     },
     "metadata": {},
     "output_type": "display_data"
    },
    {
     "name": "stdout",
     "output_type": "stream",
     "text": [
      "Accuracy difference: 0.1031\n",
      "Precision difference: 0.1284\n",
      "True positive rate difference: 0.0439\n",
      "False positive rate difference: 0.1263\n",
      "Demographic parity difference: 0.0560\n",
      "Equalized odds difference: 0.1263\n"
     ]
    }
   ],
   "source": [
    "# Some \"difference\" metrics (as in Nils' paper)\n",
    "display(Markdown(\"#### Raw values\")) \n",
    "\n",
    "# Accuracy difference\n",
    "mlp_accuracy_values = mlp_metric_frame.by_group[\"Accuracy\"]\n",
    "mlp_acc_diff = mlp_accuracy_values.max() - mlp_accuracy_values.min()\n",
    "print(f\"Accuracy difference: {mlp_acc_diff:.4f}\")\n",
    "\n",
    "# Precision difference\n",
    "mlp_precision_values = mlp_metric_frame.by_group[\"Precision\"]\n",
    "mlp_prec_diff = mlp_precision_values.max() - mlp_precision_values.min()\n",
    "print(f\"Precision difference: {mlp_prec_diff:.4f}\")\n",
    "\n",
    "# True positive rate (TPR) difference\n",
    "# tpr_diff = true_positive_rate_difference(y_true=y_test, y_pred=y_pred, sensitive_features=A_test) # still work but not seen in current version of fairlearn\n",
    "mlp_tpr_values = 1 - mlp_metric_frame.by_group[\"False negative rate\"]\n",
    "mlp_tpr_diff = mlp_tpr_values.max() - mlp_tpr_values.min() \n",
    "print(f\"True positive rate difference: {mlp_tpr_diff:.4f}\")\n",
    "\n",
    "# False positive rate (FPR) difference\n",
    "# fpr_diff = false_positive_rate_difference(y_true=y_test, y_pred=y_pred, sensitive_features=A_test) # still work but not seen in current version of fairlearn\n",
    "mlp_fpr_values = mlp_metric_frame.by_group[\"False positive rate\"]\n",
    "mlp_fpr_diff = mlp_fpr_values.max() - mlp_fpr_values.min()\n",
    "print(f\"False positive rate difference: {mlp_fpr_diff:.4f}\")\n",
    "\n",
    "# Demographic parity (DemP) difference\n",
    "mlp_dp_diff = demographic_parity_difference(y_true=y_test, y_pred=mlp_preds, sensitive_features=A_test)\n",
    "print(f\"Demographic parity difference: {mlp_dp_diff:.4f}\")\n",
    "\n",
    "# Equalized odds (EO) difference\n",
    "# Defined as the greater of the 2 metrics: TPR difference and the FPR difference: max(tpr_diff, fpr_diff)\n",
    "# Currently, this is the same as the TPR difference\n",
    "mlp_eo_diff = equalized_odds_difference(y_true=y_test, y_pred=mlp_preds, sensitive_features=A_test)\n",
    "print(f\"Equalized odds difference: {mlp_eo_diff:.4f}\")"
   ]
  },
  {
   "cell_type": "markdown",
   "metadata": {},
   "source": [
    "### TabResNet"
   ]
  },
  {
   "cell_type": "code",
   "execution_count": 36,
   "metadata": {},
   "outputs": [
    {
     "data": {
      "text/plain": [
       "array([[<Axes: title={'center': 'Accuracy'}, xlabel='sex'>,\n",
       "        <Axes: title={'center': 'Precision'}, xlabel='sex'>,\n",
       "        <Axes: title={'center': 'False positive rate'}, xlabel='sex'>],\n",
       "       [<Axes: title={'center': 'False negative rate'}, xlabel='sex'>,\n",
       "        <Axes: title={'center': 'Selection rate'}, xlabel='sex'>,\n",
       "        <Axes: title={'center': 'Count'}, xlabel='sex'>],\n",
       "       [<Axes: xlabel='sex'>, <Axes: xlabel='sex'>, <Axes: xlabel='sex'>]],\n",
       "      dtype=object)"
      ]
     },
     "execution_count": 36,
     "metadata": {},
     "output_type": "execute_result"
    },
    {
     "data": {
      "image/png": "[encoded data removed]",
      "text/plain": [
       "<Figure size 1200x800 with 9 Axes>"
      ]
     },
     "metadata": {},
     "output_type": "display_data"
    }
   ],
   "source": [
    "# Plot metrics using MetricFrame\n",
    "metrics = {\n",
    "    \"Accuracy\": accuracy_score,\n",
    "    \"Precision\": precision_score,\n",
    "    \"False positive rate\": false_positive_rate,\n",
    "    \"False negative rate\": false_negative_rate,\n",
    "    \"Selection rate\": selection_rate,\n",
    "    \"Count\": count,\n",
    "}\n",
    "\n",
    "metric_frame = MetricFrame(\n",
    "    metrics=metrics, y_true=y_test, y_pred=preds, sensitive_features=A_test\n",
    ")\n",
    "\n",
    "# Plotting\n",
    "metric_frame.by_group.plot.bar(\n",
    "    subplots=True,\n",
    "    layout=[3, 3],\n",
    "    legend=False,\n",
    "    figsize=[12, 8],\n",
    "    title=\"Metrics by Sex\",\n",
    ")"
   ]
  },
  {
   "cell_type": "code",
   "execution_count": 37,
   "metadata": {},
   "outputs": [
    {
     "data": {
      "text/markdown": [
       "#### Raw values"
      ],
      "text/plain": [
       "<IPython.core.display.Markdown object>"
      ]
     },
     "metadata": {},
     "output_type": "display_data"
    },
    {
     "name": "stdout",
     "output_type": "stream",
     "text": [
      "Accuracy difference: 0.0585\n",
      "Precision difference: 0.0397\n",
      "True positive rate difference: 0.1168\n",
      "False positive rate difference: 0.1818\n",
      "Demographic parity difference: 0.1785\n",
      "Equalized odds difference: 0.1818\n"
     ]
    }
   ],
   "source": [
    "# Some \"difference\" metrics (as in Nils' paper)\n",
    "display(Markdown(\"#### Raw values\")) \n",
    "\n",
    "# Accuracy difference\n",
    "accuracy_values = metric_frame.by_group[\"Accuracy\"]\n",
    "acc_diff = accuracy_values.max() - accuracy_values.min()\n",
    "print(f\"Accuracy difference: {acc_diff:.4f}\")\n",
    "\n",
    "# Precision difference\n",
    "precision_values = metric_frame.by_group[\"Precision\"]\n",
    "prec_diff = precision_values.max() - precision_values.min()\n",
    "print(f\"Precision difference: {prec_diff:.4f}\")\n",
    "\n",
    "# True positive rate (TPR) difference\n",
    "# tpr_diff = true_positive_rate_difference(y_true=y_test, y_pred=y_pred, sensitive_features=A_test) # still work but not seen in current version of fairlearn\n",
    "tpr_values = 1 - metric_frame.by_group[\"False negative rate\"]\n",
    "tpr_diff = tpr_values.max() - tpr_values.min() \n",
    "print(f\"True positive rate difference: {tpr_diff:.4f}\")\n",
    "\n",
    "# False positive rate (FPR) difference\n",
    "# fpr_diff = false_positive_rate_difference(y_true=y_test, y_pred=y_pred, sensitive_features=A_test) # still work but not seen in current version of fairlearn\n",
    "fpr_values = metric_frame.by_group[\"False positive rate\"]\n",
    "fpr_diff = fpr_values.max() - fpr_values.min()\n",
    "print(f\"False positive rate difference: {fpr_diff:.4f}\")\n",
    "\n",
    "# Demographic parity (DemP) difference\n",
    "dp_diff = demographic_parity_difference(y_true=y_test, y_pred=preds, sensitive_features=A_test)\n",
    "print(f\"Demographic parity difference: {dp_diff:.4f}\")\n",
    "\n",
    "# Equalized odds (EO) difference\n",
    "# Defined as the greater of the 2 metrics: TPR difference and the FPR difference: max(tpr_diff, fpr_diff)\n",
    "# Currently, this is the same as the TPR difference\n",
    "eo_diff = equalized_odds_difference(y_true=y_test, y_pred=preds, sensitive_features=A_test)\n",
    "print(f\"Equalized odds difference: {eo_diff:.4f}\")"
   ]
  }
 ],
 "metadata": {
  "kernelspec": {
   "display_name": "fair-ai-env",
   "language": "python",
   "name": "python3"
  },
  "language_info": {
   "codemirror_mode": {
    "name": "ipython",
    "version": 3
   },
   "file_extension": ".py",
   "mimetype": "text/x-python",
   "name": "python",
   "nbconvert_exporter": "python",
   "pygments_lexer": "ipython3",
   "version": "3.10.16"
  }
 },
 "nbformat": 4,
 "nbformat_minor": 2
}
