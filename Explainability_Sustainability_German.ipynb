{
 "cells": [
  {
   "cell_type": "code",
   "execution_count": 110,
   "metadata": {
    "colab": {
     "base_uri": "https://localhost:8080/"
    },
    "executionInfo": {
     "elapsed": 2718,
     "status": "ok",
     "timestamp": 1747891071555,
     "user": {
      "displayName": "Hung Thanh Do",
      "userId": "14602254202234053172"
     },
     "user_tz": -120
    },
    "id": "TIWNQeLSc3hZ",
    "outputId": "e4054bc6-55e0-420a-c888-bdbcccb377eb"
   },
   "outputs": [
    {
     "name": "stdout",
     "output_type": "stream",
     "text": [
      "Drive already mounted at /content/drive; to attempt to forcibly remount, call drive.mount(\"/content/drive\", force_remount=True).\n"
     ]
    }
   ],
   "source": [
    "from google.colab import drive\n",
    "drive.mount('/content/drive')"
   ]
  },
  {
   "cell_type": "code",
   "execution_count": 111,
   "metadata": {
    "colab": {
     "base_uri": "https://localhost:8080/"
    },
    "executionInfo": {
     "elapsed": 11,
     "status": "ok",
     "timestamp": 1747891073291,
     "user": {
      "displayName": "Hung Thanh Do",
      "userId": "14602254202234053172"
     },
     "user_tz": -120
    },
    "id": "I_cTfQx5c9vh",
    "outputId": "1713708d-02ba-49eb-a8da-efcd9b8c323b"
   },
   "outputs": [
    {
     "name": "stdout",
     "output_type": "stream",
     "text": [
      "/content/drive/MyDrive/aif360-shap-ai\n"
     ]
    }
   ],
   "source": [
    "%cd '/content/drive/MyDrive/aif360-shap-ai'"
   ]
  },
  {
   "cell_type": "code",
   "execution_count": null,
   "metadata": {
    "colab": {
     "base_uri": "https://localhost:8080/"
    },
    "executionInfo": {
     "elapsed": 115,
     "status": "ok",
     "timestamp": 1747833234376,
     "user": {
      "displayName": "Hung Thanh Do",
      "userId": "14602254202234053172"
     },
     "user_tz": -120
    },
    "id": "f77tF9LYWfwX",
    "outputId": "041d5dfe-827c-407c-9ba1-68583fa6122e"
   },
   "outputs": [
    {
     "name": "stdout",
     "output_type": "stream",
     "text": [
      "model name\t: Intel(R) Xeon(R) CPU @ 2.20GHz\n"
     ]
    }
   ],
   "source": [
    "!cat /proc/cpuinfo | grep \"model name\" | head -1"
   ]
  },
  {
   "cell_type": "code",
   "execution_count": null,
   "metadata": {
    "colab": {
     "base_uri": "https://localhost:8080/"
    },
    "collapsed": true,
    "executionInfo": {
     "elapsed": 129,
     "status": "ok",
     "timestamp": 1747834762607,
     "user": {
      "displayName": "Hung Thanh Do",
      "userId": "14602254202234053172"
     },
     "user_tz": -120
    },
    "id": "0rpjrcpgEeyi",
    "outputId": "c67bfa20-66b0-40e6-d0b8-2d3694cad40f"
   },
   "outputs": [
    {
     "name": "stdout",
     "output_type": "stream",
     "text": [
      "Number of CPU:  2\n",
      "processor\t: 0\n",
      "vendor_id\t: GenuineIntel\n",
      "cpu family\t: 6\n",
      "model\t\t: 79\n",
      "model name\t: Intel(R) Xeon(R) CPU @ 2.20GHz\n",
      "stepping\t: 0\n",
      "microcode\t: 0xffffffff\n",
      "cpu MHz\t\t: 2199.998\n",
      "cache size\t: 56320 KB\n",
      "physical id\t: 0\n",
      "siblings\t: 2\n",
      "core id\t\t: 0\n",
      "cpu cores\t: 1\n",
      "apicid\t\t: 0\n",
      "initial apicid\t: 0\n",
      "fpu\t\t: yes\n",
      "fpu_exception\t: yes\n",
      "cpuid level\t: 13\n",
      "wp\t\t: yes\n",
      "flags\t\t: fpu vme de pse tsc msr pae mce cx8 apic sep mtrr pge mca cmov pat pse36 clflush mmx fxsr sse sse2 ss ht syscall nx pdpe1gb rdtscp lm constant_tsc rep_good nopl xtopology nonstop_tsc cpuid tsc_known_freq pni pclmulqdq ssse3 fma cx16 pcid sse4_1 sse4_2 x2apic movbe popcnt aes xsave avx f16c rdrand hypervisor lahf_lm abm 3dnowprefetch invpcid_single ssbd ibrs ibpb stibp fsgsbase tsc_adjust bmi1 hle avx2 smep bmi2 erms invpcid rtm rdseed adx smap xsaveopt arat md_clear arch_capabilities\n",
      "bugs\t\t: cpu_meltdown spectre_v1 spectre_v2 spec_store_bypass l1tf mds swapgs taa mmio_stale_data retbleed bhi\n",
      "bogomips\t: 4399.99\n",
      "clflush size\t: 64\n",
      "cache_alignment\t: 64\n",
      "address sizes\t: 46 bits physical, 48 bits virtual\n",
      "power management:\n",
      "\n",
      "processor\t: 1\n",
      "vendor_id\t: GenuineIntel\n",
      "cpu family\t: 6\n",
      "model\t\t: 79\n",
      "model name\t: Intel(R) Xeon(R) CPU @ 2.20GHz\n",
      "stepping\t: 0\n",
      "microcode\t: 0xffffffff\n",
      "cpu MHz\t\t: 2199.998\n",
      "cache size\t: 56320 KB\n",
      "physical id\t: 0\n",
      "siblings\t: 2\n",
      "core id\t\t: 0\n",
      "cpu cores\t: 1\n",
      "apicid\t\t: 1\n",
      "initial apicid\t: 1\n",
      "fpu\t\t: yes\n",
      "fpu_exception\t: yes\n",
      "cpuid level\t: 13\n",
      "wp\t\t: yes\n",
      "flags\t\t: fpu vme de pse tsc msr pae mce cx8 apic sep mtrr pge mca cmov pat pse36 clflush mmx fxsr sse sse2 ss ht syscall nx pdpe1gb rdtscp lm constant_tsc rep_good nopl xtopology nonstop_tsc cpuid tsc_known_freq pni pclmulqdq ssse3 fma cx16 pcid sse4_1 sse4_2 x2apic movbe popcnt aes xsave avx f16c rdrand hypervisor lahf_lm abm 3dnowprefetch invpcid_single ssbd ibrs ibpb stibp fsgsbase tsc_adjust bmi1 hle avx2 smep bmi2 erms invpcid rtm rdseed adx smap xsaveopt arat md_clear arch_capabilities\n",
      "bugs\t\t: cpu_meltdown spectre_v1 spectre_v2 spec_store_bypass l1tf mds swapgs taa mmio_stale_data retbleed bhi\n",
      "bogomips\t: 4399.99\n",
      "clflush size\t: 64\n",
      "cache_alignment\t: 64\n",
      "address sizes\t: 46 bits physical, 48 bits virtual\n",
      "power management:\n",
      "\n"
     ]
    }
   ],
   "source": [
    "from psutil import *\n",
    "# This code will return the number of CPU\n",
    "print(\"Number of CPU: \", cpu_count())\n",
    "# This code will return the CPU info\n",
    "!cat /proc/cpuinfo"
   ]
  },
  {
   "cell_type": "code",
   "execution_count": null,
   "metadata": {
    "colab": {
     "base_uri": "https://localhost:8080/"
    },
    "executionInfo": {
     "elapsed": 126,
     "status": "ok",
     "timestamp": 1747835096325,
     "user": {
      "displayName": "Hung Thanh Do",
      "userId": "14602254202234053172"
     },
     "user_tz": -120
    },
    "id": "3GRSIYmeFwc3",
    "outputId": "040c1362-bf78-488b-ac15-e3728ac4c01d"
   },
   "outputs": [
    {
     "name": "stdout",
     "output_type": "stream",
     "text": [
      "model name\t: Intel(R) Xeon(R) CPU @ 2.20GHz\n"
     ]
    }
   ],
   "source": [
    "!cat /proc/cpuinfo | grep \"model name\" | head -1"
   ]
  },
  {
   "cell_type": "code",
   "execution_count": null,
   "metadata": {
    "colab": {
     "base_uri": "https://localhost:8080/"
    },
    "collapsed": true,
    "executionInfo": {
     "elapsed": 140,
     "status": "ok",
     "timestamp": 1747833236054,
     "user": {
      "displayName": "Hung Thanh Do",
      "userId": "14602254202234053172"
     },
     "user_tz": -120
    },
    "id": "_NGHn6K_XZXV",
    "outputId": "1b8be886-dae1-4106-f0be-0cba4091679b"
   },
   "outputs": [
    {
     "name": "stdout",
     "output_type": "stream",
     "text": [
      "Wed May 21 13:13:56 2025       \n",
      "+-----------------------------------------------------------------------------------------+\n",
      "| NVIDIA-SMI 550.54.15              Driver Version: 550.54.15      CUDA Version: 12.4     |\n",
      "|-----------------------------------------+------------------------+----------------------+\n",
      "| GPU  Name                 Persistence-M | Bus-Id          Disp.A | Volatile Uncorr. ECC |\n",
      "| Fan  Temp   Perf          Pwr:Usage/Cap |           Memory-Usage | GPU-Util  Compute M. |\n",
      "|                                         |                        |               MIG M. |\n",
      "|=========================================+========================+======================|\n",
      "|   0  Tesla T4                       Off |   00000000:00:04.0 Off |                    0 |\n",
      "| N/A   58C    P8             11W /   70W |       0MiB /  15360MiB |      0%      Default |\n",
      "|                                         |                        |                  N/A |\n",
      "+-----------------------------------------+------------------------+----------------------+\n",
      "                                                                                         \n",
      "+-----------------------------------------------------------------------------------------+\n",
      "| Processes:                                                                              |\n",
      "|  GPU   GI   CI        PID   Type   Process name                              GPU Memory |\n",
      "|        ID   ID                                                               Usage      |\n",
      "|=========================================================================================|\n",
      "|  No running processes found                                                             |\n",
      "+-----------------------------------------------------------------------------------------+\n"
     ]
    }
   ],
   "source": [
    "!nvidia-smi"
   ]
  },
  {
   "cell_type": "code",
   "execution_count": 3,
   "metadata": {
    "colab": {
     "base_uri": "https://localhost:8080/"
    },
    "collapsed": true,
    "executionInfo": {
     "elapsed": 108479,
     "status": "ok",
     "timestamp": 1747889416718,
     "user": {
      "displayName": "Hung Thanh Do",
      "userId": "14602254202234053172"
     },
     "user_tz": -120
    },
    "id": "FHPPoGT3dE4O",
    "outputId": "afa0072d-7d5f-43f2-9672-380a23a0fbbf"
   },
   "outputs": [
    {
     "name": "stdout",
     "output_type": "stream",
     "text": [
      "Collecting quantus\n",
      "  Downloading quantus-0.5.3-py3-none-any.whl.metadata (34 kB)\n",
      "Requirement already satisfied: numpy>=1.19.5 in /usr/local/lib/python3.11/dist-packages (from quantus) (2.0.2)\n",
      "Requirement already satisfied: pandas>=1.5.3 in /usr/local/lib/python3.11/dist-packages (from quantus) (2.2.2)\n",
      "Requirement already satisfied: opencv-python>=4.5.5.62 in /usr/local/lib/python3.11/dist-packages (from quantus) (4.11.0.86)\n",
      "Requirement already satisfied: scikit-image>=0.19.3 in /usr/local/lib/python3.11/dist-packages (from quantus) (0.25.2)\n",
      "Requirement already satisfied: scikit-learn>=0.24.2 in /usr/local/lib/python3.11/dist-packages (from quantus) (1.6.1)\n",
      "Requirement already satisfied: scipy>=1.7.3 in /usr/local/lib/python3.11/dist-packages (from quantus) (1.15.3)\n",
      "Requirement already satisfied: tqdm>=4.62.3 in /usr/local/lib/python3.11/dist-packages (from quantus) (4.67.1)\n",
      "Requirement already satisfied: matplotlib>=3.3.4 in /usr/local/lib/python3.11/dist-packages (from quantus) (3.10.0)\n",
      "Requirement already satisfied: contourpy>=1.0.1 in /usr/local/lib/python3.11/dist-packages (from matplotlib>=3.3.4->quantus) (1.3.2)\n",
      "Requirement already satisfied: cycler>=0.10 in /usr/local/lib/python3.11/dist-packages (from matplotlib>=3.3.4->quantus) (0.12.1)\n",
      "Requirement already satisfied: fonttools>=4.22.0 in /usr/local/lib/python3.11/dist-packages (from matplotlib>=3.3.4->quantus) (4.58.0)\n",
      "Requirement already satisfied: kiwisolver>=1.3.1 in /usr/local/lib/python3.11/dist-packages (from matplotlib>=3.3.4->quantus) (1.4.8)\n",
      "Requirement already satisfied: packaging>=20.0 in /usr/local/lib/python3.11/dist-packages (from matplotlib>=3.3.4->quantus) (24.2)\n",
      "Requirement already satisfied: pillow>=8 in /usr/local/lib/python3.11/dist-packages (from matplotlib>=3.3.4->quantus) (11.2.1)\n",
      "Requirement already satisfied: pyparsing>=2.3.1 in /usr/local/lib/python3.11/dist-packages (from matplotlib>=3.3.4->quantus) (3.2.3)\n",
      "Requirement already satisfied: python-dateutil>=2.7 in /usr/local/lib/python3.11/dist-packages (from matplotlib>=3.3.4->quantus) (2.9.0.post0)\n",
      "Requirement already satisfied: pytz>=2020.1 in /usr/local/lib/python3.11/dist-packages (from pandas>=1.5.3->quantus) (2025.2)\n",
      "Requirement already satisfied: tzdata>=2022.7 in /usr/local/lib/python3.11/dist-packages (from pandas>=1.5.3->quantus) (2025.2)\n",
      "Requirement already satisfied: networkx>=3.0 in /usr/local/lib/python3.11/dist-packages (from scikit-image>=0.19.3->quantus) (3.4.2)\n",
      "Requirement already satisfied: imageio!=2.35.0,>=2.33 in /usr/local/lib/python3.11/dist-packages (from scikit-image>=0.19.3->quantus) (2.37.0)\n",
      "Requirement already satisfied: tifffile>=2022.8.12 in /usr/local/lib/python3.11/dist-packages (from scikit-image>=0.19.3->quantus) (2025.5.10)\n",
      "Requirement already satisfied: lazy-loader>=0.4 in /usr/local/lib/python3.11/dist-packages (from scikit-image>=0.19.3->quantus) (0.4)\n",
      "Requirement already satisfied: joblib>=1.2.0 in /usr/local/lib/python3.11/dist-packages (from scikit-learn>=0.24.2->quantus) (1.5.0)\n",
      "Requirement already satisfied: threadpoolctl>=3.1.0 in /usr/local/lib/python3.11/dist-packages (from scikit-learn>=0.24.2->quantus) (3.6.0)\n",
      "Requirement already satisfied: six>=1.5 in /usr/local/lib/python3.11/dist-packages (from python-dateutil>=2.7->matplotlib>=3.3.4->quantus) (1.17.0)\n",
      "Downloading quantus-0.5.3-py3-none-any.whl (266 kB)\n",
      "\u001b[2K   \u001b[90m━━━━━━━━━━━━━━━━━━━━━━━━━━━━━━━━━━━━━━━━\u001b[0m \u001b[32m266.1/266.1 kB\u001b[0m \u001b[31m14.5 MB/s\u001b[0m eta \u001b[36m0:00:00\u001b[0m\n",
      "\u001b[?25hInstalling collected packages: quantus\n",
      "Successfully installed quantus-0.5.3\n",
      "Collecting captum==0.7.0\n",
      "  Downloading captum-0.7.0-py3-none-any.whl.metadata (26 kB)\n",
      "Requirement already satisfied: matplotlib in /usr/local/lib/python3.11/dist-packages (from captum==0.7.0) (3.10.0)\n",
      "Requirement already satisfied: numpy in /usr/local/lib/python3.11/dist-packages (from captum==0.7.0) (2.0.2)\n",
      "Requirement already satisfied: torch>=1.6 in /usr/local/lib/python3.11/dist-packages (from captum==0.7.0) (2.6.0+cu124)\n",
      "Requirement already satisfied: tqdm in /usr/local/lib/python3.11/dist-packages (from captum==0.7.0) (4.67.1)\n",
      "Requirement already satisfied: filelock in /usr/local/lib/python3.11/dist-packages (from torch>=1.6->captum==0.7.0) (3.18.0)\n",
      "Requirement already satisfied: typing-extensions>=4.10.0 in /usr/local/lib/python3.11/dist-packages (from torch>=1.6->captum==0.7.0) (4.13.2)\n",
      "Requirement already satisfied: networkx in /usr/local/lib/python3.11/dist-packages (from torch>=1.6->captum==0.7.0) (3.4.2)\n",
      "Requirement already satisfied: jinja2 in /usr/local/lib/python3.11/dist-packages (from torch>=1.6->captum==0.7.0) (3.1.6)\n",
      "Requirement already satisfied: fsspec in /usr/local/lib/python3.11/dist-packages (from torch>=1.6->captum==0.7.0) (2025.3.2)\n",
      "Collecting nvidia-cuda-nvrtc-cu12==12.4.127 (from torch>=1.6->captum==0.7.0)\n",
      "  Downloading nvidia_cuda_nvrtc_cu12-12.4.127-py3-none-manylinux2014_x86_64.whl.metadata (1.5 kB)\n",
      "Collecting nvidia-cuda-runtime-cu12==12.4.127 (from torch>=1.6->captum==0.7.0)\n",
      "  Downloading nvidia_cuda_runtime_cu12-12.4.127-py3-none-manylinux2014_x86_64.whl.metadata (1.5 kB)\n",
      "Collecting nvidia-cuda-cupti-cu12==12.4.127 (from torch>=1.6->captum==0.7.0)\n",
      "  Downloading nvidia_cuda_cupti_cu12-12.4.127-py3-none-manylinux2014_x86_64.whl.metadata (1.6 kB)\n",
      "Collecting nvidia-cudnn-cu12==9.1.0.70 (from torch>=1.6->captum==0.7.0)\n",
      "  Downloading nvidia_cudnn_cu12-9.1.0.70-py3-none-manylinux2014_x86_64.whl.metadata (1.6 kB)\n",
      "Collecting nvidia-cublas-cu12==12.4.5.8 (from torch>=1.6->captum==0.7.0)\n",
      "  Downloading nvidia_cublas_cu12-12.4.5.8-py3-none-manylinux2014_x86_64.whl.metadata (1.5 kB)\n",
      "Collecting nvidia-cufft-cu12==11.2.1.3 (from torch>=1.6->captum==0.7.0)\n",
      "  Downloading nvidia_cufft_cu12-11.2.1.3-py3-none-manylinux2014_x86_64.whl.metadata (1.5 kB)\n",
      "Collecting nvidia-curand-cu12==10.3.5.147 (from torch>=1.6->captum==0.7.0)\n",
      "  Downloading nvidia_curand_cu12-10.3.5.147-py3-none-manylinux2014_x86_64.whl.metadata (1.5 kB)\n",
      "Collecting nvidia-cusolver-cu12==11.6.1.9 (from torch>=1.6->captum==0.7.0)\n",
      "  Downloading nvidia_cusolver_cu12-11.6.1.9-py3-none-manylinux2014_x86_64.whl.metadata (1.6 kB)\n",
      "Collecting nvidia-cusparse-cu12==12.3.1.170 (from torch>=1.6->captum==0.7.0)\n",
      "  Downloading nvidia_cusparse_cu12-12.3.1.170-py3-none-manylinux2014_x86_64.whl.metadata (1.6 kB)\n",
      "Requirement already satisfied: nvidia-cusparselt-cu12==0.6.2 in /usr/local/lib/python3.11/dist-packages (from torch>=1.6->captum==0.7.0) (0.6.2)\n",
      "Requirement already satisfied: nvidia-nccl-cu12==2.21.5 in /usr/local/lib/python3.11/dist-packages (from torch>=1.6->captum==0.7.0) (2.21.5)\n",
      "Requirement already satisfied: nvidia-nvtx-cu12==12.4.127 in /usr/local/lib/python3.11/dist-packages (from torch>=1.6->captum==0.7.0) (12.4.127)\n",
      "Collecting nvidia-nvjitlink-cu12==12.4.127 (from torch>=1.6->captum==0.7.0)\n",
      "  Downloading nvidia_nvjitlink_cu12-12.4.127-py3-none-manylinux2014_x86_64.whl.metadata (1.5 kB)\n",
      "Requirement already satisfied: triton==3.2.0 in /usr/local/lib/python3.11/dist-packages (from torch>=1.6->captum==0.7.0) (3.2.0)\n",
      "Requirement already satisfied: sympy==1.13.1 in /usr/local/lib/python3.11/dist-packages (from torch>=1.6->captum==0.7.0) (1.13.1)\n",
      "Requirement already satisfied: mpmath<1.4,>=1.1.0 in /usr/local/lib/python3.11/dist-packages (from sympy==1.13.1->torch>=1.6->captum==0.7.0) (1.3.0)\n",
      "Requirement already satisfied: contourpy>=1.0.1 in /usr/local/lib/python3.11/dist-packages (from matplotlib->captum==0.7.0) (1.3.2)\n",
      "Requirement already satisfied: cycler>=0.10 in /usr/local/lib/python3.11/dist-packages (from matplotlib->captum==0.7.0) (0.12.1)\n",
      "Requirement already satisfied: fonttools>=4.22.0 in /usr/local/lib/python3.11/dist-packages (from matplotlib->captum==0.7.0) (4.58.0)\n",
      "Requirement already satisfied: kiwisolver>=1.3.1 in /usr/local/lib/python3.11/dist-packages (from matplotlib->captum==0.7.0) (1.4.8)\n",
      "Requirement already satisfied: packaging>=20.0 in /usr/local/lib/python3.11/dist-packages (from matplotlib->captum==0.7.0) (24.2)\n",
      "Requirement already satisfied: pillow>=8 in /usr/local/lib/python3.11/dist-packages (from matplotlib->captum==0.7.0) (11.2.1)\n",
      "Requirement already satisfied: pyparsing>=2.3.1 in /usr/local/lib/python3.11/dist-packages (from matplotlib->captum==0.7.0) (3.2.3)\n",
      "Requirement already satisfied: python-dateutil>=2.7 in /usr/local/lib/python3.11/dist-packages (from matplotlib->captum==0.7.0) (2.9.0.post0)\n",
      "Requirement already satisfied: six>=1.5 in /usr/local/lib/python3.11/dist-packages (from python-dateutil>=2.7->matplotlib->captum==0.7.0) (1.17.0)\n",
      "Requirement already satisfied: MarkupSafe>=2.0 in /usr/local/lib/python3.11/dist-packages (from jinja2->torch>=1.6->captum==0.7.0) (3.0.2)\n",
      "Downloading captum-0.7.0-py3-none-any.whl (1.3 MB)\n",
      "\u001b[2K   \u001b[90m━━━━━━━━━━━━━━━━━━━━━━━━━━━━━━━━━━━━━━━━\u001b[0m \u001b[32m1.3/1.3 MB\u001b[0m \u001b[31m70.2 MB/s\u001b[0m eta \u001b[36m0:00:00\u001b[0m\n",
      "\u001b[?25hDownloading nvidia_cublas_cu12-12.4.5.8-py3-none-manylinux2014_x86_64.whl (363.4 MB)\n",
      "\u001b[2K   \u001b[90m━━━━━━━━━━━━━━━━━━━━━━━━━━━━━━━━━━━━━━━━\u001b[0m \u001b[32m363.4/363.4 MB\u001b[0m \u001b[31m1.5 MB/s\u001b[0m eta \u001b[36m0:00:00\u001b[0m\n",
      "\u001b[?25hDownloading nvidia_cuda_cupti_cu12-12.4.127-py3-none-manylinux2014_x86_64.whl (13.8 MB)\n",
      "\u001b[2K   \u001b[90m━━━━━━━━━━━━━━━━━━━━━━━━━━━━━━━━━━━━━━━━\u001b[0m \u001b[32m13.8/13.8 MB\u001b[0m \u001b[31m61.5 MB/s\u001b[0m eta \u001b[36m0:00:00\u001b[0m\n",
      "\u001b[?25hDownloading nvidia_cuda_nvrtc_cu12-12.4.127-py3-none-manylinux2014_x86_64.whl (24.6 MB)\n",
      "\u001b[2K   \u001b[90m━━━━━━━━━━━━━━━━━━━━━━━━━━━━━━━━━━━━━━━━\u001b[0m \u001b[32m24.6/24.6 MB\u001b[0m \u001b[31m81.5 MB/s\u001b[0m eta \u001b[36m0:00:00\u001b[0m\n",
      "\u001b[?25hDownloading nvidia_cuda_runtime_cu12-12.4.127-py3-none-manylinux2014_x86_64.whl (883 kB)\n",
      "\u001b[2K   \u001b[90m━━━━━━━━━━━━━━━━━━━━━━━━━━━━━━━━━━━━━━━━\u001b[0m \u001b[32m883.7/883.7 kB\u001b[0m \u001b[31m54.9 MB/s\u001b[0m eta \u001b[36m0:00:00\u001b[0m\n",
      "\u001b[?25hDownloading nvidia_cudnn_cu12-9.1.0.70-py3-none-manylinux2014_x86_64.whl (664.8 MB)\n",
      "\u001b[2K   \u001b[90m━━━━━━━━━━━━━━━━━━━━━━━━━━━━━━━━━━━━━━━━\u001b[0m \u001b[32m664.8/664.8 MB\u001b[0m \u001b[31m2.7 MB/s\u001b[0m eta \u001b[36m0:00:00\u001b[0m\n",
      "\u001b[?25hDownloading nvidia_cufft_cu12-11.2.1.3-py3-none-manylinux2014_x86_64.whl (211.5 MB)\n",
      "\u001b[2K   \u001b[90m━━━━━━━━━━━━━━━━━━━━━━━━━━━━━━━━━━━━━━━━\u001b[0m \u001b[32m211.5/211.5 MB\u001b[0m \u001b[31m5.4 MB/s\u001b[0m eta \u001b[36m0:00:00\u001b[0m\n",
      "\u001b[?25hDownloading nvidia_curand_cu12-10.3.5.147-py3-none-manylinux2014_x86_64.whl (56.3 MB)\n",
      "\u001b[2K   \u001b[90m━━━━━━━━━━━━━━━━━━━━━━━━━━━━━━━━━━━━━━━━\u001b[0m \u001b[32m56.3/56.3 MB\u001b[0m \u001b[31m14.6 MB/s\u001b[0m eta \u001b[36m0:00:00\u001b[0m\n",
      "\u001b[?25hDownloading nvidia_cusolver_cu12-11.6.1.9-py3-none-manylinux2014_x86_64.whl (127.9 MB)\n",
      "\u001b[2K   \u001b[90m━━━━━━━━━━━━━━━━━━━━━━━━━━━━━━━━━━━━━━━━\u001b[0m \u001b[32m127.9/127.9 MB\u001b[0m \u001b[31m7.8 MB/s\u001b[0m eta \u001b[36m0:00:00\u001b[0m\n",
      "\u001b[?25hDownloading nvidia_cusparse_cu12-12.3.1.170-py3-none-manylinux2014_x86_64.whl (207.5 MB)\n",
      "\u001b[2K   \u001b[90m━━━━━━━━━━━━━━━━━━━━━━━━━━━━━━━━━━━━━━━━\u001b[0m \u001b[32m207.5/207.5 MB\u001b[0m \u001b[31m5.3 MB/s\u001b[0m eta \u001b[36m0:00:00\u001b[0m\n",
      "\u001b[?25hDownloading nvidia_nvjitlink_cu12-12.4.127-py3-none-manylinux2014_x86_64.whl (21.1 MB)\n",
      "\u001b[2K   \u001b[90m━━━━━━━━━━━━━━━━━━━━━━━━━━━━━━━━━━━━━━━━\u001b[0m \u001b[32m21.1/21.1 MB\u001b[0m \u001b[31m75.5 MB/s\u001b[0m eta \u001b[36m0:00:00\u001b[0m\n",
      "\u001b[?25hInstalling collected packages: nvidia-nvjitlink-cu12, nvidia-curand-cu12, nvidia-cufft-cu12, nvidia-cuda-runtime-cu12, nvidia-cuda-nvrtc-cu12, nvidia-cuda-cupti-cu12, nvidia-cublas-cu12, nvidia-cusparse-cu12, nvidia-cudnn-cu12, nvidia-cusolver-cu12, captum\n",
      "  Attempting uninstall: nvidia-nvjitlink-cu12\n",
      "    Found existing installation: nvidia-nvjitlink-cu12 12.5.82\n",
      "    Uninstalling nvidia-nvjitlink-cu12-12.5.82:\n",
      "      Successfully uninstalled nvidia-nvjitlink-cu12-12.5.82\n",
      "  Attempting uninstall: nvidia-curand-cu12\n",
      "    Found existing installation: nvidia-curand-cu12 10.3.6.82\n",
      "    Uninstalling nvidia-curand-cu12-10.3.6.82:\n",
      "      Successfully uninstalled nvidia-curand-cu12-10.3.6.82\n",
      "  Attempting uninstall: nvidia-cufft-cu12\n",
      "    Found existing installation: nvidia-cufft-cu12 11.2.3.61\n",
      "    Uninstalling nvidia-cufft-cu12-11.2.3.61:\n",
      "      Successfully uninstalled nvidia-cufft-cu12-11.2.3.61\n",
      "  Attempting uninstall: nvidia-cuda-runtime-cu12\n",
      "    Found existing installation: nvidia-cuda-runtime-cu12 12.5.82\n",
      "    Uninstalling nvidia-cuda-runtime-cu12-12.5.82:\n",
      "      Successfully uninstalled nvidia-cuda-runtime-cu12-12.5.82\n",
      "  Attempting uninstall: nvidia-cuda-nvrtc-cu12\n",
      "    Found existing installation: nvidia-cuda-nvrtc-cu12 12.5.82\n",
      "    Uninstalling nvidia-cuda-nvrtc-cu12-12.5.82:\n",
      "      Successfully uninstalled nvidia-cuda-nvrtc-cu12-12.5.82\n",
      "  Attempting uninstall: nvidia-cuda-cupti-cu12\n",
      "    Found existing installation: nvidia-cuda-cupti-cu12 12.5.82\n",
      "    Uninstalling nvidia-cuda-cupti-cu12-12.5.82:\n",
      "      Successfully uninstalled nvidia-cuda-cupti-cu12-12.5.82\n",
      "  Attempting uninstall: nvidia-cublas-cu12\n",
      "    Found existing installation: nvidia-cublas-cu12 12.5.3.2\n",
      "    Uninstalling nvidia-cublas-cu12-12.5.3.2:\n",
      "      Successfully uninstalled nvidia-cublas-cu12-12.5.3.2\n",
      "  Attempting uninstall: nvidia-cusparse-cu12\n",
      "    Found existing installation: nvidia-cusparse-cu12 12.5.1.3\n",
      "    Uninstalling nvidia-cusparse-cu12-12.5.1.3:\n",
      "      Successfully uninstalled nvidia-cusparse-cu12-12.5.1.3\n",
      "  Attempting uninstall: nvidia-cudnn-cu12\n",
      "    Found existing installation: nvidia-cudnn-cu12 9.3.0.75\n",
      "    Uninstalling nvidia-cudnn-cu12-9.3.0.75:\n",
      "      Successfully uninstalled nvidia-cudnn-cu12-9.3.0.75\n",
      "  Attempting uninstall: nvidia-cusolver-cu12\n",
      "    Found existing installation: nvidia-cusolver-cu12 11.6.3.83\n",
      "    Uninstalling nvidia-cusolver-cu12-11.6.3.83:\n",
      "      Successfully uninstalled nvidia-cusolver-cu12-11.6.3.83\n",
      "Successfully installed captum-0.7.0 nvidia-cublas-cu12-12.4.5.8 nvidia-cuda-cupti-cu12-12.4.127 nvidia-cuda-nvrtc-cu12-12.4.127 nvidia-cuda-runtime-cu12-12.4.127 nvidia-cudnn-cu12-9.1.0.70 nvidia-cufft-cu12-11.2.1.3 nvidia-curand-cu12-10.3.5.147 nvidia-cusolver-cu12-11.6.1.9 nvidia-cusparse-cu12-12.3.1.170 nvidia-nvjitlink-cu12-12.4.127\n",
      "Collecting aif360\n",
      "  Downloading aif360-0.6.1-py3-none-any.whl.metadata (5.0 kB)\n",
      "Requirement already satisfied: numpy>=1.16 in /usr/local/lib/python3.11/dist-packages (from aif360) (2.0.2)\n",
      "Requirement already satisfied: scipy>=1.2.0 in /usr/local/lib/python3.11/dist-packages (from aif360) (1.15.3)\n",
      "Requirement already satisfied: pandas>=0.24.0 in /usr/local/lib/python3.11/dist-packages (from aif360) (2.2.2)\n",
      "Requirement already satisfied: scikit-learn>=1.0 in /usr/local/lib/python3.11/dist-packages (from aif360) (1.6.1)\n",
      "Requirement already satisfied: matplotlib in /usr/local/lib/python3.11/dist-packages (from aif360) (3.10.0)\n",
      "Requirement already satisfied: python-dateutil>=2.8.2 in /usr/local/lib/python3.11/dist-packages (from pandas>=0.24.0->aif360) (2.9.0.post0)\n",
      "Requirement already satisfied: pytz>=2020.1 in /usr/local/lib/python3.11/dist-packages (from pandas>=0.24.0->aif360) (2025.2)\n",
      "Requirement already satisfied: tzdata>=2022.7 in /usr/local/lib/python3.11/dist-packages (from pandas>=0.24.0->aif360) (2025.2)\n",
      "Requirement already satisfied: joblib>=1.2.0 in /usr/local/lib/python3.11/dist-packages (from scikit-learn>=1.0->aif360) (1.5.0)\n",
      "Requirement already satisfied: threadpoolctl>=3.1.0 in /usr/local/lib/python3.11/dist-packages (from scikit-learn>=1.0->aif360) (3.6.0)\n",
      "Requirement already satisfied: contourpy>=1.0.1 in /usr/local/lib/python3.11/dist-packages (from matplotlib->aif360) (1.3.2)\n",
      "Requirement already satisfied: cycler>=0.10 in /usr/local/lib/python3.11/dist-packages (from matplotlib->aif360) (0.12.1)\n",
      "Requirement already satisfied: fonttools>=4.22.0 in /usr/local/lib/python3.11/dist-packages (from matplotlib->aif360) (4.58.0)\n",
      "Requirement already satisfied: kiwisolver>=1.3.1 in /usr/local/lib/python3.11/dist-packages (from matplotlib->aif360) (1.4.8)\n",
      "Requirement already satisfied: packaging>=20.0 in /usr/local/lib/python3.11/dist-packages (from matplotlib->aif360) (24.2)\n",
      "Requirement already satisfied: pillow>=8 in /usr/local/lib/python3.11/dist-packages (from matplotlib->aif360) (11.2.1)\n",
      "Requirement already satisfied: pyparsing>=2.3.1 in /usr/local/lib/python3.11/dist-packages (from matplotlib->aif360) (3.2.3)\n",
      "Requirement already satisfied: six>=1.5 in /usr/local/lib/python3.11/dist-packages (from python-dateutil>=2.8.2->pandas>=0.24.0->aif360) (1.17.0)\n",
      "Downloading aif360-0.6.1-py3-none-any.whl (259 kB)\n",
      "\u001b[2K   \u001b[90m━━━━━━━━━━━━━━━━━━━━━━━━━━━━━━━━━━━━━━━━\u001b[0m \u001b[32m259.7/259.7 kB\u001b[0m \u001b[31m19.3 MB/s\u001b[0m eta \u001b[36m0:00:00\u001b[0m\n",
      "\u001b[?25hInstalling collected packages: aif360\n",
      "Successfully installed aif360-0.6.1\n",
      "Collecting ptflops\n",
      "  Downloading ptflops-0.7.4-py3-none-any.whl.metadata (9.4 kB)\n",
      "Requirement already satisfied: torch>=2.0 in /usr/local/lib/python3.11/dist-packages (from ptflops) (2.6.0+cu124)\n",
      "Requirement already satisfied: filelock in /usr/local/lib/python3.11/dist-packages (from torch>=2.0->ptflops) (3.18.0)\n",
      "Requirement already satisfied: typing-extensions>=4.10.0 in /usr/local/lib/python3.11/dist-packages (from torch>=2.0->ptflops) (4.13.2)\n",
      "Requirement already satisfied: networkx in /usr/local/lib/python3.11/dist-packages (from torch>=2.0->ptflops) (3.4.2)\n",
      "Requirement already satisfied: jinja2 in /usr/local/lib/python3.11/dist-packages (from torch>=2.0->ptflops) (3.1.6)\n",
      "Requirement already satisfied: fsspec in /usr/local/lib/python3.11/dist-packages (from torch>=2.0->ptflops) (2025.3.2)\n",
      "Requirement already satisfied: nvidia-cuda-nvrtc-cu12==12.4.127 in /usr/local/lib/python3.11/dist-packages (from torch>=2.0->ptflops) (12.4.127)\n",
      "Requirement already satisfied: nvidia-cuda-runtime-cu12==12.4.127 in /usr/local/lib/python3.11/dist-packages (from torch>=2.0->ptflops) (12.4.127)\n",
      "Requirement already satisfied: nvidia-cuda-cupti-cu12==12.4.127 in /usr/local/lib/python3.11/dist-packages (from torch>=2.0->ptflops) (12.4.127)\n",
      "Requirement already satisfied: nvidia-cudnn-cu12==9.1.0.70 in /usr/local/lib/python3.11/dist-packages (from torch>=2.0->ptflops) (9.1.0.70)\n",
      "Requirement already satisfied: nvidia-cublas-cu12==12.4.5.8 in /usr/local/lib/python3.11/dist-packages (from torch>=2.0->ptflops) (12.4.5.8)\n",
      "Requirement already satisfied: nvidia-cufft-cu12==11.2.1.3 in /usr/local/lib/python3.11/dist-packages (from torch>=2.0->ptflops) (11.2.1.3)\n",
      "Requirement already satisfied: nvidia-curand-cu12==10.3.5.147 in /usr/local/lib/python3.11/dist-packages (from torch>=2.0->ptflops) (10.3.5.147)\n",
      "Requirement already satisfied: nvidia-cusolver-cu12==11.6.1.9 in /usr/local/lib/python3.11/dist-packages (from torch>=2.0->ptflops) (11.6.1.9)\n",
      "Requirement already satisfied: nvidia-cusparse-cu12==12.3.1.170 in /usr/local/lib/python3.11/dist-packages (from torch>=2.0->ptflops) (12.3.1.170)\n",
      "Requirement already satisfied: nvidia-cusparselt-cu12==0.6.2 in /usr/local/lib/python3.11/dist-packages (from torch>=2.0->ptflops) (0.6.2)\n",
      "Requirement already satisfied: nvidia-nccl-cu12==2.21.5 in /usr/local/lib/python3.11/dist-packages (from torch>=2.0->ptflops) (2.21.5)\n",
      "Requirement already satisfied: nvidia-nvtx-cu12==12.4.127 in /usr/local/lib/python3.11/dist-packages (from torch>=2.0->ptflops) (12.4.127)\n",
      "Requirement already satisfied: nvidia-nvjitlink-cu12==12.4.127 in /usr/local/lib/python3.11/dist-packages (from torch>=2.0->ptflops) (12.4.127)\n",
      "Requirement already satisfied: triton==3.2.0 in /usr/local/lib/python3.11/dist-packages (from torch>=2.0->ptflops) (3.2.0)\n",
      "Requirement already satisfied: sympy==1.13.1 in /usr/local/lib/python3.11/dist-packages (from torch>=2.0->ptflops) (1.13.1)\n",
      "Requirement already satisfied: mpmath<1.4,>=1.1.0 in /usr/local/lib/python3.11/dist-packages (from sympy==1.13.1->torch>=2.0->ptflops) (1.3.0)\n",
      "Requirement already satisfied: MarkupSafe>=2.0 in /usr/local/lib/python3.11/dist-packages (from jinja2->torch>=2.0->ptflops) (3.0.2)\n",
      "Downloading ptflops-0.7.4-py3-none-any.whl (19 kB)\n",
      "Installing collected packages: ptflops\n",
      "Successfully installed ptflops-0.7.4\n"
     ]
    }
   ],
   "source": [
    "!pip install quantus\n",
    "!pip install captum==0.7.0\n",
    "!pip install aif360\n",
    "!pip install ptflops"
   ]
  },
  {
   "cell_type": "code",
   "execution_count": 112,
   "metadata": {
    "executionInfo": {
     "elapsed": 17,
     "status": "ok",
     "timestamp": 1747891080103,
     "user": {
      "displayName": "Hung Thanh Do",
      "userId": "14602254202234053172"
     },
     "user_tz": -120
    },
    "id": "BCgA_YXFcCzx"
   },
   "outputs": [],
   "source": [
    "import torch\n",
    "import torch.nn as nn\n",
    "import torch.optim as optim\n",
    "from torch.utils.data import TensorDataset, DataLoader\n",
    "import numpy as np\n",
    "import pandas as pd\n",
    "import shap\n",
    "from sklearn.model_selection import train_test_split\n",
    "from sklearn.metrics import accuracy_score\n",
    "import quantus  # make sure Quantus is installed\n",
    "from typing import Optional\n",
    "from IPython.display import Markdown, display, clear_output\n",
    "import quantus\n",
    "import time"
   ]
  },
  {
   "cell_type": "markdown",
   "metadata": {
    "id": "ww-ihnSUcCz2"
   },
   "source": [
    "## Data Loading"
   ]
  },
  {
   "cell_type": "code",
   "execution_count": 113,
   "metadata": {
    "executionInfo": {
     "elapsed": 143,
     "status": "ok",
     "timestamp": 1747891082351,
     "user": {
      "displayName": "Hung Thanh Do",
      "userId": "14602254202234053172"
     },
     "user_tz": -120
    },
    "id": "6IQznGv7cCz5"
   },
   "outputs": [],
   "source": [
    "# ---------------------------\n",
    "# Data Loading and Preparation\n",
    "# ---------------------------\n",
    "from aif360.sklearn.datasets import fetch_german\n",
    "\n",
    "X, y = fetch_german()\n",
    "\n",
    "\n",
    "# The dataset and target labels have 3 index groups: sex, age, and foreign_worker -> Different from the previous datasets\n",
    "# Now clear those indices to go back to the same format with previous datasets\n",
    "X.reset_index(drop=True, inplace=True)\n",
    "y.reset_index(drop=True, inplace=True)\n",
    "\n",
    "# Binarize labels\n",
    "y = y.map({'good': 1, 'bad': 0})\n"
   ]
  },
  {
   "cell_type": "code",
   "execution_count": 114,
   "metadata": {
    "executionInfo": {
     "elapsed": 1,
     "status": "ok",
     "timestamp": 1747891082360,
     "user": {
      "displayName": "Hung Thanh Do",
      "userId": "14602254202234053172"
     },
     "user_tz": -120
    },
    "id": "TIOuXqrKTjyX"
   },
   "outputs": [],
   "source": [
    "y = y.to_numpy(dtype=int)"
   ]
  },
  {
   "cell_type": "code",
   "execution_count": 115,
   "metadata": {
    "executionInfo": {
     "elapsed": 0,
     "status": "ok",
     "timestamp": 1747891082362,
     "user": {
      "displayName": "Hung Thanh Do",
      "userId": "14602254202234053172"
     },
     "user_tz": -120
    },
    "id": "99UyRxrrcCz7"
   },
   "outputs": [],
   "source": [
    "# Add binary_age column based on the condition, value = aged if age >= 25 else young\n",
    "X['age_group'] = X['age'].apply(lambda x: 'aged' if x >= 25 else 'young')\n",
    "\n",
    "# X['age_group'] = (X['age'] >= 25)"
   ]
  },
  {
   "cell_type": "markdown",
   "metadata": {
    "id": "8PJTcdufcCz8"
   },
   "source": [
    "## Data Preprocessing"
   ]
  },
  {
   "cell_type": "markdown",
   "metadata": {
    "id": "fu9sqMIgcCz-"
   },
   "source": [
    "### Label Encoding"
   ]
  },
  {
   "cell_type": "code",
   "execution_count": 116,
   "metadata": {
    "executionInfo": {
     "elapsed": 7,
     "status": "ok",
     "timestamp": 1747891083602,
     "user": {
      "displayName": "Hung Thanh Do",
      "userId": "14602254202234053172"
     },
     "user_tz": -120
    },
    "id": "7J4Z0W0VcCz_"
   },
   "outputs": [],
   "source": [
    "X_copy = X.copy()\n",
    "categorical_cols = X_copy.select_dtypes(include=['object', 'category']).columns"
   ]
  },
  {
   "cell_type": "code",
   "execution_count": 117,
   "metadata": {
    "colab": {
     "base_uri": "https://localhost:8080/"
    },
    "collapsed": true,
    "executionInfo": {
     "elapsed": 72,
     "status": "ok",
     "timestamp": 1747891083683,
     "user": {
      "displayName": "Hung Thanh Do",
      "userId": "14602254202234053172"
     },
     "user_tz": -120
    },
    "id": "UlzzHFILcC0B",
    "outputId": "1671eeff-6deb-409f-97a8-d0375cee5232"
   },
   "outputs": [
    {
     "name": "stdout",
     "output_type": "stream",
     "text": [
      "\n",
      "Encoded mapping for 'checking_status':\n",
      "  0<=X<200 → 0\n",
      "  <0 → 1\n",
      "  >=200 → 2\n",
      "  no checking → 3\n",
      "\n",
      "Encoded mapping for 'credit_history':\n",
      "  all paid → 0\n",
      "  critical/other existing credit → 1\n",
      "  delayed previously → 2\n",
      "  existing paid → 3\n",
      "  no credits/all paid → 4\n",
      "\n",
      "Encoded mapping for 'purpose':\n",
      "  business → 0\n",
      "  domestic appliance → 1\n",
      "  education → 2\n",
      "  furniture/equipment → 3\n",
      "  new car → 4\n",
      "  other → 5\n",
      "  radio/tv → 6\n",
      "  repairs → 7\n",
      "  retraining → 8\n",
      "  used car → 9\n",
      "\n",
      "Encoded mapping for 'savings_status':\n",
      "  100<=X<500 → 0\n",
      "  500<=X<1000 → 1\n",
      "  <100 → 2\n",
      "  >=1000 → 3\n",
      "  no known savings → 4\n",
      "\n",
      "Encoded mapping for 'employment':\n",
      "  1<=X<4 → 0\n",
      "  4<=X<7 → 1\n",
      "  <1 → 2\n",
      "  >=7 → 3\n",
      "  unemployed → 4\n",
      "\n",
      "Encoded mapping for 'other_parties':\n",
      "  co applicant → 0\n",
      "  guarantor → 1\n",
      "  none → 2\n",
      "\n",
      "Encoded mapping for 'property_magnitude':\n",
      "  car → 0\n",
      "  life insurance → 1\n",
      "  no known property → 2\n",
      "  real estate → 3\n",
      "\n",
      "Encoded mapping for 'other_payment_plans':\n",
      "  bank → 0\n",
      "  none → 1\n",
      "  stores → 2\n",
      "\n",
      "Encoded mapping for 'housing':\n",
      "  for free → 0\n",
      "  own → 1\n",
      "  rent → 2\n",
      "\n",
      "Encoded mapping for 'job':\n",
      "  high qualif/self emp/mgmt → 0\n",
      "  skilled → 1\n",
      "  unemp/unskilled non res → 2\n",
      "  unskilled resident → 3\n",
      "\n",
      "Encoded mapping for 'own_telephone':\n",
      "  none → 0\n",
      "  yes → 1\n",
      "\n",
      "Encoded mapping for 'foreign_worker':\n",
      "  no → 0\n",
      "  yes → 1\n",
      "\n",
      "Encoded mapping for 'sex':\n",
      "  female → 0\n",
      "  male → 1\n",
      "\n",
      "Encoded mapping for 'marital_status':\n",
      "  div/dep/mar → 0\n",
      "  div/sep → 1\n",
      "  mar/wid → 2\n",
      "  single → 3\n",
      "\n",
      "Encoded mapping for 'age_group':\n",
      "  aged → 0\n",
      "  young → 1\n"
     ]
    }
   ],
   "source": [
    "from sklearn.preprocessing import LabelEncoder\n",
    "label_mappings = {}\n",
    "# Apply LabelEncoder to each column and store mappings\n",
    "for col in categorical_cols:\n",
    "    le = LabelEncoder()\n",
    "    X_copy[col] = le.fit_transform(X_copy[col])\n",
    "    label_mappings[col] = dict(zip(le.classes_, le.transform(le.classes_)))\n",
    "\n",
    "# Show mappings\n",
    "for col, mapping in label_mappings.items():\n",
    "    print(f\"\\nEncoded mapping for '{col}':\")\n",
    "    for original, encoded in mapping.items():\n",
    "        print(f\"  {original} → {encoded}\")"
   ]
  },
  {
   "cell_type": "code",
   "execution_count": 118,
   "metadata": {
    "executionInfo": {
     "elapsed": 2,
     "status": "ok",
     "timestamp": 1747891083683,
     "user": {
      "displayName": "Hung Thanh Do",
      "userId": "14602254202234053172"
     },
     "user_tz": -120
    },
    "id": "RH5Bk5mqEVhS"
   },
   "outputs": [],
   "source": [
    "X_encoded = X_copy.copy()"
   ]
  },
  {
   "cell_type": "code",
   "execution_count": 119,
   "metadata": {
    "colab": {
     "base_uri": "https://localhost:8080/",
     "height": 0
    },
    "executionInfo": {
     "elapsed": 216,
     "status": "ok",
     "timestamp": 1747891083898,
     "user": {
      "displayName": "Hung Thanh Do",
      "userId": "14602254202234053172"
     },
     "user_tz": -120
    },
    "id": "cCegwkxlEYfA",
    "outputId": "a01835b2-f1f3-4324-e816-2b83eb470f10"
   },
   "outputs": [
    {
     "data": {
      "application/vnd.google.colaboratory.intrinsic+json": {
       "type": "dataframe",
       "variable_name": "X_encoded"
      },
      "text/html": [
       "\n",
       "  <div id=\"df-206f7257-1311-4482-9d62-28748edf4c77\" class=\"colab-df-container\">\n",
       "    <div>\n",
       "<style scoped>\n",
       "    .dataframe tbody tr th:only-of-type {\n",
       "        vertical-align: middle;\n",
       "    }\n",
       "\n",
       "    .dataframe tbody tr th {\n",
       "        vertical-align: top;\n",
       "    }\n",
       "\n",
       "    .dataframe thead th {\n",
       "        text-align: right;\n",
       "    }\n",
       "</style>\n",
       "<table border=\"1\" class=\"dataframe\">\n",
       "  <thead>\n",
       "    <tr style=\"text-align: right;\">\n",
       "      <th></th>\n",
       "      <th>checking_status</th>\n",
       "      <th>duration</th>\n",
       "      <th>credit_history</th>\n",
       "      <th>purpose</th>\n",
       "      <th>credit_amount</th>\n",
       "      <th>savings_status</th>\n",
       "      <th>employment</th>\n",
       "      <th>installment_commitment</th>\n",
       "      <th>other_parties</th>\n",
       "      <th>residence_since</th>\n",
       "      <th>...</th>\n",
       "      <th>other_payment_plans</th>\n",
       "      <th>housing</th>\n",
       "      <th>existing_credits</th>\n",
       "      <th>job</th>\n",
       "      <th>num_dependents</th>\n",
       "      <th>own_telephone</th>\n",
       "      <th>foreign_worker</th>\n",
       "      <th>sex</th>\n",
       "      <th>marital_status</th>\n",
       "      <th>age_group</th>\n",
       "    </tr>\n",
       "  </thead>\n",
       "  <tbody>\n",
       "    <tr>\n",
       "      <th>0</th>\n",
       "      <td>1</td>\n",
       "      <td>6</td>\n",
       "      <td>1</td>\n",
       "      <td>6</td>\n",
       "      <td>1169</td>\n",
       "      <td>4</td>\n",
       "      <td>3</td>\n",
       "      <td>4</td>\n",
       "      <td>2</td>\n",
       "      <td>4</td>\n",
       "      <td>...</td>\n",
       "      <td>1</td>\n",
       "      <td>1</td>\n",
       "      <td>2</td>\n",
       "      <td>1</td>\n",
       "      <td>1</td>\n",
       "      <td>1</td>\n",
       "      <td>1</td>\n",
       "      <td>1</td>\n",
       "      <td>3</td>\n",
       "      <td>0</td>\n",
       "    </tr>\n",
       "    <tr>\n",
       "      <th>1</th>\n",
       "      <td>0</td>\n",
       "      <td>48</td>\n",
       "      <td>3</td>\n",
       "      <td>6</td>\n",
       "      <td>5951</td>\n",
       "      <td>2</td>\n",
       "      <td>0</td>\n",
       "      <td>2</td>\n",
       "      <td>2</td>\n",
       "      <td>2</td>\n",
       "      <td>...</td>\n",
       "      <td>1</td>\n",
       "      <td>1</td>\n",
       "      <td>1</td>\n",
       "      <td>1</td>\n",
       "      <td>1</td>\n",
       "      <td>0</td>\n",
       "      <td>1</td>\n",
       "      <td>0</td>\n",
       "      <td>0</td>\n",
       "      <td>1</td>\n",
       "    </tr>\n",
       "    <tr>\n",
       "      <th>2</th>\n",
       "      <td>3</td>\n",
       "      <td>12</td>\n",
       "      <td>1</td>\n",
       "      <td>2</td>\n",
       "      <td>2096</td>\n",
       "      <td>2</td>\n",
       "      <td>1</td>\n",
       "      <td>2</td>\n",
       "      <td>2</td>\n",
       "      <td>3</td>\n",
       "      <td>...</td>\n",
       "      <td>1</td>\n",
       "      <td>1</td>\n",
       "      <td>1</td>\n",
       "      <td>3</td>\n",
       "      <td>2</td>\n",
       "      <td>0</td>\n",
       "      <td>1</td>\n",
       "      <td>1</td>\n",
       "      <td>3</td>\n",
       "      <td>0</td>\n",
       "    </tr>\n",
       "    <tr>\n",
       "      <th>3</th>\n",
       "      <td>1</td>\n",
       "      <td>42</td>\n",
       "      <td>3</td>\n",
       "      <td>3</td>\n",
       "      <td>7882</td>\n",
       "      <td>2</td>\n",
       "      <td>1</td>\n",
       "      <td>2</td>\n",
       "      <td>1</td>\n",
       "      <td>4</td>\n",
       "      <td>...</td>\n",
       "      <td>1</td>\n",
       "      <td>0</td>\n",
       "      <td>1</td>\n",
       "      <td>1</td>\n",
       "      <td>2</td>\n",
       "      <td>0</td>\n",
       "      <td>1</td>\n",
       "      <td>1</td>\n",
       "      <td>3</td>\n",
       "      <td>0</td>\n",
       "    </tr>\n",
       "    <tr>\n",
       "      <th>4</th>\n",
       "      <td>1</td>\n",
       "      <td>24</td>\n",
       "      <td>2</td>\n",
       "      <td>4</td>\n",
       "      <td>4870</td>\n",
       "      <td>2</td>\n",
       "      <td>0</td>\n",
       "      <td>3</td>\n",
       "      <td>2</td>\n",
       "      <td>4</td>\n",
       "      <td>...</td>\n",
       "      <td>1</td>\n",
       "      <td>0</td>\n",
       "      <td>2</td>\n",
       "      <td>1</td>\n",
       "      <td>2</td>\n",
       "      <td>0</td>\n",
       "      <td>1</td>\n",
       "      <td>1</td>\n",
       "      <td>3</td>\n",
       "      <td>0</td>\n",
       "    </tr>\n",
       "  </tbody>\n",
       "</table>\n",
       "<p>5 rows × 22 columns</p>\n",
       "</div>\n",
       "    <div class=\"colab-df-buttons\">\n",
       "\n",
       "  <div class=\"colab-df-container\">\n",
       "    <button class=\"colab-df-convert\" onclick=\"convertToInteractive('df-206f7257-1311-4482-9d62-28748edf4c77')\"\n",
       "            title=\"Convert this dataframe to an interactive table.\"\n",
       "            style=\"display:none;\">\n",
       "\n",
       "  <svg xmlns=\"http://www.w3.org/2000/svg\" height=\"24px\" viewBox=\"0 -960 960 960\">\n",
       "    <path d=\"M120-120v-720h720v720H120Zm60-500h600v-160H180v160Zm220 220h160v-160H400v160Zm0 220h160v-160H400v160ZM180-400h160v-160H180v160Zm440 0h160v-160H620v160ZM180-180h160v-160H180v160Zm440 0h160v-160H620v160Z\"/>\n",
       "  </svg>\n",
       "    </button>\n",
       "\n",
       "  <style>\n",
       "    .colab-df-container {\n",
       "      display:flex;\n",
       "      gap: 12px;\n",
       "    }\n",
       "\n",
       "    .colab-df-convert {\n",
       "      background-color: #E8F0FE;\n",
       "      border: none;\n",
       "      border-radius: 50%;\n",
       "      cursor: pointer;\n",
       "      display: none;\n",
       "      fill: #1967D2;\n",
       "      height: 32px;\n",
       "      padding: 0 0 0 0;\n",
       "      width: 32px;\n",
       "    }\n",
       "\n",
       "    .colab-df-convert:hover {\n",
       "      background-color: #E2EBFA;\n",
       "      box-shadow: 0px 1px 2px rgba(60, 64, 67, 0.3), 0px 1px 3px 1px rgba(60, 64, 67, 0.15);\n",
       "      fill: #174EA6;\n",
       "    }\n",
       "\n",
       "    .colab-df-buttons div {\n",
       "      margin-bottom: 4px;\n",
       "    }\n",
       "\n",
       "    [theme=dark] .colab-df-convert {\n",
       "      background-color: #3B4455;\n",
       "      fill: #D2E3FC;\n",
       "    }\n",
       "\n",
       "    [theme=dark] .colab-df-convert:hover {\n",
       "      background-color: #434B5C;\n",
       "      box-shadow: 0px 1px 3px 1px rgba(0, 0, 0, 0.15);\n",
       "      filter: drop-shadow(0px 1px 2px rgba(0, 0, 0, 0.3));\n",
       "      fill: #FFFFFF;\n",
       "    }\n",
       "  </style>\n",
       "\n",
       "    <script>\n",
       "      const buttonEl =\n",
       "        document.querySelector('#df-206f7257-1311-4482-9d62-28748edf4c77 button.colab-df-convert');\n",
       "      buttonEl.style.display =\n",
       "        google.colab.kernel.accessAllowed ? 'block' : 'none';\n",
       "\n",
       "      async function convertToInteractive(key) {\n",
       "        const element = document.querySelector('#df-206f7257-1311-4482-9d62-28748edf4c77');\n",
       "        const dataTable =\n",
       "          await google.colab.kernel.invokeFunction('convertToInteractive',\n",
       "                                                    [key], {});\n",
       "        if (!dataTable) return;\n",
       "\n",
       "        const docLinkHtml = 'Like what you see? Visit the ' +\n",
       "          '<a target=\"_blank\" href=https://colab.research.google.com/notebooks/data_table.ipynb>data table notebook</a>'\n",
       "          + ' to learn more about interactive tables.';\n",
       "        element.innerHTML = '';\n",
       "        dataTable['output_type'] = 'display_data';\n",
       "        await google.colab.output.renderOutput(dataTable, element);\n",
       "        const docLink = document.createElement('div');\n",
       "        docLink.innerHTML = docLinkHtml;\n",
       "        element.appendChild(docLink);\n",
       "      }\n",
       "    </script>\n",
       "  </div>\n",
       "\n",
       "\n",
       "    <div id=\"df-d1101fea-0776-42d7-b85b-92757b92c791\">\n",
       "      <button class=\"colab-df-quickchart\" onclick=\"quickchart('df-d1101fea-0776-42d7-b85b-92757b92c791')\"\n",
       "                title=\"Suggest charts\"\n",
       "                style=\"display:none;\">\n",
       "\n",
       "<svg xmlns=\"http://www.w3.org/2000/svg\" height=\"24px\"viewBox=\"0 0 24 24\"\n",
       "     width=\"24px\">\n",
       "    <g>\n",
       "        <path d=\"M19 3H5c-1.1 0-2 .9-2 2v14c0 1.1.9 2 2 2h14c1.1 0 2-.9 2-2V5c0-1.1-.9-2-2-2zM9 17H7v-7h2v7zm4 0h-2V7h2v10zm4 0h-2v-4h2v4z\"/>\n",
       "    </g>\n",
       "</svg>\n",
       "      </button>\n",
       "\n",
       "<style>\n",
       "  .colab-df-quickchart {\n",
       "      --bg-color: #E8F0FE;\n",
       "      --fill-color: #1967D2;\n",
       "      --hover-bg-color: #E2EBFA;\n",
       "      --hover-fill-color: #174EA6;\n",
       "      --disabled-fill-color: #AAA;\n",
       "      --disabled-bg-color: #DDD;\n",
       "  }\n",
       "\n",
       "  [theme=dark] .colab-df-quickchart {\n",
       "      --bg-color: #3B4455;\n",
       "      --fill-color: #D2E3FC;\n",
       "      --hover-bg-color: #434B5C;\n",
       "      --hover-fill-color: #FFFFFF;\n",
       "      --disabled-bg-color: #3B4455;\n",
       "      --disabled-fill-color: #666;\n",
       "  }\n",
       "\n",
       "  .colab-df-quickchart {\n",
       "    background-color: var(--bg-color);\n",
       "    border: none;\n",
       "    border-radius: 50%;\n",
       "    cursor: pointer;\n",
       "    display: none;\n",
       "    fill: var(--fill-color);\n",
       "    height: 32px;\n",
       "    padding: 0;\n",
       "    width: 32px;\n",
       "  }\n",
       "\n",
       "  .colab-df-quickchart:hover {\n",
       "    background-color: var(--hover-bg-color);\n",
       "    box-shadow: 0 1px 2px rgba(60, 64, 67, 0.3), 0 1px 3px 1px rgba(60, 64, 67, 0.15);\n",
       "    fill: var(--button-hover-fill-color);\n",
       "  }\n",
       "\n",
       "  .colab-df-quickchart-complete:disabled,\n",
       "  .colab-df-quickchart-complete:disabled:hover {\n",
       "    background-color: var(--disabled-bg-color);\n",
       "    fill: var(--disabled-fill-color);\n",
       "    box-shadow: none;\n",
       "  }\n",
       "\n",
       "  .colab-df-spinner {\n",
       "    border: 2px solid var(--fill-color);\n",
       "    border-color: transparent;\n",
       "    border-bottom-color: var(--fill-color);\n",
       "    animation:\n",
       "      spin 1s steps(1) infinite;\n",
       "  }\n",
       "\n",
       "  @keyframes spin {\n",
       "    0% {\n",
       "      border-color: transparent;\n",
       "      border-bottom-color: var(--fill-color);\n",
       "      border-left-color: var(--fill-color);\n",
       "    }\n",
       "    20% {\n",
       "      border-color: transparent;\n",
       "      border-left-color: var(--fill-color);\n",
       "      border-top-color: var(--fill-color);\n",
       "    }\n",
       "    30% {\n",
       "      border-color: transparent;\n",
       "      border-left-color: var(--fill-color);\n",
       "      border-top-color: var(--fill-color);\n",
       "      border-right-color: var(--fill-color);\n",
       "    }\n",
       "    40% {\n",
       "      border-color: transparent;\n",
       "      border-right-color: var(--fill-color);\n",
       "      border-top-color: var(--fill-color);\n",
       "    }\n",
       "    60% {\n",
       "      border-color: transparent;\n",
       "      border-right-color: var(--fill-color);\n",
       "    }\n",
       "    80% {\n",
       "      border-color: transparent;\n",
       "      border-right-color: var(--fill-color);\n",
       "      border-bottom-color: var(--fill-color);\n",
       "    }\n",
       "    90% {\n",
       "      border-color: transparent;\n",
       "      border-bottom-color: var(--fill-color);\n",
       "    }\n",
       "  }\n",
       "</style>\n",
       "\n",
       "      <script>\n",
       "        async function quickchart(key) {\n",
       "          const quickchartButtonEl =\n",
       "            document.querySelector('#' + key + ' button');\n",
       "          quickchartButtonEl.disabled = true;  // To prevent multiple clicks.\n",
       "          quickchartButtonEl.classList.add('colab-df-spinner');\n",
       "          try {\n",
       "            const charts = await google.colab.kernel.invokeFunction(\n",
       "                'suggestCharts', [key], {});\n",
       "          } catch (error) {\n",
       "            console.error('Error during call to suggestCharts:', error);\n",
       "          }\n",
       "          quickchartButtonEl.classList.remove('colab-df-spinner');\n",
       "          quickchartButtonEl.classList.add('colab-df-quickchart-complete');\n",
       "        }\n",
       "        (() => {\n",
       "          let quickchartButtonEl =\n",
       "            document.querySelector('#df-d1101fea-0776-42d7-b85b-92757b92c791 button');\n",
       "          quickchartButtonEl.style.display =\n",
       "            google.colab.kernel.accessAllowed ? 'block' : 'none';\n",
       "        })();\n",
       "      </script>\n",
       "    </div>\n",
       "\n",
       "    </div>\n",
       "  </div>\n"
      ],
      "text/plain": [
       "   checking_status  duration  credit_history  purpose  credit_amount  \\\n",
       "0                1         6               1        6           1169   \n",
       "1                0        48               3        6           5951   \n",
       "2                3        12               1        2           2096   \n",
       "3                1        42               3        3           7882   \n",
       "4                1        24               2        4           4870   \n",
       "\n",
       "   savings_status  employment  installment_commitment  other_parties  \\\n",
       "0               4           3                       4              2   \n",
       "1               2           0                       2              2   \n",
       "2               2           1                       2              2   \n",
       "3               2           1                       2              1   \n",
       "4               2           0                       3              2   \n",
       "\n",
       "   residence_since  ...  other_payment_plans  housing  existing_credits  job  \\\n",
       "0                4  ...                    1        1                 2    1   \n",
       "1                2  ...                    1        1                 1    1   \n",
       "2                3  ...                    1        1                 1    3   \n",
       "3                4  ...                    1        0                 1    1   \n",
       "4                4  ...                    1        0                 2    1   \n",
       "\n",
       "   num_dependents  own_telephone  foreign_worker  sex  marital_status  \\\n",
       "0               1              1               1    1               3   \n",
       "1               1              0               1    0               0   \n",
       "2               2              0               1    1               3   \n",
       "3               2              0               1    1               3   \n",
       "4               2              0               1    1               3   \n",
       "\n",
       "   age_group  \n",
       "0          0  \n",
       "1          1  \n",
       "2          0  \n",
       "3          0  \n",
       "4          0  \n",
       "\n",
       "[5 rows x 22 columns]"
      ]
     },
     "execution_count": 119,
     "metadata": {},
     "output_type": "execute_result"
    }
   ],
   "source": [
    "X_encoded.head(5)"
   ]
  },
  {
   "cell_type": "markdown",
   "metadata": {
    "id": "J22g3WEccC0I"
   },
   "source": [
    "### Data Splitting & Formatting"
   ]
  },
  {
   "cell_type": "code",
   "execution_count": 120,
   "metadata": {
    "executionInfo": {
     "elapsed": 1,
     "status": "ok",
     "timestamp": 1747891083915,
     "user": {
      "displayName": "Hung Thanh Do",
      "userId": "14602254202234053172"
     },
     "user_tz": -120
    },
    "id": "Bl7xsfzlcC0I"
   },
   "outputs": [],
   "source": [
    "random_state = 7"
   ]
  },
  {
   "cell_type": "code",
   "execution_count": 121,
   "metadata": {
    "executionInfo": {
     "elapsed": 76,
     "status": "ok",
     "timestamp": 1747891084009,
     "user": {
      "displayName": "Hung Thanh Do",
      "userId": "14602254202234053172"
     },
     "user_tz": -120
    },
    "id": "S-iSajI2cC0J"
   },
   "outputs": [],
   "source": [
    "##  Split into training and test sets (we use test for evaluation and explanations)\n",
    "\n",
    "X_train, X_test, y_train, y_test = train_test_split(X_encoded, y, test_size=0.1, random_state=random_state)\n",
    "# X_train, X_val, y_train, y_val = train_test_split(X_train, y_train, test_size=0.2, random_state=random_state)"
   ]
  },
  {
   "cell_type": "code",
   "execution_count": 122,
   "metadata": {
    "colab": {
     "base_uri": "https://localhost:8080/"
    },
    "executionInfo": {
     "elapsed": 18,
     "status": "ok",
     "timestamp": 1747891084010,
     "user": {
      "displayName": "Hung Thanh Do",
      "userId": "14602254202234053172"
     },
     "user_tz": -120
    },
    "id": "xynWHCuQcC0J",
    "outputId": "0cc5d50b-d69a-4a44-e30a-70ec9c00329f"
   },
   "outputs": [
    {
     "name": "stdout",
     "output_type": "stream",
     "text": [
      "X_train shape: (900, 22)\n",
      "X_test shape: (100, 22)\n",
      "y_train shape: (900,)\n",
      "y_test shape: (100,)\n"
     ]
    }
   ],
   "source": [
    "# Display dim to choose suitable param of TabResNet\n",
    "# Pay attention to the number of features\n",
    "print(\"X_train shape:\", X_train.shape)\n",
    "print(\"X_test shape:\", X_test.shape)\n",
    "print(\"y_train shape:\", y_train.shape)\n",
    "print(\"y_test shape:\", y_test.shape)\n",
    "# print(\"X_val shape:\", X_val.shape)\n",
    "# print(\"y_val shape:\", y_val.shape)"
   ]
  },
  {
   "cell_type": "code",
   "execution_count": 123,
   "metadata": {
    "executionInfo": {
     "elapsed": 27,
     "status": "ok",
     "timestamp": 1747891084024,
     "user": {
      "displayName": "Hung Thanh Do",
      "userId": "14602254202234053172"
     },
     "user_tz": -120
    },
    "id": "55bYD53-cC0J"
   },
   "outputs": [],
   "source": [
    "# Convert to numpy arrays\n",
    "X_train_np = X_train.values.astype(np.float32)\n",
    "# X_val_np = X_val.values.astype(np.float32)\n",
    "X_test_np = X_test.values.astype(np.float32)\n",
    "# X_train_np = X_train\n",
    "# X_val_np = X_val\n",
    "# X_test_np = X_test\n",
    "# For CrossEntropyLoss, labels must be integers.\n",
    "y_train_np = y_train.astype(np.int64).values if isinstance(y_train, pd.Series) else y_train.astype(np.int64)\n",
    "# y_val_np = y_val.astype(np.int64).values if isinstance(y_val, pd.Series) else y_val.astype(np.int64)\n",
    "y_test_np = y_test.astype(np.int64).values if isinstance(y_test, pd.Series) else y_test.astype(np.int64)\n",
    "\n",
    "# Create PyTorch tensors\n",
    "X_train_tensor = torch.from_numpy(X_train_np)\n",
    "y_train_tensor = torch.from_numpy(y_train_np)\n",
    "# X_val_tensor = torch.from_numpy(X_val_np)\n",
    "# y_val_tensor = torch.from_numpy(y_val_np)\n",
    "X_test_tensor = torch.from_numpy(X_test_np)\n",
    "y_test_tensor = torch.from_numpy(y_test_np)"
   ]
  },
  {
   "cell_type": "markdown",
   "metadata": {
    "id": "xboCGhT_cC0K"
   },
   "source": [
    "## Train"
   ]
  },
  {
   "cell_type": "markdown",
   "metadata": {
    "id": "9TMwzwvNcC0K"
   },
   "source": [
    "### Train with XGBoost"
   ]
  },
  {
   "cell_type": "code",
   "execution_count": 124,
   "metadata": {
    "executionInfo": {
     "elapsed": 18,
     "status": "ok",
     "timestamp": 1747891090053,
     "user": {
      "displayName": "Hung Thanh Do",
      "userId": "14602254202234053172"
     },
     "user_tz": -120
    },
    "id": "01R3HykCcC0K"
   },
   "outputs": [],
   "source": [
    "from xgboost import XGBClassifier\n",
    "# Train XGBoost model\n",
    "xgb_model = XGBClassifier(\n",
    "    objective='binary:logistic',\n",
    "    eval_metric='logloss',\n",
    "    n_estimators=100,\n",
    "    max_depth=3,\n",
    "    learning_rate=0.1,\n",
    "    random_state=random_state\n",
    ")"
   ]
  },
  {
   "cell_type": "code",
   "execution_count": 125,
   "metadata": {
    "colab": {
     "base_uri": "https://localhost:8080/"
    },
    "executionInfo": {
     "elapsed": 40,
     "status": "ok",
     "timestamp": 1747891091573,
     "user": {
      "displayName": "Hung Thanh Do",
      "userId": "14602254202234053172"
     },
     "user_tz": -120
    },
    "id": "xOKskfxMcC0K",
    "outputId": "0df3143d-62c1-4201-b7b6-38295b724ebc"
   },
   "outputs": [
    {
     "name": "stdout",
     "output_type": "stream",
     "text": [
      "XGBoost Test Accuracy: 0.8500\n"
     ]
    }
   ],
   "source": [
    "xgb_start_time = time.time()\n",
    "xgb_model.fit(X_train_np, y_train_np)\n",
    "\n",
    "# Predict and evaluate\n",
    "xgb_preds = xgb_model.predict(X_test_np)\n",
    "\n",
    "xgb_end_time = time.time()\n",
    "\n",
    "xgb_elapsed_time = xgb_end_time - xgb_start_time\n",
    "xgb_accuracy = accuracy_score(y_test_np, xgb_preds)\n",
    "print(f\"XGBoost Test Accuracy: {xgb_accuracy:.4f}\")\n"
   ]
  },
  {
   "cell_type": "code",
   "execution_count": 126,
   "metadata": {
    "colab": {
     "base_uri": "https://localhost:8080/"
    },
    "executionInfo": {
     "elapsed": 14,
     "status": "ok",
     "timestamp": 1747891093566,
     "user": {
      "displayName": "Hung Thanh Do",
      "userId": "14602254202234053172"
     },
     "user_tz": -120
    },
    "id": "czCUYsAvAenE",
    "outputId": "eb3afe2c-fef6-417d-f893-5b519b9b5484"
   },
   "outputs": [
    {
     "name": "stdout",
     "output_type": "stream",
     "text": [
      "Total elapsed time in seconds: 0.0345\n"
     ]
    }
   ],
   "source": [
    "print(f\"Total elapsed time in seconds: {xgb_elapsed_time:.4f}\")"
   ]
  },
  {
   "cell_type": "code",
   "execution_count": null,
   "metadata": {
    "id": "hIK3sV0gcC0L"
   },
   "outputs": [],
   "source": [
    "# Save the model for train with XGB , diabetes dataset\n",
    "xgb_model.save_model(\"saved_model/xgb_german.json\")"
   ]
  },
  {
   "cell_type": "code",
   "execution_count": null,
   "metadata": {
    "id": "OwPX2jlHcC0L"
   },
   "outputs": [],
   "source": [
    "# Load the model\n",
    "xgb_model.load_model(\"saved_model/xgb_german.json\")"
   ]
  },
  {
   "cell_type": "markdown",
   "metadata": {
    "id": "5YPtTBtAcC0M"
   },
   "source": [
    "### Train with MLP"
   ]
  },
  {
   "cell_type": "code",
   "execution_count": 127,
   "metadata": {
    "executionInfo": {
     "elapsed": 45,
     "status": "ok",
     "timestamp": 1747891098331,
     "user": {
      "displayName": "Hung Thanh Do",
      "userId": "14602254202234053172"
     },
     "user_tz": -120
    },
    "id": "MGDBd5D0cC0M"
   },
   "outputs": [],
   "source": [
    "from sklearn.neural_network import MLPClassifier\n",
    "\n",
    "# Train MLP model\n",
    "mlp_model = MLPClassifier(\n",
    "    hidden_layer_sizes=100,\n",
    "    activation='relu',\n",
    "    solver='adam',\n",
    "    learning_rate_init=0.0001,\n",
    "    max_iter=400,\n",
    "    random_state=random_state\n",
    ")"
   ]
  },
  {
   "cell_type": "code",
   "execution_count": 94,
   "metadata": {
    "colab": {
     "base_uri": "https://localhost:8080/"
    },
    "executionInfo": {
     "elapsed": 4,
     "status": "ok",
     "timestamp": 1747890671435,
     "user": {
      "displayName": "Hung Thanh Do",
      "userId": "14602254202234053172"
     },
     "user_tz": -120
    },
    "id": "TV6v_zZvV6sY",
    "outputId": "909588bf-f7d6-4c70-8d55-05d2f2d556ab"
   },
   "outputs": [
    {
     "name": "stdout",
     "output_type": "stream",
     "text": [
      "logistic\n"
     ]
    }
   ],
   "source": [
    "print(mlp_model.out_activation_)"
   ]
  },
  {
   "cell_type": "code",
   "execution_count": 128,
   "metadata": {
    "colab": {
     "base_uri": "https://localhost:8080/"
    },
    "executionInfo": {
     "elapsed": 496,
     "status": "ok",
     "timestamp": 1747891100871,
     "user": {
      "displayName": "Hung Thanh Do",
      "userId": "14602254202234053172"
     },
     "user_tz": -120
    },
    "id": "elgIKfKfcC0O",
    "outputId": "c1a8202b-2c8a-42b3-92fc-4c54319a84d1"
   },
   "outputs": [
    {
     "name": "stdout",
     "output_type": "stream",
     "text": [
      "MLP Test Accuracy: 0.7900\n"
     ]
    }
   ],
   "source": [
    "mlp_start_time = time.time()\n",
    "mlp_model.fit(X_train_np, y_train_np)\n",
    "\n",
    "# Predict and evaluate\n",
    "mlp_preds = mlp_model.predict(X_test_np)\n",
    "mlp_end_time = time.time()\n",
    "\n",
    "mlp_elapsed_time =  mlp_end_time - mlp_start_time\n",
    "mlp_accuracy = accuracy_score(y_test_np, mlp_preds)\n",
    "print(f\"MLP Test Accuracy: {mlp_accuracy:.4f}\")\n",
    "\n"
   ]
  },
  {
   "cell_type": "code",
   "execution_count": 129,
   "metadata": {
    "colab": {
     "base_uri": "https://localhost:8080/"
    },
    "executionInfo": {
     "elapsed": 21,
     "status": "ok",
     "timestamp": 1747891102701,
     "user": {
      "displayName": "Hung Thanh Do",
      "userId": "14602254202234053172"
     },
     "user_tz": -120
    },
    "id": "XWtDol4tA58b",
    "outputId": "e44eb423-1800-4235-854f-22a1441eacef"
   },
   "outputs": [
    {
     "name": "stdout",
     "output_type": "stream",
     "text": [
      "Total elapsed time in seconds: 0.5003\n"
     ]
    }
   ],
   "source": [
    "print(f\"Total elapsed time in seconds: {mlp_elapsed_time:.4f}\")"
   ]
  },
  {
   "cell_type": "code",
   "execution_count": 108,
   "metadata": {
    "colab": {
     "base_uri": "https://localhost:8080/"
    },
    "executionInfo": {
     "elapsed": 17,
     "status": "ok",
     "timestamp": 1747891018673,
     "user": {
      "displayName": "Hung Thanh Do",
      "userId": "14602254202234053172"
     },
     "user_tz": -120
    },
    "id": "_HsxXduHcC0P",
    "outputId": "a4a93b4d-3dfb-4c25-ba58-42eda4cd5cfe"
   },
   "outputs": [
    {
     "data": {
      "text/plain": [
       "['saved_model/mlp_german_100.pkl']"
      ]
     },
     "execution_count": 108,
     "metadata": {},
     "output_type": "execute_result"
    }
   ],
   "source": [
    "import joblib\n",
    "\n",
    "# Save\n",
    "joblib.dump(mlp_model, \"saved_model/mlp_german_100.pkl\")"
   ]
  },
  {
   "cell_type": "code",
   "execution_count": null,
   "metadata": {
    "id": "d2W4HhzbcC0Q"
   },
   "outputs": [],
   "source": [
    "import joblib\n",
    "# Load\n",
    "mlp_model = joblib.load(\"saved_model/mlp_german.pkl\")"
   ]
  },
  {
   "cell_type": "markdown",
   "metadata": {
    "id": "GfVfYd_ZcC0Q"
   },
   "source": [
    "### Model TabResNet"
   ]
  },
  {
   "cell_type": "code",
   "execution_count": 172,
   "metadata": {
    "executionInfo": {
     "elapsed": 118,
     "status": "ok",
     "timestamp": 1747891365422,
     "user": {
      "displayName": "Hung Thanh Do",
      "userId": "14602254202234053172"
     },
     "user_tz": -120
    },
    "id": "DSE3rgtDcC0R"
   },
   "outputs": [],
   "source": [
    "# ---------------------------\n",
    "# Model Definition: TabResNet (using residual blocks)\n",
    "# ---------------------------\n",
    "class TabResBlock(nn.Module):\n",
    "    def __init__(self, d_block, d_hidden, dropout1, dropout2):\n",
    "        super(TabResBlock, self).__init__()\n",
    "        # Sub-block 1\n",
    "        self.bn1 = nn.BatchNorm1d(d_block)\n",
    "        self.ln1 = nn.Linear(d_block, d_hidden)\n",
    "        self.relu1 = nn.ReLU()\n",
    "        self.drop1 = nn.Dropout(dropout1)\n",
    "        # Sub-block 2\n",
    "        self.ln2 = nn.Linear(d_hidden, d_block)\n",
    "        self.drop2 = nn.Dropout(dropout2)\n",
    "\n",
    "    def forward(self, x):\n",
    "        identity = x\n",
    "        out = self.bn1(x)\n",
    "        out = self.ln1(out)\n",
    "        out = self.relu1(out)\n",
    "        out = self.drop1(out)\n",
    "        out = self.ln2(out)\n",
    "        out = self.drop2(out)\n",
    "        out += identity\n",
    "        return out\n",
    "\n",
    "class TabResNet(nn.Module):\n",
    "    def __init__(\n",
    "        self,\n",
    "        d_in: int,\n",
    "        d_out: Optional[int],\n",
    "        n_blocks: int,\n",
    "        d_block: int,\n",
    "        d_hidden: Optional[int],\n",
    "        d_hidden_multiplier: Optional[float] = 2,\n",
    "        dropout1: float = 0.2,\n",
    "        dropout2: float = 0\n",
    "    ):\n",
    "        \"\"\"\n",
    "        Args:\n",
    "            d_in: Number of input features.\n",
    "            d_out: Number of outputs (set to 2 for binary classification).\n",
    "            n_blocks: Number of residual blocks.\n",
    "            d_block: Block width (input and output dimension of each block).\n",
    "            d_hidden: Hidden dimension inside a block.\n",
    "        \"\"\"\n",
    "        super(TabResNet, self).__init__()\n",
    "        # Project input to block width\n",
    "        self.input_projection = nn.Linear(d_in, d_block)\n",
    "        # Residual blocks\n",
    "        self.resblocks = nn.ModuleList([\n",
    "            TabResBlock(d_block, d_hidden, dropout1, dropout2) for _ in range(n_blocks)\n",
    "        ])\n",
    "        # Prediction block: outputs logits for d_out classes.\n",
    "        self.predblock = (\n",
    "            nn.Sequential(\n",
    "                nn.BatchNorm1d(d_block),\n",
    "                nn.ReLU(),\n",
    "                nn.Linear(d_block, d_out)\n",
    "            ) if d_out is not None else None\n",
    "        )\n",
    "\n",
    "    def forward(self, x):\n",
    "        x = self.input_projection(x)\n",
    "        for block in self.resblocks:\n",
    "            x = block(x)\n",
    "        if self.predblock is not None:\n",
    "            x = self.predblock(x)\n",
    "        return x  # returns logits\n",
    "\n",
    "\n",
    "# Instantiate model; input dimension equals the number of columns in X_test_np.\n",
    "d_in = X_test_np.shape[1]\n",
    "model = TabResNet(\n",
    "    d_in=d_in,\n",
    "    d_out=2,       # Two outputs for binary classification.\n",
    "    n_blocks=2,\n",
    "    d_block=16,\n",
    "    d_hidden=32,\n",
    "    dropout1=0.2,\n",
    "    dropout2=0.05\n",
    "    )"
   ]
  },
  {
   "cell_type": "markdown",
   "metadata": {
    "id": "QwRz19sNcC0S"
   },
   "source": [
    "### Training TabResNet"
   ]
  },
  {
   "cell_type": "code",
   "execution_count": 173,
   "metadata": {
    "colab": {
     "base_uri": "https://localhost:8080/"
    },
    "executionInfo": {
     "elapsed": 1491,
     "status": "ok",
     "timestamp": 1747891368663,
     "user": {
      "displayName": "Hung Thanh Do",
      "userId": "14602254202234053172"
     },
     "user_tz": -120
    },
    "id": "9-A2iFAh9_J5",
    "outputId": "01ccc7b0-2a56-4590-cbb3-403db81702c3"
   },
   "outputs": [
    {
     "name": "stdout",
     "output_type": "stream",
     "text": [
      "Epoch [50/400]\n",
      "Training Loss: 0.5993   - Training Accuracy: 0.6811\n",
      "Epoch [100/400]\n",
      "Training Loss: 0.5496   - Training Accuracy: 0.7278\n",
      "Epoch [150/400]\n",
      "Training Loss: 0.5067   - Training Accuracy: 0.7400\n",
      "Epoch [200/400]\n",
      "Training Loss: 0.4999   - Training Accuracy: 0.7489\n",
      "Epoch [250/400]\n",
      "Training Loss: 0.4841   - Training Accuracy: 0.7567\n",
      "Epoch [300/400]\n",
      "Training Loss: 0.4587   - Training Accuracy: 0.7700\n",
      "Epoch [350/400]\n",
      "Training Loss: 0.4654   - Training Accuracy: 0.7711\n",
      "Epoch [400/400]\n",
      "Training Loss: 0.4499   - Training Accuracy: 0.7800\n",
      "\n",
      "Test Accuracy: 0.8300\n"
     ]
    }
   ],
   "source": [
    "device = torch.device(\"cuda\" if torch.cuda.is_available() else \"cpu\")\n",
    "\n",
    "model = model.to(device)\n",
    "X_train_tensor = X_train_tensor.to(device)\n",
    "y_train_tensor = y_train_tensor.to(device)\n",
    "\n",
    "# Move test tensors to the same device as model\n",
    "X_test_tensor = X_test_tensor.to(device)\n",
    "y_test_tensor = y_test_tensor.to(device)\n",
    "\n",
    "criterion = nn.CrossEntropyLoss()\n",
    "optimizer = optim.Adam(model.parameters(), lr=1e-3, weight_decay=1e-5)\n",
    "num_epochs = 400\n",
    "\n",
    "start_time = time.time()\n",
    "for epoch in range(num_epochs):\n",
    "    model.train()\n",
    "    logits = model(X_train_tensor)\n",
    "    loss = criterion(logits, y_train_tensor)\n",
    "    optimizer.zero_grad()\n",
    "    loss.backward()\n",
    "    optimizer.step()\n",
    "\n",
    "    if (epoch + 1) % 50 == 0:\n",
    "        print(f\"Epoch [{epoch+1}/{num_epochs}]\")\n",
    "        with torch.no_grad():\n",
    "            y_train_pred = torch.argmax(logits, dim=1)\n",
    "            train_accuracy = accuracy_score(y_train_tensor.cpu().numpy(), y_train_pred.cpu().numpy())\n",
    "            print(f\"Training Loss: {loss.item():.4f}   - Training Accuracy: {train_accuracy:.4f}\")\n",
    "\n",
    "# Evaluate on test data\n",
    "model.eval()\n",
    "with torch.no_grad():\n",
    "    logits = model(X_test_tensor)\n",
    "    probs = torch.softmax(logits, dim=1)\n",
    "    preds = torch.argmax(probs, dim=1)\n",
    "    accuracy = (preds == y_test_tensor).float().mean().item()\n",
    "    print(f\"\\nTest Accuracy: {accuracy:.4f}\")\n",
    "\n",
    "end_time = time.time()\n",
    "elapsed_time = end_time - start_time\n"
   ]
  },
  {
   "cell_type": "code",
   "execution_count": 174,
   "metadata": {
    "colab": {
     "base_uri": "https://localhost:8080/"
    },
    "executionInfo": {
     "elapsed": 6,
     "status": "ok",
     "timestamp": 1747891385790,
     "user": {
      "displayName": "Hung Thanh Do",
      "userId": "14602254202234053172"
     },
     "user_tz": -120
    },
    "id": "vzT6E4SoJRhU",
    "outputId": "46f933c2-b515-43e3-a213-c1415cf4b594"
   },
   "outputs": [
    {
     "name": "stdout",
     "output_type": "stream",
     "text": [
      "Total elapsed time in seconds: 1.3835\n"
     ]
    }
   ],
   "source": [
    "print(f\"Total elapsed time in seconds: {elapsed_time:.4f}\")"
   ]
  },
  {
   "cell_type": "code",
   "execution_count": 57,
   "metadata": {
    "executionInfo": {
     "elapsed": 678,
     "status": "ok",
     "timestamp": 1747890266410,
     "user": {
      "displayName": "Hung Thanh Do",
      "userId": "14602254202234053172"
     },
     "user_tz": -120
    },
    "id": "PvzkF9TOcC0b"
   },
   "outputs": [],
   "source": [
    "# Save the model\n",
    "torch.save(model.state_dict(), \"saved_model/tabresnet_german.pth\")"
   ]
  },
  {
   "cell_type": "code",
   "execution_count": null,
   "metadata": {
    "colab": {
     "base_uri": "https://localhost:8080/"
    },
    "executionInfo": {
     "elapsed": 3068,
     "status": "ok",
     "timestamp": 1747754458159,
     "user": {
      "displayName": "Hung Thanh Do",
      "userId": "14602254202234053172"
     },
     "user_tz": -120
    },
    "id": "ZqMUCrRIcC0c",
    "outputId": "94c5e969-1242-4d50-d0d0-fd29386839bb"
   },
   "outputs": [
    {
     "data": {
      "text/plain": [
       "<All keys matched successfully>"
      ]
     },
     "execution_count": 20,
     "metadata": {},
     "output_type": "execute_result"
    }
   ],
   "source": [
    "# Load the model\n",
    "model.load_state_dict(torch.load(\"saved_model/tabresnet_german.pth\"))"
   ]
  },
  {
   "cell_type": "markdown",
   "metadata": {
    "id": "IRoRVOmvcC0d"
   },
   "source": [
    "# Sustainability"
   ]
  },
  {
   "cell_type": "markdown",
   "metadata": {
    "id": "UgJ9XJAWDev3"
   },
   "source": [
    "## Define utils"
   ]
  },
  {
   "cell_type": "code",
   "execution_count": 98,
   "metadata": {
    "executionInfo": {
     "elapsed": 17,
     "status": "ok",
     "timestamp": 1747890716519,
     "user": {
      "displayName": "Hung Thanh Do",
      "userId": "14602254202234053172"
     },
     "user_tz": -120
    },
    "id": "gAwKonCzaeSi"
   },
   "outputs": [],
   "source": [
    "def count_xgboost_parameters(model):\n",
    "    \"\"\"\n",
    "    Count the number of parameters in an XGBoost model.\n",
    "\n",
    "    For each tree in the model:\n",
    "    - Internal nodes: Each has a feature index and threshold (2 parameters)\n",
    "    - Leaf nodes: Each has a weight (1 parameter)\n",
    "\n",
    "    Args:\n",
    "        model: A trained XGBoost model\n",
    "\n",
    "    Returns:\n",
    "        int: Total number of parameters\n",
    "    \"\"\"\n",
    "    # Get the booster from the model\n",
    "    booster = model.get_booster()\n",
    "\n",
    "    # Get the tree model as JSON\n",
    "    tree_info = booster.get_dump(dump_format='json')\n",
    "\n",
    "    total_parameters = 0\n",
    "\n",
    "    # Parse each tree and count parameters\n",
    "    for tree_str in tree_info:\n",
    "        # Parse JSON string to dictionary\n",
    "        import json\n",
    "        tree = json.loads(tree_str)\n",
    "\n",
    "        # Recursive function to count parameters in a tree\n",
    "        def count_tree_params(node):\n",
    "            params = 0\n",
    "            if 'leaf' in node:\n",
    "                # Leaf node has 1 parameter (the weight)\n",
    "                params = 1\n",
    "            else:\n",
    "                # Internal node has 2 parameters (feature index and threshold)\n",
    "                params = 2\n",
    "                # Add parameters from children\n",
    "                if 'children' in node:\n",
    "                    for child in node['children']:\n",
    "                        params += count_tree_params(child)\n",
    "            return params\n",
    "\n",
    "        total_parameters += count_tree_params(tree)\n",
    "\n",
    "    return total_parameters\n",
    "\n",
    "def estimate_xgboost_flops(model, n_samples):\n",
    "    \"\"\"\n",
    "    Estimate the number of FLOPs for XGBoost prediction.\n",
    "\n",
    "    For each sample:\n",
    "    - Each internal node requires ~2 FLOPs (1 comparison, 1 branch decision)\n",
    "    - Average path length × number of trees × number of samples\n",
    "\n",
    "    Args:\n",
    "        model: A trained XGBoost model\n",
    "        n_samples: Number of samples for prediction\n",
    "\n",
    "    Returns:\n",
    "        int: Estimated FLOPs\n",
    "    \"\"\"\n",
    "    booster = model.get_booster()\n",
    "    tree_info = booster.get_dump(dump_format='json')\n",
    "\n",
    "    total_nodes = 0\n",
    "    total_trees = len(tree_info)\n",
    "\n",
    "    # Calculate average path length based on tree structure\n",
    "    avg_path_length = 0\n",
    "\n",
    "    for tree_str in tree_info:\n",
    "        import json\n",
    "        tree = json.loads(tree_str)\n",
    "\n",
    "        # Find max depth of the tree\n",
    "        def get_max_depth(node, current_depth=0):\n",
    "            if 'leaf' in node:\n",
    "                return current_depth\n",
    "            else:\n",
    "                max_depth = current_depth\n",
    "                if 'children' in node:\n",
    "                    for child in node['children']:\n",
    "                        max_depth = max(max_depth, get_max_depth(child, current_depth + 1))\n",
    "                return max_depth\n",
    "\n",
    "        avg_path_length += get_max_depth(tree)\n",
    "\n",
    "    avg_path_length /= total_trees\n",
    "\n",
    "    # Each comparison is approximately 2 FLOPs\n",
    "    # Total FLOPs = avg path length × 2 FLOPs per node × number of trees × number of samples\n",
    "    total_flops = avg_path_length * 2 * total_trees * n_samples\n",
    "\n",
    "    return total_flops\n",
    "\n",
    "def estimate_xgboost_macs(model, n_samples):\n",
    "    \"\"\"\n",
    "    Estimate the number of MACs for XGBoost prediction.\n",
    "    XGBoost primarily uses comparisons rather than multiplications,\n",
    "    so MACs are substantially fewer than FLOPs.\n",
    "\n",
    "    Args:\n",
    "        model: A trained XGBoost model\n",
    "        n_samples: Number of samples for prediction\n",
    "\n",
    "    Returns:\n",
    "        int: Estimated MACs\n",
    "    \"\"\"\n",
    "    # In XGBoost, MACs are primarily used in the final stage when combining tree outputs\n",
    "    # Each tree contributes one addition operation to the final sum for each sample\n",
    "\n",
    "    n_trees = model.n_estimators\n",
    "\n",
    "    # MACs for combining tree outputs (1 per tree per sample)\n",
    "    macs = n_trees * n_samples\n",
    "\n",
    "    return macs"
   ]
  },
  {
   "cell_type": "code",
   "execution_count": 99,
   "metadata": {
    "executionInfo": {
     "elapsed": 1,
     "status": "ok",
     "timestamp": 1747890716522,
     "user": {
      "displayName": "Hung Thanh Do",
      "userId": "14602254202234053172"
     },
     "user_tz": -120
    },
    "id": "XghNd9w9a8Ew"
   },
   "outputs": [],
   "source": [
    "def count_mlp_parameters(model):\n",
    "    \"\"\"\n",
    "    Count the number of parameters in a scikit-learn MLPClassifier.\n",
    "\n",
    "    MLPClassifier parameters include:\n",
    "    - Weight matrices between layers\n",
    "    - Bias vectors for each layer\n",
    "\n",
    "    Args:\n",
    "        model: A trained scikit-learn MLPClassifier\n",
    "\n",
    "    Returns:\n",
    "        int: Total number of parameters\n",
    "    \"\"\"\n",
    "    total_params = 0\n",
    "\n",
    "    # Get the coefficient matrices (weights)\n",
    "    coefs = model.coefs_\n",
    "\n",
    "    # Get the intercept vectors (biases)\n",
    "    intercepts = model.intercepts_\n",
    "\n",
    "    # Count parameters in weights\n",
    "    for coef in coefs:\n",
    "        total_params += coef.size\n",
    "\n",
    "    # Count parameters in biases\n",
    "    for intercept in intercepts:\n",
    "        total_params += intercept.size\n",
    "\n",
    "    return total_params\n",
    "\n",
    "def estimate_mlp_flops(model, n_samples):\n",
    "    \"\"\"\n",
    "    Estimate the number of FLOPs for MLPClassifier prediction.\n",
    "\n",
    "    For each layer:\n",
    "    - Matrix multiplication: ~2 × n_inputs × n_neurons FLOPs per sample\n",
    "    - Bias addition: n_neurons FLOPs per sample\n",
    "    - Activation: ~1-3 FLOPs per neuron per sample (depends on activation function)\n",
    "\n",
    "    Args:\n",
    "        model: A trained scikit-learn MLPClassifier\n",
    "        n_samples: Number of samples for prediction\n",
    "\n",
    "    Returns:\n",
    "        int: Estimated FLOPs\n",
    "    \"\"\"\n",
    "    total_flops = 0\n",
    "\n",
    "    # Get network architecture\n",
    "    coefs = model.coefs_  # Weight matrices\n",
    "    intercepts = model.intercepts_  # Bias vectors\n",
    "    activation = model.activation  # Activation function\n",
    "\n",
    "    # Estimate FLOPs per activation function\n",
    "    act_flops = {\n",
    "        'identity': 0,  # No computation\n",
    "        'logistic': 3,  # exp, division, addition\n",
    "        'tanh': 3,      # exp operations and addition\n",
    "        'relu': 1       # max operation\n",
    "    }\n",
    "\n",
    "    # FLOPs for each layer\n",
    "    for i in range(len(coefs)):\n",
    "        layer_input_size = coefs[i].shape[0]\n",
    "        layer_output_size = coefs[i].shape[1]\n",
    "\n",
    "        # Matrix multiplication: ~2 operations per element (multiply and add)\n",
    "        # For each output neuron, we do layer_input_size multiplications and additions\n",
    "        matmul_flops = 2 * layer_input_size * layer_output_size * n_samples\n",
    "\n",
    "        # Bias addition: 1 addition per output neuron\n",
    "        bias_flops = layer_output_size * n_samples\n",
    "\n",
    "        # Activation function application\n",
    "        activation_flops = act_flops.get(activation, 1) * layer_output_size * n_samples\n",
    "\n",
    "        layer_flops = matmul_flops + bias_flops + activation_flops\n",
    "        total_flops += layer_flops\n",
    "\n",
    "    # Output layer activation\n",
    "    if hasattr(model, 'out_activation_') and model.out_activation_ == 'logistic':\n",
    "        # Logistic (sigmoid) activation: 1/(1 + exp(-x))\n",
    "        # Requires: 1 negation, 1 exp, 1 addition, 1 division per output\n",
    "        total_flops += 4 * model.n_outputs_ * n_samples\n",
    "\n",
    "    return total_flops\n",
    "\n",
    "def estimate_mlp_macs(model, n_samples):\n",
    "    \"\"\"\n",
    "    Estimate the number of MACs for MLPClassifier prediction.\n",
    "\n",
    "    MACs primarily come from the matrix multiplications:\n",
    "    - Each element in the output requires input_size MACs\n",
    "\n",
    "    Args:\n",
    "        model: A trained scikit-learn MLPClassifier\n",
    "        n_samples: Number of samples for prediction\n",
    "\n",
    "    Returns:\n",
    "        int: Estimated MACs\n",
    "    \"\"\"\n",
    "    total_macs = 0\n",
    "\n",
    "    # Get weight matrices\n",
    "    coefs = model.coefs_\n",
    "\n",
    "    # MACs for each layer\n",
    "    for i in range(len(coefs)):\n",
    "        layer_input_size = coefs[i].shape[0]\n",
    "        layer_output_size = coefs[i].shape[1]\n",
    "\n",
    "        # Each output neuron requires input_size MACs\n",
    "        layer_macs = layer_input_size * layer_output_size * n_samples\n",
    "        total_macs += layer_macs\n",
    "\n",
    "    return total_macs"
   ]
  },
  {
   "cell_type": "code",
   "execution_count": 100,
   "metadata": {
    "executionInfo": {
     "elapsed": 7,
     "status": "ok",
     "timestamp": 1747890716530,
     "user": {
      "displayName": "Hung Thanh Do",
      "userId": "14602254202234053172"
     },
     "user_tz": -120
    },
    "id": "LEkZeB-eC8T_"
   },
   "outputs": [],
   "source": [
    "def compute_kgco2e(pc: float, pg: float, time_hours: float):\n",
    "    \"\"\"\n",
    "    Compute kgCO2 emission, and normalized emission per capita.\n",
    "    Args:\n",
    "        pc: average CPU power in watts\n",
    "        pg: average GPU power in watts\n",
    "        time_hours: training + eval time in hours\n",
    "\n",
    "    Returns:\n",
    "        tuple: CO2e (kg), normalized CO2e\n",
    "    \"\"\"\n",
    "    pt = (pc + pg) * time_hours / 1000  # power in kWh\n",
    "    co2e = 0.498 * pt  # Germany's emission rate\n",
    "    normalized = co2e / 26  # per-capita daily emission baseline\n",
    "\n",
    "    return co2e, normalized"
   ]
  },
  {
   "cell_type": "code",
   "execution_count": 101,
   "metadata": {
    "executionInfo": {
     "elapsed": 9,
     "status": "ok",
     "timestamp": 1747890716533,
     "user": {
      "displayName": "Hung Thanh Do",
      "userId": "14602254202234053172"
     },
     "user_tz": -120
    },
    "id": "gTulf29cDj5G"
   },
   "outputs": [],
   "source": [
    "\"\"\"\n",
    "Intel(R) Xeon(R) CPU @ 2.20GHz\n",
    "Model: 79 (\n",
    "-> Intel Xeon E5-2673 v4 from the Broadwell-EP family - specifications:\n",
    "    Cores: 10\n",
    "    Threads: 20\n",
    "    Base Frequency: 2.3 GHz\n",
    "    Maximum Turbo Speed: 3.5 GHz\n",
    "    Cache: 50 MB\n",
    "    TDP: 135W\n",
    "\n",
    "Colab uses 2 vCPUs (each 1 core -> total 2 cores out of 20)\n",
    "-> only use 10% of the actuall TDP -> 13.5 W\n",
    "\"\"\"\n",
    "pc = 13.5\n",
    "pg = 70"
   ]
  },
  {
   "cell_type": "markdown",
   "metadata": {
    "id": "7N5q_LeLyo4x"
   },
   "source": [
    "## XGB"
   ]
  },
  {
   "cell_type": "code",
   "execution_count": 63,
   "metadata": {
    "colab": {
     "base_uri": "https://localhost:8080/"
    },
    "executionInfo": {
     "elapsed": 19,
     "status": "ok",
     "timestamp": 1747890282201,
     "user": {
      "displayName": "Hung Thanh Do",
      "userId": "14602254202234053172"
     },
     "user_tz": -120
    },
    "id": "5UE_EQhyanQI",
    "outputId": "b100fff2-32fb-4153-ce49-9ef613b6c216"
   },
   "outputs": [
    {
     "name": "stdout",
     "output_type": "stream",
     "text": [
      "XGBoost trainable parameters: 2,002\n",
      "XGBoost FLOPs: 0.06M\n",
      "XGBoost MACs: 0.01M\n"
     ]
    }
   ],
   "source": [
    "# Count parameters\n",
    "total_params = count_xgboost_parameters(xgb_model)\n",
    "print(f\"XGBoost trainable parameters: {total_params:,}\")\n",
    "\n",
    "# Estimate FLOPs for making predictions on test data\n",
    "n_test_samples = X_test_np.shape[0]\n",
    "flops = estimate_xgboost_flops(xgb_model, n_test_samples)\n",
    "print(f\"XGBoost FLOPs: {flops / 1e6:.2f}M\")\n",
    "\n",
    "# Estimate MACs for making predictions on test data\n",
    "macs = estimate_xgboost_macs(xgb_model, n_test_samples)\n",
    "print(f\"XGBoost MACs: {macs / 1e6:.2f}M\")"
   ]
  },
  {
   "cell_type": "code",
   "execution_count": 64,
   "metadata": {
    "colab": {
     "base_uri": "https://localhost:8080/"
    },
    "executionInfo": {
     "elapsed": 6,
     "status": "ok",
     "timestamp": 1747890285351,
     "user": {
      "displayName": "Hung Thanh Do",
      "userId": "14602254202234053172"
     },
     "user_tz": -120
    },
    "id": "TXDO6h5aIzs7",
    "outputId": "bd3b5b06-142f-40f6-cf02-1073f0b9add4"
   },
   "outputs": [
    {
     "name": "stdout",
     "output_type": "stream",
     "text": [
      "kgCO2 emission: 0.0020 kg\n",
      "Normalized kgCO2 emission: 0.0001\n"
     ]
    }
   ],
   "source": [
    "# xgb_elasped_time = xgb_elapsed_time / 3600\n",
    "xgb_elasped_time = 0.0034 / 3600\n",
    "kgco2e, kgco2e_normalized = compute_kgco2e(pc, pg, xgb_elapsed_time)\n",
    "\n",
    "print(f\"kgCO2 emission: {kgco2e:.4f} kg\")\n",
    "print(f\"Normalized kgCO2 emission: {kgco2e_normalized:.4f}\")"
   ]
  },
  {
   "cell_type": "markdown",
   "metadata": {
    "id": "eltctoklymtZ"
   },
   "source": [
    "## MLP"
   ]
  },
  {
   "cell_type": "code",
   "execution_count": 130,
   "metadata": {
    "colab": {
     "base_uri": "https://localhost:8080/"
    },
    "executionInfo": {
     "elapsed": 147,
     "status": "ok",
     "timestamp": 1747891118177,
     "user": {
      "displayName": "Hung Thanh Do",
      "userId": "14602254202234053172"
     },
     "user_tz": -120
    },
    "id": "smf7gu7fc16R",
    "outputId": "2c8b18a3-1085-4ab5-fc9d-dfde485fb7f0"
   },
   "outputs": [
    {
     "name": "stdout",
     "output_type": "stream",
     "text": [
      "MLP trainable parameters: 2,401\n",
      "MLP FLOPs: 0.48M\n",
      "MLP MACs: 0.23M\n"
     ]
    }
   ],
   "source": [
    "# Count parameters\n",
    "total_params = count_mlp_parameters(mlp_model)\n",
    "print(f\"MLP trainable parameters: {total_params:,}\")\n",
    "\n",
    "# Estimate FLOPs for making predictions on test data\n",
    "n_test_samples = X_test_np.shape[0]\n",
    "flops = estimate_mlp_flops(mlp_model, n_test_samples)\n",
    "print(f\"MLP FLOPs: {flops / 1e6:.2f}M\")\n",
    "\n",
    "# Estimate MACs for making predictions on test data\n",
    "macs = estimate_mlp_macs(mlp_model, n_test_samples)\n",
    "print(f\"MLP MACs: {macs / 1e6:.2f}M\")"
   ]
  },
  {
   "cell_type": "code",
   "execution_count": 131,
   "metadata": {
    "colab": {
     "base_uri": "https://localhost:8080/"
    },
    "executionInfo": {
     "elapsed": 6,
     "status": "ok",
     "timestamp": 1747891120797,
     "user": {
      "displayName": "Hung Thanh Do",
      "userId": "14602254202234053172"
     },
     "user_tz": -120
    },
    "id": "QyRJ-YBzK5o_",
    "outputId": "19168bb8-8fcd-471a-a36d-b0a93d8286bd"
   },
   "outputs": [
    {
     "name": "stdout",
     "output_type": "stream",
     "text": [
      "kgCO2 emission: 0.0208 kg\n",
      "Normalized kgCO2 emission: 0.0008\n"
     ]
    }
   ],
   "source": [
    "mlp_elasped_time = mlp_elapsed_time / 3600\n",
    "kgco2e, kgco2e_normalized = compute_kgco2e(pc, pg, mlp_elapsed_time)\n",
    "\n",
    "print(f\"kgCO2 emission: {kgco2e:.4f} kg\")\n",
    "print(f\"Normalized kgCO2 emission: {kgco2e_normalized:.4f}\")"
   ]
  },
  {
   "cell_type": "markdown",
   "metadata": {
    "id": "xNNhGaA7P_j8"
   },
   "source": [
    "## TabResNet"
   ]
  },
  {
   "cell_type": "code",
   "execution_count": 70,
   "metadata": {
    "colab": {
     "base_uri": "https://localhost:8080/"
    },
    "executionInfo": {
     "elapsed": 9,
     "status": "ok",
     "timestamp": 1747890326871,
     "user": {
      "displayName": "Hung Thanh Do",
      "userId": "14602254202234053172"
     },
     "user_tz": -120
    },
    "id": "_5_ongPFP_j8",
    "outputId": "3ef6b5a3-161c-41a9-cd9d-ccfce2858b68"
   },
   "outputs": [
    {
     "name": "stdout",
     "output_type": "stream",
     "text": [
      "Trainable parameters: 2,642\n"
     ]
    }
   ],
   "source": [
    "# Parameter Count (Pure PyTorch)\n",
    "def count_parameters(model):\n",
    "    return sum(p.numel() for p in model.parameters() if p.requires_grad)\n",
    "\n",
    "# Usage\n",
    "total_params = count_parameters(model)\n",
    "print(f\"Trainable parameters: {total_params:,}\")"
   ]
  },
  {
   "cell_type": "code",
   "execution_count": 71,
   "metadata": {
    "colab": {
     "base_uri": "https://localhost:8080/"
    },
    "executionInfo": {
     "elapsed": 55,
     "status": "ok",
     "timestamp": 1747890356371,
     "user": {
      "displayName": "Hung Thanh Do",
      "userId": "14602254202234053172"
     },
     "user_tz": -120
    },
    "id": "0BqR3poIP_j9",
    "outputId": "1f16d019-aeee-49fb-80b1-865716256d2a"
   },
   "outputs": [
    {
     "name": "stdout",
     "output_type": "stream",
     "text": [
      "Module                           FLOP    % Total\n",
      "---------------------------  --------  ---------\n",
      "TabResNet                    486.400K    100.00%\n",
      " - aten.addmm                486.400K    100.00%\n",
      " TabResNet.input_projection   70.400K     14.47%\n",
      "  - aten.addmm                70.400K     14.47%\n",
      " TabResNet.predblock           6.400K      1.32%\n",
      "  - aten.addmm                 6.400K      1.32%\n",
      "FLOPs: 0.49M\n"
     ]
    }
   ],
   "source": [
    "# Calculate FLOPS\n",
    "from torch.utils.flop_counter import FlopCounterMode\n",
    "\n",
    "model.eval()\n",
    "with torch.no_grad(), FlopCounterMode() as flop_counter:\n",
    "    _ = model(X_test_tensor)\n",
    "\n",
    "print(f\"FLOPs: {flop_counter.get_total_flops()/1e6:.2f}M\")"
   ]
  },
  {
   "cell_type": "code",
   "execution_count": 72,
   "metadata": {
    "colab": {
     "base_uri": "https://localhost:8080/"
    },
    "executionInfo": {
     "elapsed": 58,
     "status": "ok",
     "timestamp": 1747890359587,
     "user": {
      "displayName": "Hung Thanh Do",
      "userId": "14602254202234053172"
     },
     "user_tz": -120
    },
    "id": "YlUSZbfbNIQe",
    "outputId": "64c56b85-56b6-432b-f5fe-2ead9507fd35"
   },
   "outputs": [
    {
     "name": "stdout",
     "output_type": "stream",
     "text": [
      "Module                         FLOP    % Total\n",
      "---------------------------  ------  ---------\n",
      "TabResNet                      4864    100.00%\n",
      " - aten.addmm                  4864    100.00%\n",
      " TabResNet.input_projection     704     14.47%\n",
      "  - aten.addmm                  704     14.47%\n",
      " TabResNet.predblock             64      1.32%\n",
      "  - aten.addmm                   64      1.32%\n",
      "FLOPs per sample: 4.86 K\n",
      "FLOPs: 0.49M\n"
     ]
    }
   ],
   "source": [
    "sample_input = X_test_tensor[0:1]  # just one sample\n",
    "\n",
    "model.eval()\n",
    "with torch.no_grad(), FlopCounterMode() as flop_counter:\n",
    "    _ = model(sample_input)\n",
    "\n",
    "print(f\"FLOPs per sample: {flop_counter.get_total_flops()/1e3:.2f} K\")\n",
    "print(f\"FLOPs: {flop_counter.get_total_flops()*X_test_tensor.shape[0]/1e6:.2f}M\")"
   ]
  },
  {
   "cell_type": "code",
   "execution_count": 73,
   "metadata": {
    "colab": {
     "base_uri": "https://localhost:8080/"
    },
    "executionInfo": {
     "elapsed": 4055,
     "status": "ok",
     "timestamp": 1747890370355,
     "user": {
      "displayName": "Hung Thanh Do",
      "userId": "14602254202234053172"
     },
     "user_tz": -120
    },
    "id": "eIo3XKX-TIDV",
    "outputId": "ad51e2a4-d844-4f58-fdd6-de65af5fa810"
   },
   "outputs": [
    {
     "name": "stdout",
     "output_type": "stream",
     "text": [
      "Warning: module Dropout is treated as a zero-op.\n",
      "Warning: module TabResBlock is treated as a zero-op.\n",
      "Warning: module TabResNet is treated as a zero-op.\n",
      "TabResNet(\n",
      "  2.64 k, 100.000% Params, 2.72 KMac, 97.145% MACs, \n",
      "  (input_projection): Linear(368, 13.929% Params, 368.0 Mac, 13.133% MACs, in_features=22, out_features=16, bias=True)\n",
      "  (resblocks): ModuleList(\n",
      "    (0-1): 2 x TabResBlock(\n",
      "      1.1 k, 41.787% Params, 1.14 KMac, 40.542% MACs, \n",
      "      (bn1): BatchNorm1d(32, 1.211% Params, 32.0 Mac, 1.142% MACs, 16, eps=1e-05, momentum=0.1, affine=True, track_running_stats=True)\n",
      "      (ln1): Linear(544, 20.590% Params, 544.0 Mac, 19.415% MACs, in_features=16, out_features=32, bias=True)\n",
      "      (relu1): ReLU(0, 0.000% Params, 32.0 Mac, 1.142% MACs, )\n",
      "      (drop1): Dropout(0, 0.000% Params, 0.0 Mac, 0.000% MACs, p=0.2, inplace=False)\n",
      "      (ln2): Linear(528, 19.985% Params, 528.0 Mac, 18.844% MACs, in_features=32, out_features=16, bias=True)\n",
      "      (drop2): Dropout(0, 0.000% Params, 0.0 Mac, 0.000% MACs, p=0.05, inplace=False)\n",
      "    )\n",
      "  )\n",
      "  (predblock): Sequential(\n",
      "    66, 2.498% Params, 82.0 Mac, 2.926% MACs, \n",
      "    (0): BatchNorm1d(32, 1.211% Params, 32.0 Mac, 1.142% MACs, 16, eps=1e-05, momentum=0.1, affine=True, track_running_stats=True)\n",
      "    (1): ReLU(0, 0.000% Params, 16.0 Mac, 0.571% MACs, )\n",
      "    (2): Linear(34, 1.287% Params, 34.0 Mac, 1.213% MACs, in_features=16, out_features=2, bias=True)\n",
      "  )\n",
      ")\n",
      "MACs per sample: 2.80K\n",
      "MACs: 0.28M\n"
     ]
    }
   ],
   "source": [
    "# Calculate MACS\n",
    "from ptflops import get_model_complexity_info\n",
    "\n",
    "# Instantiate the model for a dataset with 10 features and 2 output classes\n",
    "input_dim = X_test_np.shape[1]   # Number of features in tabular data\n",
    "num_classes = 2  # Number of output classes\n",
    "\n",
    "# Measure complexity using ptflops\n",
    "with torch.cuda.device(0):  # Remove or adjust this if running on CPU\n",
    "    macs, params = get_model_complexity_info(model, (input_dim,), as_strings=True,\n",
    "                                             print_per_layer_stat=True, verbose=True)\n",
    "\n",
    "# Convert string MACs to numeric (e.g., '2.64 KMac' → 2640)\n",
    "macs_single = float(macs.replace(' KMac', '')) * 1e3\n",
    "print(f\"MACs per sample: {macs_single/1e3:.2f}K\")\n",
    "print(f\"MACs: {macs_single*X_test_tensor.shape[0]/1e6:.2f}M\")\n"
   ]
  },
  {
   "cell_type": "code",
   "execution_count": 175,
   "metadata": {
    "colab": {
     "base_uri": "https://localhost:8080/"
    },
    "executionInfo": {
     "elapsed": 8,
     "status": "ok",
     "timestamp": 1747891402040,
     "user": {
      "displayName": "Hung Thanh Do",
      "userId": "14602254202234053172"
     },
     "user_tz": -120
    },
    "id": "k6hAh4wociZu",
    "outputId": "6a8b9e24-7169-495c-8def-70cb161d582d"
   },
   "outputs": [
    {
     "name": "stdout",
     "output_type": "stream",
     "text": [
      "kgCO2 emission: 0.0575 kg\n",
      "Normalized kgCO2 emission: 0.0022\n"
     ]
    }
   ],
   "source": [
    "elasped_time = elapsed_time / 3600\n",
    "kgco2e, kgco2e_normalized = compute_kgco2e(pc, pg, elapsed_time)\n",
    "\n",
    "print(f\"kgCO2 emission: {kgco2e:.4f} kg\")\n",
    "print(f\"Normalized kgCO2 emission: {kgco2e_normalized:.4f}\")"
   ]
  },
  {
   "cell_type": "markdown",
   "metadata": {
    "id": "67Vzn6iuYS2q"
   },
   "source": [
    "# Explainability"
   ]
  },
  {
   "cell_type": "markdown",
   "metadata": {
    "id": "_zALG-xpxL8y"
   },
   "source": [
    "## XGB"
   ]
  },
  {
   "cell_type": "markdown",
   "metadata": {
    "id": "538PskKGALFU"
   },
   "source": [
    "### SHAP"
   ]
  },
  {
   "cell_type": "code",
   "execution_count": null,
   "metadata": {
    "id": "CRwyb8N37FLD"
   },
   "outputs": [],
   "source": [
    "# SHAP for XGBoost - uses TreeExplainer which is more efficient for tree-based models\n",
    "xgb_explainer = shap.TreeExplainer(xgb_model)\n",
    "xgb_shap_values = xgb_explainer.shap_values(X_test_np)"
   ]
  },
  {
   "cell_type": "code",
   "execution_count": null,
   "metadata": {
    "colab": {
     "base_uri": "https://localhost:8080/",
     "height": 1000
    },
    "executionInfo": {
     "elapsed": 2982,
     "status": "ok",
     "timestamp": 1747748473688,
     "user": {
      "displayName": "Hung Thanh Do",
      "userId": "14602254202234053172"
     },
     "user_tz": -120
    },
    "id": "2LJGjwpp7Rk8",
    "outputId": "adf8162b-29e6-41b8-874f-7b5a0c2ff24c"
   },
   "outputs": [
    {
     "name": "stderr",
     "output_type": "stream",
     "text": [
      "<ipython-input-158-3334122f9df1>:2: FutureWarning: The NumPy global RNG was seeded by calling `np.random.seed`. In a future version this function will no longer use the global RNG. Pass `rng` explicitly to opt-in to the new behaviour and silence this warning.\n",
      "  shap.summary_plot(xgb_shap_values, X_test_np, feature_names=X_test.columns)\n"
     ]
    },
    {
     "data": {
      "image/png": "[encoded data removed]",
      "text/plain": [
       "<Figure size 800x950 with 2 Axes>"
      ]
     },
     "metadata": {},
     "output_type": "display_data"
    }
   ],
   "source": [
    "# Plot SHAP summary plot\n",
    "shap.summary_plot(xgb_shap_values, X_test_np, feature_names=X_test.columns)"
   ]
  },
  {
   "cell_type": "code",
   "execution_count": null,
   "metadata": {
    "id": "rRKBjHmZ7Ztt"
   },
   "outputs": [],
   "source": [
    "import pickle"
   ]
  },
  {
   "cell_type": "code",
   "execution_count": null,
   "metadata": {
    "id": "_11yfL9t7ORj"
   },
   "outputs": [],
   "source": [
    "# Save the SHAP values for XGBoost\n",
    "with open('saved_shap/xgb_shap_values_german.pkl', 'wb') as f:\n",
    "    pickle.dump(xgb_shap_values, f)"
   ]
  },
  {
   "cell_type": "code",
   "execution_count": null,
   "metadata": {
    "id": "3EW2CiV57bZI"
   },
   "outputs": [],
   "source": [
    "with open('saved_shap/xgb_shap_values_german.pkl', 'rb') as f:\n",
    "    shap_values = pickle.load(f)"
   ]
  },
  {
   "cell_type": "markdown",
   "metadata": {
    "id": "mMvLwhrG_eEU"
   },
   "source": [
    "### Quantus"
   ]
  },
  {
   "cell_type": "code",
   "execution_count": null,
   "metadata": {
    "colab": {
     "base_uri": "https://localhost:8080/"
    },
    "executionInfo": {
     "elapsed": 16,
     "status": "ok",
     "timestamp": 1747751075637,
     "user": {
      "displayName": "Hung Thanh Do",
      "userId": "14602254202234053172"
     },
     "user_tz": -120
    },
    "id": "GEc1KUSOCxwJ",
    "outputId": "724de70d-b5c2-480b-938d-68a5a4ed7c58"
   },
   "outputs": [
    {
     "data": {
      "text/plain": [
       "DifferentiableXGBWrapper(\n",
       "  (proxy_layer): Linear(in_features=22, out_features=1, bias=True)\n",
       ")"
      ]
     },
     "execution_count": 214,
     "metadata": {},
     "output_type": "execute_result"
    }
   ],
   "source": [
    "class DifferentiableXGBWrapper(nn.Module):\n",
    "    def __init__(self, xgb_model):\n",
    "        super().__init__()\n",
    "        self.xgb = xgb_model\n",
    "        # Add simple differentiable layer\n",
    "        self.proxy_layer = nn.Linear(X_test_np.shape[1], 1)  # Match your feature count\n",
    "\n",
    "    def forward(self, x):\n",
    "        # Maintain gradient flow\n",
    "        with torch.no_grad():\n",
    "            xgb_out = torch.tensor(self.xgb.predict_proba(\n",
    "                x.cpu().numpy()\n",
    "            ), device=x.device)\n",
    "\n",
    "        # Differentiable processing\n",
    "        proxy_out = self.proxy_layer(x)\n",
    "        return xgb_out + 0.001*proxy_out  # Maintain XGB output dominance\n",
    "\n",
    "# Wrap model with gradient-preserving wrapper\n",
    "xgb_wrapped_model = DifferentiableXGBWrapper(xgb_model)\n",
    "xgb_wrapped_model.eval()"
   ]
  },
  {
   "cell_type": "code",
   "execution_count": null,
   "metadata": {
    "id": "fr2pyQL6_eEU"
   },
   "outputs": [],
   "source": [
    "# ---------------------------\n",
    "# Evaluate FaithfulnessCorrelation with Quantus using SHAP attributions\n",
    "# ---------------------------\n",
    "# Ensure y_test is of integer type\n",
    "y_test_int = y_test_np.astype(np.int64)"
   ]
  },
  {
   "cell_type": "code",
   "execution_count": null,
   "metadata": {
    "colab": {
     "base_uri": "https://localhost:8080/",
     "height": 104,
     "referenced_widgets": [
      "7c4dc715509d4caba0598711d26b312f",
      "8416e4ca7d6e4ec39e8606073298d0cf",
      "bed2c3c2db6145ae8d9657e0f33cd309",
      "5376f43db1704633b133b028dc22b666",
      "6147bffd92b142efa58bdee55e58a9a5",
      "e758e30d90e642e1be2aec3a4da06e25",
      "31839138022148739b27c4d8f128f223",
      "c1d676da239944dc8a57de7a0be59e1a",
      "36f39be5e47d49dfabfe9ccf980f8e83",
      "7c768b243781404e9a3db4afb5706ee4",
      "170ed9cb1257480d9f8c3a5472976f43"
     ]
    },
    "executionInfo": {
     "elapsed": 53,
     "status": "ok",
     "timestamp": 1747751075722,
     "user": {
      "displayName": "Hung Thanh Do",
      "userId": "14602254202234053172"
     },
     "user_tz": -120
    },
    "id": "lwG5mcVr_eEV",
    "outputId": "58438209-5d44-4e02-c861-56c212d91602"
   },
   "outputs": [
    {
     "data": {
      "application/vnd.jupyter.widget-view+json": {
       "model_id": "7c4dc715509d4caba0598711d26b312f",
       "version_major": 2,
       "version_minor": 0
      },
      "text/plain": [
       "  0%|          | 0/2.0 [00:00<?, ?it/s]"
      ]
     },
     "metadata": {},
     "output_type": "display_data"
    },
    {
     "name": "stdout",
     "output_type": "stream",
     "text": [
      "Complexity: Complexity by Bhatt et al., 2020.\n",
      "\n",
      " • SHAP =  0.6131589462015729\n"
     ]
    }
   ],
   "source": [
    "# Apply Complexity metric using SHAP attributions\n",
    "Complexity_shap = quantus.Complexity(\n",
    "    normalise=False,\n",
    "    abs=True,  # Take absolute values of attributions\n",
    "    disable_warnings=True,\n",
    "    display_progressbar=True,\n",
    "    aggregate_func=np.mean,  # Compute mean complexity over all samples\n",
    ")(\n",
    "    model=xgb_wrapped_model,\n",
    "    x_batch=X_test_np,\n",
    "    y_batch=y_test_int,\n",
    "    a_batch=xgb_shap_values,   # use SHAP attributions computed above\n",
    "    explain_func=None      # explanations are precomputed\n",
    ")\n",
    "\n",
    "# Scale to 0-1\n",
    "Complexity_shap = (Complexity_shap - min(Complexity_shap)) / (\n",
    "    max(Complexity_shap) - min(Complexity_shap)\n",
    ")\n",
    "\n",
    "# Find mean\n",
    "Complexity_shap = np.mean(Complexity_shap)\n",
    "\n",
    "print(\n",
    "    f\"Complexity: Complexity by Bhatt et al., 2020.\\n\"\n",
    "    f\"\\n • SHAP = \",\n",
    "    Complexity_shap,\n",
    ")"
   ]
  },
  {
   "cell_type": "code",
   "execution_count": null,
   "metadata": {
    "colab": {
     "base_uri": "https://localhost:8080/",
     "height": 104,
     "referenced_widgets": [
      "3f2b535057cf41eb9f0de436e54c86a7",
      "fb247c4ce903435c833840629f25507a",
      "b0c2f4d70e3c4615bdbd56dc93166b87",
      "75b7689b6bd94d108be32f2478d60a13",
      "016c77a2882049c1a66ff4d01cd6b745",
      "8b129bf8936f45498cee545eedb2ead7",
      "315ab21ab96d4572b9864a419767e187",
      "0584fa70d0124b59ac4bf9f2d96f694c",
      "54b2783f2b984c4c9b31ccb15bb40c8b",
      "cddbd634e31a45b7b6b89df51b5339d0",
      "f62973712a1946f7981ba2ade2ae2c51"
     ]
    },
    "executionInfo": {
     "elapsed": 98,
     "status": "ok",
     "timestamp": 1747751075822,
     "user": {
      "displayName": "Hung Thanh Do",
      "userId": "14602254202234053172"
     },
     "user_tz": -120
    },
    "id": "4xGcnq-J_eEV",
    "outputId": "7be15bee-f7d7-4840-f595-3467dbe996be"
   },
   "outputs": [
    {
     "data": {
      "application/vnd.jupyter.widget-view+json": {
       "model_id": "3f2b535057cf41eb9f0de436e54c86a7",
       "version_major": 2,
       "version_minor": 0
      },
      "text/plain": [
       "  0%|          | 0/2.0 [00:00<?, ?it/s]"
      ]
     },
     "metadata": {},
     "output_type": "display_data"
    },
    {
     "name": "stdout",
     "output_type": "stream",
     "text": [
      "Complexity: Sparseness by Chalasani et al., 2020.\n",
      "\n",
      " • SHAP =  [np.float64(0.6748859132577936)]\n"
     ]
    }
   ],
   "source": [
    "Sparseness_shap = quantus.Sparseness(\n",
    "    normalise=False,\n",
    "    abs=True, # take absolute values of attributions\n",
    "    disable_warnings=True,\n",
    "    display_progressbar=True,\n",
    "    return_aggregate=True, # find the mean of the complexity from all samples\n",
    "    aggregate_func=np.mean,\n",
    ")(\n",
    "    model=xgb_wrapped_model,\n",
    "    x_batch=X_test_np,\n",
    "    y_batch=y_test_int,\n",
    "    a_batch=xgb_shap_values,   # use SHAP attributions computed above\n",
    "    explain_func=None      # explanations are precomputed\n",
    ")\n",
    "\n",
    "# Already scaled to 0-1 -> keep aggregated (mean)\n",
    "\n",
    "print(\n",
    "    f\"Complexity: Sparseness by Chalasani et al., 2020.\\n\"\n",
    "    f\"\\n • SHAP = \",\n",
    "    Sparseness_shap,\n",
    ")"
   ]
  },
  {
   "cell_type": "code",
   "execution_count": null,
   "metadata": {
    "colab": {
     "base_uri": "https://localhost:8080/",
     "height": 104,
     "referenced_widgets": [
      "e98874640ac74303bf6f26c4775b43ec",
      "841d65544db3442ab3077434e45a9ecc",
      "33278e8f5398424894c9fb54900bdfaa",
      "18dfcef722e74951b3f11adff4f99422",
      "fb696a52a1f64258be8202c5f45d804e",
      "531538971ff04ba791aef8d3572e286d",
      "61e4b2b8a200446fb15bde18851633cb",
      "6f923a11806941c5ae915c5a15cb0f19",
      "af157ab559e047138fbc56d9b17a5949",
      "f3ce4f444de24ee5ad5181ebb834c6aa",
      "8a2e8c6c680644ac875c85a5ee7e95f4"
     ]
    },
    "executionInfo": {
     "elapsed": 1417,
     "status": "ok",
     "timestamp": 1747751077240,
     "user": {
      "displayName": "Hung Thanh Do",
      "userId": "14602254202234053172"
     },
     "user_tz": -120
    },
    "id": "OIn6sPnK_eEV",
    "outputId": "1cfa49aa-89a5-4eea-ceae-991bae602b5d"
   },
   "outputs": [
    {
     "data": {
      "application/vnd.jupyter.widget-view+json": {
       "model_id": "e98874640ac74303bf6f26c4775b43ec",
       "version_major": 2,
       "version_minor": 0
      },
      "text/plain": [
       "  0%|          | 0/2.0 [00:00<?, ?it/s]"
      ]
     },
     "metadata": {},
     "output_type": "display_data"
    },
    {
     "name": "stdout",
     "output_type": "stream",
     "text": [
      "Faithfulness: Faithfulness Correlation by Bhatt et al., 2020.\n",
      "\n",
      " • SHAP =  0.5655416284690642\n"
     ]
    }
   ],
   "source": [
    "FaithfulnessCorrelation_shap = quantus.FaithfulnessCorrelation(\n",
    "    perturb_baseline=\"white\",\n",
    "    perturb_func=quantus.baseline_replacement_by_indices,\n",
    "    subset_size=5, # features to perturb\n",
    "    nr_runs=10,\n",
    "    similarity_func=quantus.similarity_func.correlation_pearson,\n",
    "    abs=True, # take absolute values of attributions\n",
    "    normalise=False, # do not normalise ohe data\n",
    "    return_aggregate=False, # (not) output 1 val instead of list of vals for all samples\n",
    "    aggregate_func=np.mean,\n",
    "    disable_warnings=True,\n",
    "    display_progressbar=True,\n",
    ")(\n",
    "    model=xgb_wrapped_model,\n",
    "    x_batch=X_test_np,\n",
    "    y_batch=y_test_int,\n",
    "    a_batch=xgb_shap_values,   # use SHAP attributions computed above\n",
    "    explain_func=None      # explanations are precomputed\n",
    ")\n",
    "\n",
    "# Scale to 0-1\n",
    "FaithfulnessCorrelation_shap = (FaithfulnessCorrelation_shap - np.min(FaithfulnessCorrelation_shap)) / (\n",
    "    np.max(FaithfulnessCorrelation_shap) - np.min(FaithfulnessCorrelation_shap)\n",
    ")\n",
    "\n",
    "# Find mean\n",
    "FaithfulnessCorrelation_shap = np.mean(FaithfulnessCorrelation_shap)\n",
    "\n",
    "print(\n",
    "    f\"Faithfulness: Faithfulness Correlation by Bhatt et al., 2020.\\n\"\n",
    "    f\"\\n • SHAP = \",\n",
    "    FaithfulnessCorrelation_shap,\n",
    ")"
   ]
  },
  {
   "cell_type": "code",
   "execution_count": null,
   "metadata": {
    "colab": {
     "base_uri": "https://localhost:8080/",
     "height": 104,
     "referenced_widgets": [
      "7fa5e5a43dc34a128070754ebfc951c5",
      "32487928b68445debdeeb0bffcfafb02",
      "5e98a05eb5c64f8eab8fbf6664a195e0",
      "288ef6a93d734c90bcfb27557071fbdf",
      "3390886f305e4504b1dad3a9ed2193a8",
      "9632d8e705b4466b8641453bb4037f85",
      "0e8cc8b06f7c4fc19c13557d29b378ad",
      "5e00f725c49d43ef9701ee71750072dc",
      "4babb85b2148472b809d8e73a8cb0e43",
      "4e466d4d728d43139ccc4f5e4343c971",
      "85539ea0d40848479a5a5675f8ccbf3c"
     ]
    },
    "executionInfo": {
     "elapsed": 4270,
     "status": "ok",
     "timestamp": 1747751081513,
     "user": {
      "displayName": "Hung Thanh Do",
      "userId": "14602254202234053172"
     },
     "user_tz": -120
    },
    "id": "boJ9TJcE_eEV",
    "outputId": "ad05b31e-19b7-4aee-b539-492f66739a29"
   },
   "outputs": [
    {
     "data": {
      "application/vnd.jupyter.widget-view+json": {
       "model_id": "7fa5e5a43dc34a128070754ebfc951c5",
       "version_major": 2,
       "version_minor": 0
      },
      "text/plain": [
       "  0%|          | 0/2.0 [00:00<?, ?it/s]"
      ]
     },
     "metadata": {},
     "output_type": "display_data"
    },
    {
     "name": "stdout",
     "output_type": "stream",
     "text": [
      "Faithfulness: Faithfulness Estimate by Alvarez-Melis et al., 2018.\n",
      "\n",
      " • SHAP =  0.63055503458849\n"
     ]
    }
   ],
   "source": [
    "FaithfulnessEstimate_shap = quantus.FaithfulnessEstimate(\n",
    "    perturb_baseline=\"white\",\n",
    "    perturb_func=quantus.baseline_replacement_by_indices,\n",
    "    features_in_step=1, # features to perturb\n",
    "    similarity_func=quantus.similarity_func.correlation_pearson,\n",
    "    abs=True, # take absolute values of attributions\n",
    "    normalise=False, # do not normalise ohe data\n",
    "    return_aggregate=False, # (not) output 1 val instead of list of vals for all samples\n",
    "    aggregate_func=np.mean,\n",
    "    disable_warnings=True,\n",
    "    display_progressbar=True,\n",
    ")(\n",
    "    model=xgb_wrapped_model,\n",
    "    x_batch=X_test_np,\n",
    "    y_batch=y_test_int,\n",
    "    a_batch=xgb_shap_values,   # use SHAP attributions computed above\n",
    "    explain_func=None      # explanations are precomputed\n",
    ")\n",
    "\n",
    "# Scale to 0-1\n",
    "FaithfulnessEstimate_shap = (FaithfulnessEstimate_shap - np.min(FaithfulnessEstimate_shap)) / (\n",
    "    np.max(FaithfulnessEstimate_shap) - np.min(FaithfulnessEstimate_shap)\n",
    ")\n",
    "\n",
    "# Find mean\n",
    "FaithfulnessEstimate_shap = np.mean(FaithfulnessEstimate_shap)\n",
    "\n",
    "print(\n",
    "    f\"Faithfulness: Faithfulness Estimate by Alvarez-Melis et al., 2018.\\n\"\n",
    "    f\"\\n • SHAP = \",\n",
    "    FaithfulnessEstimate_shap,\n",
    ")"
   ]
  },
  {
   "cell_type": "code",
   "execution_count": null,
   "metadata": {
    "colab": {
     "base_uri": "https://localhost:8080/",
     "height": 104,
     "referenced_widgets": [
      "f9f02505d9664023a9ea6e8d790f9a06",
      "b2512b8573af487e9dac3b45b5b064aa",
      "989d698149124a1dac9522044d9c63a8",
      "bfc31bb801a84ee3a806859a94232b8f",
      "5b8502b4ed4d4fb29c6eddcd5edb2a67",
      "8ff68353b4704ea6a55db06fbea39fe2",
      "4da0f29ef7a54128b8b806644968fadd",
      "9f76753118ce4e34ba474ea7a4ff28a7",
      "78e761b0299741d9b63a0380ea74a6a7",
      "62f8c9768432441e882c510a2cc2a71a",
      "f2a5449543214caeb8768e5555a664d7"
     ]
    },
    "executionInfo": {
     "elapsed": 7626,
     "status": "ok",
     "timestamp": 1747751089144,
     "user": {
      "displayName": "Hung Thanh Do",
      "userId": "14602254202234053172"
     },
     "user_tz": -120
    },
    "id": "UTCx4vW0_eEW",
    "outputId": "347a6321-15d4-4c7a-f50d-3824fc808337"
   },
   "outputs": [
    {
     "data": {
      "application/vnd.jupyter.widget-view+json": {
       "model_id": "f9f02505d9664023a9ea6e8d790f9a06",
       "version_major": 2,
       "version_minor": 0
      },
      "text/plain": [
       "  0%|          | 0/2.0 [00:00<?, ?it/s]"
      ]
     },
     "metadata": {},
     "output_type": "display_data"
    },
    {
     "name": "stdout",
     "output_type": "stream",
     "text": [
      "Robustness: Local Lipschitz Estimate by Alvarez-Melis et al., 2018.\n",
      "\n",
      " • SHAP =  0.5099162518926775\n"
     ]
    }
   ],
   "source": [
    "LocalLipschitzEstimate_shap = quantus.LocalLipschitzEstimate(\n",
    "    normalise=False,\n",
    "    abs=True, # take absolute values of attributions\n",
    "    nr_samples = 20,\n",
    "    disable_warnings=True,\n",
    "    display_progressbar=True,\n",
    "    # return_aggregate=True, # find the mean of the complexity from all samples\n",
    "    aggregate_func=np.mean,\n",
    ")(\n",
    "    model=xgb_wrapped_model,\n",
    "    x_batch=X_test_np,\n",
    "    y_batch=y_test_int,\n",
    "    # a_batch=shap_values,   # use SHAP attributions computed above\n",
    "    # explain_func=None      # explanations are precomputed\n",
    "    a_batch=None,\n",
    "    explain_func=quantus.explain,\n",
    "    explain_func_kwargs={\"method\": \"DeepLiftShap\", \"reduce_axes\": ()},\n",
    "    # explain_func_kwargs={\"method\": \"GradientShap\", \"reduce_axes\": ()},\n",
    ")\n",
    "\n",
    "# Scale to 0-1\n",
    "LocalLipschitzEstimate_shap = (LocalLipschitzEstimate_shap - np.min(LocalLipschitzEstimate_shap)) / (\n",
    "    np.max(LocalLipschitzEstimate_shap) - np.min(LocalLipschitzEstimate_shap)\n",
    ")\n",
    "\n",
    "# Find mean\n",
    "LocalLipschitzEstimate_shap = np.mean(LocalLipschitzEstimate_shap)\n",
    "\n",
    "print(\n",
    "    f\"Robustness: Local Lipschitz Estimate by Alvarez-Melis et al., 2018.\\n\"\n",
    "    f\"\\n • SHAP = \",\n",
    "    LocalLipschitzEstimate_shap,\n",
    ")"
   ]
  },
  {
   "cell_type": "code",
   "execution_count": null,
   "metadata": {
    "colab": {
     "base_uri": "https://localhost:8080/",
     "height": 104,
     "referenced_widgets": [
      "f2403ff1229e4c9b9f3b1c4bd6b6289b",
      "b9b186d365524e079aaffd4a4b89b752",
      "642fcadd48c14840985a0e614f535186",
      "5e1c3ad92e92404a93c3b71801115f4f",
      "79ca3e08130048b4b9aa4e54079de58e",
      "1852f3a800dd49cb804d0d7c0e3fd83d",
      "7936a4841dfb42a996d5017a6820d815",
      "892f84fe475f4d35b20faf91c24812cf",
      "e585acec96364207b7fdb991b935348a",
      "8d420bd3dd9a4cca9a3b5fc966d1d5c2",
      "177f6bcffbfa4c46a224a10d709ba152"
     ]
    },
    "executionInfo": {
     "elapsed": 339,
     "status": "ok",
     "timestamp": 1747751089483,
     "user": {
      "displayName": "Hung Thanh Do",
      "userId": "14602254202234053172"
     },
     "user_tz": -120
    },
    "id": "gXI38Ary_eEW",
    "outputId": "ed534a27-aedf-413e-84d8-10e0f0f6e683"
   },
   "outputs": [
    {
     "data": {
      "application/vnd.jupyter.widget-view+json": {
       "model_id": "f2403ff1229e4c9b9f3b1c4bd6b6289b",
       "version_major": 2,
       "version_minor": 0
      },
      "text/plain": [
       "  0%|          | 0/2.0 [00:00<?, ?it/s]"
      ]
     },
     "metadata": {},
     "output_type": "display_data"
    },
    {
     "name": "stdout",
     "output_type": "stream",
     "text": [
      "Randomisation: RandomLogit scores by Sixt et al., 2020.\n",
      "\n",
      " • SHAP =  [np.float64(1.0)]\n"
     ]
    }
   ],
   "source": [
    "RandomLogit_shap = quantus.RandomLogit(\n",
    "    num_classes=2,\n",
    "    disable_warnings=True,\n",
    "    normalise=False,\n",
    "    abs=True, # take absolute values of attributions\n",
    "    display_progressbar=True,\n",
    "    return_aggregate=True, # find the mean of the complexity from all samples\n",
    "    aggregate_func=np.mean,\n",
    ")(\n",
    "    model=xgb_wrapped_model,\n",
    "    x_batch=X_test_np,\n",
    "    y_batch=y_test_int,\n",
    "    # a_batch=shap_values,   # use SHAP attributions computed above\n",
    "    # explain_func=None      # explanations are precomputed\n",
    "    a_batch=None,\n",
    "    explain_func=quantus.explain,\n",
    "    explain_func_kwargs={\"method\": \"GradientShap\", \"reduce_axes\": ()},\n",
    ")\n",
    "\n",
    "# Already scaled to 0-1 -> keep aggregated (mean)\n",
    "\n",
    "print(\n",
    "    f\"Randomisation: RandomLogit scores by Sixt et al., 2020.\\n\"\n",
    "    f\"\\n • SHAP = \",\n",
    "    RandomLogit_shap,\n",
    ")"
   ]
  },
  {
   "cell_type": "code",
   "execution_count": null,
   "metadata": {
    "colab": {
     "base_uri": "https://localhost:8080/",
     "height": 104,
     "referenced_widgets": [
      "10f408716e5645bb8fc860ad3ac0a626",
      "390e41b2ba9b4e699ec1aa780ceef981",
      "ca008f34b75d4d12b0e51a21e09dec8d",
      "72abf0ef913d471d8555a9d08f4c44d6",
      "2d19d47b57394e0087e5ca8da3fe800c",
      "59499526a06148b1aa9854e495688612",
      "837b3e34199b46fbb0a76c1fb7cda4b5",
      "77bf59e0c9af425aa8d51cb3672c25eb",
      "d380b41dfc4c4df0b8ef4e71ae0e91ff",
      "da2c89a6885441f7beadacc589b79f10",
      "1f76fe897dfa4f818cc5b3eaeff8f547"
     ]
    },
    "executionInfo": {
     "elapsed": 204,
     "status": "ok",
     "timestamp": 1747751089688,
     "user": {
      "displayName": "Hung Thanh Do",
      "userId": "14602254202234053172"
     },
     "user_tz": -120
    },
    "id": "5kyPf2Qr_eEW",
    "outputId": "6c55d3d3-95ad-461f-b8ad-0298b9be9bcd"
   },
   "outputs": [
    {
     "data": {
      "application/vnd.jupyter.widget-view+json": {
       "model_id": "10f408716e5645bb8fc860ad3ac0a626",
       "version_major": 2,
       "version_minor": 0
      },
      "text/plain": [
       "  0%|          | 0/100 [00:00<?, ?it/s]"
      ]
     },
     "metadata": {},
     "output_type": "display_data"
    },
    {
     "name": "stdout",
     "output_type": "stream",
     "text": [
      "Randomisation: MPRT scores by Adebayo et al., 2018\n",
      "\n",
      " • SHAP =  0.9044467548021722\n"
     ]
    }
   ],
   "source": [
    "MPRT_shap = quantus.MPRT(\n",
    "    # similarity_func=quantus.similarity_func.correlation_spearman,\n",
    "    return_average_correlation=True,\n",
    "    # return_aggregate=True, # find the mean of the complexity from all samples\n",
    "    aggregate_func=np.mean,\n",
    "    layer_order=\"independent\",\n",
    "    similarity_func=quantus.ssim,\n",
    "    disable_warnings=True,\n",
    "    normalise=False,\n",
    "    abs=True, # take absolute values of attributions\n",
    "    display_progressbar=True,\n",
    ")(\n",
    "    model=xgb_wrapped_model,\n",
    "    x_batch=X_test_np,\n",
    "    y_batch=y_test_int,\n",
    "    # a_batch=shap_values,   # use SHAP attributions computed above\n",
    "    # explain_func=None      # explanations are precomputed\n",
    "    a_batch=None,\n",
    "    explain_func=quantus.explain,\n",
    "    explain_func_kwargs={\"method\": \"GradientShap\", \"reduce_axes\": ()},\n",
    ")\n",
    "\n",
    "# Scale to 0-1\n",
    "MPRT_shap = (MPRT_shap - np.min(MPRT_shap)) / (\n",
    "    np.max(MPRT_shap) - np.min(MPRT_shap)\n",
    ")\n",
    "\n",
    "# Find mean\n",
    "MPRT_shap = np.mean(MPRT_shap)\n",
    "\n",
    "print(\n",
    "    f\"Randomisation: MPRT scores by Adebayo et al., 2018\\n\"\n",
    "    f\"\\n • SHAP = \",\n",
    "    MPRT_shap,\n",
    ")"
   ]
  },
  {
   "cell_type": "code",
   "execution_count": null,
   "metadata": {
    "colab": {
     "base_uri": "https://localhost:8080/"
    },
    "executionInfo": {
     "elapsed": 8,
     "status": "ok",
     "timestamp": 1747751089695,
     "user": {
      "displayName": "Hung Thanh Do",
      "userId": "14602254202234053172"
     },
     "user_tz": -120
    },
    "id": "YaIyxCtx_eEW",
    "outputId": "d3079a2f-6a0b-4cae-8582-c20fa6a8f1dc"
   },
   "outputs": [
    {
     "name": "stderr",
     "output_type": "stream",
     "text": [
      "<ipython-input-223-acd3cc85ebb0>:12: DeprecationWarning: Conversion of an array with ndim > 0 to a scalar is deprecated, and will error in future. Ensure you extract a single element from your array before performing this operation. (Deprecated NumPy 1.25.)\n",
      "  Sparseness_shap = round(float(Sparseness_shap), 4)\n",
      "<ipython-input-223-acd3cc85ebb0>:14: DeprecationWarning: Conversion of an array with ndim > 0 to a scalar is deprecated, and will error in future. Ensure you extract a single element from your array before performing this operation. (Deprecated NumPy 1.25.)\n",
      "  RandomLogit_shap = round(float(RandomLogit_shap), 4)\n"
     ]
    }
   ],
   "source": [
    "# Convert from list to int\n",
    "Complexity_shap = np.float64(Complexity_shap)\n",
    "Sparseness_shap = np.float64(Sparseness_shap)\n",
    "MPRT_shap = np.float64(MPRT_shap)\n",
    "RandomLogit_shap = np.float64(RandomLogit_shap)\n",
    "FaithfulnessEstimate_shap = np.float64(FaithfulnessEstimate_shap)\n",
    "FaithfulnessCorrelation_shap = np.float64(FaithfulnessCorrelation_shap)\n",
    "LocalLipschitzEstimate_shap = np.float64(LocalLipschitzEstimate_shap)\n",
    "\n",
    "# Rounding one by one\n",
    "Complexity_shap = round(float(Complexity_shap), 4)\n",
    "Sparseness_shap = round(float(Sparseness_shap), 4)\n",
    "MPRT_shap = round(float(MPRT_shap), 4)\n",
    "RandomLogit_shap = round(float(RandomLogit_shap), 4)\n",
    "FaithfulnessEstimate_shap = round(float(FaithfulnessEstimate_shap), 4)\n",
    "FaithfulnessCorrelation_shap = round(float(FaithfulnessCorrelation_shap), 4)\n",
    "LocalLipschitzEstimate_shap = round(float(LocalLipschitzEstimate_shap), 4)"
   ]
  },
  {
   "cell_type": "code",
   "execution_count": null,
   "metadata": {
    "colab": {
     "base_uri": "https://localhost:8080/",
     "height": 439
    },
    "executionInfo": {
     "elapsed": 2,
     "status": "ok",
     "timestamp": 1747751089699,
     "user": {
      "displayName": "Hung Thanh Do",
      "userId": "14602254202234053172"
     },
     "user_tz": -120
    },
    "id": "-uMFG5Uy_eEW",
    "outputId": "6fcb6971-9443-4c1e-9277-86e0e882a494"
   },
   "outputs": [
    {
     "data": {
      "text/markdown": [
       "#### Explanability scores"
      ],
      "text/plain": [
       "<IPython.core.display.Markdown object>"
      ]
     },
     "metadata": {},
     "output_type": "display_data"
    },
    {
     "name": "stdout",
     "output_type": "stream",
     "text": [
      "Complexity: Complexity by Bhatt et al., 2020.\n",
      "\n",
      " • SHAP =  0.6132\n",
      "Complexity: Sparseness by Chalasani et al., 2020.\n",
      "\n",
      " • SHAP =  0.6749\n",
      "Faithfulness: Faithfulness Estimate by Alvarez-Melis et al., 2018.\n",
      "\n",
      " • SHAP =  0.6306\n",
      "Faithfulness: Faithfulness Correlation by Bhatt et al., 2020.\n",
      "\n",
      " • SHAP =  0.5655\n",
      "Robustness: Local Lipschitz Estimate by Alvarez-Melis et al., 2018.\n",
      "\n",
      " • SHAP =  0.5099\n",
      "Randomisation: MPRT scores by Adebayo et al., 2018\n",
      "\n",
      " • SHAP =  0.9044\n",
      "Randomisation: RandomLogit scores by Sixt et al., 2020.\n",
      "\n",
      " • SHAP =  1.0\n"
     ]
    }
   ],
   "source": [
    "display(Markdown(\"#### Explanability scores\"))\n",
    "\n",
    "# Complexity: Complexity\n",
    "print(\n",
    "    f\"Complexity: Complexity by Bhatt et al., 2020.\\n\"\n",
    "    f\"\\n • SHAP = \",\n",
    "    Complexity_shap,\n",
    ")\n",
    "\n",
    "# Complexity: Sparseness\n",
    "print(\n",
    "    f\"Complexity: Sparseness by Chalasani et al., 2020.\\n\"\n",
    "    f\"\\n • SHAP = \",\n",
    "    Sparseness_shap,\n",
    ")\n",
    "\n",
    "# Faithfulness: Faithfulness Estimate\n",
    "print(\n",
    "    f\"Faithfulness: Faithfulness Estimate by Alvarez-Melis et al., 2018.\\n\"\n",
    "    f\"\\n • SHAP = \",\n",
    "    FaithfulnessEstimate_shap,\n",
    ")\n",
    "\n",
    "# Faithfulness: Faithfulness Correlation\n",
    "print(\n",
    "    f\"Faithfulness: Faithfulness Correlation by Bhatt et al., 2020.\\n\"\n",
    "    f\"\\n • SHAP = \",\n",
    "    FaithfulnessCorrelation_shap,\n",
    ")\n",
    "\n",
    "# Robustness: Local Lipschitz Estimate\n",
    "print(\n",
    "    f\"Robustness: Local Lipschitz Estimate by Alvarez-Melis et al., 2018.\\n\"\n",
    "    f\"\\n • SHAP = \",\n",
    "    LocalLipschitzEstimate_shap,\n",
    ")\n",
    "\n",
    "# Randomisation: MPRT\n",
    "print(\n",
    "    f\"Randomisation: MPRT scores by Adebayo et al., 2018\\n\"\n",
    "    f\"\\n • SHAP = \",\n",
    "    MPRT_shap,\n",
    ")\n",
    "\n",
    "# Randomisation: RandomLogit\n",
    "print(\n",
    "    f\"Randomisation: RandomLogit scores by Sixt et al., 2020.\\n\"\n",
    "    f\"\\n • SHAP = \",\n",
    "    RandomLogit_shap,\n",
    ")"
   ]
  },
  {
   "cell_type": "code",
   "execution_count": null,
   "metadata": {
    "colab": {
     "base_uri": "https://localhost:8080/",
     "height": 202
    },
    "executionInfo": {
     "elapsed": 2,
     "status": "ok",
     "timestamp": 1747751089702,
     "user": {
      "displayName": "Hung Thanh Do",
      "userId": "14602254202234053172"
     },
     "user_tz": -120
    },
    "id": "ZS12vTOj_eEW",
    "outputId": "ca3047f4-f548-4e1a-e8f8-eda24578cdac"
   },
   "outputs": [
    {
     "data": {
      "text/markdown": [
       "#### Explanability scores (grouped)"
      ],
      "text/plain": [
       "<IPython.core.display.Markdown object>"
      ]
     },
     "metadata": {},
     "output_type": "display_data"
    },
    {
     "name": "stdout",
     "output_type": "stream",
     "text": [
      "Complexity\n",
      " • SHAP =  0.6441\n",
      "Faithfulness\n",
      " • SHAP =  0.598\n",
      "Robustness\n",
      " • SHAP =  0.5099\n",
      "Randomisation\n",
      " • SHAP =  0.9522\n"
     ]
    }
   ],
   "source": [
    "display(Markdown(\"#### Explanability scores (grouped)\"))\n",
    "\n",
    "# Complexity: Complexity and Sparseness\n",
    "print(\n",
    "    f\"Complexity\"\n",
    "    f\"\\n • SHAP = \",\n",
    "    round(float((Complexity_shap+Sparseness_shap)/2), 4),\n",
    ")\n",
    "\n",
    "# Faithfulness: Faithfulness Estimate and Faithfulness Correlation\n",
    "print(\n",
    "    f\"Faithfulness\"\n",
    "    f\"\\n • SHAP = \",\n",
    "    round(float((FaithfulnessEstimate_shap+FaithfulnessCorrelation_shap)/2), 4),\n",
    ")\n",
    "\n",
    "# Robustness: Local Lipschitz Estimate\n",
    "print(\n",
    "    f\"Robustness\"\n",
    "    f\"\\n • SHAP = \",\n",
    "    round(float((LocalLipschitzEstimate_shap)), 4),\n",
    ")\n",
    "\n",
    "# Randomisation: MPRT and RandomLogit\n",
    "print(\n",
    "    f\"Randomisation\"\n",
    "    f\"\\n • SHAP = \",\n",
    "    round(float((MPRT_shap+RandomLogit_shap)/2), 4)\n",
    ")"
   ]
  },
  {
   "cell_type": "markdown",
   "metadata": {
    "id": "ziC69TZvyq9R"
   },
   "source": [
    "## MLP"
   ]
  },
  {
   "cell_type": "markdown",
   "metadata": {
    "id": "ski0Oztn50hc"
   },
   "source": [
    "### SHAP"
   ]
  },
  {
   "cell_type": "code",
   "execution_count": null,
   "metadata": {
    "colab": {
     "base_uri": "https://localhost:8080/"
    },
    "executionInfo": {
     "elapsed": 12,
     "status": "ok",
     "timestamp": 1747748247650,
     "user": {
      "displayName": "Hung Thanh Do",
      "userId": "14602254202234053172"
     },
     "user_tz": -120
    },
    "id": "xVA5e6l455wU",
    "outputId": "8289c9b0-a17c-4d24-dce1-ffde89ef219c"
   },
   "outputs": [
    {
     "name": "stderr",
     "output_type": "stream",
     "text": [
      "/usr/local/lib/python3.11/dist-packages/sklearn/utils/validation.py:2739: UserWarning: X does not have valid feature names, but MLPClassifier was fitted with feature names\n",
      "  warnings.warn(\n"
     ]
    }
   ],
   "source": [
    "# Define a prediction function for SHAP that returns the probability for class 1\n",
    "def f_shap_mlp(X):\n",
    "    X = np.atleast_2d(X)\n",
    "    return mlp_model.predict_proba(X)[:, 1]  # Return probability for class 1\n",
    "\n",
    "# Use a subset of test data as background\n",
    "background_mlp = X_test_np[:100]\n",
    "mlp_explainer = shap.KernelExplainer(f_shap_mlp, background_mlp)"
   ]
  },
  {
   "cell_type": "code",
   "execution_count": null,
   "metadata": {
    "colab": {
     "base_uri": "https://localhost:8080/",
     "height": 1000,
     "referenced_widgets": [
      "7a069a343a6c4d748e996616169a2c43",
      "78430b168c624b869d88f99d0ee882c3",
      "f4628a69a1004c92876a197cc4cded22",
      "2603ada99f1f49b093ea045636b499b8",
      "aa989db017e848b196ccc9d19a1c85d9",
      "64b68927a0084e3ea85d961e99725ded",
      "8462353537a94be3826b1783c4224aec",
      "900a06764bf045aeacb450ebe6658612",
      "889892f7be2d4bccb796ac0e40e01100",
      "f0bffe4981a24b5c904581f7d6a360ae",
      "13775912e15d49b79512fc0c97a0fb76"
     ]
    },
    "collapsed": true,
    "executionInfo": {
     "elapsed": 1846,
     "status": "ok",
     "timestamp": 1747748270506,
     "user": {
      "displayName": "Hung Thanh Do",
      "userId": "14602254202234053172"
     },
     "user_tz": -120
    },
    "id": "dvqkJLRr58LS",
    "outputId": "035b2e2a-a5cd-4c77-debe-c32977a17544"
   },
   "outputs": [
    {
     "data": {
      "application/vnd.jupyter.widget-view+json": {
       "model_id": "7a069a343a6c4d748e996616169a2c43",
       "version_major": 2,
       "version_minor": 0
      },
      "text/plain": [
       "  0%|          | 0/100 [00:00<?, ?it/s]"
      ]
     },
     "metadata": {},
     "output_type": "display_data"
    },
    {
     "name": "stderr",
     "output_type": "stream",
     "text": [
      "/usr/local/lib/python3.11/dist-packages/sklearn/utils/validation.py:2739: UserWarning: X does not have valid feature names, but MLPClassifier was fitted with feature names\n",
      "  warnings.warn(\n",
      "/usr/local/lib/python3.11/dist-packages/sklearn/utils/validation.py:2739: UserWarning: X does not have valid feature names, but MLPClassifier was fitted with feature names\n",
      "  warnings.warn(\n",
      "/usr/local/lib/python3.11/dist-packages/sklearn/utils/validation.py:2739: UserWarning: X does not have valid feature names, but MLPClassifier was fitted with feature names\n",
      "  warnings.warn(\n",
      "/usr/local/lib/python3.11/dist-packages/sklearn/utils/validation.py:2739: UserWarning: X does not have valid feature names, but MLPClassifier was fitted with feature names\n",
      "  warnings.warn(\n",
      "/usr/local/lib/python3.11/dist-packages/sklearn/utils/validation.py:2739: UserWarning: X does not have valid feature names, but MLPClassifier was fitted with feature names\n",
      "  warnings.warn(\n",
      "/usr/local/lib/python3.11/dist-packages/sklearn/utils/validation.py:2739: UserWarning: X does not have valid feature names, but MLPClassifier was fitted with feature names\n",
      "  warnings.warn(\n",
      "/usr/local/lib/python3.11/dist-packages/sklearn/utils/validation.py:2739: UserWarning: X does not have valid feature names, but MLPClassifier was fitted with feature names\n",
      "  warnings.warn(\n",
      "/usr/local/lib/python3.11/dist-packages/sklearn/utils/validation.py:2739: UserWarning: X does not have valid feature names, but MLPClassifier was fitted with feature names\n",
      "  warnings.warn(\n",
      "/usr/local/lib/python3.11/dist-packages/sklearn/utils/validation.py:2739: UserWarning: X does not have valid feature names, but MLPClassifier was fitted with feature names\n",
      "  warnings.warn(\n",
      "/usr/local/lib/python3.11/dist-packages/sklearn/utils/validation.py:2739: UserWarning: X does not have valid feature names, but MLPClassifier was fitted with feature names\n",
      "  warnings.warn(\n",
      "/usr/local/lib/python3.11/dist-packages/sklearn/utils/validation.py:2739: UserWarning: X does not have valid feature names, but MLPClassifier was fitted with feature names\n",
      "  warnings.warn(\n",
      "/usr/local/lib/python3.11/dist-packages/sklearn/utils/validation.py:2739: UserWarning: X does not have valid feature names, but MLPClassifier was fitted with feature names\n",
      "  warnings.warn(\n",
      "/usr/local/lib/python3.11/dist-packages/sklearn/utils/validation.py:2739: UserWarning: X does not have valid feature names, but MLPClassifier was fitted with feature names\n",
      "  warnings.warn(\n",
      "/usr/local/lib/python3.11/dist-packages/sklearn/utils/validation.py:2739: UserWarning: X does not have valid feature names, but MLPClassifier was fitted with feature names\n",
      "  warnings.warn(\n",
      "/usr/local/lib/python3.11/dist-packages/sklearn/utils/validation.py:2739: UserWarning: X does not have valid feature names, but MLPClassifier was fitted with feature names\n",
      "  warnings.warn(\n",
      "/usr/local/lib/python3.11/dist-packages/sklearn/utils/validation.py:2739: UserWarning: X does not have valid feature names, but MLPClassifier was fitted with feature names\n",
      "  warnings.warn(\n",
      "/usr/local/lib/python3.11/dist-packages/sklearn/utils/validation.py:2739: UserWarning: X does not have valid feature names, but MLPClassifier was fitted with feature names\n",
      "  warnings.warn(\n",
      "/usr/local/lib/python3.11/dist-packages/sklearn/utils/validation.py:2739: UserWarning: X does not have valid feature names, but MLPClassifier was fitted with feature names\n",
      "  warnings.warn(\n",
      "/usr/local/lib/python3.11/dist-packages/sklearn/utils/validation.py:2739: UserWarning: X does not have valid feature names, but MLPClassifier was fitted with feature names\n",
      "  warnings.warn(\n",
      "/usr/local/lib/python3.11/dist-packages/sklearn/utils/validation.py:2739: UserWarning: X does not have valid feature names, but MLPClassifier was fitted with feature names\n",
      "  warnings.warn(\n",
      "/usr/local/lib/python3.11/dist-packages/sklearn/utils/validation.py:2739: UserWarning: X does not have valid feature names, but MLPClassifier was fitted with feature names\n",
      "  warnings.warn(\n",
      "/usr/local/lib/python3.11/dist-packages/sklearn/utils/validation.py:2739: UserWarning: X does not have valid feature names, but MLPClassifier was fitted with feature names\n",
      "  warnings.warn(\n",
      "/usr/local/lib/python3.11/dist-packages/sklearn/utils/validation.py:2739: UserWarning: X does not have valid feature names, but MLPClassifier was fitted with feature names\n",
      "  warnings.warn(\n",
      "/usr/local/lib/python3.11/dist-packages/sklearn/utils/validation.py:2739: UserWarning: X does not have valid feature names, but MLPClassifier was fitted with feature names\n",
      "  warnings.warn(\n",
      "/usr/local/lib/python3.11/dist-packages/sklearn/utils/validation.py:2739: UserWarning: X does not have valid feature names, but MLPClassifier was fitted with feature names\n",
      "  warnings.warn(\n",
      "/usr/local/lib/python3.11/dist-packages/sklearn/utils/validation.py:2739: UserWarning: X does not have valid feature names, but MLPClassifier was fitted with feature names\n",
      "  warnings.warn(\n",
      "/usr/local/lib/python3.11/dist-packages/sklearn/utils/validation.py:2739: UserWarning: X does not have valid feature names, but MLPClassifier was fitted with feature names\n",
      "  warnings.warn(\n",
      "/usr/local/lib/python3.11/dist-packages/sklearn/utils/validation.py:2739: UserWarning: X does not have valid feature names, but MLPClassifier was fitted with feature names\n",
      "  warnings.warn(\n",
      "/usr/local/lib/python3.11/dist-packages/sklearn/utils/validation.py:2739: UserWarning: X does not have valid feature names, but MLPClassifier was fitted with feature names\n",
      "  warnings.warn(\n",
      "/usr/local/lib/python3.11/dist-packages/sklearn/utils/validation.py:2739: UserWarning: X does not have valid feature names, but MLPClassifier was fitted with feature names\n",
      "  warnings.warn(\n",
      "/usr/local/lib/python3.11/dist-packages/sklearn/utils/validation.py:2739: UserWarning: X does not have valid feature names, but MLPClassifier was fitted with feature names\n",
      "  warnings.warn(\n",
      "/usr/local/lib/python3.11/dist-packages/sklearn/utils/validation.py:2739: UserWarning: X does not have valid feature names, but MLPClassifier was fitted with feature names\n",
      "  warnings.warn(\n",
      "/usr/local/lib/python3.11/dist-packages/sklearn/utils/validation.py:2739: UserWarning: X does not have valid feature names, but MLPClassifier was fitted with feature names\n",
      "  warnings.warn(\n",
      "/usr/local/lib/python3.11/dist-packages/sklearn/utils/validation.py:2739: UserWarning: X does not have valid feature names, but MLPClassifier was fitted with feature names\n",
      "  warnings.warn(\n",
      "/usr/local/lib/python3.11/dist-packages/sklearn/utils/validation.py:2739: UserWarning: X does not have valid feature names, but MLPClassifier was fitted with feature names\n",
      "  warnings.warn(\n",
      "/usr/local/lib/python3.11/dist-packages/sklearn/utils/validation.py:2739: UserWarning: X does not have valid feature names, but MLPClassifier was fitted with feature names\n",
      "  warnings.warn(\n",
      "/usr/local/lib/python3.11/dist-packages/sklearn/utils/validation.py:2739: UserWarning: X does not have valid feature names, but MLPClassifier was fitted with feature names\n",
      "  warnings.warn(\n",
      "/usr/local/lib/python3.11/dist-packages/sklearn/utils/validation.py:2739: UserWarning: X does not have valid feature names, but MLPClassifier was fitted with feature names\n",
      "  warnings.warn(\n",
      "/usr/local/lib/python3.11/dist-packages/sklearn/utils/validation.py:2739: UserWarning: X does not have valid feature names, but MLPClassifier was fitted with feature names\n",
      "  warnings.warn(\n",
      "/usr/local/lib/python3.11/dist-packages/sklearn/utils/validation.py:2739: UserWarning: X does not have valid feature names, but MLPClassifier was fitted with feature names\n",
      "  warnings.warn(\n",
      "/usr/local/lib/python3.11/dist-packages/sklearn/utils/validation.py:2739: UserWarning: X does not have valid feature names, but MLPClassifier was fitted with feature names\n",
      "  warnings.warn(\n",
      "/usr/local/lib/python3.11/dist-packages/sklearn/utils/validation.py:2739: UserWarning: X does not have valid feature names, but MLPClassifier was fitted with feature names\n",
      "  warnings.warn(\n",
      "/usr/local/lib/python3.11/dist-packages/sklearn/utils/validation.py:2739: UserWarning: X does not have valid feature names, but MLPClassifier was fitted with feature names\n",
      "  warnings.warn(\n",
      "/usr/local/lib/python3.11/dist-packages/sklearn/utils/validation.py:2739: UserWarning: X does not have valid feature names, but MLPClassifier was fitted with feature names\n",
      "  warnings.warn(\n",
      "/usr/local/lib/python3.11/dist-packages/sklearn/utils/validation.py:2739: UserWarning: X does not have valid feature names, but MLPClassifier was fitted with feature names\n",
      "  warnings.warn(\n",
      "/usr/local/lib/python3.11/dist-packages/sklearn/utils/validation.py:2739: UserWarning: X does not have valid feature names, but MLPClassifier was fitted with feature names\n",
      "  warnings.warn(\n",
      "/usr/local/lib/python3.11/dist-packages/sklearn/utils/validation.py:2739: UserWarning: X does not have valid feature names, but MLPClassifier was fitted with feature names\n",
      "  warnings.warn(\n",
      "/usr/local/lib/python3.11/dist-packages/sklearn/utils/validation.py:2739: UserWarning: X does not have valid feature names, but MLPClassifier was fitted with feature names\n",
      "  warnings.warn(\n",
      "/usr/local/lib/python3.11/dist-packages/sklearn/utils/validation.py:2739: UserWarning: X does not have valid feature names, but MLPClassifier was fitted with feature names\n",
      "  warnings.warn(\n",
      "/usr/local/lib/python3.11/dist-packages/sklearn/utils/validation.py:2739: UserWarning: X does not have valid feature names, but MLPClassifier was fitted with feature names\n",
      "  warnings.warn(\n",
      "/usr/local/lib/python3.11/dist-packages/sklearn/utils/validation.py:2739: UserWarning: X does not have valid feature names, but MLPClassifier was fitted with feature names\n",
      "  warnings.warn(\n",
      "/usr/local/lib/python3.11/dist-packages/sklearn/utils/validation.py:2739: UserWarning: X does not have valid feature names, but MLPClassifier was fitted with feature names\n",
      "  warnings.warn(\n",
      "/usr/local/lib/python3.11/dist-packages/sklearn/utils/validation.py:2739: UserWarning: X does not have valid feature names, but MLPClassifier was fitted with feature names\n",
      "  warnings.warn(\n",
      "/usr/local/lib/python3.11/dist-packages/sklearn/utils/validation.py:2739: UserWarning: X does not have valid feature names, but MLPClassifier was fitted with feature names\n",
      "  warnings.warn(\n",
      "/usr/local/lib/python3.11/dist-packages/sklearn/utils/validation.py:2739: UserWarning: X does not have valid feature names, but MLPClassifier was fitted with feature names\n",
      "  warnings.warn(\n",
      "/usr/local/lib/python3.11/dist-packages/sklearn/utils/validation.py:2739: UserWarning: X does not have valid feature names, but MLPClassifier was fitted with feature names\n",
      "  warnings.warn(\n",
      "/usr/local/lib/python3.11/dist-packages/sklearn/utils/validation.py:2739: UserWarning: X does not have valid feature names, but MLPClassifier was fitted with feature names\n",
      "  warnings.warn(\n",
      "/usr/local/lib/python3.11/dist-packages/sklearn/utils/validation.py:2739: UserWarning: X does not have valid feature names, but MLPClassifier was fitted with feature names\n",
      "  warnings.warn(\n",
      "/usr/local/lib/python3.11/dist-packages/sklearn/utils/validation.py:2739: UserWarning: X does not have valid feature names, but MLPClassifier was fitted with feature names\n",
      "  warnings.warn(\n",
      "/usr/local/lib/python3.11/dist-packages/sklearn/utils/validation.py:2739: UserWarning: X does not have valid feature names, but MLPClassifier was fitted with feature names\n",
      "  warnings.warn(\n",
      "/usr/local/lib/python3.11/dist-packages/sklearn/utils/validation.py:2739: UserWarning: X does not have valid feature names, but MLPClassifier was fitted with feature names\n",
      "  warnings.warn(\n",
      "/usr/local/lib/python3.11/dist-packages/sklearn/utils/validation.py:2739: UserWarning: X does not have valid feature names, but MLPClassifier was fitted with feature names\n",
      "  warnings.warn(\n",
      "/usr/local/lib/python3.11/dist-packages/sklearn/utils/validation.py:2739: UserWarning: X does not have valid feature names, but MLPClassifier was fitted with feature names\n",
      "  warnings.warn(\n",
      "/usr/local/lib/python3.11/dist-packages/sklearn/utils/validation.py:2739: UserWarning: X does not have valid feature names, but MLPClassifier was fitted with feature names\n",
      "  warnings.warn(\n",
      "/usr/local/lib/python3.11/dist-packages/sklearn/utils/validation.py:2739: UserWarning: X does not have valid feature names, but MLPClassifier was fitted with feature names\n",
      "  warnings.warn(\n",
      "/usr/local/lib/python3.11/dist-packages/sklearn/utils/validation.py:2739: UserWarning: X does not have valid feature names, but MLPClassifier was fitted with feature names\n",
      "  warnings.warn(\n",
      "/usr/local/lib/python3.11/dist-packages/sklearn/utils/validation.py:2739: UserWarning: X does not have valid feature names, but MLPClassifier was fitted with feature names\n",
      "  warnings.warn(\n",
      "/usr/local/lib/python3.11/dist-packages/sklearn/utils/validation.py:2739: UserWarning: X does not have valid feature names, but MLPClassifier was fitted with feature names\n",
      "  warnings.warn(\n",
      "/usr/local/lib/python3.11/dist-packages/sklearn/utils/validation.py:2739: UserWarning: X does not have valid feature names, but MLPClassifier was fitted with feature names\n",
      "  warnings.warn(\n",
      "/usr/local/lib/python3.11/dist-packages/sklearn/utils/validation.py:2739: UserWarning: X does not have valid feature names, but MLPClassifier was fitted with feature names\n",
      "  warnings.warn(\n",
      "/usr/local/lib/python3.11/dist-packages/sklearn/utils/validation.py:2739: UserWarning: X does not have valid feature names, but MLPClassifier was fitted with feature names\n",
      "  warnings.warn(\n",
      "/usr/local/lib/python3.11/dist-packages/sklearn/utils/validation.py:2739: UserWarning: X does not have valid feature names, but MLPClassifier was fitted with feature names\n",
      "  warnings.warn(\n",
      "/usr/local/lib/python3.11/dist-packages/sklearn/utils/validation.py:2739: UserWarning: X does not have valid feature names, but MLPClassifier was fitted with feature names\n",
      "  warnings.warn(\n",
      "/usr/local/lib/python3.11/dist-packages/sklearn/utils/validation.py:2739: UserWarning: X does not have valid feature names, but MLPClassifier was fitted with feature names\n",
      "  warnings.warn(\n",
      "/usr/local/lib/python3.11/dist-packages/sklearn/utils/validation.py:2739: UserWarning: X does not have valid feature names, but MLPClassifier was fitted with feature names\n",
      "  warnings.warn(\n",
      "/usr/local/lib/python3.11/dist-packages/sklearn/utils/validation.py:2739: UserWarning: X does not have valid feature names, but MLPClassifier was fitted with feature names\n",
      "  warnings.warn(\n",
      "/usr/local/lib/python3.11/dist-packages/sklearn/utils/validation.py:2739: UserWarning: X does not have valid feature names, but MLPClassifier was fitted with feature names\n",
      "  warnings.warn(\n",
      "/usr/local/lib/python3.11/dist-packages/sklearn/utils/validation.py:2739: UserWarning: X does not have valid feature names, but MLPClassifier was fitted with feature names\n",
      "  warnings.warn(\n",
      "/usr/local/lib/python3.11/dist-packages/sklearn/utils/validation.py:2739: UserWarning: X does not have valid feature names, but MLPClassifier was fitted with feature names\n",
      "  warnings.warn(\n",
      "/usr/local/lib/python3.11/dist-packages/sklearn/utils/validation.py:2739: UserWarning: X does not have valid feature names, but MLPClassifier was fitted with feature names\n",
      "  warnings.warn(\n",
      "/usr/local/lib/python3.11/dist-packages/sklearn/utils/validation.py:2739: UserWarning: X does not have valid feature names, but MLPClassifier was fitted with feature names\n",
      "  warnings.warn(\n",
      "/usr/local/lib/python3.11/dist-packages/sklearn/utils/validation.py:2739: UserWarning: X does not have valid feature names, but MLPClassifier was fitted with feature names\n",
      "  warnings.warn(\n",
      "/usr/local/lib/python3.11/dist-packages/sklearn/utils/validation.py:2739: UserWarning: X does not have valid feature names, but MLPClassifier was fitted with feature names\n",
      "  warnings.warn(\n",
      "/usr/local/lib/python3.11/dist-packages/sklearn/utils/validation.py:2739: UserWarning: X does not have valid feature names, but MLPClassifier was fitted with feature names\n",
      "  warnings.warn(\n",
      "/usr/local/lib/python3.11/dist-packages/sklearn/utils/validation.py:2739: UserWarning: X does not have valid feature names, but MLPClassifier was fitted with feature names\n",
      "  warnings.warn(\n",
      "/usr/local/lib/python3.11/dist-packages/sklearn/utils/validation.py:2739: UserWarning: X does not have valid feature names, but MLPClassifier was fitted with feature names\n",
      "  warnings.warn(\n",
      "/usr/local/lib/python3.11/dist-packages/sklearn/utils/validation.py:2739: UserWarning: X does not have valid feature names, but MLPClassifier was fitted with feature names\n",
      "  warnings.warn(\n",
      "/usr/local/lib/python3.11/dist-packages/sklearn/utils/validation.py:2739: UserWarning: X does not have valid feature names, but MLPClassifier was fitted with feature names\n",
      "  warnings.warn(\n",
      "/usr/local/lib/python3.11/dist-packages/sklearn/utils/validation.py:2739: UserWarning: X does not have valid feature names, but MLPClassifier was fitted with feature names\n",
      "  warnings.warn(\n",
      "/usr/local/lib/python3.11/dist-packages/sklearn/utils/validation.py:2739: UserWarning: X does not have valid feature names, but MLPClassifier was fitted with feature names\n",
      "  warnings.warn(\n",
      "/usr/local/lib/python3.11/dist-packages/sklearn/utils/validation.py:2739: UserWarning: X does not have valid feature names, but MLPClassifier was fitted with feature names\n",
      "  warnings.warn(\n",
      "/usr/local/lib/python3.11/dist-packages/sklearn/utils/validation.py:2739: UserWarning: X does not have valid feature names, but MLPClassifier was fitted with feature names\n",
      "  warnings.warn(\n",
      "/usr/local/lib/python3.11/dist-packages/sklearn/utils/validation.py:2739: UserWarning: X does not have valid feature names, but MLPClassifier was fitted with feature names\n",
      "  warnings.warn(\n",
      "/usr/local/lib/python3.11/dist-packages/sklearn/utils/validation.py:2739: UserWarning: X does not have valid feature names, but MLPClassifier was fitted with feature names\n",
      "  warnings.warn(\n",
      "/usr/local/lib/python3.11/dist-packages/sklearn/utils/validation.py:2739: UserWarning: X does not have valid feature names, but MLPClassifier was fitted with feature names\n",
      "  warnings.warn(\n",
      "/usr/local/lib/python3.11/dist-packages/sklearn/utils/validation.py:2739: UserWarning: X does not have valid feature names, but MLPClassifier was fitted with feature names\n",
      "  warnings.warn(\n",
      "/usr/local/lib/python3.11/dist-packages/sklearn/utils/validation.py:2739: UserWarning: X does not have valid feature names, but MLPClassifier was fitted with feature names\n",
      "  warnings.warn(\n",
      "/usr/local/lib/python3.11/dist-packages/sklearn/utils/validation.py:2739: UserWarning: X does not have valid feature names, but MLPClassifier was fitted with feature names\n",
      "  warnings.warn(\n",
      "/usr/local/lib/python3.11/dist-packages/sklearn/utils/validation.py:2739: UserWarning: X does not have valid feature names, but MLPClassifier was fitted with feature names\n",
      "  warnings.warn(\n",
      "/usr/local/lib/python3.11/dist-packages/sklearn/utils/validation.py:2739: UserWarning: X does not have valid feature names, but MLPClassifier was fitted with feature names\n",
      "  warnings.warn(\n",
      "/usr/local/lib/python3.11/dist-packages/sklearn/utils/validation.py:2739: UserWarning: X does not have valid feature names, but MLPClassifier was fitted with feature names\n",
      "  warnings.warn(\n",
      "/usr/local/lib/python3.11/dist-packages/sklearn/utils/validation.py:2739: UserWarning: X does not have valid feature names, but MLPClassifier was fitted with feature names\n",
      "  warnings.warn(\n",
      "/usr/local/lib/python3.11/dist-packages/sklearn/utils/validation.py:2739: UserWarning: X does not have valid feature names, but MLPClassifier was fitted with feature names\n",
      "  warnings.warn(\n",
      "/usr/local/lib/python3.11/dist-packages/sklearn/utils/validation.py:2739: UserWarning: X does not have valid feature names, but MLPClassifier was fitted with feature names\n",
      "  warnings.warn(\n",
      "/usr/local/lib/python3.11/dist-packages/sklearn/utils/validation.py:2739: UserWarning: X does not have valid feature names, but MLPClassifier was fitted with feature names\n",
      "  warnings.warn(\n",
      "/usr/local/lib/python3.11/dist-packages/sklearn/utils/validation.py:2739: UserWarning: X does not have valid feature names, but MLPClassifier was fitted with feature names\n",
      "  warnings.warn(\n",
      "/usr/local/lib/python3.11/dist-packages/sklearn/utils/validation.py:2739: UserWarning: X does not have valid feature names, but MLPClassifier was fitted with feature names\n",
      "  warnings.warn(\n",
      "/usr/local/lib/python3.11/dist-packages/sklearn/utils/validation.py:2739: UserWarning: X does not have valid feature names, but MLPClassifier was fitted with feature names\n",
      "  warnings.warn(\n",
      "/usr/local/lib/python3.11/dist-packages/sklearn/utils/validation.py:2739: UserWarning: X does not have valid feature names, but MLPClassifier was fitted with feature names\n",
      "  warnings.warn(\n",
      "/usr/local/lib/python3.11/dist-packages/sklearn/utils/validation.py:2739: UserWarning: X does not have valid feature names, but MLPClassifier was fitted with feature names\n",
      "  warnings.warn(\n",
      "/usr/local/lib/python3.11/dist-packages/sklearn/utils/validation.py:2739: UserWarning: X does not have valid feature names, but MLPClassifier was fitted with feature names\n",
      "  warnings.warn(\n",
      "/usr/local/lib/python3.11/dist-packages/sklearn/utils/validation.py:2739: UserWarning: X does not have valid feature names, but MLPClassifier was fitted with feature names\n",
      "  warnings.warn(\n",
      "/usr/local/lib/python3.11/dist-packages/sklearn/utils/validation.py:2739: UserWarning: X does not have valid feature names, but MLPClassifier was fitted with feature names\n",
      "  warnings.warn(\n",
      "/usr/local/lib/python3.11/dist-packages/sklearn/utils/validation.py:2739: UserWarning: X does not have valid feature names, but MLPClassifier was fitted with feature names\n",
      "  warnings.warn(\n",
      "/usr/local/lib/python3.11/dist-packages/sklearn/utils/validation.py:2739: UserWarning: X does not have valid feature names, but MLPClassifier was fitted with feature names\n",
      "  warnings.warn(\n",
      "/usr/local/lib/python3.11/dist-packages/sklearn/utils/validation.py:2739: UserWarning: X does not have valid feature names, but MLPClassifier was fitted with feature names\n",
      "  warnings.warn(\n",
      "/usr/local/lib/python3.11/dist-packages/sklearn/utils/validation.py:2739: UserWarning: X does not have valid feature names, but MLPClassifier was fitted with feature names\n",
      "  warnings.warn(\n",
      "/usr/local/lib/python3.11/dist-packages/sklearn/utils/validation.py:2739: UserWarning: X does not have valid feature names, but MLPClassifier was fitted with feature names\n",
      "  warnings.warn(\n",
      "/usr/local/lib/python3.11/dist-packages/sklearn/utils/validation.py:2739: UserWarning: X does not have valid feature names, but MLPClassifier was fitted with feature names\n",
      "  warnings.warn(\n",
      "/usr/local/lib/python3.11/dist-packages/sklearn/utils/validation.py:2739: UserWarning: X does not have valid feature names, but MLPClassifier was fitted with feature names\n",
      "  warnings.warn(\n",
      "/usr/local/lib/python3.11/dist-packages/sklearn/utils/validation.py:2739: UserWarning: X does not have valid feature names, but MLPClassifier was fitted with feature names\n",
      "  warnings.warn(\n",
      "/usr/local/lib/python3.11/dist-packages/sklearn/utils/validation.py:2739: UserWarning: X does not have valid feature names, but MLPClassifier was fitted with feature names\n",
      "  warnings.warn(\n",
      "/usr/local/lib/python3.11/dist-packages/sklearn/utils/validation.py:2739: UserWarning: X does not have valid feature names, but MLPClassifier was fitted with feature names\n",
      "  warnings.warn(\n",
      "/usr/local/lib/python3.11/dist-packages/sklearn/utils/validation.py:2739: UserWarning: X does not have valid feature names, but MLPClassifier was fitted with feature names\n",
      "  warnings.warn(\n",
      "/usr/local/lib/python3.11/dist-packages/sklearn/utils/validation.py:2739: UserWarning: X does not have valid feature names, but MLPClassifier was fitted with feature names\n",
      "  warnings.warn(\n",
      "/usr/local/lib/python3.11/dist-packages/sklearn/utils/validation.py:2739: UserWarning: X does not have valid feature names, but MLPClassifier was fitted with feature names\n",
      "  warnings.warn(\n",
      "/usr/local/lib/python3.11/dist-packages/sklearn/utils/validation.py:2739: UserWarning: X does not have valid feature names, but MLPClassifier was fitted with feature names\n",
      "  warnings.warn(\n",
      "/usr/local/lib/python3.11/dist-packages/sklearn/utils/validation.py:2739: UserWarning: X does not have valid feature names, but MLPClassifier was fitted with feature names\n",
      "  warnings.warn(\n",
      "/usr/local/lib/python3.11/dist-packages/sklearn/utils/validation.py:2739: UserWarning: X does not have valid feature names, but MLPClassifier was fitted with feature names\n",
      "  warnings.warn(\n",
      "/usr/local/lib/python3.11/dist-packages/sklearn/utils/validation.py:2739: UserWarning: X does not have valid feature names, but MLPClassifier was fitted with feature names\n",
      "  warnings.warn(\n",
      "/usr/local/lib/python3.11/dist-packages/sklearn/utils/validation.py:2739: UserWarning: X does not have valid feature names, but MLPClassifier was fitted with feature names\n",
      "  warnings.warn(\n",
      "/usr/local/lib/python3.11/dist-packages/sklearn/utils/validation.py:2739: UserWarning: X does not have valid feature names, but MLPClassifier was fitted with feature names\n",
      "  warnings.warn(\n",
      "/usr/local/lib/python3.11/dist-packages/sklearn/utils/validation.py:2739: UserWarning: X does not have valid feature names, but MLPClassifier was fitted with feature names\n",
      "  warnings.warn(\n",
      "/usr/local/lib/python3.11/dist-packages/sklearn/utils/validation.py:2739: UserWarning: X does not have valid feature names, but MLPClassifier was fitted with feature names\n",
      "  warnings.warn(\n",
      "/usr/local/lib/python3.11/dist-packages/sklearn/utils/validation.py:2739: UserWarning: X does not have valid feature names, but MLPClassifier was fitted with feature names\n",
      "  warnings.warn(\n",
      "/usr/local/lib/python3.11/dist-packages/sklearn/utils/validation.py:2739: UserWarning: X does not have valid feature names, but MLPClassifier was fitted with feature names\n",
      "  warnings.warn(\n",
      "/usr/local/lib/python3.11/dist-packages/sklearn/utils/validation.py:2739: UserWarning: X does not have valid feature names, but MLPClassifier was fitted with feature names\n",
      "  warnings.warn(\n",
      "/usr/local/lib/python3.11/dist-packages/sklearn/utils/validation.py:2739: UserWarning: X does not have valid feature names, but MLPClassifier was fitted with feature names\n",
      "  warnings.warn(\n",
      "/usr/local/lib/python3.11/dist-packages/sklearn/utils/validation.py:2739: UserWarning: X does not have valid feature names, but MLPClassifier was fitted with feature names\n",
      "  warnings.warn(\n",
      "/usr/local/lib/python3.11/dist-packages/sklearn/utils/validation.py:2739: UserWarning: X does not have valid feature names, but MLPClassifier was fitted with feature names\n",
      "  warnings.warn(\n",
      "/usr/local/lib/python3.11/dist-packages/sklearn/utils/validation.py:2739: UserWarning: X does not have valid feature names, but MLPClassifier was fitted with feature names\n",
      "  warnings.warn(\n",
      "/usr/local/lib/python3.11/dist-packages/sklearn/utils/validation.py:2739: UserWarning: X does not have valid feature names, but MLPClassifier was fitted with feature names\n",
      "  warnings.warn(\n",
      "/usr/local/lib/python3.11/dist-packages/sklearn/utils/validation.py:2739: UserWarning: X does not have valid feature names, but MLPClassifier was fitted with feature names\n",
      "  warnings.warn(\n",
      "/usr/local/lib/python3.11/dist-packages/sklearn/utils/validation.py:2739: UserWarning: X does not have valid feature names, but MLPClassifier was fitted with feature names\n",
      "  warnings.warn(\n",
      "/usr/local/lib/python3.11/dist-packages/sklearn/utils/validation.py:2739: UserWarning: X does not have valid feature names, but MLPClassifier was fitted with feature names\n",
      "  warnings.warn(\n",
      "/usr/local/lib/python3.11/dist-packages/sklearn/utils/validation.py:2739: UserWarning: X does not have valid feature names, but MLPClassifier was fitted with feature names\n",
      "  warnings.warn(\n",
      "/usr/local/lib/python3.11/dist-packages/sklearn/utils/validation.py:2739: UserWarning: X does not have valid feature names, but MLPClassifier was fitted with feature names\n",
      "  warnings.warn(\n",
      "/usr/local/lib/python3.11/dist-packages/sklearn/utils/validation.py:2739: UserWarning: X does not have valid feature names, but MLPClassifier was fitted with feature names\n",
      "  warnings.warn(\n",
      "/usr/local/lib/python3.11/dist-packages/sklearn/utils/validation.py:2739: UserWarning: X does not have valid feature names, but MLPClassifier was fitted with feature names\n",
      "  warnings.warn(\n",
      "/usr/local/lib/python3.11/dist-packages/sklearn/utils/validation.py:2739: UserWarning: X does not have valid feature names, but MLPClassifier was fitted with feature names\n",
      "  warnings.warn(\n",
      "/usr/local/lib/python3.11/dist-packages/sklearn/utils/validation.py:2739: UserWarning: X does not have valid feature names, but MLPClassifier was fitted with feature names\n",
      "  warnings.warn(\n",
      "/usr/local/lib/python3.11/dist-packages/sklearn/utils/validation.py:2739: UserWarning: X does not have valid feature names, but MLPClassifier was fitted with feature names\n",
      "  warnings.warn(\n",
      "/usr/local/lib/python3.11/dist-packages/sklearn/utils/validation.py:2739: UserWarning: X does not have valid feature names, but MLPClassifier was fitted with feature names\n",
      "  warnings.warn(\n",
      "/usr/local/lib/python3.11/dist-packages/sklearn/utils/validation.py:2739: UserWarning: X does not have valid feature names, but MLPClassifier was fitted with feature names\n",
      "  warnings.warn(\n",
      "/usr/local/lib/python3.11/dist-packages/sklearn/utils/validation.py:2739: UserWarning: X does not have valid feature names, but MLPClassifier was fitted with feature names\n",
      "  warnings.warn(\n",
      "/usr/local/lib/python3.11/dist-packages/sklearn/utils/validation.py:2739: UserWarning: X does not have valid feature names, but MLPClassifier was fitted with feature names\n",
      "  warnings.warn(\n",
      "/usr/local/lib/python3.11/dist-packages/sklearn/utils/validation.py:2739: UserWarning: X does not have valid feature names, but MLPClassifier was fitted with feature names\n",
      "  warnings.warn(\n",
      "/usr/local/lib/python3.11/dist-packages/sklearn/utils/validation.py:2739: UserWarning: X does not have valid feature names, but MLPClassifier was fitted with feature names\n",
      "  warnings.warn(\n",
      "/usr/local/lib/python3.11/dist-packages/sklearn/utils/validation.py:2739: UserWarning: X does not have valid feature names, but MLPClassifier was fitted with feature names\n",
      "  warnings.warn(\n",
      "/usr/local/lib/python3.11/dist-packages/sklearn/utils/validation.py:2739: UserWarning: X does not have valid feature names, but MLPClassifier was fitted with feature names\n",
      "  warnings.warn(\n",
      "/usr/local/lib/python3.11/dist-packages/sklearn/utils/validation.py:2739: UserWarning: X does not have valid feature names, but MLPClassifier was fitted with feature names\n",
      "  warnings.warn(\n",
      "/usr/local/lib/python3.11/dist-packages/sklearn/utils/validation.py:2739: UserWarning: X does not have valid feature names, but MLPClassifier was fitted with feature names\n",
      "  warnings.warn(\n",
      "/usr/local/lib/python3.11/dist-packages/sklearn/utils/validation.py:2739: UserWarning: X does not have valid feature names, but MLPClassifier was fitted with feature names\n",
      "  warnings.warn(\n",
      "/usr/local/lib/python3.11/dist-packages/sklearn/utils/validation.py:2739: UserWarning: X does not have valid feature names, but MLPClassifier was fitted with feature names\n",
      "  warnings.warn(\n",
      "/usr/local/lib/python3.11/dist-packages/sklearn/utils/validation.py:2739: UserWarning: X does not have valid feature names, but MLPClassifier was fitted with feature names\n",
      "  warnings.warn(\n",
      "/usr/local/lib/python3.11/dist-packages/sklearn/utils/validation.py:2739: UserWarning: X does not have valid feature names, but MLPClassifier was fitted with feature names\n",
      "  warnings.warn(\n",
      "/usr/local/lib/python3.11/dist-packages/sklearn/utils/validation.py:2739: UserWarning: X does not have valid feature names, but MLPClassifier was fitted with feature names\n",
      "  warnings.warn(\n",
      "/usr/local/lib/python3.11/dist-packages/sklearn/utils/validation.py:2739: UserWarning: X does not have valid feature names, but MLPClassifier was fitted with feature names\n",
      "  warnings.warn(\n",
      "/usr/local/lib/python3.11/dist-packages/sklearn/utils/validation.py:2739: UserWarning: X does not have valid feature names, but MLPClassifier was fitted with feature names\n",
      "  warnings.warn(\n",
      "/usr/local/lib/python3.11/dist-packages/sklearn/utils/validation.py:2739: UserWarning: X does not have valid feature names, but MLPClassifier was fitted with feature names\n",
      "  warnings.warn(\n",
      "/usr/local/lib/python3.11/dist-packages/sklearn/utils/validation.py:2739: UserWarning: X does not have valid feature names, but MLPClassifier was fitted with feature names\n",
      "  warnings.warn(\n",
      "/usr/local/lib/python3.11/dist-packages/sklearn/utils/validation.py:2739: UserWarning: X does not have valid feature names, but MLPClassifier was fitted with feature names\n",
      "  warnings.warn(\n",
      "/usr/local/lib/python3.11/dist-packages/sklearn/utils/validation.py:2739: UserWarning: X does not have valid feature names, but MLPClassifier was fitted with feature names\n",
      "  warnings.warn(\n",
      "/usr/local/lib/python3.11/dist-packages/sklearn/utils/validation.py:2739: UserWarning: X does not have valid feature names, but MLPClassifier was fitted with feature names\n",
      "  warnings.warn(\n",
      "/usr/local/lib/python3.11/dist-packages/sklearn/utils/validation.py:2739: UserWarning: X does not have valid feature names, but MLPClassifier was fitted with feature names\n",
      "  warnings.warn(\n",
      "/usr/local/lib/python3.11/dist-packages/sklearn/utils/validation.py:2739: UserWarning: X does not have valid feature names, but MLPClassifier was fitted with feature names\n",
      "  warnings.warn(\n",
      "/usr/local/lib/python3.11/dist-packages/sklearn/utils/validation.py:2739: UserWarning: X does not have valid feature names, but MLPClassifier was fitted with feature names\n",
      "  warnings.warn(\n",
      "/usr/local/lib/python3.11/dist-packages/sklearn/utils/validation.py:2739: UserWarning: X does not have valid feature names, but MLPClassifier was fitted with feature names\n",
      "  warnings.warn(\n",
      "/usr/local/lib/python3.11/dist-packages/sklearn/utils/validation.py:2739: UserWarning: X does not have valid feature names, but MLPClassifier was fitted with feature names\n",
      "  warnings.warn(\n",
      "/usr/local/lib/python3.11/dist-packages/sklearn/utils/validation.py:2739: UserWarning: X does not have valid feature names, but MLPClassifier was fitted with feature names\n",
      "  warnings.warn(\n",
      "/usr/local/lib/python3.11/dist-packages/sklearn/utils/validation.py:2739: UserWarning: X does not have valid feature names, but MLPClassifier was fitted with feature names\n",
      "  warnings.warn(\n",
      "/usr/local/lib/python3.11/dist-packages/sklearn/utils/validation.py:2739: UserWarning: X does not have valid feature names, but MLPClassifier was fitted with feature names\n",
      "  warnings.warn(\n",
      "/usr/local/lib/python3.11/dist-packages/sklearn/utils/validation.py:2739: UserWarning: X does not have valid feature names, but MLPClassifier was fitted with feature names\n",
      "  warnings.warn(\n",
      "/usr/local/lib/python3.11/dist-packages/sklearn/utils/validation.py:2739: UserWarning: X does not have valid feature names, but MLPClassifier was fitted with feature names\n",
      "  warnings.warn(\n",
      "/usr/local/lib/python3.11/dist-packages/sklearn/utils/validation.py:2739: UserWarning: X does not have valid feature names, but MLPClassifier was fitted with feature names\n",
      "  warnings.warn(\n",
      "/usr/local/lib/python3.11/dist-packages/sklearn/utils/validation.py:2739: UserWarning: X does not have valid feature names, but MLPClassifier was fitted with feature names\n",
      "  warnings.warn(\n",
      "/usr/local/lib/python3.11/dist-packages/sklearn/utils/validation.py:2739: UserWarning: X does not have valid feature names, but MLPClassifier was fitted with feature names\n",
      "  warnings.warn(\n",
      "/usr/local/lib/python3.11/dist-packages/sklearn/utils/validation.py:2739: UserWarning: X does not have valid feature names, but MLPClassifier was fitted with feature names\n",
      "  warnings.warn(\n",
      "/usr/local/lib/python3.11/dist-packages/sklearn/utils/validation.py:2739: UserWarning: X does not have valid feature names, but MLPClassifier was fitted with feature names\n",
      "  warnings.warn(\n",
      "/usr/local/lib/python3.11/dist-packages/sklearn/utils/validation.py:2739: UserWarning: X does not have valid feature names, but MLPClassifier was fitted with feature names\n",
      "  warnings.warn(\n",
      "/usr/local/lib/python3.11/dist-packages/sklearn/utils/validation.py:2739: UserWarning: X does not have valid feature names, but MLPClassifier was fitted with feature names\n",
      "  warnings.warn(\n",
      "/usr/local/lib/python3.11/dist-packages/sklearn/utils/validation.py:2739: UserWarning: X does not have valid feature names, but MLPClassifier was fitted with feature names\n",
      "  warnings.warn(\n",
      "/usr/local/lib/python3.11/dist-packages/sklearn/utils/validation.py:2739: UserWarning: X does not have valid feature names, but MLPClassifier was fitted with feature names\n",
      "  warnings.warn(\n",
      "/usr/local/lib/python3.11/dist-packages/sklearn/utils/validation.py:2739: UserWarning: X does not have valid feature names, but MLPClassifier was fitted with feature names\n",
      "  warnings.warn(\n",
      "/usr/local/lib/python3.11/dist-packages/sklearn/utils/validation.py:2739: UserWarning: X does not have valid feature names, but MLPClassifier was fitted with feature names\n",
      "  warnings.warn(\n",
      "/usr/local/lib/python3.11/dist-packages/sklearn/utils/validation.py:2739: UserWarning: X does not have valid feature names, but MLPClassifier was fitted with feature names\n",
      "  warnings.warn(\n",
      "/usr/local/lib/python3.11/dist-packages/sklearn/utils/validation.py:2739: UserWarning: X does not have valid feature names, but MLPClassifier was fitted with feature names\n",
      "  warnings.warn(\n",
      "/usr/local/lib/python3.11/dist-packages/sklearn/utils/validation.py:2739: UserWarning: X does not have valid feature names, but MLPClassifier was fitted with feature names\n",
      "  warnings.warn(\n",
      "/usr/local/lib/python3.11/dist-packages/sklearn/utils/validation.py:2739: UserWarning: X does not have valid feature names, but MLPClassifier was fitted with feature names\n",
      "  warnings.warn(\n",
      "/usr/local/lib/python3.11/dist-packages/sklearn/utils/validation.py:2739: UserWarning: X does not have valid feature names, but MLPClassifier was fitted with feature names\n",
      "  warnings.warn(\n"
     ]
    }
   ],
   "source": [
    "\n",
    "# Compute SHAP values for the test set (using fewer samples for performance)\n",
    "mlp_shap_values = mlp_explainer.shap_values(X_test_np, nsamples=100)"
   ]
  },
  {
   "cell_type": "code",
   "execution_count": null,
   "metadata": {
    "colab": {
     "base_uri": "https://localhost:8080/",
     "height": 1000
    },
    "executionInfo": {
     "elapsed": 1010,
     "status": "ok",
     "timestamp": 1747748291950,
     "user": {
      "displayName": "Hung Thanh Do",
      "userId": "14602254202234053172"
     },
     "user_tz": -120
    },
    "id": "KfWW1twW6GXd",
    "outputId": "864a30d9-3001-4f4c-ea05-7c20b9a37236"
   },
   "outputs": [
    {
     "name": "stderr",
     "output_type": "stream",
     "text": [
      "<ipython-input-154-b9aaf3eb1863>:2: FutureWarning: The NumPy global RNG was seeded by calling `np.random.seed`. In a future version this function will no longer use the global RNG. Pass `rng` explicitly to opt-in to the new behaviour and silence this warning.\n",
      "  shap.summary_plot(mlp_shap_values, X_test_np, feature_names=X_test.columns)\n"
     ]
    },
    {
     "data": {
      "image/png": "[encoded data removed]",
      "text/plain": [
       "<Figure size 800x950 with 2 Axes>"
      ]
     },
     "metadata": {},
     "output_type": "display_data"
    }
   ],
   "source": [
    "# Plot SHAP summary plot\n",
    "shap.summary_plot(mlp_shap_values, X_test_np, feature_names=X_test.columns)"
   ]
  },
  {
   "cell_type": "code",
   "execution_count": null,
   "metadata": {
    "id": "dyGe7apl6OS8"
   },
   "outputs": [],
   "source": [
    "import pickle"
   ]
  },
  {
   "cell_type": "code",
   "execution_count": null,
   "metadata": {
    "id": "BEeoRtPw6EzV"
   },
   "outputs": [],
   "source": [
    "# Save the SHAP values for MLP\n",
    "with open('saved_shap/mlp_shap_values_german.pkl', 'wb') as f:\n",
    "    pickle.dump(mlp_shap_values, f)"
   ]
  },
  {
   "cell_type": "code",
   "execution_count": null,
   "metadata": {
    "id": "IXWviu0H6NnX"
   },
   "outputs": [],
   "source": [
    "with open('saved_shap/mlp_shap_values_german.pkl', 'rb') as f:\n",
    "    shap_values = pickle.load(f)"
   ]
  },
  {
   "cell_type": "markdown",
   "metadata": {
    "id": "VJ0Mb-gM8lHj"
   },
   "source": [
    "### Quantus"
   ]
  },
  {
   "cell_type": "code",
   "execution_count": null,
   "metadata": {
    "colab": {
     "base_uri": "https://localhost:8080/"
    },
    "executionInfo": {
     "elapsed": 6,
     "status": "ok",
     "timestamp": 1747752095440,
     "user": {
      "displayName": "Hung Thanh Do",
      "userId": "14602254202234053172"
     },
     "user_tz": -120
    },
    "id": "n4DduQmVGQRS",
    "outputId": "51575b6a-2fc9-4039-a041-370181c9daad"
   },
   "outputs": [
    {
     "data": {
      "text/plain": [
       "DifferentiableMLPWrapper(\n",
       "  (proxy_layer): Linear(in_features=22, out_features=1, bias=True)\n",
       ")"
      ]
     },
     "execution_count": 236,
     "metadata": {},
     "output_type": "execute_result"
    }
   ],
   "source": [
    "class DifferentiableMLPWrapper(nn.Module):\n",
    "    def __init__(self, xgb_model):\n",
    "        super().__init__()\n",
    "        self.mlp = mlp_model\n",
    "        # Add simple differentiable layer\n",
    "        self.proxy_layer = nn.Linear(X_test_np.shape[1], 1)  # Match your feature count\n",
    "\n",
    "    def forward(self, x):\n",
    "        # Maintain gradient flow\n",
    "        with torch.no_grad():\n",
    "            mlp_out = torch.tensor(self.mlp.predict_proba(\n",
    "                x.cpu().numpy()\n",
    "            ), device=x.device)\n",
    "\n",
    "        # Differentiable processing\n",
    "        proxy_out = self.proxy_layer(x)\n",
    "        return mlp_out + 0.001*proxy_out  # Maintain MLP output dominance\n",
    "\n",
    "# Wrap model with gradient-preserving wrapper\n",
    "mlp_wrapped_model = DifferentiableMLPWrapper(mlp_model)\n",
    "mlp_wrapped_model.eval()"
   ]
  },
  {
   "cell_type": "code",
   "execution_count": null,
   "metadata": {
    "id": "SGtj_Idp834b"
   },
   "outputs": [],
   "source": [
    "# ---------------------------\n",
    "# Evaluate FaithfulnessCorrelation with Quantus using SHAP attributions\n",
    "# ---------------------------\n",
    "# Ensure y_test is of integer type\n",
    "y_test_int = y_test_np.astype(np.int64)"
   ]
  },
  {
   "cell_type": "code",
   "execution_count": null,
   "metadata": {
    "colab": {
     "base_uri": "https://localhost:8080/",
     "height": 104,
     "referenced_widgets": [
      "649ccde1257643dd9c7187a1c58ca38b",
      "b435415ab6ae41af98aed4dd6c899d5e",
      "44d3d78b44984246bd9393711e60e9eb",
      "0bcfb7be0e054d6986df17890e6eae7f",
      "0618057683984e1db8f3581b16d1b40f",
      "8fcbcdae3ff2421e92e231b77ade254d",
      "6f89b1f19c3144038d9d9c0a6f4dacff",
      "2d67c5e911484f389742b07ef98c8440",
      "6b29d529216a4613940ff0e1273323be",
      "3fc693eba5e146c6be0409e6e800630b",
      "2dfb066941154538a4e07c43cbd8ae6b"
     ]
    },
    "executionInfo": {
     "elapsed": 68,
     "status": "ok",
     "timestamp": 1747752098925,
     "user": {
      "displayName": "Hung Thanh Do",
      "userId": "14602254202234053172"
     },
     "user_tz": -120
    },
    "id": "MHzSb7wL834b",
    "outputId": "236f9fdd-5912-4cfe-c08f-8f82149ef90b"
   },
   "outputs": [
    {
     "data": {
      "application/vnd.jupyter.widget-view+json": {
       "model_id": "649ccde1257643dd9c7187a1c58ca38b",
       "version_major": 2,
       "version_minor": 0
      },
      "text/plain": [
       "  0%|          | 0/2.0 [00:00<?, ?it/s]"
      ]
     },
     "metadata": {},
     "output_type": "display_data"
    },
    {
     "name": "stdout",
     "output_type": "stream",
     "text": [
      "Complexity: Complexity by Bhatt et al., 2020.\n",
      "\n",
      " • SHAP =  0.6935125614221518\n"
     ]
    }
   ],
   "source": [
    "# Apply Complexity metric using SHAP attributions\n",
    "Complexity_shap = quantus.Complexity(\n",
    "    normalise=False,\n",
    "    abs=True,  # Take absolute values of attributions\n",
    "    disable_warnings=True,\n",
    "    display_progressbar=True,\n",
    "    aggregate_func=np.mean,  # Compute mean complexity over all samples\n",
    ")(\n",
    "    model=mlp_wrapped_model,\n",
    "    x_batch=X_test_np,\n",
    "    y_batch=y_test_int,\n",
    "    a_batch=mlp_shap_values,   # use SHAP attributions computed above\n",
    "    explain_func=None      # explanations are precomputed\n",
    ")\n",
    "\n",
    "# Scale to 0-1\n",
    "Complexity_shap = (Complexity_shap - min(Complexity_shap)) / (\n",
    "    max(Complexity_shap) - min(Complexity_shap)\n",
    ")\n",
    "\n",
    "# Find mean\n",
    "Complexity_shap = np.mean(Complexity_shap)\n",
    "\n",
    "print(\n",
    "    f\"Complexity: Complexity by Bhatt et al., 2020.\\n\"\n",
    "    f\"\\n • SHAP = \",\n",
    "    Complexity_shap,\n",
    ")"
   ]
  },
  {
   "cell_type": "code",
   "execution_count": null,
   "metadata": {
    "colab": {
     "base_uri": "https://localhost:8080/",
     "height": 104,
     "referenced_widgets": [
      "6ba26a5075114a14a6cf7698c5bddd85",
      "61717139cda649ada813ce1c1bfc2c3e",
      "7b9edba1fb784d4abd46215e286f7485",
      "58d8058ade5b47b3a3ea2d26df9994e3",
      "f4774dd556484e28aab63b849d5bdee1",
      "973c6642219b44c38b24f50555bf6b7c",
      "a043782ba9e34d80a9e185063dea0a10",
      "bb9e1883991249c689c385d65e05b04e",
      "1d93cac96ef34a8ca62d2b35edd2d59a",
      "e9f46af4c8324e48b95d4566ac6c83a5",
      "b5ca9114588d47098e83804c2de932fd"
     ]
    },
    "executionInfo": {
     "elapsed": 44,
     "status": "ok",
     "timestamp": 1747752101166,
     "user": {
      "displayName": "Hung Thanh Do",
      "userId": "14602254202234053172"
     },
     "user_tz": -120
    },
    "id": "RJu-ZCwn834b",
    "outputId": "3d9d9cb4-40fe-43b2-f8bc-623588268e8c"
   },
   "outputs": [
    {
     "data": {
      "application/vnd.jupyter.widget-view+json": {
       "model_id": "6ba26a5075114a14a6cf7698c5bddd85",
       "version_major": 2,
       "version_minor": 0
      },
      "text/plain": [
       "  0%|          | 0/2.0 [00:00<?, ?it/s]"
      ]
     },
     "metadata": {},
     "output_type": "display_data"
    },
    {
     "name": "stdout",
     "output_type": "stream",
     "text": [
      "Complexity: Sparseness by Chalasani et al., 2020.\n",
      "\n",
      " • SHAP =  [np.float64(0.7202306047018382)]\n"
     ]
    }
   ],
   "source": [
    "Sparseness_shap = quantus.Sparseness(\n",
    "    normalise=False,\n",
    "    abs=True, # take absolute values of attributions\n",
    "    disable_warnings=True,\n",
    "    display_progressbar=True,\n",
    "    return_aggregate=True, # find the mean of the complexity from all samples\n",
    "    aggregate_func=np.mean,\n",
    ")(\n",
    "    model=mlp_wrapped_model,\n",
    "    x_batch=X_test_np,\n",
    "    y_batch=y_test_int,\n",
    "    a_batch=mlp_shap_values,   # use SHAP attributions computed above\n",
    "    explain_func=None      # explanations are precomputed\n",
    ")\n",
    "\n",
    "# Already scaled to 0-1 -> keep aggregated (mean)\n",
    "\n",
    "print(\n",
    "    f\"Complexity: Sparseness by Chalasani et al., 2020.\\n\"\n",
    "    f\"\\n • SHAP = \",\n",
    "    Sparseness_shap,\n",
    ")"
   ]
  },
  {
   "cell_type": "code",
   "execution_count": null,
   "metadata": {
    "colab": {
     "base_uri": "https://localhost:8080/",
     "height": 104,
     "referenced_widgets": [
      "b8f983c37afd42e0bcea07b0dcd3a8af",
      "f0ede86140d848bdbcb1b93a2969429e",
      "979c1bf5a7134c22abd80506db7e8d9b",
      "2bcc0d174e154eb988f90888e9d9c687",
      "85aceccfc4284a4cafa24afc1354fd7b",
      "1faec732d95141498627fde1661a641e",
      "db0cc8db489e4a6e8cd878948ad6a908",
      "9b38c9dd4076457792e26364be53cbc9",
      "c82f03168aa6496e9510de830847408b",
      "91d016b2db7f4ab693155e30e8b23d79",
      "9470ce9e5e9c476dac23ec4ccef70f82"
     ]
    },
    "collapsed": true,
    "executionInfo": {
     "elapsed": 969,
     "status": "ok",
     "timestamp": 1747752195447,
     "user": {
      "displayName": "Hung Thanh Do",
      "userId": "14602254202234053172"
     },
     "user_tz": -120
    },
    "id": "dvIbfTPY834b",
    "outputId": "36661238-09cc-4679-9941-0c0b03d32fa6"
   },
   "outputs": [
    {
     "data": {
      "application/vnd.jupyter.widget-view+json": {
       "model_id": "b8f983c37afd42e0bcea07b0dcd3a8af",
       "version_major": 2,
       "version_minor": 0
      },
      "text/plain": [
       "  0%|          | 0/2.0 [00:00<?, ?it/s]"
      ]
     },
     "metadata": {},
     "output_type": "display_data"
    },
    {
     "name": "stdout",
     "output_type": "stream",
     "text": [
      "Faithfulness: Faithfulness Correlation by Bhatt et al., 2020.\n",
      "\n",
      " • SHAP =  0.49793088795510393\n"
     ]
    }
   ],
   "source": [
    "FaithfulnessCorrelation_shap = quantus.FaithfulnessCorrelation(\n",
    "    perturb_baseline=\"white\",\n",
    "    perturb_func=quantus.baseline_replacement_by_indices,\n",
    "    subset_size=5, # features to perturb\n",
    "    nr_runs=10,\n",
    "    similarity_func=quantus.similarity_func.correlation_pearson,\n",
    "    abs=True, # take absolute values of attributions\n",
    "    normalise=False, # do not normalise ohe data\n",
    "    return_aggregate=False, # (not) output 1 val instead of list of vals for all samples\n",
    "    aggregate_func=np.mean,\n",
    "    disable_warnings=True,\n",
    "    display_progressbar=True,\n",
    ")(\n",
    "    model=mlp_wrapped_model,\n",
    "    x_batch=X_test_np,\n",
    "    y_batch=y_test_int,\n",
    "    a_batch=mlp_shap_values,   # use SHAP attributions computed above\n",
    "    explain_func=None      # explanations are precomputed\n",
    ")\n",
    "\n",
    "# Scale to 0-1\n",
    "FaithfulnessCorrelation_shap = (FaithfulnessCorrelation_shap - np.min(FaithfulnessCorrelation_shap)) / (\n",
    "    np.max(FaithfulnessCorrelation_shap) - np.min(FaithfulnessCorrelation_shap)\n",
    ")\n",
    "\n",
    "# Find mean\n",
    "FaithfulnessCorrelation_shap = np.mean(FaithfulnessCorrelation_shap)\n",
    "\n",
    "print(\n",
    "    f\"Faithfulness: Faithfulness Correlation by Bhatt et al., 2020.\\n\"\n",
    "    f\"\\n • SHAP = \",\n",
    "    FaithfulnessCorrelation_shap,\n",
    ")"
   ]
  },
  {
   "cell_type": "code",
   "execution_count": null,
   "metadata": {
    "colab": {
     "base_uri": "https://localhost:8080/",
     "height": 1000,
     "referenced_widgets": [
      "e83ba96aaafd40739071b04a4e2f2551",
      "b082c8a00ece40cb8d28f1d582052af4",
      "58aa439624b04b2e921c4550de80d29a",
      "fe8a72df19184544bd2d9a0f3a39046a",
      "01538f2f93e5426a971ce5c8107bbf3d",
      "bd5b743513c947e08ec4e8037dd8f9d5",
      "826f88664d644df98bd7cac4cbdf1659",
      "26be79b8df9644dcb5d8074a47985950",
      "4a74ee086e964e6baa6645c34a962e1f",
      "fc5ffbc255d5484b85cb7ef1863cd8ab",
      "dbb3424db9544fbea4721178450155cb"
     ]
    },
    "collapsed": true,
    "executionInfo": {
     "elapsed": 1950,
     "status": "ok",
     "timestamp": 1747752243322,
     "user": {
      "displayName": "Hung Thanh Do",
      "userId": "14602254202234053172"
     },
     "user_tz": -120
    },
    "id": "XjuqiS_N834b",
    "outputId": "6f081abe-525f-4603-e93d-d7b242c2805e"
   },
   "outputs": [
    {
     "data": {
      "application/vnd.jupyter.widget-view+json": {
       "model_id": "e83ba96aaafd40739071b04a4e2f2551",
       "version_major": 2,
       "version_minor": 0
      },
      "text/plain": [
       "  0%|          | 0/2.0 [00:00<?, ?it/s]"
      ]
     },
     "metadata": {},
     "output_type": "display_data"
    },
    {
     "name": "stderr",
     "output_type": "stream",
     "text": [
      "/usr/local/lib/python3.11/dist-packages/quantus/helpers/warn.py:257: UserWarning: The settings for perturbing input e.g., 'perturb_func' didn't cause change in input. Reconsider the parameter settings.\n",
      "  warnings.warn(\n",
      "/usr/local/lib/python3.11/dist-packages/quantus/helpers/warn.py:257: UserWarning: The settings for perturbing input e.g., 'perturb_func' didn't cause change in input. Reconsider the parameter settings.\n",
      "  warnings.warn(\n",
      "/usr/local/lib/python3.11/dist-packages/quantus/helpers/warn.py:257: UserWarning: The settings for perturbing input e.g., 'perturb_func' didn't cause change in input. Reconsider the parameter settings.\n",
      "  warnings.warn(\n",
      "/usr/local/lib/python3.11/dist-packages/quantus/helpers/warn.py:257: UserWarning: The settings for perturbing input e.g., 'perturb_func' didn't cause change in input. Reconsider the parameter settings.\n",
      "  warnings.warn(\n",
      "/usr/local/lib/python3.11/dist-packages/quantus/helpers/warn.py:257: UserWarning: The settings for perturbing input e.g., 'perturb_func' didn't cause change in input. Reconsider the parameter settings.\n",
      "  warnings.warn(\n",
      "/usr/local/lib/python3.11/dist-packages/quantus/helpers/warn.py:257: UserWarning: The settings for perturbing input e.g., 'perturb_func' didn't cause change in input. Reconsider the parameter settings.\n",
      "  warnings.warn(\n",
      "/usr/local/lib/python3.11/dist-packages/quantus/helpers/warn.py:257: UserWarning: The settings for perturbing input e.g., 'perturb_func' didn't cause change in input. Reconsider the parameter settings.\n",
      "  warnings.warn(\n",
      "/usr/local/lib/python3.11/dist-packages/quantus/helpers/warn.py:257: UserWarning: The settings for perturbing input e.g., 'perturb_func' didn't cause change in input. Reconsider the parameter settings.\n",
      "  warnings.warn(\n",
      "/usr/local/lib/python3.11/dist-packages/quantus/helpers/warn.py:257: UserWarning: The settings for perturbing input e.g., 'perturb_func' didn't cause change in input. Reconsider the parameter settings.\n",
      "  warnings.warn(\n",
      "/usr/local/lib/python3.11/dist-packages/quantus/helpers/warn.py:257: UserWarning: The settings for perturbing input e.g., 'perturb_func' didn't cause change in input. Reconsider the parameter settings.\n",
      "  warnings.warn(\n",
      "/usr/local/lib/python3.11/dist-packages/quantus/helpers/warn.py:257: UserWarning: The settings for perturbing input e.g., 'perturb_func' didn't cause change in input. Reconsider the parameter settings.\n",
      "  warnings.warn(\n",
      "/usr/local/lib/python3.11/dist-packages/quantus/helpers/warn.py:257: UserWarning: The settings for perturbing input e.g., 'perturb_func' didn't cause change in input. Reconsider the parameter settings.\n",
      "  warnings.warn(\n",
      "/usr/local/lib/python3.11/dist-packages/quantus/helpers/warn.py:257: UserWarning: The settings for perturbing input e.g., 'perturb_func' didn't cause change in input. Reconsider the parameter settings.\n",
      "  warnings.warn(\n",
      "/usr/local/lib/python3.11/dist-packages/quantus/helpers/warn.py:257: UserWarning: The settings for perturbing input e.g., 'perturb_func' didn't cause change in input. Reconsider the parameter settings.\n",
      "  warnings.warn(\n",
      "/usr/local/lib/python3.11/dist-packages/quantus/helpers/warn.py:257: UserWarning: The settings for perturbing input e.g., 'perturb_func' didn't cause change in input. Reconsider the parameter settings.\n",
      "  warnings.warn(\n",
      "/usr/local/lib/python3.11/dist-packages/quantus/helpers/warn.py:257: UserWarning: The settings for perturbing input e.g., 'perturb_func' didn't cause change in input. Reconsider the parameter settings.\n",
      "  warnings.warn(\n",
      "/usr/local/lib/python3.11/dist-packages/quantus/helpers/warn.py:257: UserWarning: The settings for perturbing input e.g., 'perturb_func' didn't cause change in input. Reconsider the parameter settings.\n",
      "  warnings.warn(\n",
      "/usr/local/lib/python3.11/dist-packages/quantus/helpers/warn.py:257: UserWarning: The settings for perturbing input e.g., 'perturb_func' didn't cause change in input. Reconsider the parameter settings.\n",
      "  warnings.warn(\n",
      "/usr/local/lib/python3.11/dist-packages/quantus/helpers/warn.py:257: UserWarning: The settings for perturbing input e.g., 'perturb_func' didn't cause change in input. Reconsider the parameter settings.\n",
      "  warnings.warn(\n",
      "/usr/local/lib/python3.11/dist-packages/quantus/helpers/warn.py:257: UserWarning: The settings for perturbing input e.g., 'perturb_func' didn't cause change in input. Reconsider the parameter settings.\n",
      "  warnings.warn(\n",
      "/usr/local/lib/python3.11/dist-packages/quantus/helpers/warn.py:257: UserWarning: The settings for perturbing input e.g., 'perturb_func' didn't cause change in input. Reconsider the parameter settings.\n",
      "  warnings.warn(\n",
      "/usr/local/lib/python3.11/dist-packages/quantus/helpers/warn.py:257: UserWarning: The settings for perturbing input e.g., 'perturb_func' didn't cause change in input. Reconsider the parameter settings.\n",
      "  warnings.warn(\n",
      "/usr/local/lib/python3.11/dist-packages/quantus/helpers/warn.py:257: UserWarning: The settings for perturbing input e.g., 'perturb_func' didn't cause change in input. Reconsider the parameter settings.\n",
      "  warnings.warn(\n",
      "/usr/local/lib/python3.11/dist-packages/quantus/helpers/warn.py:257: UserWarning: The settings for perturbing input e.g., 'perturb_func' didn't cause change in input. Reconsider the parameter settings.\n",
      "  warnings.warn(\n",
      "/usr/local/lib/python3.11/dist-packages/quantus/helpers/warn.py:257: UserWarning: The settings for perturbing input e.g., 'perturb_func' didn't cause change in input. Reconsider the parameter settings.\n",
      "  warnings.warn(\n",
      "/usr/local/lib/python3.11/dist-packages/quantus/helpers/warn.py:257: UserWarning: The settings for perturbing input e.g., 'perturb_func' didn't cause change in input. Reconsider the parameter settings.\n",
      "  warnings.warn(\n",
      "/usr/local/lib/python3.11/dist-packages/quantus/helpers/warn.py:257: UserWarning: The settings for perturbing input e.g., 'perturb_func' didn't cause change in input. Reconsider the parameter settings.\n",
      "  warnings.warn(\n",
      "/usr/local/lib/python3.11/dist-packages/quantus/helpers/warn.py:257: UserWarning: The settings for perturbing input e.g., 'perturb_func' didn't cause change in input. Reconsider the parameter settings.\n",
      "  warnings.warn(\n",
      "/usr/local/lib/python3.11/dist-packages/quantus/helpers/warn.py:257: UserWarning: The settings for perturbing input e.g., 'perturb_func' didn't cause change in input. Reconsider the parameter settings.\n",
      "  warnings.warn(\n",
      "/usr/local/lib/python3.11/dist-packages/quantus/helpers/warn.py:257: UserWarning: The settings for perturbing input e.g., 'perturb_func' didn't cause change in input. Reconsider the parameter settings.\n",
      "  warnings.warn(\n",
      "/usr/local/lib/python3.11/dist-packages/quantus/helpers/warn.py:257: UserWarning: The settings for perturbing input e.g., 'perturb_func' didn't cause change in input. Reconsider the parameter settings.\n",
      "  warnings.warn(\n",
      "/usr/local/lib/python3.11/dist-packages/quantus/helpers/warn.py:257: UserWarning: The settings for perturbing input e.g., 'perturb_func' didn't cause change in input. Reconsider the parameter settings.\n",
      "  warnings.warn(\n",
      "/usr/local/lib/python3.11/dist-packages/quantus/helpers/warn.py:257: UserWarning: The settings for perturbing input e.g., 'perturb_func' didn't cause change in input. Reconsider the parameter settings.\n",
      "  warnings.warn(\n",
      "/usr/local/lib/python3.11/dist-packages/quantus/helpers/warn.py:257: UserWarning: The settings for perturbing input e.g., 'perturb_func' didn't cause change in input. Reconsider the parameter settings.\n",
      "  warnings.warn(\n",
      "/usr/local/lib/python3.11/dist-packages/quantus/helpers/warn.py:257: UserWarning: The settings for perturbing input e.g., 'perturb_func' didn't cause change in input. Reconsider the parameter settings.\n",
      "  warnings.warn(\n",
      "/usr/local/lib/python3.11/dist-packages/quantus/helpers/warn.py:257: UserWarning: The settings for perturbing input e.g., 'perturb_func' didn't cause change in input. Reconsider the parameter settings.\n",
      "  warnings.warn(\n",
      "/usr/local/lib/python3.11/dist-packages/quantus/helpers/warn.py:257: UserWarning: The settings for perturbing input e.g., 'perturb_func' didn't cause change in input. Reconsider the parameter settings.\n",
      "  warnings.warn(\n",
      "/usr/local/lib/python3.11/dist-packages/quantus/helpers/warn.py:257: UserWarning: The settings for perturbing input e.g., 'perturb_func' didn't cause change in input. Reconsider the parameter settings.\n",
      "  warnings.warn(\n",
      "/usr/local/lib/python3.11/dist-packages/quantus/helpers/warn.py:257: UserWarning: The settings for perturbing input e.g., 'perturb_func' didn't cause change in input. Reconsider the parameter settings.\n",
      "  warnings.warn(\n",
      "/usr/local/lib/python3.11/dist-packages/quantus/helpers/warn.py:257: UserWarning: The settings for perturbing input e.g., 'perturb_func' didn't cause change in input. Reconsider the parameter settings.\n",
      "  warnings.warn(\n",
      "/usr/local/lib/python3.11/dist-packages/quantus/helpers/warn.py:257: UserWarning: The settings for perturbing input e.g., 'perturb_func' didn't cause change in input. Reconsider the parameter settings.\n",
      "  warnings.warn(\n",
      "/usr/local/lib/python3.11/dist-packages/quantus/helpers/warn.py:257: UserWarning: The settings for perturbing input e.g., 'perturb_func' didn't cause change in input. Reconsider the parameter settings.\n",
      "  warnings.warn(\n",
      "/usr/local/lib/python3.11/dist-packages/quantus/helpers/warn.py:257: UserWarning: The settings for perturbing input e.g., 'perturb_func' didn't cause change in input. Reconsider the parameter settings.\n",
      "  warnings.warn(\n",
      "/usr/local/lib/python3.11/dist-packages/quantus/helpers/warn.py:257: UserWarning: The settings for perturbing input e.g., 'perturb_func' didn't cause change in input. Reconsider the parameter settings.\n",
      "  warnings.warn(\n",
      "/usr/local/lib/python3.11/dist-packages/quantus/helpers/warn.py:257: UserWarning: The settings for perturbing input e.g., 'perturb_func' didn't cause change in input. Reconsider the parameter settings.\n",
      "  warnings.warn(\n",
      "/usr/local/lib/python3.11/dist-packages/quantus/helpers/warn.py:257: UserWarning: The settings for perturbing input e.g., 'perturb_func' didn't cause change in input. Reconsider the parameter settings.\n",
      "  warnings.warn(\n",
      "/usr/local/lib/python3.11/dist-packages/quantus/helpers/warn.py:257: UserWarning: The settings for perturbing input e.g., 'perturb_func' didn't cause change in input. Reconsider the parameter settings.\n",
      "  warnings.warn(\n",
      "/usr/local/lib/python3.11/dist-packages/quantus/helpers/warn.py:257: UserWarning: The settings for perturbing input e.g., 'perturb_func' didn't cause change in input. Reconsider the parameter settings.\n",
      "  warnings.warn(\n",
      "/usr/local/lib/python3.11/dist-packages/quantus/helpers/warn.py:257: UserWarning: The settings for perturbing input e.g., 'perturb_func' didn't cause change in input. Reconsider the parameter settings.\n",
      "  warnings.warn(\n",
      "/usr/local/lib/python3.11/dist-packages/quantus/helpers/warn.py:257: UserWarning: The settings for perturbing input e.g., 'perturb_func' didn't cause change in input. Reconsider the parameter settings.\n",
      "  warnings.warn(\n",
      "/usr/local/lib/python3.11/dist-packages/quantus/helpers/warn.py:257: UserWarning: The settings for perturbing input e.g., 'perturb_func' didn't cause change in input. Reconsider the parameter settings.\n",
      "  warnings.warn(\n",
      "/usr/local/lib/python3.11/dist-packages/quantus/helpers/warn.py:257: UserWarning: The settings for perturbing input e.g., 'perturb_func' didn't cause change in input. Reconsider the parameter settings.\n",
      "  warnings.warn(\n",
      "/usr/local/lib/python3.11/dist-packages/quantus/helpers/warn.py:257: UserWarning: The settings for perturbing input e.g., 'perturb_func' didn't cause change in input. Reconsider the parameter settings.\n",
      "  warnings.warn(\n",
      "/usr/local/lib/python3.11/dist-packages/quantus/helpers/warn.py:257: UserWarning: The settings for perturbing input e.g., 'perturb_func' didn't cause change in input. Reconsider the parameter settings.\n",
      "  warnings.warn(\n",
      "/usr/local/lib/python3.11/dist-packages/quantus/helpers/warn.py:257: UserWarning: The settings for perturbing input e.g., 'perturb_func' didn't cause change in input. Reconsider the parameter settings.\n",
      "  warnings.warn(\n",
      "/usr/local/lib/python3.11/dist-packages/quantus/helpers/warn.py:257: UserWarning: The settings for perturbing input e.g., 'perturb_func' didn't cause change in input. Reconsider the parameter settings.\n",
      "  warnings.warn(\n",
      "/usr/local/lib/python3.11/dist-packages/quantus/helpers/warn.py:257: UserWarning: The settings for perturbing input e.g., 'perturb_func' didn't cause change in input. Reconsider the parameter settings.\n",
      "  warnings.warn(\n",
      "/usr/local/lib/python3.11/dist-packages/quantus/helpers/warn.py:257: UserWarning: The settings for perturbing input e.g., 'perturb_func' didn't cause change in input. Reconsider the parameter settings.\n",
      "  warnings.warn(\n",
      "/usr/local/lib/python3.11/dist-packages/quantus/helpers/warn.py:257: UserWarning: The settings for perturbing input e.g., 'perturb_func' didn't cause change in input. Reconsider the parameter settings.\n",
      "  warnings.warn(\n",
      "/usr/local/lib/python3.11/dist-packages/quantus/helpers/warn.py:257: UserWarning: The settings for perturbing input e.g., 'perturb_func' didn't cause change in input. Reconsider the parameter settings.\n",
      "  warnings.warn(\n",
      "/usr/local/lib/python3.11/dist-packages/quantus/helpers/warn.py:257: UserWarning: The settings for perturbing input e.g., 'perturb_func' didn't cause change in input. Reconsider the parameter settings.\n",
      "  warnings.warn(\n",
      "/usr/local/lib/python3.11/dist-packages/quantus/helpers/warn.py:257: UserWarning: The settings for perturbing input e.g., 'perturb_func' didn't cause change in input. Reconsider the parameter settings.\n",
      "  warnings.warn(\n",
      "/usr/local/lib/python3.11/dist-packages/quantus/helpers/warn.py:257: UserWarning: The settings for perturbing input e.g., 'perturb_func' didn't cause change in input. Reconsider the parameter settings.\n",
      "  warnings.warn(\n",
      "/usr/local/lib/python3.11/dist-packages/quantus/helpers/warn.py:257: UserWarning: The settings for perturbing input e.g., 'perturb_func' didn't cause change in input. Reconsider the parameter settings.\n",
      "  warnings.warn(\n",
      "/usr/local/lib/python3.11/dist-packages/quantus/helpers/warn.py:257: UserWarning: The settings for perturbing input e.g., 'perturb_func' didn't cause change in input. Reconsider the parameter settings.\n",
      "  warnings.warn(\n",
      "/usr/local/lib/python3.11/dist-packages/quantus/helpers/warn.py:257: UserWarning: The settings for perturbing input e.g., 'perturb_func' didn't cause change in input. Reconsider the parameter settings.\n",
      "  warnings.warn(\n",
      "/usr/local/lib/python3.11/dist-packages/quantus/helpers/warn.py:257: UserWarning: The settings for perturbing input e.g., 'perturb_func' didn't cause change in input. Reconsider the parameter settings.\n",
      "  warnings.warn(\n",
      "/usr/local/lib/python3.11/dist-packages/quantus/helpers/warn.py:257: UserWarning: The settings for perturbing input e.g., 'perturb_func' didn't cause change in input. Reconsider the parameter settings.\n",
      "  warnings.warn(\n",
      "/usr/local/lib/python3.11/dist-packages/quantus/helpers/warn.py:257: UserWarning: The settings for perturbing input e.g., 'perturb_func' didn't cause change in input. Reconsider the parameter settings.\n",
      "  warnings.warn(\n",
      "/usr/local/lib/python3.11/dist-packages/quantus/helpers/warn.py:257: UserWarning: The settings for perturbing input e.g., 'perturb_func' didn't cause change in input. Reconsider the parameter settings.\n",
      "  warnings.warn(\n",
      "/usr/local/lib/python3.11/dist-packages/quantus/helpers/warn.py:257: UserWarning: The settings for perturbing input e.g., 'perturb_func' didn't cause change in input. Reconsider the parameter settings.\n",
      "  warnings.warn(\n",
      "/usr/local/lib/python3.11/dist-packages/quantus/helpers/warn.py:257: UserWarning: The settings for perturbing input e.g., 'perturb_func' didn't cause change in input. Reconsider the parameter settings.\n",
      "  warnings.warn(\n",
      "/usr/local/lib/python3.11/dist-packages/quantus/helpers/warn.py:257: UserWarning: The settings for perturbing input e.g., 'perturb_func' didn't cause change in input. Reconsider the parameter settings.\n",
      "  warnings.warn(\n",
      "/usr/local/lib/python3.11/dist-packages/quantus/helpers/warn.py:257: UserWarning: The settings for perturbing input e.g., 'perturb_func' didn't cause change in input. Reconsider the parameter settings.\n",
      "  warnings.warn(\n",
      "/usr/local/lib/python3.11/dist-packages/quantus/helpers/warn.py:257: UserWarning: The settings for perturbing input e.g., 'perturb_func' didn't cause change in input. Reconsider the parameter settings.\n",
      "  warnings.warn(\n",
      "/usr/local/lib/python3.11/dist-packages/quantus/helpers/warn.py:257: UserWarning: The settings for perturbing input e.g., 'perturb_func' didn't cause change in input. Reconsider the parameter settings.\n",
      "  warnings.warn(\n",
      "/usr/local/lib/python3.11/dist-packages/quantus/helpers/warn.py:257: UserWarning: The settings for perturbing input e.g., 'perturb_func' didn't cause change in input. Reconsider the parameter settings.\n",
      "  warnings.warn(\n",
      "/usr/local/lib/python3.11/dist-packages/quantus/helpers/warn.py:257: UserWarning: The settings for perturbing input e.g., 'perturb_func' didn't cause change in input. Reconsider the parameter settings.\n",
      "  warnings.warn(\n",
      "/usr/local/lib/python3.11/dist-packages/quantus/helpers/warn.py:257: UserWarning: The settings for perturbing input e.g., 'perturb_func' didn't cause change in input. Reconsider the parameter settings.\n",
      "  warnings.warn(\n",
      "/usr/local/lib/python3.11/dist-packages/quantus/helpers/warn.py:257: UserWarning: The settings for perturbing input e.g., 'perturb_func' didn't cause change in input. Reconsider the parameter settings.\n",
      "  warnings.warn(\n",
      "/usr/local/lib/python3.11/dist-packages/quantus/helpers/warn.py:257: UserWarning: The settings for perturbing input e.g., 'perturb_func' didn't cause change in input. Reconsider the parameter settings.\n",
      "  warnings.warn(\n",
      "/usr/local/lib/python3.11/dist-packages/quantus/helpers/warn.py:257: UserWarning: The settings for perturbing input e.g., 'perturb_func' didn't cause change in input. Reconsider the parameter settings.\n",
      "  warnings.warn(\n",
      "/usr/local/lib/python3.11/dist-packages/quantus/helpers/warn.py:257: UserWarning: The settings for perturbing input e.g., 'perturb_func' didn't cause change in input. Reconsider the parameter settings.\n",
      "  warnings.warn(\n",
      "/usr/local/lib/python3.11/dist-packages/quantus/helpers/warn.py:257: UserWarning: The settings for perturbing input e.g., 'perturb_func' didn't cause change in input. Reconsider the parameter settings.\n",
      "  warnings.warn(\n",
      "/usr/local/lib/python3.11/dist-packages/quantus/helpers/warn.py:257: UserWarning: The settings for perturbing input e.g., 'perturb_func' didn't cause change in input. Reconsider the parameter settings.\n",
      "  warnings.warn(\n",
      "/usr/local/lib/python3.11/dist-packages/quantus/helpers/warn.py:257: UserWarning: The settings for perturbing input e.g., 'perturb_func' didn't cause change in input. Reconsider the parameter settings.\n",
      "  warnings.warn(\n",
      "/usr/local/lib/python3.11/dist-packages/quantus/helpers/warn.py:257: UserWarning: The settings for perturbing input e.g., 'perturb_func' didn't cause change in input. Reconsider the parameter settings.\n",
      "  warnings.warn(\n",
      "/usr/local/lib/python3.11/dist-packages/quantus/helpers/warn.py:257: UserWarning: The settings for perturbing input e.g., 'perturb_func' didn't cause change in input. Reconsider the parameter settings.\n",
      "  warnings.warn(\n",
      "/usr/local/lib/python3.11/dist-packages/quantus/helpers/warn.py:257: UserWarning: The settings for perturbing input e.g., 'perturb_func' didn't cause change in input. Reconsider the parameter settings.\n",
      "  warnings.warn(\n",
      "/usr/local/lib/python3.11/dist-packages/quantus/helpers/warn.py:257: UserWarning: The settings for perturbing input e.g., 'perturb_func' didn't cause change in input. Reconsider the parameter settings.\n",
      "  warnings.warn(\n",
      "/usr/local/lib/python3.11/dist-packages/quantus/helpers/warn.py:257: UserWarning: The settings for perturbing input e.g., 'perturb_func' didn't cause change in input. Reconsider the parameter settings.\n",
      "  warnings.warn(\n",
      "/usr/local/lib/python3.11/dist-packages/quantus/helpers/warn.py:257: UserWarning: The settings for perturbing input e.g., 'perturb_func' didn't cause change in input. Reconsider the parameter settings.\n",
      "  warnings.warn(\n",
      "/usr/local/lib/python3.11/dist-packages/quantus/helpers/warn.py:257: UserWarning: The settings for perturbing input e.g., 'perturb_func' didn't cause change in input. Reconsider the parameter settings.\n",
      "  warnings.warn(\n",
      "/usr/local/lib/python3.11/dist-packages/quantus/helpers/warn.py:257: UserWarning: The settings for perturbing input e.g., 'perturb_func' didn't cause change in input. Reconsider the parameter settings.\n",
      "  warnings.warn(\n",
      "/usr/local/lib/python3.11/dist-packages/quantus/helpers/warn.py:257: UserWarning: The settings for perturbing input e.g., 'perturb_func' didn't cause change in input. Reconsider the parameter settings.\n",
      "  warnings.warn(\n",
      "/usr/local/lib/python3.11/dist-packages/quantus/helpers/warn.py:257: UserWarning: The settings for perturbing input e.g., 'perturb_func' didn't cause change in input. Reconsider the parameter settings.\n",
      "  warnings.warn(\n",
      "/usr/local/lib/python3.11/dist-packages/quantus/helpers/warn.py:257: UserWarning: The settings for perturbing input e.g., 'perturb_func' didn't cause change in input. Reconsider the parameter settings.\n",
      "  warnings.warn(\n",
      "/usr/local/lib/python3.11/dist-packages/quantus/helpers/warn.py:257: UserWarning: The settings for perturbing input e.g., 'perturb_func' didn't cause change in input. Reconsider the parameter settings.\n",
      "  warnings.warn(\n"
     ]
    },
    {
     "name": "stdout",
     "output_type": "stream",
     "text": [
      "Faithfulness: Faithfulness Estimate by Alvarez-Melis et al., 2018.\n",
      "\n",
      " • SHAP =  0.34890137748149114\n"
     ]
    },
    {
     "name": "stderr",
     "output_type": "stream",
     "text": [
      "/usr/local/lib/python3.11/dist-packages/quantus/helpers/warn.py:257: UserWarning: The settings for perturbing input e.g., 'perturb_func' didn't cause change in input. Reconsider the parameter settings.\n",
      "  warnings.warn(\n",
      "/usr/local/lib/python3.11/dist-packages/quantus/helpers/warn.py:257: UserWarning: The settings for perturbing input e.g., 'perturb_func' didn't cause change in input. Reconsider the parameter settings.\n",
      "  warnings.warn(\n"
     ]
    }
   ],
   "source": [
    "FaithfulnessEstimate_shap = quantus.FaithfulnessEstimate(\n",
    "    perturb_baseline=\"white\",\n",
    "    perturb_func=quantus.baseline_replacement_by_indices,\n",
    "    features_in_step=1, # features to perturb\n",
    "    similarity_func=quantus.similarity_func.correlation_pearson,\n",
    "    abs=True, # take absolute values of attributions\n",
    "    normalise=False, # do not normalise ohe data\n",
    "    return_aggregate=False, # (not) output 1 val instead of list of vals for all samples\n",
    "    aggregate_func=np.mean,\n",
    "    disable_warnings=True,\n",
    "    display_progressbar=True,\n",
    ")(\n",
    "    model=mlp_wrapped_model,\n",
    "    x_batch=X_test_np,\n",
    "    y_batch=y_test_int,\n",
    "    a_batch=mlp_shap_values,   # use SHAP attributions computed above\n",
    "    explain_func=None      # explanations are precomputed\n",
    ")\n",
    "\n",
    "# Scale to 0-1\n",
    "FaithfulnessEstimate_shap = (FaithfulnessEstimate_shap - np.min(FaithfulnessEstimate_shap)) / (\n",
    "    np.max(FaithfulnessEstimate_shap) - np.min(FaithfulnessEstimate_shap)\n",
    ")\n",
    "\n",
    "# Find mean\n",
    "FaithfulnessEstimate_shap = np.mean(FaithfulnessEstimate_shap)\n",
    "\n",
    "print(\n",
    "    f\"Faithfulness: Faithfulness Estimate by Alvarez-Melis et al., 2018.\\n\"\n",
    "    f\"\\n • SHAP = \",\n",
    "    FaithfulnessEstimate_shap,\n",
    ")"
   ]
  },
  {
   "cell_type": "code",
   "execution_count": null,
   "metadata": {
    "colab": {
     "base_uri": "https://localhost:8080/",
     "height": 1000,
     "referenced_widgets": [
      "896b6f1e77b54e0cae91f7789cc8e528",
      "c430ae6f841841868598eb8d0392ebc1",
      "6d8b056fe288490884151b7c4f3fd7af",
      "b9288a2543764486ae70cb75f468266d",
      "a375a975b37a43a7b79d146b3feb8817",
      "e57ab293f20e4036a3624f6d472ece04",
      "8b5fc7adc103463b82ede05c6dd7bf43",
      "ad971f16894d424cb997fdac7ec8c628",
      "3680160a29e741e6a34f8e7f627b4b6c",
      "be0a0070c04b4500bdaee4b1e68d2266",
      "3e28eba35eb9457dacecc6e39ea5d438"
     ]
    },
    "collapsed": true,
    "executionInfo": {
     "elapsed": 6595,
     "status": "ok",
     "timestamp": 1747752253736,
     "user": {
      "displayName": "Hung Thanh Do",
      "userId": "14602254202234053172"
     },
     "user_tz": -120
    },
    "id": "FP14ta0a834b",
    "outputId": "b7cfa195-e095-4189-dd73-fabb93eb8e1c"
   },
   "outputs": [
    {
     "data": {
      "application/vnd.jupyter.widget-view+json": {
       "model_id": "896b6f1e77b54e0cae91f7789cc8e528",
       "version_major": 2,
       "version_minor": 0
      },
      "text/plain": [
       "  0%|          | 0/2.0 [00:00<?, ?it/s]"
      ]
     },
     "metadata": {},
     "output_type": "display_data"
    },
    {
     "name": "stderr",
     "output_type": "stream",
     "text": [
      "/usr/local/lib/python3.11/dist-packages/captum/attr/_core/deep_lift.py:304: UserWarning: Setting forward, backward hooks and attributes on non-linear\n",
      "               activations. The hooks and attributes will be removed\n",
      "            after the attribution is finished\n",
      "  warnings.warn(\n",
      "/usr/local/lib/python3.11/dist-packages/captum/attr/_core/deep_lift.py:304: UserWarning: Setting forward, backward hooks and attributes on non-linear\n",
      "               activations. The hooks and attributes will be removed\n",
      "            after the attribution is finished\n",
      "  warnings.warn(\n",
      "/usr/local/lib/python3.11/dist-packages/captum/attr/_core/deep_lift.py:304: UserWarning: Setting forward, backward hooks and attributes on non-linear\n",
      "               activations. The hooks and attributes will be removed\n",
      "            after the attribution is finished\n",
      "  warnings.warn(\n",
      "/usr/local/lib/python3.11/dist-packages/captum/attr/_core/deep_lift.py:304: UserWarning: Setting forward, backward hooks and attributes on non-linear\n",
      "               activations. The hooks and attributes will be removed\n",
      "            after the attribution is finished\n",
      "  warnings.warn(\n",
      "/usr/local/lib/python3.11/dist-packages/captum/attr/_core/deep_lift.py:304: UserWarning: Setting forward, backward hooks and attributes on non-linear\n",
      "               activations. The hooks and attributes will be removed\n",
      "            after the attribution is finished\n",
      "  warnings.warn(\n",
      "/usr/local/lib/python3.11/dist-packages/captum/attr/_core/deep_lift.py:304: UserWarning: Setting forward, backward hooks and attributes on non-linear\n",
      "               activations. The hooks and attributes will be removed\n",
      "            after the attribution is finished\n",
      "  warnings.warn(\n",
      "/usr/local/lib/python3.11/dist-packages/captum/attr/_core/deep_lift.py:304: UserWarning: Setting forward, backward hooks and attributes on non-linear\n",
      "               activations. The hooks and attributes will be removed\n",
      "            after the attribution is finished\n",
      "  warnings.warn(\n",
      "/usr/local/lib/python3.11/dist-packages/captum/attr/_core/deep_lift.py:304: UserWarning: Setting forward, backward hooks and attributes on non-linear\n",
      "               activations. The hooks and attributes will be removed\n",
      "            after the attribution is finished\n",
      "  warnings.warn(\n",
      "/usr/local/lib/python3.11/dist-packages/captum/attr/_core/deep_lift.py:304: UserWarning: Setting forward, backward hooks and attributes on non-linear\n",
      "               activations. The hooks and attributes will be removed\n",
      "            after the attribution is finished\n",
      "  warnings.warn(\n",
      "/usr/local/lib/python3.11/dist-packages/captum/attr/_core/deep_lift.py:304: UserWarning: Setting forward, backward hooks and attributes on non-linear\n",
      "               activations. The hooks and attributes will be removed\n",
      "            after the attribution is finished\n",
      "  warnings.warn(\n",
      "/usr/local/lib/python3.11/dist-packages/captum/attr/_core/deep_lift.py:304: UserWarning: Setting forward, backward hooks and attributes on non-linear\n",
      "               activations. The hooks and attributes will be removed\n",
      "            after the attribution is finished\n",
      "  warnings.warn(\n",
      "/usr/local/lib/python3.11/dist-packages/captum/attr/_core/deep_lift.py:304: UserWarning: Setting forward, backward hooks and attributes on non-linear\n",
      "               activations. The hooks and attributes will be removed\n",
      "            after the attribution is finished\n",
      "  warnings.warn(\n",
      "/usr/local/lib/python3.11/dist-packages/captum/attr/_core/deep_lift.py:304: UserWarning: Setting forward, backward hooks and attributes on non-linear\n",
      "               activations. The hooks and attributes will be removed\n",
      "            after the attribution is finished\n",
      "  warnings.warn(\n",
      "/usr/local/lib/python3.11/dist-packages/captum/attr/_core/deep_lift.py:304: UserWarning: Setting forward, backward hooks and attributes on non-linear\n",
      "               activations. The hooks and attributes will be removed\n",
      "            after the attribution is finished\n",
      "  warnings.warn(\n",
      "/usr/local/lib/python3.11/dist-packages/captum/attr/_core/deep_lift.py:304: UserWarning: Setting forward, backward hooks and attributes on non-linear\n",
      "               activations. The hooks and attributes will be removed\n",
      "            after the attribution is finished\n",
      "  warnings.warn(\n",
      "/usr/local/lib/python3.11/dist-packages/captum/attr/_core/deep_lift.py:304: UserWarning: Setting forward, backward hooks and attributes on non-linear\n",
      "               activations. The hooks and attributes will be removed\n",
      "            after the attribution is finished\n",
      "  warnings.warn(\n",
      "/usr/local/lib/python3.11/dist-packages/captum/attr/_core/deep_lift.py:304: UserWarning: Setting forward, backward hooks and attributes on non-linear\n",
      "               activations. The hooks and attributes will be removed\n",
      "            after the attribution is finished\n",
      "  warnings.warn(\n",
      "/usr/local/lib/python3.11/dist-packages/captum/attr/_core/deep_lift.py:304: UserWarning: Setting forward, backward hooks and attributes on non-linear\n",
      "               activations. The hooks and attributes will be removed\n",
      "            after the attribution is finished\n",
      "  warnings.warn(\n",
      "/usr/local/lib/python3.11/dist-packages/captum/attr/_core/deep_lift.py:304: UserWarning: Setting forward, backward hooks and attributes on non-linear\n",
      "               activations. The hooks and attributes will be removed\n",
      "            after the attribution is finished\n",
      "  warnings.warn(\n",
      "/usr/local/lib/python3.11/dist-packages/captum/attr/_core/deep_lift.py:304: UserWarning: Setting forward, backward hooks and attributes on non-linear\n",
      "               activations. The hooks and attributes will be removed\n",
      "            after the attribution is finished\n",
      "  warnings.warn(\n",
      "/usr/local/lib/python3.11/dist-packages/captum/attr/_core/deep_lift.py:304: UserWarning: Setting forward, backward hooks and attributes on non-linear\n",
      "               activations. The hooks and attributes will be removed\n",
      "            after the attribution is finished\n",
      "  warnings.warn(\n",
      "/usr/local/lib/python3.11/dist-packages/captum/attr/_core/deep_lift.py:304: UserWarning: Setting forward, backward hooks and attributes on non-linear\n",
      "               activations. The hooks and attributes will be removed\n",
      "            after the attribution is finished\n",
      "  warnings.warn(\n",
      "/usr/local/lib/python3.11/dist-packages/captum/attr/_core/deep_lift.py:304: UserWarning: Setting forward, backward hooks and attributes on non-linear\n",
      "               activations. The hooks and attributes will be removed\n",
      "            after the attribution is finished\n",
      "  warnings.warn(\n",
      "/usr/local/lib/python3.11/dist-packages/captum/attr/_core/deep_lift.py:304: UserWarning: Setting forward, backward hooks and attributes on non-linear\n",
      "               activations. The hooks and attributes will be removed\n",
      "            after the attribution is finished\n",
      "  warnings.warn(\n",
      "/usr/local/lib/python3.11/dist-packages/captum/attr/_core/deep_lift.py:304: UserWarning: Setting forward, backward hooks and attributes on non-linear\n",
      "               activations. The hooks and attributes will be removed\n",
      "            after the attribution is finished\n",
      "  warnings.warn(\n",
      "/usr/local/lib/python3.11/dist-packages/captum/attr/_core/deep_lift.py:304: UserWarning: Setting forward, backward hooks and attributes on non-linear\n",
      "               activations. The hooks and attributes will be removed\n",
      "            after the attribution is finished\n",
      "  warnings.warn(\n",
      "/usr/local/lib/python3.11/dist-packages/captum/attr/_core/deep_lift.py:304: UserWarning: Setting forward, backward hooks and attributes on non-linear\n",
      "               activations. The hooks and attributes will be removed\n",
      "            after the attribution is finished\n",
      "  warnings.warn(\n",
      "/usr/local/lib/python3.11/dist-packages/captum/attr/_core/deep_lift.py:304: UserWarning: Setting forward, backward hooks and attributes on non-linear\n",
      "               activations. The hooks and attributes will be removed\n",
      "            after the attribution is finished\n",
      "  warnings.warn(\n",
      "/usr/local/lib/python3.11/dist-packages/captum/attr/_core/deep_lift.py:304: UserWarning: Setting forward, backward hooks and attributes on non-linear\n",
      "               activations. The hooks and attributes will be removed\n",
      "            after the attribution is finished\n",
      "  warnings.warn(\n",
      "/usr/local/lib/python3.11/dist-packages/captum/attr/_core/deep_lift.py:304: UserWarning: Setting forward, backward hooks and attributes on non-linear\n",
      "               activations. The hooks and attributes will be removed\n",
      "            after the attribution is finished\n",
      "  warnings.warn(\n",
      "/usr/local/lib/python3.11/dist-packages/captum/attr/_core/deep_lift.py:304: UserWarning: Setting forward, backward hooks and attributes on non-linear\n",
      "               activations. The hooks and attributes will be removed\n",
      "            after the attribution is finished\n",
      "  warnings.warn(\n",
      "/usr/local/lib/python3.11/dist-packages/captum/attr/_core/deep_lift.py:304: UserWarning: Setting forward, backward hooks and attributes on non-linear\n",
      "               activations. The hooks and attributes will be removed\n",
      "            after the attribution is finished\n",
      "  warnings.warn(\n",
      "/usr/local/lib/python3.11/dist-packages/captum/attr/_core/deep_lift.py:304: UserWarning: Setting forward, backward hooks and attributes on non-linear\n",
      "               activations. The hooks and attributes will be removed\n",
      "            after the attribution is finished\n",
      "  warnings.warn(\n",
      "/usr/local/lib/python3.11/dist-packages/captum/attr/_core/deep_lift.py:304: UserWarning: Setting forward, backward hooks and attributes on non-linear\n",
      "               activations. The hooks and attributes will be removed\n",
      "            after the attribution is finished\n",
      "  warnings.warn(\n",
      "/usr/local/lib/python3.11/dist-packages/captum/attr/_core/deep_lift.py:304: UserWarning: Setting forward, backward hooks and attributes on non-linear\n",
      "               activations. The hooks and attributes will be removed\n",
      "            after the attribution is finished\n",
      "  warnings.warn(\n",
      "/usr/local/lib/python3.11/dist-packages/captum/attr/_core/deep_lift.py:304: UserWarning: Setting forward, backward hooks and attributes on non-linear\n",
      "               activations. The hooks and attributes will be removed\n",
      "            after the attribution is finished\n",
      "  warnings.warn(\n",
      "/usr/local/lib/python3.11/dist-packages/captum/attr/_core/deep_lift.py:304: UserWarning: Setting forward, backward hooks and attributes on non-linear\n",
      "               activations. The hooks and attributes will be removed\n",
      "            after the attribution is finished\n",
      "  warnings.warn(\n",
      "/usr/local/lib/python3.11/dist-packages/captum/attr/_core/deep_lift.py:304: UserWarning: Setting forward, backward hooks and attributes on non-linear\n",
      "               activations. The hooks and attributes will be removed\n",
      "            after the attribution is finished\n",
      "  warnings.warn(\n",
      "/usr/local/lib/python3.11/dist-packages/captum/attr/_core/deep_lift.py:304: UserWarning: Setting forward, backward hooks and attributes on non-linear\n",
      "               activations. The hooks and attributes will be removed\n",
      "            after the attribution is finished\n",
      "  warnings.warn(\n",
      "/usr/local/lib/python3.11/dist-packages/captum/attr/_core/deep_lift.py:304: UserWarning: Setting forward, backward hooks and attributes on non-linear\n",
      "               activations. The hooks and attributes will be removed\n",
      "            after the attribution is finished\n",
      "  warnings.warn(\n",
      "/usr/local/lib/python3.11/dist-packages/captum/attr/_core/deep_lift.py:304: UserWarning: Setting forward, backward hooks and attributes on non-linear\n",
      "               activations. The hooks and attributes will be removed\n",
      "            after the attribution is finished\n",
      "  warnings.warn(\n"
     ]
    },
    {
     "name": "stdout",
     "output_type": "stream",
     "text": [
      "Robustness: Local Lipschitz Estimate by Alvarez-Melis et al., 2018.\n",
      "\n",
      " • SHAP =  0.4487262868298595\n"
     ]
    },
    {
     "name": "stderr",
     "output_type": "stream",
     "text": [
      "/usr/local/lib/python3.11/dist-packages/captum/attr/_core/deep_lift.py:304: UserWarning: Setting forward, backward hooks and attributes on non-linear\n",
      "               activations. The hooks and attributes will be removed\n",
      "            after the attribution is finished\n",
      "  warnings.warn(\n"
     ]
    }
   ],
   "source": [
    "LocalLipschitzEstimate_shap = quantus.LocalLipschitzEstimate(\n",
    "    normalise=False,\n",
    "    abs=True, # take absolute values of attributions\n",
    "    nr_samples = 20,\n",
    "    disable_warnings=True,\n",
    "    display_progressbar=True,\n",
    "    # return_aggregate=True, # find the mean of the complexity from all samples\n",
    "    aggregate_func=np.mean,\n",
    ")(\n",
    "    model=mlp_wrapped_model,\n",
    "    x_batch=X_test_np,\n",
    "    y_batch=y_test_int,\n",
    "    # a_batch=shap_values,   # use SHAP attributions computed above\n",
    "    # explain_func=None      # explanations are precomputed\n",
    "    a_batch=None,\n",
    "    explain_func=quantus.explain,\n",
    "    explain_func_kwargs={\"method\": \"DeepLiftShap\", \"reduce_axes\": ()},\n",
    "    # explain_func_kwargs={\"method\": \"GradientShap\", \"reduce_axes\": ()},\n",
    ")\n",
    "\n",
    "# Scale to 0-1\n",
    "LocalLipschitzEstimate_shap = (LocalLipschitzEstimate_shap - np.min(LocalLipschitzEstimate_shap)) / (\n",
    "    np.max(LocalLipschitzEstimate_shap) - np.min(LocalLipschitzEstimate_shap)\n",
    ")\n",
    "\n",
    "# Find mean\n",
    "LocalLipschitzEstimate_shap = np.mean(LocalLipschitzEstimate_shap)\n",
    "\n",
    "print(\n",
    "    f\"Robustness: Local Lipschitz Estimate by Alvarez-Melis et al., 2018.\\n\"\n",
    "    f\"\\n • SHAP = \",\n",
    "    LocalLipschitzEstimate_shap,\n",
    ")"
   ]
  },
  {
   "cell_type": "code",
   "execution_count": null,
   "metadata": {
    "colab": {
     "base_uri": "https://localhost:8080/",
     "height": 104,
     "referenced_widgets": [
      "e53763f569e648f5a52617625800fee3",
      "e000fb7d066f45f6af169a09d05aceb9",
      "5d5bdbc66cde47328231621c24a75614",
      "bf00517dd7e04f7792fc4c30db2c3e9b",
      "79d16fa742034ab186404e8981e99eab",
      "a96d6faa911e417382040fa017162c25",
      "9d0ddcee0c4040d2974ccbeb5dcd1dd9",
      "9cfb2d1559454984b8e54b5d2bdd1523",
      "cc2a9d6f84e7459aab13a2b2ba0a5ff1",
      "85d7d2136b6e454fb6570a4f097c5f38",
      "776199c7dc644ef4a90e4c63b5254e01"
     ]
    },
    "executionInfo": {
     "elapsed": 416,
     "status": "ok",
     "timestamp": 1747752256003,
     "user": {
      "displayName": "Hung Thanh Do",
      "userId": "14602254202234053172"
     },
     "user_tz": -120
    },
    "id": "zI7ujpVl834b",
    "outputId": "c2d6f248-b6db-422f-b140-966424d1f839"
   },
   "outputs": [
    {
     "data": {
      "application/vnd.jupyter.widget-view+json": {
       "model_id": "e53763f569e648f5a52617625800fee3",
       "version_major": 2,
       "version_minor": 0
      },
      "text/plain": [
       "  0%|          | 0/2.0 [00:00<?, ?it/s]"
      ]
     },
     "metadata": {},
     "output_type": "display_data"
    },
    {
     "name": "stdout",
     "output_type": "stream",
     "text": [
      "Randomisation: RandomLogit scores by Sixt et al., 2020.\n",
      "\n",
      " • SHAP =  [np.float64(1.0)]\n"
     ]
    }
   ],
   "source": [
    "RandomLogit_shap = quantus.RandomLogit(\n",
    "    num_classes=2,\n",
    "    disable_warnings=True,\n",
    "    normalise=False,\n",
    "    abs=True, # take absolute values of attributions\n",
    "    display_progressbar=True,\n",
    "    return_aggregate=True, # find the mean of the complexity from all samples\n",
    "    aggregate_func=np.mean,\n",
    ")(\n",
    "    model=mlp_wrapped_model,\n",
    "    x_batch=X_test_np,\n",
    "    y_batch=y_test_int,\n",
    "    # a_batch=shap_values,   # use SHAP attributions computed above\n",
    "    # explain_func=None      # explanations are precomputed\n",
    "    a_batch=None,\n",
    "    explain_func=quantus.explain,\n",
    "    explain_func_kwargs={\"method\": \"GradientShap\", \"reduce_axes\": ()},\n",
    ")\n",
    "\n",
    "# Already scaled to 0-1 -> keep aggregated (mean)\n",
    "\n",
    "print(\n",
    "    f\"Randomisation: RandomLogit scores by Sixt et al., 2020.\\n\"\n",
    "    f\"\\n • SHAP = \",\n",
    "    RandomLogit_shap,\n",
    ")"
   ]
  },
  {
   "cell_type": "code",
   "execution_count": null,
   "metadata": {
    "colab": {
     "base_uri": "https://localhost:8080/",
     "height": 104,
     "referenced_widgets": [
      "414cb5772ee04fc791909e55d4bf4026",
      "f60f9fe619da486f8151ce28bb556f39",
      "38cb1ea77674424680d792ccfea72e10",
      "5c80e5727b4a4a5c8b4b7a86ac5d93a7",
      "5e5fdd48662f41edb884880eaa95c4e6",
      "de1bfb4d49bc4f33b6fc2dc4d88e5c4c",
      "e57ad63fb0fb43ebbebeffcf5522a355",
      "75cfb0f9cac44743ac2a378b9f849183",
      "9496411aa7cb4591b195a853c442cdbf",
      "23991b31ed58438c8026416e8c99d89d",
      "9c8dc2da65784579a1f4b656ad46516a"
     ]
    },
    "executionInfo": {
     "elapsed": 127,
     "status": "ok",
     "timestamp": 1747752274427,
     "user": {
      "displayName": "Hung Thanh Do",
      "userId": "14602254202234053172"
     },
     "user_tz": -120
    },
    "id": "Lhnls5SP834b",
    "outputId": "db21d714-2663-4295-e4c9-3474624a8159"
   },
   "outputs": [
    {
     "data": {
      "application/vnd.jupyter.widget-view+json": {
       "model_id": "414cb5772ee04fc791909e55d4bf4026",
       "version_major": 2,
       "version_minor": 0
      },
      "text/plain": [
       "  0%|          | 0/100 [00:00<?, ?it/s]"
      ]
     },
     "metadata": {},
     "output_type": "display_data"
    },
    {
     "name": "stdout",
     "output_type": "stream",
     "text": [
      "Randomisation: MPRT scores by Adebayo et al., 2018\n",
      "\n",
      " • SHAP =  0.8672812438132176\n"
     ]
    }
   ],
   "source": [
    "MPRT_shap = quantus.MPRT(\n",
    "    # similarity_func=quantus.similarity_func.correlation_spearman,\n",
    "    return_average_correlation=True,\n",
    "    # return_aggregate=True, # find the mean of the complexity from all samples\n",
    "    aggregate_func=np.mean,\n",
    "    layer_order=\"independent\",\n",
    "    similarity_func=quantus.ssim,\n",
    "    disable_warnings=True,\n",
    "    normalise=False,\n",
    "    abs=True, # take absolute values of attributions\n",
    "    display_progressbar=True,\n",
    ")(\n",
    "    model=mlp_wrapped_model,\n",
    "    x_batch=X_test_np,\n",
    "    y_batch=y_test_int,\n",
    "    # a_batch=shap_values,   # use SHAP attributions computed above\n",
    "    # explain_func=None      # explanations are precomputed\n",
    "    a_batch=None,\n",
    "    explain_func=quantus.explain,\n",
    "    explain_func_kwargs={\"method\": \"GradientShap\", \"reduce_axes\": ()},\n",
    ")\n",
    "\n",
    "# Scale to 0-1\n",
    "MPRT_shap = (MPRT_shap - np.min(MPRT_shap)) / (\n",
    "    np.max(MPRT_shap) - np.min(MPRT_shap)\n",
    ")\n",
    "\n",
    "# Find mean\n",
    "MPRT_shap = np.mean(MPRT_shap)\n",
    "\n",
    "print(\n",
    "    f\"Randomisation: MPRT scores by Adebayo et al., 2018\\n\"\n",
    "    f\"\\n • SHAP = \",\n",
    "    MPRT_shap,\n",
    ")"
   ]
  },
  {
   "cell_type": "code",
   "execution_count": null,
   "metadata": {
    "colab": {
     "base_uri": "https://localhost:8080/"
    },
    "executionInfo": {
     "elapsed": 11,
     "status": "ok",
     "timestamp": 1747752277524,
     "user": {
      "displayName": "Hung Thanh Do",
      "userId": "14602254202234053172"
     },
     "user_tz": -120
    },
    "id": "8asgESIt834b",
    "outputId": "4c95b4ba-4065-4647-ae4d-4f8266a25858"
   },
   "outputs": [
    {
     "name": "stderr",
     "output_type": "stream",
     "text": [
      "<ipython-input-272-acd3cc85ebb0>:12: DeprecationWarning: Conversion of an array with ndim > 0 to a scalar is deprecated, and will error in future. Ensure you extract a single element from your array before performing this operation. (Deprecated NumPy 1.25.)\n",
      "  Sparseness_shap = round(float(Sparseness_shap), 4)\n",
      "<ipython-input-272-acd3cc85ebb0>:14: DeprecationWarning: Conversion of an array with ndim > 0 to a scalar is deprecated, and will error in future. Ensure you extract a single element from your array before performing this operation. (Deprecated NumPy 1.25.)\n",
      "  RandomLogit_shap = round(float(RandomLogit_shap), 4)\n"
     ]
    }
   ],
   "source": [
    "# Convert from list to int\n",
    "Complexity_shap = np.float64(Complexity_shap)\n",
    "Sparseness_shap = np.float64(Sparseness_shap)\n",
    "MPRT_shap = np.float64(MPRT_shap)\n",
    "RandomLogit_shap = np.float64(RandomLogit_shap)\n",
    "FaithfulnessEstimate_shap = np.float64(FaithfulnessEstimate_shap)\n",
    "FaithfulnessCorrelation_shap = np.float64(FaithfulnessCorrelation_shap)\n",
    "LocalLipschitzEstimate_shap = np.float64(LocalLipschitzEstimate_shap)\n",
    "\n",
    "# Rounding one by one\n",
    "Complexity_shap = round(float(Complexity_shap), 4)\n",
    "Sparseness_shap = round(float(Sparseness_shap), 4)\n",
    "MPRT_shap = round(float(MPRT_shap), 4)\n",
    "RandomLogit_shap = round(float(RandomLogit_shap), 4)\n",
    "FaithfulnessEstimate_shap = round(float(FaithfulnessEstimate_shap), 4)\n",
    "FaithfulnessCorrelation_shap = round(float(FaithfulnessCorrelation_shap), 4)\n",
    "LocalLipschitzEstimate_shap = round(float(LocalLipschitzEstimate_shap), 4)"
   ]
  },
  {
   "cell_type": "code",
   "execution_count": null,
   "metadata": {
    "colab": {
     "base_uri": "https://localhost:8080/",
     "height": 439
    },
    "executionInfo": {
     "elapsed": 6,
     "status": "ok",
     "timestamp": 1747752279828,
     "user": {
      "displayName": "Hung Thanh Do",
      "userId": "14602254202234053172"
     },
     "user_tz": -120
    },
    "id": "LnUolIgv834b",
    "outputId": "158c329d-2272-416e-8b89-b58db3397589"
   },
   "outputs": [
    {
     "data": {
      "text/markdown": [
       "#### Explanability scores"
      ],
      "text/plain": [
       "<IPython.core.display.Markdown object>"
      ]
     },
     "metadata": {},
     "output_type": "display_data"
    },
    {
     "name": "stdout",
     "output_type": "stream",
     "text": [
      "Complexity: Complexity by Bhatt et al., 2020.\n",
      "\n",
      " • SHAP =  0.6935\n",
      "Complexity: Sparseness by Chalasani et al., 2020.\n",
      "\n",
      " • SHAP =  0.7202\n",
      "Faithfulness: Faithfulness Estimate by Alvarez-Melis et al., 2018.\n",
      "\n",
      " • SHAP =  0.3489\n",
      "Faithfulness: Faithfulness Correlation by Bhatt et al., 2020.\n",
      "\n",
      " • SHAP =  0.4979\n",
      "Robustness: Local Lipschitz Estimate by Alvarez-Melis et al., 2018.\n",
      "\n",
      " • SHAP =  0.4487\n",
      "Randomisation: MPRT scores by Adebayo et al., 2018\n",
      "\n",
      " • SHAP =  0.8673\n",
      "Randomisation: RandomLogit scores by Sixt et al., 2020.\n",
      "\n",
      " • SHAP =  1.0\n"
     ]
    }
   ],
   "source": [
    "display(Markdown(\"#### Explanability scores\"))\n",
    "\n",
    "# Complexity: Complexity\n",
    "print(\n",
    "    f\"Complexity: Complexity by Bhatt et al., 2020.\\n\"\n",
    "    f\"\\n • SHAP = \",\n",
    "    Complexity_shap,\n",
    ")\n",
    "\n",
    "# Complexity: Sparseness\n",
    "print(\n",
    "    f\"Complexity: Sparseness by Chalasani et al., 2020.\\n\"\n",
    "    f\"\\n • SHAP = \",\n",
    "    Sparseness_shap,\n",
    ")\n",
    "\n",
    "# Faithfulness: Faithfulness Estimate\n",
    "print(\n",
    "    f\"Faithfulness: Faithfulness Estimate by Alvarez-Melis et al., 2018.\\n\"\n",
    "    f\"\\n • SHAP = \",\n",
    "    FaithfulnessEstimate_shap,\n",
    ")\n",
    "\n",
    "# Faithfulness: Faithfulness Correlation\n",
    "print(\n",
    "    f\"Faithfulness: Faithfulness Correlation by Bhatt et al., 2020.\\n\"\n",
    "    f\"\\n • SHAP = \",\n",
    "    FaithfulnessCorrelation_shap,\n",
    ")\n",
    "\n",
    "# Robustness: Local Lipschitz Estimate\n",
    "print(\n",
    "    f\"Robustness: Local Lipschitz Estimate by Alvarez-Melis et al., 2018.\\n\"\n",
    "    f\"\\n • SHAP = \",\n",
    "    LocalLipschitzEstimate_shap,\n",
    ")\n",
    "\n",
    "# Randomisation: MPRT\n",
    "print(\n",
    "    f\"Randomisation: MPRT scores by Adebayo et al., 2018\\n\"\n",
    "    f\"\\n • SHAP = \",\n",
    "    MPRT_shap,\n",
    ")\n",
    "\n",
    "# Randomisation: RandomLogit\n",
    "print(\n",
    "    f\"Randomisation: RandomLogit scores by Sixt et al., 2020.\\n\"\n",
    "    f\"\\n • SHAP = \",\n",
    "    RandomLogit_shap,\n",
    ")"
   ]
  },
  {
   "cell_type": "code",
   "execution_count": null,
   "metadata": {
    "colab": {
     "base_uri": "https://localhost:8080/",
     "height": 202
    },
    "executionInfo": {
     "elapsed": 27,
     "status": "ok",
     "timestamp": 1747752285668,
     "user": {
      "displayName": "Hung Thanh Do",
      "userId": "14602254202234053172"
     },
     "user_tz": -120
    },
    "id": "ZHohqOhu834b",
    "outputId": "3183687f-588b-46d2-ee5d-b7737399c3f3"
   },
   "outputs": [
    {
     "data": {
      "text/markdown": [
       "#### Explanability scores (grouped)"
      ],
      "text/plain": [
       "<IPython.core.display.Markdown object>"
      ]
     },
     "metadata": {},
     "output_type": "display_data"
    },
    {
     "name": "stdout",
     "output_type": "stream",
     "text": [
      "Complexity\n",
      " • SHAP =  0.7068\n",
      "Faithfulness\n",
      " • SHAP =  0.4234\n",
      "Robustness\n",
      " • SHAP =  0.4487\n",
      "Randomisation\n",
      " • SHAP =  0.9336\n"
     ]
    }
   ],
   "source": [
    "display(Markdown(\"#### Explanability scores (grouped)\"))\n",
    "\n",
    "# Complexity: Complexity and Sparseness\n",
    "print(\n",
    "    f\"Complexity\"\n",
    "    f\"\\n • SHAP = \",\n",
    "    round(float((Complexity_shap+Sparseness_shap)/2), 4),\n",
    ")\n",
    "\n",
    "# Faithfulness: Faithfulness Estimate and Faithfulness Correlation\n",
    "print(\n",
    "    f\"Faithfulness\"\n",
    "    f\"\\n • SHAP = \",\n",
    "    round(float((FaithfulnessEstimate_shap+FaithfulnessCorrelation_shap)/2), 4),\n",
    ")\n",
    "\n",
    "# Robustness: Local Lipschitz Estimate\n",
    "print(\n",
    "    f\"Robustness\"\n",
    "    f\"\\n • SHAP = \",\n",
    "    round(float((LocalLipschitzEstimate_shap)), 4),\n",
    ")\n",
    "\n",
    "# Randomisation: MPRT and RandomLogit\n",
    "print(\n",
    "    f\"Randomisation\"\n",
    "    f\"\\n • SHAP = \",\n",
    "    round(float((MPRT_shap+RandomLogit_shap)/2), 4)\n",
    ")"
   ]
  },
  {
   "cell_type": "markdown",
   "metadata": {
    "id": "LRvfCrguYQeJ"
   },
   "source": [
    "## TabResNet"
   ]
  },
  {
   "cell_type": "markdown",
   "metadata": {
    "id": "ki-IgGuwcC0k"
   },
   "source": [
    "### SHAP"
   ]
  },
  {
   "cell_type": "code",
   "execution_count": null,
   "metadata": {
    "id": "51K43fBAcC0l"
   },
   "outputs": [],
   "source": [
    "# ---------------------------\n",
    "# SHAP Explanation Setup\n",
    "# ---------------------------\n",
    "# Define a prediction function for SHAP that returns the probability for class 1.\n",
    "def f_shap(X):\n",
    "    model.eval()\n",
    "    with torch.no_grad():\n",
    "        X_tensor = torch.from_numpy(np.atleast_2d(X).astype(np.float32))\n",
    "        logits = model(X_tensor)\n",
    "        probs = torch.softmax(logits, dim=1).cpu().numpy()\n",
    "        return probs[:, 1]  # return probability for class 1"
   ]
  },
  {
   "cell_type": "code",
   "execution_count": null,
   "metadata": {
    "id": "TrGUamn-cC0l"
   },
   "outputs": [],
   "source": [
    "# Use a subset of test data as background (e.g., 50 samples)\n",
    "background = X_test_np[:100]\n",
    "explainer = shap.KernelExplainer(f_shap, background)"
   ]
  },
  {
   "cell_type": "code",
   "execution_count": null,
   "metadata": {
    "colab": {
     "base_uri": "https://localhost:8080/",
     "height": 49,
     "referenced_widgets": [
      "7d64ac4e24034b1887bb925cdf8e68be",
      "658e07026aeb4d23aa5e307d86485f48",
      "d4ca6dc6e1384ca69503ab58c9c45878",
      "c38fa81470d94e16b3a5e379d51dcfca",
      "fe3bba576c7e496aa38bed7c452550d9",
      "82531dc1092a4fa4a6a8254c8539e0ab",
      "369465c835264736bf6c107e26b2796a",
      "bda381c8602143a083d2bfa95826e4ae",
      "a1060baa24ad461eaedb6bffc19285c8",
      "68c46b6520c54d33b9f76d7ddecaca20",
      "a7fda581f884466c81436bc95195b71a"
     ]
    },
    "executionInfo": {
     "elapsed": 1800,
     "status": "ok",
     "timestamp": 1747738865738,
     "user": {
      "displayName": "Hung Thanh Do",
      "userId": "14602254202234053172"
     },
     "user_tz": -120
    },
    "id": "Ugez67gzRzxS",
    "outputId": "b007f3ea-a8c4-4131-c9a0-419db10497ce"
   },
   "outputs": [
    {
     "data": {
      "application/vnd.jupyter.widget-view+json": {
       "model_id": "7d64ac4e24034b1887bb925cdf8e68be",
       "version_major": 2,
       "version_minor": 0
      },
      "text/plain": [
       "  0%|          | 0/100 [00:00<?, ?it/s]"
      ]
     },
     "metadata": {},
     "output_type": "display_data"
    }
   ],
   "source": [
    "# Compute SHAP values for the entire test set\n",
    "shap_values = explainer.shap_values(X_test_np, nsamples=100)"
   ]
  },
  {
   "cell_type": "code",
   "execution_count": null,
   "metadata": {
    "colab": {
     "base_uri": "https://localhost:8080/",
     "height": 957
    },
    "executionInfo": {
     "elapsed": 1018,
     "status": "ok",
     "timestamp": 1747738868235,
     "user": {
      "displayName": "Hung Thanh Do",
      "userId": "14602254202234053172"
     },
     "user_tz": -120
    },
    "id": "7-fBEqnSR2-4",
    "outputId": "690243b0-8528-49ef-edf4-8748504cac8b"
   },
   "outputs": [
    {
     "data": {
      "image/png": "[encoded data removed]",
      "text/plain": [
       "<Figure size 800x950 with 2 Axes>"
      ]
     },
     "metadata": {},
     "output_type": "display_data"
    }
   ],
   "source": [
    "# shap_values is an array with shape (n_samples, n_features)\n",
    "shap.summary_plot(shap_values, X_test_np, feature_names=X_test.columns)"
   ]
  },
  {
   "cell_type": "code",
   "execution_count": null,
   "metadata": {
    "id": "92Nbb_woWwEc"
   },
   "outputs": [],
   "source": [
    "import pickle"
   ]
  },
  {
   "cell_type": "code",
   "execution_count": null,
   "metadata": {
    "id": "h2WZPLBzWxkN"
   },
   "outputs": [],
   "source": [
    "with open('saved_shap/tabresnet_shap_values_german.pkl', 'wb') as f:\n",
    "    pickle.dump(shap_values, f)"
   ]
  },
  {
   "cell_type": "code",
   "execution_count": null,
   "metadata": {
    "id": "wlAoHCt-Wyvi"
   },
   "outputs": [],
   "source": [
    "with open('saved_shap/tabresnet_shap_values_german.pkl', 'rb') as f:\n",
    "    shap_values = pickle.load(f)"
   ]
  },
  {
   "cell_type": "markdown",
   "metadata": {
    "id": "WeKnka-4W8Wr"
   },
   "source": [
    "### Quantus"
   ]
  },
  {
   "cell_type": "code",
   "execution_count": null,
   "metadata": {
    "colab": {
     "base_uri": "https://localhost:8080/"
    },
    "collapsed": true,
    "executionInfo": {
     "elapsed": 22,
     "status": "ok",
     "timestamp": 1747738955738,
     "user": {
      "displayName": "Hung Thanh Do",
      "userId": "14602254202234053172"
     },
     "user_tz": -120
    },
    "id": "m7Ly3zVDcC0m",
    "outputId": "13ae185e-c846-4972-c85a-2fec2b0f4621"
   },
   "outputs": [
    {
     "data": {
      "text/plain": [
       "TorchModelWrapper(\n",
       "  (model): TabResNet(\n",
       "    (input_projection): Linear(in_features=22, out_features=16, bias=True)\n",
       "    (resblocks): ModuleList(\n",
       "      (0-1): 2 x TabResBlock(\n",
       "        (bn1): BatchNorm1d(16, eps=1e-05, momentum=0.1, affine=True, track_running_stats=True)\n",
       "        (ln1): Linear(in_features=16, out_features=32, bias=True)\n",
       "        (relu1): ReLU()\n",
       "        (drop1): Dropout(p=0.2, inplace=False)\n",
       "        (ln2): Linear(in_features=32, out_features=16, bias=True)\n",
       "        (drop2): Dropout(p=0.4, inplace=False)\n",
       "      )\n",
       "    )\n",
       "    (predblock): Sequential(\n",
       "      (0): BatchNorm1d(16, eps=1e-05, momentum=0.1, affine=True, track_running_stats=True)\n",
       "      (1): ReLU()\n",
       "      (2): Linear(in_features=16, out_features=2, bias=True)\n",
       "    )\n",
       "  )\n",
       ")"
      ]
     },
     "execution_count": 100,
     "metadata": {},
     "output_type": "execute_result"
    }
   ],
   "source": [
    "# ---------------------------\n",
    "# Wrap Model for Quantus FaithfulnessCorrelation\n",
    "# ---------------------------\n",
    "class TorchModelWrapper(nn.Module):\n",
    "    def __init__(self, model):\n",
    "        super(TorchModelWrapper, self).__init__()\n",
    "        self.model = model\n",
    "        self.model.eval()\n",
    "\n",
    "    def forward(self, x):\n",
    "        return self.model(x)\n",
    "\n",
    "    def predict(self, X):\n",
    "        X = np.atleast_2d(X)\n",
    "        self.model.eval()\n",
    "        with torch.no_grad():\n",
    "            X_tensor = torch.from_numpy(X).float()\n",
    "            logits = self.model(X_tensor)\n",
    "            probs = torch.softmax(logits, dim=1).cpu().numpy()  # shape: (n_samples, 2)\n",
    "        return probs\n",
    "\n",
    "    def shape_input(self, x, shape, channel_first):\n",
    "        return np.atleast_2d(x)\n",
    "\n",
    "wrapped_model = TorchModelWrapper(model)\n",
    "wrapped_model.eval()"
   ]
  },
  {
   "cell_type": "code",
   "execution_count": null,
   "metadata": {
    "id": "KVUTJdUOcC0o"
   },
   "outputs": [],
   "source": [
    "# ---------------------------\n",
    "# Evaluate FaithfulnessCorrelation with Quantus using SHAP attributions\n",
    "# ---------------------------\n",
    "# Ensure y_test is of integer type\n",
    "y_test_int = y_test_np.astype(np.int64)"
   ]
  },
  {
   "cell_type": "code",
   "execution_count": null,
   "metadata": {
    "colab": {
     "base_uri": "https://localhost:8080/",
     "height": 104,
     "referenced_widgets": [
      "6a56bcb31c3f48ab903d339fc7b7ca4c",
      "2fd1018c5c9347f2a85beaf9793bb5f1",
      "7190afd3a9794142bfc6dfad1593fda5",
      "6d103ae6a89d4a36826ddd5e5ef1143e",
      "a56c9e9dfcba48c89100768d4d3a978b",
      "8fdc98a7e27647998ef18e7ea108afca",
      "249a22460bf84bfc911aa16fb483bb6f",
      "35405250f16e443289885986c14702e5",
      "273f80632c7b47629b6754992d578629",
      "f5e5957b37a541559ee546c71ab981ee",
      "ae8f9edfe4e54f65999e3971409bde3e"
     ]
    },
    "executionInfo": {
     "elapsed": 56,
     "status": "ok",
     "timestamp": 1747738955838,
     "user": {
      "displayName": "Hung Thanh Do",
      "userId": "14602254202234053172"
     },
     "user_tz": -120
    },
    "id": "cb58KRc6cC0o",
    "outputId": "7028e812-bab1-4f8a-e9c3-5084b999be11"
   },
   "outputs": [
    {
     "data": {
      "application/vnd.jupyter.widget-view+json": {
       "model_id": "6a56bcb31c3f48ab903d339fc7b7ca4c",
       "version_major": 2,
       "version_minor": 0
      },
      "text/plain": [
       "  0%|          | 0/2.0 [00:00<?, ?it/s]"
      ]
     },
     "metadata": {},
     "output_type": "display_data"
    },
    {
     "name": "stdout",
     "output_type": "stream",
     "text": [
      "Complexity: Complexity by Bhatt et al., 2020.\n",
      "\n",
      " • SHAP =  0.6008763029485452\n"
     ]
    }
   ],
   "source": [
    "# Apply Complexity metric using SHAP attributions\n",
    "Complexity_shap = quantus.Complexity(\n",
    "    normalise=False,\n",
    "    abs=True,  # Take absolute values of attributions\n",
    "    disable_warnings=True,\n",
    "    display_progressbar=True,\n",
    "    aggregate_func=np.mean,  # Compute mean complexity over all samples\n",
    ")(\n",
    "    model=wrapped_model,\n",
    "    x_batch=X_test_np,\n",
    "    y_batch=y_test_int,\n",
    "    a_batch=shap_values,   # use SHAP attributions computed above\n",
    "    explain_func=None      # explanations are precomputed\n",
    ")\n",
    "\n",
    "# Scale to 0-1\n",
    "Complexity_shap = (Complexity_shap - min(Complexity_shap)) / (\n",
    "    max(Complexity_shap) - min(Complexity_shap)\n",
    ")\n",
    "\n",
    "# Find mean\n",
    "Complexity_shap = np.mean(Complexity_shap)\n",
    "\n",
    "print(\n",
    "    f\"Complexity: Complexity by Bhatt et al., 2020.\\n\"\n",
    "    f\"\\n • SHAP = \",\n",
    "    Complexity_shap,\n",
    ")"
   ]
  },
  {
   "cell_type": "code",
   "execution_count": null,
   "metadata": {
    "colab": {
     "base_uri": "https://localhost:8080/",
     "height": 104,
     "referenced_widgets": [
      "4e97d31caa3c4f308a36c67f3e5bce6e",
      "72a93e08dd8c46759b48b0a44ccaca86",
      "c01fe144b04e4233b56607eecc79ae3e",
      "2bba810c6a954e2ca7ad7d99d3cee77a",
      "bd0918bbac3248fe840736da8e0cac5c",
      "51df2f6190d44fee88d58174b4c0fe60",
      "f1594fc903614c4c909228a044de69c5",
      "a84c0c85a78240b2aee780c8789b79b7",
      "514da76463cb463ba1b65541b4947d2f",
      "a1b5e219d1964c77b6c996ce338219a0",
      "6c39f7ab54c3491e861068a49107e49d"
     ]
    },
    "executionInfo": {
     "elapsed": 67,
     "status": "ok",
     "timestamp": 1747738955906,
     "user": {
      "displayName": "Hung Thanh Do",
      "userId": "14602254202234053172"
     },
     "user_tz": -120
    },
    "id": "VXndEzS_cC0p",
    "outputId": "d1bd6a77-6a5a-43e3-bc1f-9ff1c25aa98c"
   },
   "outputs": [
    {
     "data": {
      "application/vnd.jupyter.widget-view+json": {
       "model_id": "4e97d31caa3c4f308a36c67f3e5bce6e",
       "version_major": 2,
       "version_minor": 0
      },
      "text/plain": [
       "  0%|          | 0/2.0 [00:00<?, ?it/s]"
      ]
     },
     "metadata": {},
     "output_type": "display_data"
    },
    {
     "name": "stdout",
     "output_type": "stream",
     "text": [
      "Complexity: Sparseness by Chalasani et al., 2020.\n",
      "\n",
      " • SHAP =  [np.float64(0.7344305021214639)]\n"
     ]
    }
   ],
   "source": [
    "Sparseness_shap = quantus.Sparseness(\n",
    "    normalise=False,\n",
    "    abs=True, # take absolute values of attributions\n",
    "    disable_warnings=True,\n",
    "    display_progressbar=True,\n",
    "    return_aggregate=True, # find the mean of the complexity from all samples\n",
    "    aggregate_func=np.mean,\n",
    ")(\n",
    "    model=wrapped_model,\n",
    "    x_batch=X_test_np,\n",
    "    y_batch=y_test_int,\n",
    "    a_batch=shap_values,   # use SHAP attributions computed above\n",
    "    explain_func=None      # explanations are precomputed\n",
    ")\n",
    "\n",
    "# Already scaled to 0-1 -> keep aggregated (mean)\n",
    "\n",
    "print(\n",
    "    f\"Complexity: Sparseness by Chalasani et al., 2020.\\n\"\n",
    "    f\"\\n • SHAP = \",\n",
    "    Sparseness_shap,\n",
    ")"
   ]
  },
  {
   "cell_type": "code",
   "execution_count": null,
   "metadata": {
    "colab": {
     "base_uri": "https://localhost:8080/",
     "height": 104,
     "referenced_widgets": [
      "b45bde1384df4ca0a9a5a6bf71b8f024",
      "9a382a5ec50246bcb56b2e1caac40b37",
      "15b52cbf9acd4dc4896a6b1a18dfa620",
      "f23d3bc1036e42fe8bd1023bafd69d3e",
      "8a0b9fcbc8504c53b29a322fca776833",
      "bbd9852a6e8a43d09908f27d9aa7ac42",
      "61cfd91a16eb4d96b3a25c6082a006fd",
      "a1626139d0fc437db59e993e9cdba07d",
      "5e3e9a2f082c451599f39817f6646561",
      "9e47e6a3d6d04ab3b0a245c3721c3186",
      "723a1597c43c4fbe97061a8d0edfe75d"
     ]
    },
    "executionInfo": {
     "elapsed": 914,
     "status": "ok",
     "timestamp": 1747738956821,
     "user": {
      "displayName": "Hung Thanh Do",
      "userId": "14602254202234053172"
     },
     "user_tz": -120
    },
    "id": "DPPLpLc1cC0q",
    "outputId": "16cc06ec-a658-429d-98e5-4f4455f84d53"
   },
   "outputs": [
    {
     "data": {
      "application/vnd.jupyter.widget-view+json": {
       "model_id": "b45bde1384df4ca0a9a5a6bf71b8f024",
       "version_major": 2,
       "version_minor": 0
      },
      "text/plain": [
       "  0%|          | 0/2.0 [00:00<?, ?it/s]"
      ]
     },
     "metadata": {},
     "output_type": "display_data"
    },
    {
     "name": "stdout",
     "output_type": "stream",
     "text": [
      "Faithfulness: Faithfulness Correlation by Bhatt et al., 2020.\n",
      "\n",
      " • SHAP =  0.41717528794875414\n"
     ]
    }
   ],
   "source": [
    "FaithfulnessCorrelation_shap = quantus.FaithfulnessCorrelation(\n",
    "    perturb_baseline=\"white\",\n",
    "    perturb_func=quantus.baseline_replacement_by_indices,\n",
    "    subset_size=5, # features to perturb\n",
    "    nr_runs=10,\n",
    "    similarity_func=quantus.similarity_func.correlation_pearson,\n",
    "    abs=True, # take absolute values of attributions\n",
    "    normalise=False, # do not normalise ohe data\n",
    "    return_aggregate=False, # (not) output 1 val instead of list of vals for all samples\n",
    "    aggregate_func=np.mean,\n",
    "    disable_warnings=True,\n",
    "    display_progressbar=True,\n",
    ")(\n",
    "    model=wrapped_model,\n",
    "    x_batch=X_test_np,\n",
    "    y_batch=y_test_int,\n",
    "    a_batch=shap_values,   # use SHAP attributions computed above\n",
    "    explain_func=None      # explanations are precomputed\n",
    ")\n",
    "\n",
    "# Scale to 0-1\n",
    "FaithfulnessCorrelation_shap = (FaithfulnessCorrelation_shap - np.min(FaithfulnessCorrelation_shap)) / (\n",
    "    np.max(FaithfulnessCorrelation_shap) - np.min(FaithfulnessCorrelation_shap)\n",
    ")\n",
    "\n",
    "# Find mean\n",
    "FaithfulnessCorrelation_shap = np.mean(FaithfulnessCorrelation_shap)\n",
    "\n",
    "print(\n",
    "    f\"Faithfulness: Faithfulness Correlation by Bhatt et al., 2020.\\n\"\n",
    "    f\"\\n • SHAP = \",\n",
    "    FaithfulnessCorrelation_shap,\n",
    ")"
   ]
  },
  {
   "cell_type": "code",
   "execution_count": null,
   "metadata": {
    "colab": {
     "base_uri": "https://localhost:8080/",
     "height": 160,
     "referenced_widgets": [
      "1d19f92e5e4f4ab4a2bda7f9dad6ef41",
      "b3c4a5fc281942e48fade50c4063cf28",
      "b676a05bfd014e7a81493b9ca2bd8297",
      "7b134840a0bc4241b4bff6dee0fc2c6a",
      "720745a0572d46c5a4b3ab12837c8968",
      "84c22f4b411f4531931bfae2d03950bd",
      "662721077aa74198bd7ab368d435f434",
      "c515fa14fe2e468fa09aea96057245d9",
      "b327e91b1ab54cec81aa90b14fe527cb",
      "508cb214aa03484193f1cf955c37fd36",
      "eddf76109a7a4ef2b35829f1f67b5e83"
     ]
    },
    "executionInfo": {
     "elapsed": 1723,
     "status": "ok",
     "timestamp": 1747738958544,
     "user": {
      "displayName": "Hung Thanh Do",
      "userId": "14602254202234053172"
     },
     "user_tz": -120
    },
    "id": "dYi-soQJcC0r",
    "outputId": "95d806ac-d654-478f-bb53-7cc57b93e08f"
   },
   "outputs": [
    {
     "data": {
      "application/vnd.jupyter.widget-view+json": {
       "model_id": "1d19f92e5e4f4ab4a2bda7f9dad6ef41",
       "version_major": 2,
       "version_minor": 0
      },
      "text/plain": [
       "  0%|          | 0/2.0 [00:00<?, ?it/s]"
      ]
     },
     "metadata": {},
     "output_type": "display_data"
    },
    {
     "name": "stderr",
     "output_type": "stream",
     "text": [
      "/usr/local/lib/python3.11/dist-packages/quantus/helpers/warn.py:257: UserWarning: The settings for perturbing input e.g., 'perturb_func' didn't cause change in input. Reconsider the parameter settings.\n",
      "  warnings.warn(\n"
     ]
    },
    {
     "name": "stdout",
     "output_type": "stream",
     "text": [
      "Faithfulness: Faithfulness Estimate by Alvarez-Melis et al., 2018.\n",
      "\n",
      " • SHAP =  0.380894099457916\n"
     ]
    }
   ],
   "source": [
    "FaithfulnessEstimate_shap = quantus.FaithfulnessEstimate(\n",
    "    perturb_baseline=\"white\",\n",
    "    perturb_func=quantus.baseline_replacement_by_indices,\n",
    "    features_in_step=1, # features to perturb\n",
    "    similarity_func=quantus.similarity_func.correlation_pearson,\n",
    "    abs=True, # take absolute values of attributions\n",
    "    normalise=False, # do not normalise ohe data\n",
    "    return_aggregate=False, # (not) output 1 val instead of list of vals for all samples\n",
    "    aggregate_func=np.mean,\n",
    "    disable_warnings=True,\n",
    "    display_progressbar=True,\n",
    ")(\n",
    "    model=wrapped_model,\n",
    "    x_batch=X_test_np,\n",
    "    y_batch=y_test_int,\n",
    "    a_batch=shap_values,   # use SHAP attributions computed above\n",
    "    explain_func=None      # explanations are precomputed\n",
    ")\n",
    "\n",
    "# Scale to 0-1\n",
    "FaithfulnessEstimate_shap = (FaithfulnessEstimate_shap - np.min(FaithfulnessEstimate_shap)) / (\n",
    "    np.max(FaithfulnessEstimate_shap) - np.min(FaithfulnessEstimate_shap)\n",
    ")\n",
    "\n",
    "# Find mean\n",
    "FaithfulnessEstimate_shap = np.mean(FaithfulnessEstimate_shap)\n",
    "\n",
    "print(\n",
    "    f\"Faithfulness: Faithfulness Estimate by Alvarez-Melis et al., 2018.\\n\"\n",
    "    f\"\\n • SHAP = \",\n",
    "    FaithfulnessEstimate_shap,\n",
    ")"
   ]
  },
  {
   "cell_type": "code",
   "execution_count": null,
   "metadata": {
    "colab": {
     "base_uri": "https://localhost:8080/",
     "height": 196,
     "referenced_widgets": [
      "666130663eef4fc98bda7cd7bbbab181",
      "d610c6a3e3c14b2f9b9d0e0ecc691afc",
      "1e01be24c19b41fdbc87e5ad7131fa38",
      "1fabda2c34da4256946784e598e95f29",
      "7f315d9a43cd437d89887da1ac359d5f",
      "815f40a085ca405ca4fa9774f7de1522",
      "ecf1eb1a8324454a9d90cb0a854b2a6a",
      "80cdb8c842814881840d6c1f5c6f7b5a",
      "8a51786c714544789507547edb669ebc",
      "a20f5a75a1ea4a3ca798b4fbd84ccb72",
      "49c573329147429d98415164b1840885"
     ]
    },
    "executionInfo": {
     "elapsed": 22771,
     "status": "ok",
     "timestamp": 1747738981316,
     "user": {
      "displayName": "Hung Thanh Do",
      "userId": "14602254202234053172"
     },
     "user_tz": -120
    },
    "id": "iK0Xb1WocC0s",
    "outputId": "19a425cf-28ed-413b-ffba-e2f917ff01b7"
   },
   "outputs": [
    {
     "data": {
      "application/vnd.jupyter.widget-view+json": {
       "model_id": "666130663eef4fc98bda7cd7bbbab181",
       "version_major": 2,
       "version_minor": 0
      },
      "text/plain": [
       "  0%|          | 0/2.0 [00:00<?, ?it/s]"
      ]
     },
     "metadata": {},
     "output_type": "display_data"
    },
    {
     "name": "stderr",
     "output_type": "stream",
     "text": [
      "/usr/local/lib/python3.11/dist-packages/captum/attr/_core/deep_lift.py:304: UserWarning: Setting forward, backward hooks and attributes on non-linear\n",
      "               activations. The hooks and attributes will be removed\n",
      "            after the attribution is finished\n",
      "  warnings.warn(\n"
     ]
    },
    {
     "name": "stdout",
     "output_type": "stream",
     "text": [
      "Robustness: Local Lipschitz Estimate by Alvarez-Melis et al., 2018.\n",
      "\n",
      " • SHAP =  0.23542457080804502\n"
     ]
    }
   ],
   "source": [
    "LocalLipschitzEstimate_shap = quantus.LocalLipschitzEstimate(\n",
    "    normalise=False,\n",
    "    abs=True, # take absolute values of attributions\n",
    "    nr_samples = 100,\n",
    "    disable_warnings=True,\n",
    "    display_progressbar=True,\n",
    "    # return_aggregate=True, # find the mean of the complexity from all samples\n",
    "    aggregate_func=np.mean,\n",
    ")(\n",
    "    model=wrapped_model,\n",
    "    x_batch=X_test_np,\n",
    "    y_batch=y_test_int,\n",
    "    # a_batch=shap_values,   # use SHAP attributions computed above\n",
    "    # explain_func=None      # explanations are precomputed\n",
    "    a_batch=None,\n",
    "    explain_func=quantus.explain,\n",
    "    explain_func_kwargs={\"method\": \"DeepLiftShap\", \"reduce_axes\": ()},\n",
    ")\n",
    "\n",
    "# Scale to 0-1\n",
    "LocalLipschitzEstimate_shap = (LocalLipschitzEstimate_shap - np.min(LocalLipschitzEstimate_shap)) / (\n",
    "    np.max(LocalLipschitzEstimate_shap) - np.min(LocalLipschitzEstimate_shap)\n",
    ")\n",
    "\n",
    "# Find mean\n",
    "LocalLipschitzEstimate_shap = np.mean(LocalLipschitzEstimate_shap)\n",
    "\n",
    "print(\n",
    "    f\"Robustness: Local Lipschitz Estimate by Alvarez-Melis et al., 2018.\\n\"\n",
    "    f\"\\n • SHAP = \",\n",
    "    LocalLipschitzEstimate_shap,\n",
    ")"
   ]
  },
  {
   "cell_type": "code",
   "execution_count": null,
   "metadata": {
    "colab": {
     "base_uri": "https://localhost:8080/",
     "height": 104,
     "referenced_widgets": [
      "b143628bd20a487e972cf279fc9e412a",
      "17bb47e1e4bb40cc980a198b063884c0",
      "d304aa7d5acb4ef28deba33d94803038",
      "8529be132cfd49559c79e5f9199d4f29",
      "040e5a44ea474cfe863881305f0104ae",
      "a4c50d9e72264c2dafc2783472cefa41",
      "14ba204ce9ed4e578cd2ca8fbf19763a",
      "66908608f844498bbfaca1b8c9fc0186",
      "6efb858b978f4e4b8633d6743d4527f9",
      "3bfaf87d6e9f4068a71150f82f10b602",
      "6d2d4919c77641e4901917b1d7ab486d"
     ]
    },
    "executionInfo": {
     "elapsed": 595,
     "status": "ok",
     "timestamp": 1747738981908,
     "user": {
      "displayName": "Hung Thanh Do",
      "userId": "14602254202234053172"
     },
     "user_tz": -120
    },
    "id": "6zMVrRsIcC0t",
    "outputId": "cc8fcae6-af80-4f30-a9ee-c98a9cff3054"
   },
   "outputs": [
    {
     "data": {
      "application/vnd.jupyter.widget-view+json": {
       "model_id": "b143628bd20a487e972cf279fc9e412a",
       "version_major": 2,
       "version_minor": 0
      },
      "text/plain": [
       "  0%|          | 0/2.0 [00:00<?, ?it/s]"
      ]
     },
     "metadata": {},
     "output_type": "display_data"
    },
    {
     "name": "stdout",
     "output_type": "stream",
     "text": [
      "Randomisation: RandomLogit scores by Sixt et al., 2020.\n",
      "\n",
      " • SHAP =  [np.float64(0.7566502103739186)]\n"
     ]
    }
   ],
   "source": [
    "RandomLogit_shap = quantus.RandomLogit(\n",
    "    num_classes=2,\n",
    "    disable_warnings=True,\n",
    "    normalise=False,\n",
    "    abs=True, # take absolute values of attributions\n",
    "    display_progressbar=True,\n",
    "    return_aggregate=True, # find the mean of the complexity from all samples\n",
    "    aggregate_func=np.mean,\n",
    ")(\n",
    "    model=wrapped_model,\n",
    "    x_batch=X_test_np,\n",
    "    y_batch=y_test_int,\n",
    "    # a_batch=shap_values,   # use SHAP attributions computed above\n",
    "    # explain_func=None      # explanations are precomputed\n",
    "    a_batch=None,\n",
    "    explain_func=quantus.explain,\n",
    "    explain_func_kwargs={\"method\": \"GradientShap\", \"reduce_axes\": ()},\n",
    ")\n",
    "\n",
    "# Already scaled to 0-1 -> keep aggregated (mean)\n",
    "\n",
    "print(\n",
    "    f\"Randomisation: RandomLogit scores by Sixt et al., 2020.\\n\"\n",
    "    f\"\\n • SHAP = \",\n",
    "    RandomLogit_shap,\n",
    ")"
   ]
  },
  {
   "cell_type": "code",
   "execution_count": null,
   "metadata": {
    "colab": {
     "base_uri": "https://localhost:8080/",
     "height": 104,
     "referenced_widgets": [
      "674ca6eb20384bb2afd5c7830d9bdf19",
      "c89019dc5c9e4920abd28846c0537a28",
      "d16b2407d7534e34a613e4e878627169",
      "1dcec922c62a4970bb6f774405f5cc5f",
      "e41e9ff5f6d247a48595a35628338b97",
      "6abfc3fadc7844478b87734b39d6887b",
      "3996a2fa74e84e83ab541f053ce4d02d",
      "2993147e1d3d47fdb15259a394a514ed",
      "d4d3d4e3d41d4945ac02ee76253fbdca",
      "7e8b909f16164bef8374c844d79718c4",
      "7efdb0c510a643adb81d8955bb65ba9d"
     ]
    },
    "executionInfo": {
     "elapsed": 544,
     "status": "ok",
     "timestamp": 1747738982452,
     "user": {
      "displayName": "Hung Thanh Do",
      "userId": "14602254202234053172"
     },
     "user_tz": -120
    },
    "id": "g1HNPSCtcC0u",
    "outputId": "daa414ee-9da4-4f5b-b452-07717b2b3a76"
   },
   "outputs": [
    {
     "data": {
      "application/vnd.jupyter.widget-view+json": {
       "model_id": "674ca6eb20384bb2afd5c7830d9bdf19",
       "version_major": 2,
       "version_minor": 0
      },
      "text/plain": [
       "  0%|          | 0/900 [00:00<?, ?it/s]"
      ]
     },
     "metadata": {},
     "output_type": "display_data"
    },
    {
     "name": "stdout",
     "output_type": "stream",
     "text": [
      "Randomisation: MPRT scores by Adebayo et al., 2018\n",
      "\n",
      " • SHAP =  0.6424760316579514\n"
     ]
    }
   ],
   "source": [
    "MPRT_shap = quantus.MPRT(\n",
    "    # similarity_func=quantus.similarity_func.correlation_spearman,\n",
    "    return_average_correlation=True,\n",
    "    # return_aggregate=True, # find the mean of the complexity from all samples\n",
    "    aggregate_func=np.mean,\n",
    "    layer_order=\"independent\",\n",
    "    similarity_func=quantus.ssim,\n",
    "    disable_warnings=True,\n",
    "    normalise=False,\n",
    "    abs=True, # take absolute values of attributions\n",
    "    display_progressbar=True,\n",
    ")(\n",
    "    model=wrapped_model,\n",
    "    x_batch=X_test_np,\n",
    "    y_batch=y_test_int,\n",
    "    # a_batch=shap_values,   # use SHAP attributions computed above\n",
    "    # explain_func=None      # explanations are precomputed\n",
    "    a_batch=None,\n",
    "    explain_func=quantus.explain,\n",
    "    explain_func_kwargs={\"method\": \"GradientShap\", \"reduce_axes\": ()},\n",
    ")\n",
    "\n",
    "# Scale to 0-1\n",
    "MPRT_shap = (MPRT_shap - np.min(MPRT_shap)) / (\n",
    "    np.max(MPRT_shap) - np.min(MPRT_shap)\n",
    ")\n",
    "\n",
    "# Find mean\n",
    "MPRT_shap = np.mean(MPRT_shap)\n",
    "\n",
    "print(\n",
    "    f\"Randomisation: MPRT scores by Adebayo et al., 2018\\n\"\n",
    "    f\"\\n • SHAP = \",\n",
    "    MPRT_shap,\n",
    ")"
   ]
  },
  {
   "cell_type": "code",
   "execution_count": null,
   "metadata": {
    "colab": {
     "base_uri": "https://localhost:8080/"
    },
    "executionInfo": {
     "elapsed": 6,
     "status": "ok",
     "timestamp": 1747738982459,
     "user": {
      "displayName": "Hung Thanh Do",
      "userId": "14602254202234053172"
     },
     "user_tz": -120
    },
    "id": "eWyQf0EScC0v",
    "outputId": "bad251ad-e9bf-4a04-8fb9-b31c6f593208"
   },
   "outputs": [
    {
     "name": "stderr",
     "output_type": "stream",
     "text": [
      "<ipython-input-109-acd3cc85ebb0>:12: DeprecationWarning: Conversion of an array with ndim > 0 to a scalar is deprecated, and will error in future. Ensure you extract a single element from your array before performing this operation. (Deprecated NumPy 1.25.)\n",
      "  Sparseness_shap = round(float(Sparseness_shap), 4)\n",
      "<ipython-input-109-acd3cc85ebb0>:14: DeprecationWarning: Conversion of an array with ndim > 0 to a scalar is deprecated, and will error in future. Ensure you extract a single element from your array before performing this operation. (Deprecated NumPy 1.25.)\n",
      "  RandomLogit_shap = round(float(RandomLogit_shap), 4)\n"
     ]
    }
   ],
   "source": [
    "# Convert from list to int\n",
    "Complexity_shap = np.float64(Complexity_shap)\n",
    "Sparseness_shap = np.float64(Sparseness_shap)\n",
    "MPRT_shap = np.float64(MPRT_shap)\n",
    "RandomLogit_shap = np.float64(RandomLogit_shap)\n",
    "FaithfulnessEstimate_shap = np.float64(FaithfulnessEstimate_shap)\n",
    "FaithfulnessCorrelation_shap = np.float64(FaithfulnessCorrelation_shap)\n",
    "LocalLipschitzEstimate_shap = np.float64(LocalLipschitzEstimate_shap)\n",
    "\n",
    "# Rounding one by one\n",
    "Complexity_shap = round(float(Complexity_shap), 4)\n",
    "Sparseness_shap = round(float(Sparseness_shap), 4)\n",
    "MPRT_shap = round(float(MPRT_shap), 4)\n",
    "RandomLogit_shap = round(float(RandomLogit_shap), 4)\n",
    "FaithfulnessEstimate_shap = round(float(FaithfulnessEstimate_shap), 4)\n",
    "FaithfulnessCorrelation_shap = round(float(FaithfulnessCorrelation_shap), 4)\n",
    "LocalLipschitzEstimate_shap = round(float(LocalLipschitzEstimate_shap), 4)"
   ]
  },
  {
   "cell_type": "code",
   "execution_count": null,
   "metadata": {
    "colab": {
     "base_uri": "https://localhost:8080/",
     "height": 439
    },
    "executionInfo": {
     "elapsed": 26,
     "status": "ok",
     "timestamp": 1747738982499,
     "user": {
      "displayName": "Hung Thanh Do",
      "userId": "14602254202234053172"
     },
     "user_tz": -120
    },
    "id": "Efr-b8r0cC0v",
    "outputId": "7398487b-6e6b-4d22-c47e-cf5c3a59d1ed"
   },
   "outputs": [
    {
     "data": {
      "text/markdown": [
       "#### Explanability scores"
      ],
      "text/plain": [
       "<IPython.core.display.Markdown object>"
      ]
     },
     "metadata": {},
     "output_type": "display_data"
    },
    {
     "name": "stdout",
     "output_type": "stream",
     "text": [
      "Complexity: Complexity by Bhatt et al., 2020.\n",
      "\n",
      " • SHAP =  0.6009\n",
      "Complexity: Sparseness by Chalasani et al., 2020.\n",
      "\n",
      " • SHAP =  0.7344\n",
      "Faithfulness: Faithfulness Estimate by Alvarez-Melis et al., 2018.\n",
      "\n",
      " • SHAP =  0.3809\n",
      "Faithfulness: Faithfulness Correlation by Bhatt et al., 2020.\n",
      "\n",
      " • SHAP =  0.4172\n",
      "Robustness: Local Lipschitz Estimate by Alvarez-Melis et al., 2018.\n",
      "\n",
      " • SHAP =  0.2354\n",
      "Randomisation: MPRT scores by Adebayo et al., 2018\n",
      "\n",
      " • SHAP =  0.6425\n",
      "Randomisation: RandomLogit scores by Sixt et al., 2020.\n",
      "\n",
      " • SHAP =  0.7567\n"
     ]
    }
   ],
   "source": [
    "display(Markdown(\"#### Explanability scores\"))\n",
    "\n",
    "# Complexity: Complexity\n",
    "print(\n",
    "    f\"Complexity: Complexity by Bhatt et al., 2020.\\n\"\n",
    "    f\"\\n • SHAP = \",\n",
    "    Complexity_shap,\n",
    ")\n",
    "\n",
    "# Complexity: Sparseness\n",
    "print(\n",
    "    f\"Complexity: Sparseness by Chalasani et al., 2020.\\n\"\n",
    "    f\"\\n • SHAP = \",\n",
    "    Sparseness_shap,\n",
    ")\n",
    "\n",
    "# Faithfulness: Faithfulness Estimate\n",
    "print(\n",
    "    f\"Faithfulness: Faithfulness Estimate by Alvarez-Melis et al., 2018.\\n\"\n",
    "    f\"\\n • SHAP = \",\n",
    "    FaithfulnessEstimate_shap,\n",
    ")\n",
    "\n",
    "# Faithfulness: Faithfulness Correlation\n",
    "print(\n",
    "    f\"Faithfulness: Faithfulness Correlation by Bhatt et al., 2020.\\n\"\n",
    "    f\"\\n • SHAP = \",\n",
    "    FaithfulnessCorrelation_shap,\n",
    ")\n",
    "\n",
    "# Robustness: Local Lipschitz Estimate\n",
    "print(\n",
    "    f\"Robustness: Local Lipschitz Estimate by Alvarez-Melis et al., 2018.\\n\"\n",
    "    f\"\\n • SHAP = \",\n",
    "    LocalLipschitzEstimate_shap,\n",
    ")\n",
    "\n",
    "# Randomisation: MPRT\n",
    "print(\n",
    "    f\"Randomisation: MPRT scores by Adebayo et al., 2018\\n\"\n",
    "    f\"\\n • SHAP = \",\n",
    "    MPRT_shap,\n",
    ")\n",
    "\n",
    "# Randomisation: RandomLogit\n",
    "print(\n",
    "    f\"Randomisation: RandomLogit scores by Sixt et al., 2020.\\n\"\n",
    "    f\"\\n • SHAP = \",\n",
    "    RandomLogit_shap,\n",
    ")"
   ]
  },
  {
   "cell_type": "code",
   "execution_count": null,
   "metadata": {
    "colab": {
     "base_uri": "https://localhost:8080/",
     "height": 202
    },
    "executionInfo": {
     "elapsed": 47,
     "status": "ok",
     "timestamp": 1747738982548,
     "user": {
      "displayName": "Hung Thanh Do",
      "userId": "14602254202234053172"
     },
     "user_tz": -120
    },
    "id": "rPnTGSIqcC0w",
    "outputId": "b96abf93-0e2a-4611-e738-b7d1f7d00048"
   },
   "outputs": [
    {
     "data": {
      "text/markdown": [
       "#### Explanability scores (grouped)"
      ],
      "text/plain": [
       "<IPython.core.display.Markdown object>"
      ]
     },
     "metadata": {},
     "output_type": "display_data"
    },
    {
     "name": "stdout",
     "output_type": "stream",
     "text": [
      "Complexity\n",
      " • SHAP =  0.6677\n",
      "Faithfulness\n",
      " • SHAP =  0.3991\n",
      "Robustness\n",
      " • SHAP =  0.2354\n",
      "Randomisation\n",
      " • SHAP =  0.6996\n"
     ]
    }
   ],
   "source": [
    "display(Markdown(\"#### Explanability scores (grouped)\"))\n",
    "\n",
    "# Complexity: Complexity and Sparseness\n",
    "print(\n",
    "    f\"Complexity\"\n",
    "    f\"\\n • SHAP = \",\n",
    "    round(float((Complexity_shap+Sparseness_shap)/2), 4),\n",
    ")\n",
    "\n",
    "# Faithfulness: Faithfulness Estimate and Faithfulness Correlation\n",
    "print(\n",
    "    f\"Faithfulness\"\n",
    "    f\"\\n • SHAP = \",\n",
    "    round(float((FaithfulnessEstimate_shap+FaithfulnessCorrelation_shap)/2), 4),\n",
    ")\n",
    "\n",
    "# Robustness: Local Lipschitz Estimate\n",
    "print(\n",
    "    f\"Robustness\"\n",
    "    f\"\\n • SHAP = \",\n",
    "    round(float((LocalLipschitzEstimate_shap)), 4),\n",
    ")\n",
    "\n",
    "# Randomisation: MPRT and RandomLogit\n",
    "print(\n",
    "    f\"Randomisation\"\n",
    "    f\"\\n • SHAP = \",\n",
    "    round(float((MPRT_shap+RandomLogit_shap)/2), 4)\n",
    ")"
   ]
  }
 ],
 "metadata": {
  "accelerator": "GPU",
  "colab": {
   "collapsed_sections": [
    "ww-ihnSUcCz2",
    "8PJTcdufcCz8",
    "fu9sqMIgcCz-",
    "J22g3WEccC0I",
    "9TMwzwvNcC0K",
    "GfVfYd_ZcC0Q",
    "UgJ9XJAWDev3",
    "7N5q_LeLyo4x",
    "67Vzn6iuYS2q",
    "538PskKGALFU",
    "VJ0Mb-gM8lHj",
    "ki-IgGuwcC0k",
    "WeKnka-4W8Wr"
   ],
   "gpuType": "T4",
   "provenance": []
  },
  "kernelspec": {
   "display_name": "Python 3",
   "name": "python3"
  },
  "language_info": {
   "codemirror_mode": {
    "name": "ipython",
    "version": 3
   },
   "file_extension": ".py",
   "mimetype": "text/x-python",
   "name": "python",
   "nbconvert_exporter": "python",
   "pygments_lexer": "ipython3",
   "version": "3.11.11"
  }
 },
 "nbformat": 4,
 "nbformat_minor": 0
}
