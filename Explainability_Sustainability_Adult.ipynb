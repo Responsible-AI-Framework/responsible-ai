{
 "cells": [
  {
   "cell_type": "code",
   "execution_count": 1,
   "metadata": {
    "colab": {
     "base_uri": "https://localhost:8080/"
    },
    "executionInfo": {
     "elapsed": 19143,
     "status": "ok",
     "timestamp": 1747891491254,
     "user": {
      "displayName": "Hung Thanh Do",
      "userId": "14602254202234053172"
     },
     "user_tz": -120
    },
    "id": "sufAato6vv4_",
    "outputId": "9c88d73d-6b36-45f5-f8aa-7e77b05af798"
   },
   "outputs": [
    {
     "name": "stdout",
     "output_type": "stream",
     "text": [
      "Mounted at /content/drive\n"
     ]
    }
   ],
   "source": [
    "from google.colab import drive\n",
    "drive.mount('/content/drive')"
   ]
  },
  {
   "cell_type": "code",
   "execution_count": 2,
   "metadata": {
    "colab": {
     "base_uri": "https://localhost:8080/"
    },
    "executionInfo": {
     "elapsed": 161,
     "status": "ok",
     "timestamp": 1747891495033,
     "user": {
      "displayName": "Hung Thanh Do",
      "userId": "14602254202234053172"
     },
     "user_tz": -120
    },
    "id": "LQpisafUlVC4",
    "outputId": "457caf8f-c4fc-4167-b25c-8180fae2acd6"
   },
   "outputs": [
    {
     "name": "stdout",
     "output_type": "stream",
     "text": [
      "/content/drive/MyDrive/aif360-shap-ai\n"
     ]
    }
   ],
   "source": [
    "%cd '/content/drive/MyDrive/aif360-shap-ai'"
   ]
  },
  {
   "cell_type": "code",
   "execution_count": 4,
   "metadata": {
    "colab": {
     "base_uri": "https://localhost:8080/"
    },
    "collapsed": true,
    "executionInfo": {
     "elapsed": 104684,
     "status": "ok",
     "timestamp": 1747891615735,
     "user": {
      "displayName": "Hung Thanh Do",
      "userId": "14602254202234053172"
     },
     "user_tz": -120
    },
    "id": "TygpsViKlW_x",
    "outputId": "4f3c10ed-2c0a-4c14-b0b6-92adec4abdd9"
   },
   "outputs": [
    {
     "name": "stdout",
     "output_type": "stream",
     "text": [
      "Collecting quantus\n",
      "  Downloading quantus-0.5.3-py3-none-any.whl.metadata (34 kB)\n",
      "Requirement already satisfied: numpy>=1.19.5 in /usr/local/lib/python3.11/dist-packages (from quantus) (2.0.2)\n",
      "Requirement already satisfied: pandas>=1.5.3 in /usr/local/lib/python3.11/dist-packages (from quantus) (2.2.2)\n",
      "Requirement already satisfied: opencv-python>=4.5.5.62 in /usr/local/lib/python3.11/dist-packages (from quantus) (4.11.0.86)\n",
      "Requirement already satisfied: scikit-image>=0.19.3 in /usr/local/lib/python3.11/dist-packages (from quantus) (0.25.2)\n",
      "Requirement already satisfied: scikit-learn>=0.24.2 in /usr/local/lib/python3.11/dist-packages (from quantus) (1.6.1)\n",
      "Requirement already satisfied: scipy>=1.7.3 in /usr/local/lib/python3.11/dist-packages (from quantus) (1.15.3)\n",
      "Requirement already satisfied: tqdm>=4.62.3 in /usr/local/lib/python3.11/dist-packages (from quantus) (4.67.1)\n",
      "Requirement already satisfied: matplotlib>=3.3.4 in /usr/local/lib/python3.11/dist-packages (from quantus) (3.10.0)\n",
      "Requirement already satisfied: contourpy>=1.0.1 in /usr/local/lib/python3.11/dist-packages (from matplotlib>=3.3.4->quantus) (1.3.2)\n",
      "Requirement already satisfied: cycler>=0.10 in /usr/local/lib/python3.11/dist-packages (from matplotlib>=3.3.4->quantus) (0.12.1)\n",
      "Requirement already satisfied: fonttools>=4.22.0 in /usr/local/lib/python3.11/dist-packages (from matplotlib>=3.3.4->quantus) (4.58.0)\n",
      "Requirement already satisfied: kiwisolver>=1.3.1 in /usr/local/lib/python3.11/dist-packages (from matplotlib>=3.3.4->quantus) (1.4.8)\n",
      "Requirement already satisfied: packaging>=20.0 in /usr/local/lib/python3.11/dist-packages (from matplotlib>=3.3.4->quantus) (24.2)\n",
      "Requirement already satisfied: pillow>=8 in /usr/local/lib/python3.11/dist-packages (from matplotlib>=3.3.4->quantus) (11.2.1)\n",
      "Requirement already satisfied: pyparsing>=2.3.1 in /usr/local/lib/python3.11/dist-packages (from matplotlib>=3.3.4->quantus) (3.2.3)\n",
      "Requirement already satisfied: python-dateutil>=2.7 in /usr/local/lib/python3.11/dist-packages (from matplotlib>=3.3.4->quantus) (2.9.0.post0)\n",
      "Requirement already satisfied: pytz>=2020.1 in /usr/local/lib/python3.11/dist-packages (from pandas>=1.5.3->quantus) (2025.2)\n",
      "Requirement already satisfied: tzdata>=2022.7 in /usr/local/lib/python3.11/dist-packages (from pandas>=1.5.3->quantus) (2025.2)\n",
      "Requirement already satisfied: networkx>=3.0 in /usr/local/lib/python3.11/dist-packages (from scikit-image>=0.19.3->quantus) (3.4.2)\n",
      "Requirement already satisfied: imageio!=2.35.0,>=2.33 in /usr/local/lib/python3.11/dist-packages (from scikit-image>=0.19.3->quantus) (2.37.0)\n",
      "Requirement already satisfied: tifffile>=2022.8.12 in /usr/local/lib/python3.11/dist-packages (from scikit-image>=0.19.3->quantus) (2025.5.10)\n",
      "Requirement already satisfied: lazy-loader>=0.4 in /usr/local/lib/python3.11/dist-packages (from scikit-image>=0.19.3->quantus) (0.4)\n",
      "Requirement already satisfied: joblib>=1.2.0 in /usr/local/lib/python3.11/dist-packages (from scikit-learn>=0.24.2->quantus) (1.5.0)\n",
      "Requirement already satisfied: threadpoolctl>=3.1.0 in /usr/local/lib/python3.11/dist-packages (from scikit-learn>=0.24.2->quantus) (3.6.0)\n",
      "Requirement already satisfied: six>=1.5 in /usr/local/lib/python3.11/dist-packages (from python-dateutil>=2.7->matplotlib>=3.3.4->quantus) (1.17.0)\n",
      "Downloading quantus-0.5.3-py3-none-any.whl (266 kB)\n",
      "\u001b[2K   \u001b[90m━━━━━━━━━━━━━━━━━━━━━━━━━━━━━━━━━━━━━━━━\u001b[0m \u001b[32m266.1/266.1 kB\u001b[0m \u001b[31m11.9 MB/s\u001b[0m eta \u001b[36m0:00:00\u001b[0m\n",
      "\u001b[?25hInstalling collected packages: quantus\n",
      "Successfully installed quantus-0.5.3\n",
      "Collecting captum==0.7.0\n",
      "  Downloading captum-0.7.0-py3-none-any.whl.metadata (26 kB)\n",
      "Requirement already satisfied: matplotlib in /usr/local/lib/python3.11/dist-packages (from captum==0.7.0) (3.10.0)\n",
      "Requirement already satisfied: numpy in /usr/local/lib/python3.11/dist-packages (from captum==0.7.0) (2.0.2)\n",
      "Requirement already satisfied: torch>=1.6 in /usr/local/lib/python3.11/dist-packages (from captum==0.7.0) (2.6.0+cu124)\n",
      "Requirement already satisfied: tqdm in /usr/local/lib/python3.11/dist-packages (from captum==0.7.0) (4.67.1)\n",
      "Requirement already satisfied: filelock in /usr/local/lib/python3.11/dist-packages (from torch>=1.6->captum==0.7.0) (3.18.0)\n",
      "Requirement already satisfied: typing-extensions>=4.10.0 in /usr/local/lib/python3.11/dist-packages (from torch>=1.6->captum==0.7.0) (4.13.2)\n",
      "Requirement already satisfied: networkx in /usr/local/lib/python3.11/dist-packages (from torch>=1.6->captum==0.7.0) (3.4.2)\n",
      "Requirement already satisfied: jinja2 in /usr/local/lib/python3.11/dist-packages (from torch>=1.6->captum==0.7.0) (3.1.6)\n",
      "Requirement already satisfied: fsspec in /usr/local/lib/python3.11/dist-packages (from torch>=1.6->captum==0.7.0) (2025.3.2)\n",
      "Collecting nvidia-cuda-nvrtc-cu12==12.4.127 (from torch>=1.6->captum==0.7.0)\n",
      "  Downloading nvidia_cuda_nvrtc_cu12-12.4.127-py3-none-manylinux2014_x86_64.whl.metadata (1.5 kB)\n",
      "Collecting nvidia-cuda-runtime-cu12==12.4.127 (from torch>=1.6->captum==0.7.0)\n",
      "  Downloading nvidia_cuda_runtime_cu12-12.4.127-py3-none-manylinux2014_x86_64.whl.metadata (1.5 kB)\n",
      "Collecting nvidia-cuda-cupti-cu12==12.4.127 (from torch>=1.6->captum==0.7.0)\n",
      "  Downloading nvidia_cuda_cupti_cu12-12.4.127-py3-none-manylinux2014_x86_64.whl.metadata (1.6 kB)\n",
      "Collecting nvidia-cudnn-cu12==9.1.0.70 (from torch>=1.6->captum==0.7.0)\n",
      "  Downloading nvidia_cudnn_cu12-9.1.0.70-py3-none-manylinux2014_x86_64.whl.metadata (1.6 kB)\n",
      "Collecting nvidia-cublas-cu12==12.4.5.8 (from torch>=1.6->captum==0.7.0)\n",
      "  Downloading nvidia_cublas_cu12-12.4.5.8-py3-none-manylinux2014_x86_64.whl.metadata (1.5 kB)\n",
      "Collecting nvidia-cufft-cu12==11.2.1.3 (from torch>=1.6->captum==0.7.0)\n",
      "  Downloading nvidia_cufft_cu12-11.2.1.3-py3-none-manylinux2014_x86_64.whl.metadata (1.5 kB)\n",
      "Collecting nvidia-curand-cu12==10.3.5.147 (from torch>=1.6->captum==0.7.0)\n",
      "  Downloading nvidia_curand_cu12-10.3.5.147-py3-none-manylinux2014_x86_64.whl.metadata (1.5 kB)\n",
      "Collecting nvidia-cusolver-cu12==11.6.1.9 (from torch>=1.6->captum==0.7.0)\n",
      "  Downloading nvidia_cusolver_cu12-11.6.1.9-py3-none-manylinux2014_x86_64.whl.metadata (1.6 kB)\n",
      "Collecting nvidia-cusparse-cu12==12.3.1.170 (from torch>=1.6->captum==0.7.0)\n",
      "  Downloading nvidia_cusparse_cu12-12.3.1.170-py3-none-manylinux2014_x86_64.whl.metadata (1.6 kB)\n",
      "Requirement already satisfied: nvidia-cusparselt-cu12==0.6.2 in /usr/local/lib/python3.11/dist-packages (from torch>=1.6->captum==0.7.0) (0.6.2)\n",
      "Requirement already satisfied: nvidia-nccl-cu12==2.21.5 in /usr/local/lib/python3.11/dist-packages (from torch>=1.6->captum==0.7.0) (2.21.5)\n",
      "Requirement already satisfied: nvidia-nvtx-cu12==12.4.127 in /usr/local/lib/python3.11/dist-packages (from torch>=1.6->captum==0.7.0) (12.4.127)\n",
      "Collecting nvidia-nvjitlink-cu12==12.4.127 (from torch>=1.6->captum==0.7.0)\n",
      "  Downloading nvidia_nvjitlink_cu12-12.4.127-py3-none-manylinux2014_x86_64.whl.metadata (1.5 kB)\n",
      "Requirement already satisfied: triton==3.2.0 in /usr/local/lib/python3.11/dist-packages (from torch>=1.6->captum==0.7.0) (3.2.0)\n",
      "Requirement already satisfied: sympy==1.13.1 in /usr/local/lib/python3.11/dist-packages (from torch>=1.6->captum==0.7.0) (1.13.1)\n",
      "Requirement already satisfied: mpmath<1.4,>=1.1.0 in /usr/local/lib/python3.11/dist-packages (from sympy==1.13.1->torch>=1.6->captum==0.7.0) (1.3.0)\n",
      "Requirement already satisfied: contourpy>=1.0.1 in /usr/local/lib/python3.11/dist-packages (from matplotlib->captum==0.7.0) (1.3.2)\n",
      "Requirement already satisfied: cycler>=0.10 in /usr/local/lib/python3.11/dist-packages (from matplotlib->captum==0.7.0) (0.12.1)\n",
      "Requirement already satisfied: fonttools>=4.22.0 in /usr/local/lib/python3.11/dist-packages (from matplotlib->captum==0.7.0) (4.58.0)\n",
      "Requirement already satisfied: kiwisolver>=1.3.1 in /usr/local/lib/python3.11/dist-packages (from matplotlib->captum==0.7.0) (1.4.8)\n",
      "Requirement already satisfied: packaging>=20.0 in /usr/local/lib/python3.11/dist-packages (from matplotlib->captum==0.7.0) (24.2)\n",
      "Requirement already satisfied: pillow>=8 in /usr/local/lib/python3.11/dist-packages (from matplotlib->captum==0.7.0) (11.2.1)\n",
      "Requirement already satisfied: pyparsing>=2.3.1 in /usr/local/lib/python3.11/dist-packages (from matplotlib->captum==0.7.0) (3.2.3)\n",
      "Requirement already satisfied: python-dateutil>=2.7 in /usr/local/lib/python3.11/dist-packages (from matplotlib->captum==0.7.0) (2.9.0.post0)\n",
      "Requirement already satisfied: six>=1.5 in /usr/local/lib/python3.11/dist-packages (from python-dateutil>=2.7->matplotlib->captum==0.7.0) (1.17.0)\n",
      "Requirement already satisfied: MarkupSafe>=2.0 in /usr/local/lib/python3.11/dist-packages (from jinja2->torch>=1.6->captum==0.7.0) (3.0.2)\n",
      "Downloading captum-0.7.0-py3-none-any.whl (1.3 MB)\n",
      "\u001b[2K   \u001b[90m━━━━━━━━━━━━━━━━━━━━━━━━━━━━━━━━━━━━━━━━\u001b[0m \u001b[32m1.3/1.3 MB\u001b[0m \u001b[31m26.8 MB/s\u001b[0m eta \u001b[36m0:00:00\u001b[0m\n",
      "\u001b[?25hDownloading nvidia_cublas_cu12-12.4.5.8-py3-none-manylinux2014_x86_64.whl (363.4 MB)\n",
      "\u001b[2K   \u001b[90m━━━━━━━━━━━━━━━━━━━━━━━━━━━━━━━━━━━━━━━━\u001b[0m \u001b[32m363.4/363.4 MB\u001b[0m \u001b[31m4.2 MB/s\u001b[0m eta \u001b[36m0:00:00\u001b[0m\n",
      "\u001b[?25hDownloading nvidia_cuda_cupti_cu12-12.4.127-py3-none-manylinux2014_x86_64.whl (13.8 MB)\n",
      "\u001b[2K   \u001b[90m━━━━━━━━━━━━━━━━━━━━━━━━━━━━━━━━━━━━━━━━\u001b[0m \u001b[32m13.8/13.8 MB\u001b[0m \u001b[31m78.8 MB/s\u001b[0m eta \u001b[36m0:00:00\u001b[0m\n",
      "\u001b[?25hDownloading nvidia_cuda_nvrtc_cu12-12.4.127-py3-none-manylinux2014_x86_64.whl (24.6 MB)\n",
      "\u001b[2K   \u001b[90m━━━━━━━━━━━━━━━━━━━━━━━━━━━━━━━━━━━━━━━━\u001b[0m \u001b[32m24.6/24.6 MB\u001b[0m \u001b[31m66.8 MB/s\u001b[0m eta \u001b[36m0:00:00\u001b[0m\n",
      "\u001b[?25hDownloading nvidia_cuda_runtime_cu12-12.4.127-py3-none-manylinux2014_x86_64.whl (883 kB)\n",
      "\u001b[2K   \u001b[90m━━━━━━━━━━━━━━━━━━━━━━━━━━━━━━━━━━━━━━━━\u001b[0m \u001b[32m883.7/883.7 kB\u001b[0m \u001b[31m46.1 MB/s\u001b[0m eta \u001b[36m0:00:00\u001b[0m\n",
      "\u001b[?25hDownloading nvidia_cudnn_cu12-9.1.0.70-py3-none-manylinux2014_x86_64.whl (664.8 MB)\n",
      "\u001b[2K   \u001b[90m━━━━━━━━━━━━━━━━━━━━━━━━━━━━━━━━━━━━━━━━\u001b[0m \u001b[32m664.8/664.8 MB\u001b[0m \u001b[31m2.6 MB/s\u001b[0m eta \u001b[36m0:00:00\u001b[0m\n",
      "\u001b[?25hDownloading nvidia_cufft_cu12-11.2.1.3-py3-none-manylinux2014_x86_64.whl (211.5 MB)\n",
      "\u001b[2K   \u001b[90m━━━━━━━━━━━━━━━━━━━━━━━━━━━━━━━━━━━━━━━━\u001b[0m \u001b[32m211.5/211.5 MB\u001b[0m \u001b[31m5.9 MB/s\u001b[0m eta \u001b[36m0:00:00\u001b[0m\n",
      "\u001b[?25hDownloading nvidia_curand_cu12-10.3.5.147-py3-none-manylinux2014_x86_64.whl (56.3 MB)\n",
      "\u001b[2K   \u001b[90m━━━━━━━━━━━━━━━━━━━━━━━━━━━━━━━━━━━━━━━━\u001b[0m \u001b[32m56.3/56.3 MB\u001b[0m \u001b[31m15.0 MB/s\u001b[0m eta \u001b[36m0:00:00\u001b[0m\n",
      "\u001b[?25hDownloading nvidia_cusolver_cu12-11.6.1.9-py3-none-manylinux2014_x86_64.whl (127.9 MB)\n",
      "\u001b[2K   \u001b[90m━━━━━━━━━━━━━━━━━━━━━━━━━━━━━━━━━━━━━━━━\u001b[0m \u001b[32m127.9/127.9 MB\u001b[0m \u001b[31m7.7 MB/s\u001b[0m eta \u001b[36m0:00:00\u001b[0m\n",
      "\u001b[?25hDownloading nvidia_cusparse_cu12-12.3.1.170-py3-none-manylinux2014_x86_64.whl (207.5 MB)\n",
      "\u001b[2K   \u001b[90m━━━━━━━━━━━━━━━━━━━━━━━━━━━━━━━━━━━━━━━━\u001b[0m \u001b[32m207.5/207.5 MB\u001b[0m \u001b[31m5.9 MB/s\u001b[0m eta \u001b[36m0:00:00\u001b[0m\n",
      "\u001b[?25hDownloading nvidia_nvjitlink_cu12-12.4.127-py3-none-manylinux2014_x86_64.whl (21.1 MB)\n",
      "\u001b[2K   \u001b[90m━━━━━━━━━━━━━━━━━━━━━━━━━━━━━━━━━━━━━━━━\u001b[0m \u001b[32m21.1/21.1 MB\u001b[0m \u001b[31m66.2 MB/s\u001b[0m eta \u001b[36m0:00:00\u001b[0m\n",
      "\u001b[?25hInstalling collected packages: nvidia-nvjitlink-cu12, nvidia-curand-cu12, nvidia-cufft-cu12, nvidia-cuda-runtime-cu12, nvidia-cuda-nvrtc-cu12, nvidia-cuda-cupti-cu12, nvidia-cublas-cu12, nvidia-cusparse-cu12, nvidia-cudnn-cu12, nvidia-cusolver-cu12, captum\n",
      "  Attempting uninstall: nvidia-nvjitlink-cu12\n",
      "    Found existing installation: nvidia-nvjitlink-cu12 12.5.82\n",
      "    Uninstalling nvidia-nvjitlink-cu12-12.5.82:\n",
      "      Successfully uninstalled nvidia-nvjitlink-cu12-12.5.82\n",
      "  Attempting uninstall: nvidia-curand-cu12\n",
      "    Found existing installation: nvidia-curand-cu12 10.3.6.82\n",
      "    Uninstalling nvidia-curand-cu12-10.3.6.82:\n",
      "      Successfully uninstalled nvidia-curand-cu12-10.3.6.82\n",
      "  Attempting uninstall: nvidia-cufft-cu12\n",
      "    Found existing installation: nvidia-cufft-cu12 11.2.3.61\n",
      "    Uninstalling nvidia-cufft-cu12-11.2.3.61:\n",
      "      Successfully uninstalled nvidia-cufft-cu12-11.2.3.61\n",
      "  Attempting uninstall: nvidia-cuda-runtime-cu12\n",
      "    Found existing installation: nvidia-cuda-runtime-cu12 12.5.82\n",
      "    Uninstalling nvidia-cuda-runtime-cu12-12.5.82:\n",
      "      Successfully uninstalled nvidia-cuda-runtime-cu12-12.5.82\n",
      "  Attempting uninstall: nvidia-cuda-nvrtc-cu12\n",
      "    Found existing installation: nvidia-cuda-nvrtc-cu12 12.5.82\n",
      "    Uninstalling nvidia-cuda-nvrtc-cu12-12.5.82:\n",
      "      Successfully uninstalled nvidia-cuda-nvrtc-cu12-12.5.82\n",
      "  Attempting uninstall: nvidia-cuda-cupti-cu12\n",
      "    Found existing installation: nvidia-cuda-cupti-cu12 12.5.82\n",
      "    Uninstalling nvidia-cuda-cupti-cu12-12.5.82:\n",
      "      Successfully uninstalled nvidia-cuda-cupti-cu12-12.5.82\n",
      "  Attempting uninstall: nvidia-cublas-cu12\n",
      "    Found existing installation: nvidia-cublas-cu12 12.5.3.2\n",
      "    Uninstalling nvidia-cublas-cu12-12.5.3.2:\n",
      "      Successfully uninstalled nvidia-cublas-cu12-12.5.3.2\n",
      "  Attempting uninstall: nvidia-cusparse-cu12\n",
      "    Found existing installation: nvidia-cusparse-cu12 12.5.1.3\n",
      "    Uninstalling nvidia-cusparse-cu12-12.5.1.3:\n",
      "      Successfully uninstalled nvidia-cusparse-cu12-12.5.1.3\n",
      "  Attempting uninstall: nvidia-cudnn-cu12\n",
      "    Found existing installation: nvidia-cudnn-cu12 9.3.0.75\n",
      "    Uninstalling nvidia-cudnn-cu12-9.3.0.75:\n",
      "      Successfully uninstalled nvidia-cudnn-cu12-9.3.0.75\n",
      "  Attempting uninstall: nvidia-cusolver-cu12\n",
      "    Found existing installation: nvidia-cusolver-cu12 11.6.3.83\n",
      "    Uninstalling nvidia-cusolver-cu12-11.6.3.83:\n",
      "      Successfully uninstalled nvidia-cusolver-cu12-11.6.3.83\n",
      "Successfully installed captum-0.7.0 nvidia-cublas-cu12-12.4.5.8 nvidia-cuda-cupti-cu12-12.4.127 nvidia-cuda-nvrtc-cu12-12.4.127 nvidia-cuda-runtime-cu12-12.4.127 nvidia-cudnn-cu12-9.1.0.70 nvidia-cufft-cu12-11.2.1.3 nvidia-curand-cu12-10.3.5.147 nvidia-cusolver-cu12-11.6.1.9 nvidia-cusparse-cu12-12.3.1.170 nvidia-nvjitlink-cu12-12.4.127\n",
      "Collecting ptflops\n",
      "  Downloading ptflops-0.7.4-py3-none-any.whl.metadata (9.4 kB)\n",
      "Requirement already satisfied: torch>=2.0 in /usr/local/lib/python3.11/dist-packages (from ptflops) (2.6.0+cu124)\n",
      "Requirement already satisfied: filelock in /usr/local/lib/python3.11/dist-packages (from torch>=2.0->ptflops) (3.18.0)\n",
      "Requirement already satisfied: typing-extensions>=4.10.0 in /usr/local/lib/python3.11/dist-packages (from torch>=2.0->ptflops) (4.13.2)\n",
      "Requirement already satisfied: networkx in /usr/local/lib/python3.11/dist-packages (from torch>=2.0->ptflops) (3.4.2)\n",
      "Requirement already satisfied: jinja2 in /usr/local/lib/python3.11/dist-packages (from torch>=2.0->ptflops) (3.1.6)\n",
      "Requirement already satisfied: fsspec in /usr/local/lib/python3.11/dist-packages (from torch>=2.0->ptflops) (2025.3.2)\n",
      "Requirement already satisfied: nvidia-cuda-nvrtc-cu12==12.4.127 in /usr/local/lib/python3.11/dist-packages (from torch>=2.0->ptflops) (12.4.127)\n",
      "Requirement already satisfied: nvidia-cuda-runtime-cu12==12.4.127 in /usr/local/lib/python3.11/dist-packages (from torch>=2.0->ptflops) (12.4.127)\n",
      "Requirement already satisfied: nvidia-cuda-cupti-cu12==12.4.127 in /usr/local/lib/python3.11/dist-packages (from torch>=2.0->ptflops) (12.4.127)\n",
      "Requirement already satisfied: nvidia-cudnn-cu12==9.1.0.70 in /usr/local/lib/python3.11/dist-packages (from torch>=2.0->ptflops) (9.1.0.70)\n",
      "Requirement already satisfied: nvidia-cublas-cu12==12.4.5.8 in /usr/local/lib/python3.11/dist-packages (from torch>=2.0->ptflops) (12.4.5.8)\n",
      "Requirement already satisfied: nvidia-cufft-cu12==11.2.1.3 in /usr/local/lib/python3.11/dist-packages (from torch>=2.0->ptflops) (11.2.1.3)\n",
      "Requirement already satisfied: nvidia-curand-cu12==10.3.5.147 in /usr/local/lib/python3.11/dist-packages (from torch>=2.0->ptflops) (10.3.5.147)\n",
      "Requirement already satisfied: nvidia-cusolver-cu12==11.6.1.9 in /usr/local/lib/python3.11/dist-packages (from torch>=2.0->ptflops) (11.6.1.9)\n",
      "Requirement already satisfied: nvidia-cusparse-cu12==12.3.1.170 in /usr/local/lib/python3.11/dist-packages (from torch>=2.0->ptflops) (12.3.1.170)\n",
      "Requirement already satisfied: nvidia-cusparselt-cu12==0.6.2 in /usr/local/lib/python3.11/dist-packages (from torch>=2.0->ptflops) (0.6.2)\n",
      "Requirement already satisfied: nvidia-nccl-cu12==2.21.5 in /usr/local/lib/python3.11/dist-packages (from torch>=2.0->ptflops) (2.21.5)\n",
      "Requirement already satisfied: nvidia-nvtx-cu12==12.4.127 in /usr/local/lib/python3.11/dist-packages (from torch>=2.0->ptflops) (12.4.127)\n",
      "Requirement already satisfied: nvidia-nvjitlink-cu12==12.4.127 in /usr/local/lib/python3.11/dist-packages (from torch>=2.0->ptflops) (12.4.127)\n",
      "Requirement already satisfied: triton==3.2.0 in /usr/local/lib/python3.11/dist-packages (from torch>=2.0->ptflops) (3.2.0)\n",
      "Requirement already satisfied: sympy==1.13.1 in /usr/local/lib/python3.11/dist-packages (from torch>=2.0->ptflops) (1.13.1)\n",
      "Requirement already satisfied: mpmath<1.4,>=1.1.0 in /usr/local/lib/python3.11/dist-packages (from sympy==1.13.1->torch>=2.0->ptflops) (1.3.0)\n",
      "Requirement already satisfied: MarkupSafe>=2.0 in /usr/local/lib/python3.11/dist-packages (from jinja2->torch>=2.0->ptflops) (3.0.2)\n",
      "Downloading ptflops-0.7.4-py3-none-any.whl (19 kB)\n",
      "Installing collected packages: ptflops\n",
      "Successfully installed ptflops-0.7.4\n"
     ]
    }
   ],
   "source": [
    "!pip install quantus\n",
    "!pip install captum==0.7.0\n",
    "!pip install ptflops"
   ]
  },
  {
   "cell_type": "code",
   "execution_count": 5,
   "metadata": {
    "executionInfo": {
     "elapsed": 14278,
     "status": "ok",
     "timestamp": 1747891630026,
     "user": {
      "displayName": "Hung Thanh Do",
      "userId": "14602254202234053172"
     },
     "user_tz": -120
    },
    "id": "a_4fNKYYvuJZ"
   },
   "outputs": [],
   "source": [
    "import torch\n",
    "import torch.nn as nn\n",
    "import torch.optim as optim\n",
    "from torch.utils.data import TensorDataset, DataLoader\n",
    "import numpy as np\n",
    "import pandas as pd\n",
    "import shap\n",
    "from sklearn.model_selection import train_test_split\n",
    "from sklearn.metrics import accuracy_score\n",
    "import quantus  # make sure Quantus is installed\n",
    "from typing import Optional\n",
    "from IPython.display import Markdown, display, clear_output\n",
    "import time"
   ]
  },
  {
   "cell_type": "markdown",
   "metadata": {
    "id": "X1xZaKH-vuJg"
   },
   "source": [
    "## Data Loading"
   ]
  },
  {
   "cell_type": "code",
   "execution_count": 11,
   "metadata": {
    "executionInfo": {
     "elapsed": 80,
     "status": "ok",
     "timestamp": 1747891661116,
     "user": {
      "displayName": "Hung Thanh Do",
      "userId": "14602254202234053172"
     },
     "user_tz": -120
    },
    "id": "pqRzYE8-vuJj"
   },
   "outputs": [],
   "source": [
    "# ---------------------------\n",
    "# Data Loading and Preparation (label-encoded)\n",
    "# ---------------------------\n",
    "X, y = shap.datasets.adult()"
   ]
  },
  {
   "cell_type": "markdown",
   "metadata": {
    "id": "2vrHIbptvuJk"
   },
   "source": [
    "## Preprocessing"
   ]
  },
  {
   "cell_type": "markdown",
   "metadata": {
    "id": "vTb-bEi5vuJk"
   },
   "source": [
    "### Label Encoding (already by SHAP)"
   ]
  },
  {
   "cell_type": "markdown",
   "metadata": {
    "id": "WQ85p69vvuJx"
   },
   "source": [
    "### Data Splitting and Formatting"
   ]
  },
  {
   "cell_type": "code",
   "execution_count": 12,
   "metadata": {
    "executionInfo": {
     "elapsed": 64,
     "status": "ok",
     "timestamp": 1747891662173,
     "user": {
      "displayName": "Hung Thanh Do",
      "userId": "14602254202234053172"
     },
     "user_tz": -120
    },
    "id": "BmQU8VZ3vuJx"
   },
   "outputs": [],
   "source": [
    "random_state = 7"
   ]
  },
  {
   "cell_type": "code",
   "execution_count": 13,
   "metadata": {
    "executionInfo": {
     "elapsed": 3,
     "status": "ok",
     "timestamp": 1747891662174,
     "user": {
      "displayName": "Hung Thanh Do",
      "userId": "14602254202234053172"
     },
     "user_tz": -120
    },
    "id": "N4ujx3U_vuJx"
   },
   "outputs": [],
   "source": [
    "\n",
    "# Split into training and test sets (we use test for evaluation and explanations)\n",
    "X_train, X_test, y_train, y_test = train_test_split(X, y, test_size=0.2, random_state=random_state)\n",
    "X_train, X_val, y_train, y_val = train_test_split(X_train, y_train, test_size=0.2, random_state=random_state)"
   ]
  },
  {
   "cell_type": "code",
   "execution_count": 14,
   "metadata": {
    "colab": {
     "base_uri": "https://localhost:8080/"
    },
    "executionInfo": {
     "elapsed": 5,
     "status": "ok",
     "timestamp": 1747891662177,
     "user": {
      "displayName": "Hung Thanh Do",
      "userId": "14602254202234053172"
     },
     "user_tz": -120
    },
    "id": "sbfy4p2RvuJx",
    "outputId": "d686be2d-dd39-443d-ec74-0c5f4a05f852"
   },
   "outputs": [
    {
     "name": "stdout",
     "output_type": "stream",
     "text": [
      "X_train shape: (20838, 12)\n",
      "X_val shape: (5210, 12)\n",
      "X_test shape: (6513, 12)\n",
      "y_train shape: (20838,)\n",
      "y_val shape: (5210,)\n",
      "y_test shape: (6513,)\n"
     ]
    }
   ],
   "source": [
    "# Display dim to choose suitable param of TabResNet\n",
    "# Pay attention to the number of features\n",
    "print(\"X_train shape:\", X_train.shape)\n",
    "print(\"X_val shape:\", X_val.shape)\n",
    "print(\"X_test shape:\", X_test.shape)\n",
    "print(\"y_train shape:\", y_train.shape)\n",
    "print(\"y_val shape:\", y_val.shape)\n",
    "print(\"y_test shape:\", y_test.shape)"
   ]
  },
  {
   "cell_type": "code",
   "execution_count": 15,
   "metadata": {
    "executionInfo": {
     "elapsed": 3,
     "status": "ok",
     "timestamp": 1747891662187,
     "user": {
      "displayName": "Hung Thanh Do",
      "userId": "14602254202234053172"
     },
     "user_tz": -120
    },
    "id": "qwxopCFdvuJx"
   },
   "outputs": [],
   "source": [
    "# Convert to numpy arrays\n",
    "X_train_np = X_train.values.astype(np.float32)\n",
    "X_val_np = X_val.values.astype(np.float32)\n",
    "X_test_np = X_test.values.astype(np.float32)\n",
    "# For CrossEntropyLoss, labels must be integers.\n",
    "y_train_np = y_train.astype(np.int64).values if isinstance(y_train, pd.Series) else y_train.astype(np.int64)\n",
    "y_val_np = y_val.astype(np.int64).values if isinstance(y_val, pd.Series) else y_val.astype(np.int64)\n",
    "y_test_np = y_test.astype(np.int64).values if isinstance(y_test, pd.Series) else y_test.astype(np.int64)\n",
    "\n",
    "# Create PyTorch tensors\n",
    "X_train_tensor = torch.from_numpy(X_train_np)\n",
    "y_train_tensor = torch.from_numpy(y_train_np)\n",
    "X_val_tensor = torch.from_numpy(X_val_np)\n",
    "y_val_tensor = torch.from_numpy(y_val_np)\n",
    "X_test_tensor = torch.from_numpy(X_test_np)\n",
    "y_test_tensor = torch.from_numpy(y_test_np)"
   ]
  },
  {
   "cell_type": "markdown",
   "metadata": {
    "id": "iBZ8V9AfvuJy"
   },
   "source": [
    "## Training"
   ]
  },
  {
   "cell_type": "markdown",
   "metadata": {
    "id": "tGXiA0ahvuJz"
   },
   "source": [
    "### Train with XGBoost"
   ]
  },
  {
   "cell_type": "code",
   "execution_count": 16,
   "metadata": {
    "executionInfo": {
     "elapsed": 459,
     "status": "ok",
     "timestamp": 1747891668236,
     "user": {
      "displayName": "Hung Thanh Do",
      "userId": "14602254202234053172"
     },
     "user_tz": -120
    },
    "id": "oX-3aL21vuJ0"
   },
   "outputs": [],
   "source": [
    "from xgboost import XGBClassifier\n",
    "# Train XGBoost model\n",
    "xgb_model = XGBClassifier(\n",
    "    objective='binary:logistic',\n",
    "    eval_metric='logloss',\n",
    "    n_estimators=100,\n",
    "    max_depth=3,\n",
    "    learning_rate=0.1,\n",
    "    random_state=random_state\n",
    ")"
   ]
  },
  {
   "cell_type": "code",
   "execution_count": 17,
   "metadata": {
    "colab": {
     "base_uri": "https://localhost:8080/"
    },
    "executionInfo": {
     "elapsed": 442,
     "status": "ok",
     "timestamp": 1747891669798,
     "user": {
      "displayName": "Hung Thanh Do",
      "userId": "14602254202234053172"
     },
     "user_tz": -120
    },
    "id": "in8ho2PFQryv",
    "outputId": "40f1898c-6ef8-4e04-c992-5540aee6ad6f"
   },
   "outputs": [
    {
     "name": "stdout",
     "output_type": "stream",
     "text": [
      "XGBoost Test Accuracy: 0.8669\n"
     ]
    }
   ],
   "source": [
    "xgb_start_time = time.time()\n",
    "xgb_model.fit(X_train_np, y_train_np)\n",
    "\n",
    "# Predict and evaluate\n",
    "xgb_preds = xgb_model.predict(X_test_np)\n",
    "\n",
    "xgb_accuracy = accuracy_score(y_test_np, xgb_preds)\n",
    "print(f\"XGBoost Test Accuracy: {xgb_accuracy:.4f}\")\n",
    "xgb_end_time = time.time()\n",
    "\n",
    "xgb_elapsed_time = xgb_end_time - xgb_start_time"
   ]
  },
  {
   "cell_type": "code",
   "execution_count": 12,
   "metadata": {
    "executionInfo": {
     "elapsed": 932,
     "status": "ok",
     "timestamp": 1747888693784,
     "user": {
      "displayName": "Hung Thanh Do",
      "userId": "14602254202234053172"
     },
     "user_tz": -120
    },
    "id": "MUFkefa5vuJ1"
   },
   "outputs": [],
   "source": [
    "# Save the model for train with XGB , diabetes dataset\n",
    "xgb_model.save_model(\"saved_model/xgb_adults.json\")"
   ]
  },
  {
   "cell_type": "code",
   "execution_count": null,
   "metadata": {
    "id": "CzgbxTFLvuJ1"
   },
   "outputs": [],
   "source": [
    "xgb_model.load_model(\"saved_model/xgb_adults.json\")"
   ]
  },
  {
   "cell_type": "markdown",
   "metadata": {
    "id": "v6ssuMclvuJ1"
   },
   "source": [
    "### Train with MLP"
   ]
  },
  {
   "cell_type": "code",
   "execution_count": 53,
   "metadata": {
    "executionInfo": {
     "elapsed": 4,
     "status": "ok",
     "timestamp": 1747892187309,
     "user": {
      "displayName": "Hung Thanh Do",
      "userId": "14602254202234053172"
     },
     "user_tz": -120
    },
    "id": "zkwZIxOBvuJ2"
   },
   "outputs": [],
   "source": [
    "from sklearn.neural_network import MLPClassifier\n",
    "\n",
    "# Train MLP model\n",
    "mlp_model = MLPClassifier(\n",
    "    hidden_layer_sizes=100,\n",
    "    activation='relu',\n",
    "    solver='adam',\n",
    "    learning_rate_init=1e-3,\n",
    "    max_iter=400,\n",
    "    random_state=random_state,\n",
    "    early_stopping=True,\n",
    "    n_iter_no_change=20\n",
    ")"
   ]
  },
  {
   "cell_type": "code",
   "execution_count": 54,
   "metadata": {
    "colab": {
     "base_uri": "https://localhost:8080/"
    },
    "executionInfo": {
     "elapsed": 5747,
     "status": "ok",
     "timestamp": 1747892194820,
     "user": {
      "displayName": "Hung Thanh Do",
      "userId": "14602254202234053172"
     },
     "user_tz": -120
    },
    "id": "VapAywL_QzdY",
    "outputId": "dec0bee5-49f0-4adf-f7e5-d45479c59f66"
   },
   "outputs": [
    {
     "name": "stdout",
     "output_type": "stream",
     "text": [
      "MLP Test Accuracy: 0.8412\n"
     ]
    }
   ],
   "source": [
    "mlp_start_time = time.time()\n",
    "mlp_model.fit(X_train_np, y_train_np)\n",
    "\n",
    "# Predict and evaluate\n",
    "mlp_preds = mlp_model.predict(X_test_np)\n",
    "mlp_end_time = time.time()\n",
    "mlp_elapsed_time =  mlp_end_time - mlp_start_time\n",
    "\n",
    "mlp_accuracy = accuracy_score(y_test_np, mlp_preds)\n",
    "print(f\"MLP Test Accuracy: {mlp_accuracy:.4f}\")\n",
    "\n"
   ]
  },
  {
   "cell_type": "code",
   "execution_count": 24,
   "metadata": {
    "colab": {
     "base_uri": "https://localhost:8080/"
    },
    "executionInfo": {
     "elapsed": 600,
     "status": "ok",
     "timestamp": 1747891746668,
     "user": {
      "displayName": "Hung Thanh Do",
      "userId": "14602254202234053172"
     },
     "user_tz": -120
    },
    "id": "4WbuGqdwvuJ3",
    "outputId": "505b6249-13e4-491b-fe8f-82cc5add86e2"
   },
   "outputs": [
    {
     "data": {
      "text/plain": [
       "['saved_model/mlp_adults.pkl']"
      ]
     },
     "execution_count": 24,
     "metadata": {},
     "output_type": "execute_result"
    }
   ],
   "source": [
    "import joblib\n",
    "\n",
    "# Save\n",
    "joblib.dump(mlp_model, \"saved_model/mlp_adults.pkl\")"
   ]
  },
  {
   "cell_type": "code",
   "execution_count": null,
   "metadata": {
    "id": "L-vD1uWzvuJ4"
   },
   "outputs": [],
   "source": [
    "import joblib\n",
    "# Load\n",
    "mlp_model = joblib.load(\"saved_model/mlp_adults.pkl\")"
   ]
  },
  {
   "cell_type": "markdown",
   "metadata": {
    "id": "enSAKrFmvuJy"
   },
   "source": [
    "### Model TabResNet"
   ]
  },
  {
   "cell_type": "code",
   "execution_count": 56,
   "metadata": {
    "executionInfo": {
     "elapsed": 7,
     "status": "ok",
     "timestamp": 1747892252750,
     "user": {
      "displayName": "Hung Thanh Do",
      "userId": "14602254202234053172"
     },
     "user_tz": -120
    },
    "id": "vGxhyW2avuJy"
   },
   "outputs": [],
   "source": [
    "# ---------------------------\n",
    "# Model Definition: TabResNet (using residual blocks)\n",
    "# ---------------------------\n",
    "class TabResBlock(nn.Module):\n",
    "    def __init__(self, d_block, d_hidden, dropout1, dropout2):\n",
    "        super(TabResBlock, self).__init__()\n",
    "        # Sub-block 1\n",
    "        self.bn1 = nn.BatchNorm1d(d_block)\n",
    "        self.ln1 = nn.Linear(d_block, d_hidden)\n",
    "        self.relu1 = nn.ReLU()\n",
    "        self.drop1 = nn.Dropout(dropout1)\n",
    "        # Sub-block 2\n",
    "        self.ln2 = nn.Linear(d_hidden, d_block)\n",
    "        self.drop2 = nn.Dropout(dropout2)\n",
    "\n",
    "    def forward(self, x):\n",
    "        identity = x\n",
    "        out = self.bn1(x)\n",
    "        out = self.ln1(out)\n",
    "        out = self.relu1(out)\n",
    "        out = self.drop1(out)\n",
    "        out = self.ln2(out)\n",
    "        out = self.drop2(out)\n",
    "        out += identity\n",
    "        return out\n",
    "\n",
    "class TabResNet(nn.Module):\n",
    "    def __init__(\n",
    "        self,\n",
    "        d_in: int,\n",
    "        d_out: Optional[int],\n",
    "        n_blocks: int,\n",
    "        d_block: int,\n",
    "        d_hidden: Optional[int],\n",
    "        d_hidden_multiplier: Optional[float] = 2,\n",
    "        dropout1: float = 0.2,\n",
    "        dropout2: float = 0\n",
    "    ):\n",
    "        \"\"\"\n",
    "        Args:\n",
    "            d_in: Number of input features.\n",
    "            d_out: Number of outputs (set to 2 for binary classification).\n",
    "            n_blocks: Number of residual blocks.\n",
    "            d_block: Block width (input and output dimension of each block).\n",
    "            d_hidden: Hidden dimension inside a block.\n",
    "        \"\"\"\n",
    "        super(TabResNet, self).__init__()\n",
    "        # Project input to block width\n",
    "        self.input_projection = nn.Linear(d_in, d_block)\n",
    "        # Residual blocks\n",
    "        self.resblocks = nn.ModuleList([\n",
    "            TabResBlock(d_block, d_hidden, dropout1, dropout2) for _ in range(n_blocks)\n",
    "        ])\n",
    "        # Prediction block: outputs logits for d_out classes.\n",
    "        self.predblock = (\n",
    "            nn.Sequential(\n",
    "                nn.BatchNorm1d(d_block),\n",
    "                nn.ReLU(),\n",
    "                nn.Linear(d_block, d_out)\n",
    "            ) if d_out is not None else None\n",
    "        )\n",
    "\n",
    "    def forward(self, x):\n",
    "        x = self.input_projection(x)\n",
    "        for block in self.resblocks:\n",
    "            x = block(x)\n",
    "        if self.predblock is not None:\n",
    "            x = self.predblock(x)\n",
    "        return x  # returns logits\n",
    "\n",
    "# Instantiate model; input dimension equals the number of columns in X_test_np.\n",
    "d_in = X_test_np.shape[1]\n",
    "model = TabResNet(\n",
    "    d_in=d_in,\n",
    "    d_out=2,       # Two outputs for binary classification.\n",
    "    n_blocks=2,\n",
    "    d_block=16,\n",
    "    d_hidden=32,\n",
    "    dropout1=0.2,\n",
    "    dropout2=0.05\n",
    ")"
   ]
  },
  {
   "cell_type": "markdown",
   "metadata": {
    "id": "XgGkV5PQvuJ5"
   },
   "source": [
    "### Train with TabResNet"
   ]
  },
  {
   "cell_type": "code",
   "execution_count": 57,
   "metadata": {
    "colab": {
     "base_uri": "https://localhost:8080/"
    },
    "executionInfo": {
     "elapsed": 1905,
     "status": "ok",
     "timestamp": 1747892256559,
     "user": {
      "displayName": "Hung Thanh Do",
      "userId": "14602254202234053172"
     },
     "user_tz": -120
    },
    "id": "RkvzslGQvuJ6",
    "outputId": "5ad3d2c1-43b4-49c4-b2bb-c6663cda5084"
   },
   "outputs": [
    {
     "name": "stdout",
     "output_type": "stream",
     "text": [
      "Epoch [100/400]\n",
      "Training Loss: 0.4656   - Training Accuracy: 0.7977\n",
      "Validation Loss: 0.4730 - Validation Accuracy: 0.8094 \n",
      "\n",
      "Epoch [200/400]\n",
      "Training Loss: 0.3796   - Training Accuracy: 0.8097\n",
      "Validation Loss: 0.3847 - Validation Accuracy: 0.8134 \n",
      "\n",
      "Epoch [300/400]\n",
      "Training Loss: 0.3392   - Training Accuracy: 0.8425\n",
      "Validation Loss: 0.3448 - Validation Accuracy: 0.8436 \n",
      "\n",
      "Epoch [400/400]\n",
      "Training Loss: 0.3310   - Training Accuracy: 0.8429\n",
      "Validation Loss: 0.3328 - Validation Accuracy: 0.8488 \n",
      "\n",
      "\n",
      "Test Accuracy: 0.8442\n"
     ]
    }
   ],
   "source": [
    "# ---------------------------\n",
    "# Training Setup\n",
    "# ---------------------------\n",
    "\n",
    "device = torch.device(\"cuda\" if torch.cuda.is_available() else \"cpu\")\n",
    "\n",
    "model = model.to(device)\n",
    "X_train_tensor = X_train_tensor.to(device)\n",
    "y_train_tensor = y_train_tensor.to(device)\n",
    "\n",
    "X_val_tensor = X_val_tensor.to(device)\n",
    "y_val_tensor = y_val_tensor.to(device)\n",
    "\n",
    "# Move test tensors to the same device as model\n",
    "X_test_tensor = X_test_tensor.to(device)\n",
    "y_test_tensor = y_test_tensor.to(device)\n",
    "\n",
    "criterion = nn.CrossEntropyLoss()  # expects logits and integer labels\n",
    "optimizer = optim.Adam(model.parameters(), lr=0.001)\n",
    "num_epochs = 400\n",
    "best_val_loss = float('inf')\n",
    "patience = 20   # Early stopping patience\n",
    "counter = 0\n",
    "\n",
    "start_time = time.time()\n",
    "for epoch in range(num_epochs):\n",
    "    model.train()\n",
    "    logits = model(X_train_tensor)\n",
    "    loss = criterion(logits, y_train_tensor)\n",
    "    optimizer.zero_grad()\n",
    "    loss.backward()\n",
    "    optimizer.step()\n",
    "    if (epoch + 1) % 100 == 0:\n",
    "        print(f\"Epoch [{epoch+1}/{num_epochs}]\")\n",
    "        with torch.no_grad():\n",
    "            y_train_pred = torch.argmax(logits, dim=1)\n",
    "            train_accuracy = accuracy_score(y_train_tensor.cpu().numpy(), y_train_pred.cpu().numpy())\n",
    "            print(f\"Training Loss: {loss.item():.4f}   - Training Accuracy: {train_accuracy:.4f}\")\n",
    "\n",
    "        model.eval()\n",
    "        with torch.no_grad():\n",
    "            val_logits = model(X_val_tensor)\n",
    "            val_loss = criterion(val_logits, y_val_tensor)\n",
    "            val_pred = torch.argmax(val_logits, dim=1)\n",
    "            val_accuracy = accuracy_score(y_val_tensor.cpu().numpy(), val_pred.cpu().numpy())\n",
    "            print(f\"Validation Loss: {val_loss.item():.4f} - Validation Accuracy: {val_accuracy:.4f} \\n\")\n",
    "\n",
    "            if val_loss < best_val_loss:\n",
    "                best_val_loss = val_loss\n",
    "                counter = 0\n",
    "            else:\n",
    "                counter += 1\n",
    "                if counter >= patience:\n",
    "                    print(\"Early stopping triggered.\")\n",
    "                    break\n",
    "\n",
    "# Evaluate on test data\n",
    "model.eval()\n",
    "with torch.no_grad():\n",
    "    logits = model(X_test_tensor)\n",
    "    probs = torch.softmax(logits, dim=1)\n",
    "    preds = torch.argmax(probs, dim=1)\n",
    "    accuracy = (preds == y_test_tensor).float().mean().item()\n",
    "    print(f\"\\nTest Accuracy: {accuracy:.4f}\")\n",
    "\n",
    "end_time = time.time()\n",
    "elapsed_time = end_time - start_time"
   ]
  },
  {
   "cell_type": "code",
   "execution_count": 19,
   "metadata": {
    "executionInfo": {
     "elapsed": 46,
     "status": "ok",
     "timestamp": 1747888784613,
     "user": {
      "displayName": "Hung Thanh Do",
      "userId": "14602254202234053172"
     },
     "user_tz": -120
    },
    "id": "AxhYowatvuJ7"
   },
   "outputs": [],
   "source": [
    "# Save the model\n",
    "torch.save(model.state_dict(), \"saved_model/tabresnet_adults.pth\")"
   ]
  },
  {
   "cell_type": "code",
   "execution_count": null,
   "metadata": {
    "colab": {
     "base_uri": "https://localhost:8080/"
    },
    "executionInfo": {
     "elapsed": 326,
     "status": "ok",
     "timestamp": 1747758774181,
     "user": {
      "displayName": "Hung Thanh Do",
      "userId": "14602254202234053172"
     },
     "user_tz": -120
    },
    "id": "Y0yw5GHTvuJ7",
    "outputId": "efe931f7-2c57-46f6-ef0e-892559baeab0"
   },
   "outputs": [
    {
     "data": {
      "text/plain": [
       "<All keys matched successfully>"
      ]
     },
     "execution_count": 15,
     "metadata": {},
     "output_type": "execute_result"
    }
   ],
   "source": [
    "# Load the model\n",
    "model.load_state_dict(torch.load(\"saved_model/tabresnet_adults.pth\"))"
   ]
  },
  {
   "cell_type": "markdown",
   "metadata": {
    "id": "uLMPC12VP_j5"
   },
   "source": [
    "# Sustainability"
   ]
  },
  {
   "cell_type": "markdown",
   "metadata": {
    "id": "UgJ9XJAWDev3"
   },
   "source": [
    "## Define utils"
   ]
  },
  {
   "cell_type": "code",
   "execution_count": 29,
   "metadata": {
    "executionInfo": {
     "elapsed": 4,
     "status": "ok",
     "timestamp": 1747891868108,
     "user": {
      "displayName": "Hung Thanh Do",
      "userId": "14602254202234053172"
     },
     "user_tz": -120
    },
    "id": "gAwKonCzaeSi"
   },
   "outputs": [],
   "source": [
    "def count_xgboost_parameters(model):\n",
    "    \"\"\"\n",
    "    Count the number of parameters in an XGBoost model.\n",
    "\n",
    "    For each tree in the model:\n",
    "    - Internal nodes: Each has a feature index and threshold (2 parameters)\n",
    "    - Leaf nodes: Each has a weight (1 parameter)\n",
    "\n",
    "    Args:\n",
    "        model: A trained XGBoost model\n",
    "\n",
    "    Returns:\n",
    "        int: Total number of parameters\n",
    "    \"\"\"\n",
    "    # Get the booster from the model\n",
    "    booster = model.get_booster()\n",
    "\n",
    "    # Get the tree model as JSON\n",
    "    tree_info = booster.get_dump(dump_format='json')\n",
    "\n",
    "    total_parameters = 0\n",
    "\n",
    "    # Parse each tree and count parameters\n",
    "    for tree_str in tree_info:\n",
    "        # Parse JSON string to dictionary\n",
    "        import json\n",
    "        tree = json.loads(tree_str)\n",
    "\n",
    "        # Recursive function to count parameters in a tree\n",
    "        def count_tree_params(node):\n",
    "            params = 0\n",
    "            if 'leaf' in node:\n",
    "                # Leaf node has 1 parameter (the weight)\n",
    "                params = 1\n",
    "            else:\n",
    "                # Internal node has 2 parameters (feature index and threshold)\n",
    "                params = 2\n",
    "                # Add parameters from children\n",
    "                if 'children' in node:\n",
    "                    for child in node['children']:\n",
    "                        params += count_tree_params(child)\n",
    "            return params\n",
    "\n",
    "        total_parameters += count_tree_params(tree)\n",
    "\n",
    "    return total_parameters\n",
    "\n",
    "def estimate_xgboost_flops(model, n_samples):\n",
    "    \"\"\"\n",
    "    Estimate the number of FLOPs for XGBoost prediction.\n",
    "\n",
    "    For each sample:\n",
    "    - Each internal node requires ~2 FLOPs (1 comparison, 1 branch decision)\n",
    "    - Average path length × number of trees × number of samples\n",
    "\n",
    "    Args:\n",
    "        model: A trained XGBoost model\n",
    "        n_samples: Number of samples for prediction\n",
    "\n",
    "    Returns:\n",
    "        int: Estimated FLOPs\n",
    "    \"\"\"\n",
    "    booster = model.get_booster()\n",
    "    tree_info = booster.get_dump(dump_format='json')\n",
    "\n",
    "    total_nodes = 0\n",
    "    total_trees = len(tree_info)\n",
    "\n",
    "    # Calculate average path length based on tree structure\n",
    "    avg_path_length = 0\n",
    "\n",
    "    for tree_str in tree_info:\n",
    "        import json\n",
    "        tree = json.loads(tree_str)\n",
    "\n",
    "        # Find max depth of the tree\n",
    "        def get_max_depth(node, current_depth=0):\n",
    "            if 'leaf' in node:\n",
    "                return current_depth\n",
    "            else:\n",
    "                max_depth = current_depth\n",
    "                if 'children' in node:\n",
    "                    for child in node['children']:\n",
    "                        max_depth = max(max_depth, get_max_depth(child, current_depth + 1))\n",
    "                return max_depth\n",
    "\n",
    "        avg_path_length += get_max_depth(tree)\n",
    "\n",
    "    avg_path_length /= total_trees\n",
    "\n",
    "    # Each comparison is approximately 2 FLOPs\n",
    "    # Total FLOPs = avg path length × 2 FLOPs per node × number of trees × number of samples\n",
    "    total_flops = avg_path_length * 2 * total_trees * n_samples\n",
    "\n",
    "    return total_flops\n",
    "\n",
    "def estimate_xgboost_macs(model, n_samples):\n",
    "    \"\"\"\n",
    "    Estimate the number of MACs for XGBoost prediction.\n",
    "    XGBoost primarily uses comparisons rather than multiplications,\n",
    "    so MACs are substantially fewer than FLOPs.\n",
    "\n",
    "    Args:\n",
    "        model: A trained XGBoost model\n",
    "        n_samples: Number of samples for prediction\n",
    "\n",
    "    Returns:\n",
    "        int: Estimated MACs\n",
    "    \"\"\"\n",
    "    # In XGBoost, MACs are primarily used in the final stage when combining tree outputs\n",
    "    # Each tree contributes one addition operation to the final sum for each sample\n",
    "\n",
    "    n_trees = model.n_estimators\n",
    "\n",
    "    # MACs for combining tree outputs (1 per tree per sample)\n",
    "    macs = n_trees * n_samples\n",
    "\n",
    "    return macs"
   ]
  },
  {
   "cell_type": "code",
   "execution_count": 30,
   "metadata": {
    "executionInfo": {
     "elapsed": 20,
     "status": "ok",
     "timestamp": 1747891868130,
     "user": {
      "displayName": "Hung Thanh Do",
      "userId": "14602254202234053172"
     },
     "user_tz": -120
    },
    "id": "XghNd9w9a8Ew"
   },
   "outputs": [],
   "source": [
    "def count_mlp_parameters(model):\n",
    "    \"\"\"\n",
    "    Count the number of parameters in a scikit-learn MLPClassifier.\n",
    "\n",
    "    MLPClassifier parameters include:\n",
    "    - Weight matrices between layers\n",
    "    - Bias vectors for each layer\n",
    "\n",
    "    Args:\n",
    "        model: A trained scikit-learn MLPClassifier\n",
    "\n",
    "    Returns:\n",
    "        int: Total number of parameters\n",
    "    \"\"\"\n",
    "    total_params = 0\n",
    "\n",
    "    # Get the coefficient matrices (weights)\n",
    "    coefs = model.coefs_\n",
    "\n",
    "    # Get the intercept vectors (biases)\n",
    "    intercepts = model.intercepts_\n",
    "\n",
    "    # Count parameters in weights\n",
    "    for coef in coefs:\n",
    "        total_params += coef.size\n",
    "\n",
    "    # Count parameters in biases\n",
    "    for intercept in intercepts:\n",
    "        total_params += intercept.size\n",
    "\n",
    "    return total_params\n",
    "\n",
    "def estimate_mlp_flops(model, n_samples):\n",
    "    \"\"\"\n",
    "    Estimate the number of FLOPs for MLPClassifier prediction.\n",
    "\n",
    "    For each layer:\n",
    "    - Matrix multiplication: ~2 × n_inputs × n_neurons FLOPs per sample\n",
    "    - Bias addition: n_neurons FLOPs per sample\n",
    "    - Activation: ~1-3 FLOPs per neuron per sample (depends on activation function)\n",
    "\n",
    "    Args:\n",
    "        model: A trained scikit-learn MLPClassifier\n",
    "        n_samples: Number of samples for prediction\n",
    "\n",
    "    Returns:\n",
    "        int: Estimated FLOPs\n",
    "    \"\"\"\n",
    "    total_flops = 0\n",
    "\n",
    "    # Get network architecture\n",
    "    coefs = model.coefs_  # Weight matrices\n",
    "    intercepts = model.intercepts_  # Bias vectors\n",
    "    activation = model.activation  # Activation function\n",
    "\n",
    "    # Estimate FLOPs per activation function\n",
    "    act_flops = {\n",
    "        'identity': 0,  # No computation\n",
    "        'logistic': 3,  # exp, division, addition\n",
    "        'tanh': 3,      # exp operations and addition\n",
    "        'relu': 1       # max operation\n",
    "    }\n",
    "\n",
    "    # FLOPs for each layer\n",
    "    for i in range(len(coefs)):\n",
    "        layer_input_size = coefs[i].shape[0]\n",
    "        layer_output_size = coefs[i].shape[1]\n",
    "\n",
    "        # Matrix multiplication: ~2 operations per element (multiply and add)\n",
    "        # For each output neuron, we do layer_input_size multiplications and additions\n",
    "        matmul_flops = 2 * layer_input_size * layer_output_size * n_samples\n",
    "\n",
    "        # Bias addition: 1 addition per output neuron\n",
    "        bias_flops = layer_output_size * n_samples\n",
    "\n",
    "        # Activation function application\n",
    "        activation_flops = act_flops.get(activation, 1) * layer_output_size * n_samples\n",
    "\n",
    "        layer_flops = matmul_flops + bias_flops + activation_flops\n",
    "        total_flops += layer_flops\n",
    "\n",
    "    # Output layer activation\n",
    "    if hasattr(model, 'out_activation_') and model.out_activation_ == 'logistic':\n",
    "        # Logistic (sigmoid) activation: 1/(1 + exp(-x))\n",
    "        # Requires: 1 negation, 1 exp, 1 addition, 1 division per output\n",
    "        total_flops += 4 * model.n_outputs_ * n_samples\n",
    "\n",
    "    return total_flops\n",
    "\n",
    "def estimate_mlp_macs(model, n_samples):\n",
    "    \"\"\"\n",
    "    Estimate the number of MACs for MLPClassifier prediction.\n",
    "\n",
    "    MACs primarily come from the matrix multiplications:\n",
    "    - Each element in the output requires input_size MACs\n",
    "\n",
    "    Args:\n",
    "        model: A trained scikit-learn MLPClassifier\n",
    "        n_samples: Number of samples for prediction\n",
    "\n",
    "    Returns:\n",
    "        int: Estimated MACs\n",
    "    \"\"\"\n",
    "    total_macs = 0\n",
    "\n",
    "    # Get weight matrices\n",
    "    coefs = model.coefs_\n",
    "\n",
    "    # MACs for each layer\n",
    "    for i in range(len(coefs)):\n",
    "        layer_input_size = coefs[i].shape[0]\n",
    "        layer_output_size = coefs[i].shape[1]\n",
    "\n",
    "        # Each output neuron requires input_size MACs\n",
    "        layer_macs = layer_input_size * layer_output_size * n_samples\n",
    "        total_macs += layer_macs\n",
    "\n",
    "    return total_macs"
   ]
  },
  {
   "cell_type": "code",
   "execution_count": 31,
   "metadata": {
    "executionInfo": {
     "elapsed": 8,
     "status": "ok",
     "timestamp": 1747891868140,
     "user": {
      "displayName": "Hung Thanh Do",
      "userId": "14602254202234053172"
     },
     "user_tz": -120
    },
    "id": "LEkZeB-eC8T_"
   },
   "outputs": [],
   "source": [
    "def compute_kgco2e(pc: float, pg: float, time_hours: float):\n",
    "    \"\"\"\n",
    "    Compute kgCO2 emission, and normalized emission per capita.\n",
    "    Args:\n",
    "        pc: average CPU power in watts\n",
    "        pg: average GPU power in watts\n",
    "        time_hours: training + eval time in hours\n",
    "\n",
    "    Returns:\n",
    "        tuple: CO2e (kg), normalized CO2e\n",
    "    \"\"\"\n",
    "    pt = (pc + pg) * time_hours / 1000  # power in kWh\n",
    "    co2e = 0.498 * pt  # Germany's emission rate\n",
    "    normalized = co2e / 26  # per-capita daily emission baseline\n",
    "\n",
    "    return co2e, normalized"
   ]
  },
  {
   "cell_type": "code",
   "execution_count": 32,
   "metadata": {
    "executionInfo": {
     "elapsed": 1,
     "status": "ok",
     "timestamp": 1747891868142,
     "user": {
      "displayName": "Hung Thanh Do",
      "userId": "14602254202234053172"
     },
     "user_tz": -120
    },
    "id": "gTulf29cDj5G"
   },
   "outputs": [],
   "source": [
    "\"\"\"\n",
    "Intel(R) Xeon(R) CPU @ 2.20GHz\n",
    "Model: 79 (\n",
    "-> Intel Xeon E5-2673 v4 from the Broadwell-EP family - specifications:\n",
    "    Cores: 10\n",
    "    Threads: 20\n",
    "    Base Frequency: 2.3 GHz\n",
    "    Maximum Turbo Speed: 3.5 GHz\n",
    "    Cache: 50 MB\n",
    "    TDP: 135W\n",
    "\n",
    "Colab uses 2 vCPUs (each 1 core -> total 2 cores out of 20)\n",
    "-> only use 10% of the actuall TDP -> 13.5 W\n",
    "\"\"\"\n",
    "pc = 13.5\n",
    "pg = 70"
   ]
  },
  {
   "cell_type": "markdown",
   "metadata": {
    "id": "Mlvc8Nt7P_j7"
   },
   "source": [
    "## XGB"
   ]
  },
  {
   "cell_type": "code",
   "execution_count": 33,
   "metadata": {
    "colab": {
     "base_uri": "https://localhost:8080/"
    },
    "executionInfo": {
     "elapsed": 19,
     "status": "ok",
     "timestamp": 1747891870998,
     "user": {
      "displayName": "Hung Thanh Do",
      "userId": "14602254202234053172"
     },
     "user_tz": -120
    },
    "id": "5UE_EQhyanQI",
    "outputId": "273e5fe6-a951-434c-c466-becf7fff2b2b"
   },
   "outputs": [
    {
     "name": "stdout",
     "output_type": "stream",
     "text": [
      "XGBoost trainable parameters: 2,116\n",
      "XGBoost FLOPs: 3.91M\n",
      "XGBoost MACs: 0.65M\n"
     ]
    }
   ],
   "source": [
    "# Count parameters\n",
    "total_params = count_xgboost_parameters(xgb_model)\n",
    "print(f\"XGBoost trainable parameters: {total_params:,}\")\n",
    "\n",
    "# Estimate FLOPs for making predictions on test data\n",
    "n_test_samples = X_test_np.shape[0]\n",
    "flops = estimate_xgboost_flops(xgb_model, n_test_samples)\n",
    "print(f\"XGBoost FLOPs: {flops / 1e6:.2f}M\")\n",
    "\n",
    "# Estimate MACs for making predictions on test data\n",
    "macs = estimate_xgboost_macs(xgb_model, n_test_samples)\n",
    "print(f\"XGBoost MACs: {macs / 1e6:.2f}M\")"
   ]
  },
  {
   "cell_type": "code",
   "execution_count": 34,
   "metadata": {
    "colab": {
     "base_uri": "https://localhost:8080/"
    },
    "executionInfo": {
     "elapsed": 11,
     "status": "ok",
     "timestamp": 1747891873316,
     "user": {
      "displayName": "Hung Thanh Do",
      "userId": "14602254202234053172"
     },
     "user_tz": -120
    },
    "id": "TXDO6h5aIzs7",
    "outputId": "fe8d5878-a32d-4a39-c07b-b22e974a63c6"
   },
   "outputs": [
    {
     "name": "stdout",
     "output_type": "stream",
     "text": [
      "kgCO2 emission: 0.0182 kg\n",
      "Normalized kgCO2 emission: 0.0007\n"
     ]
    }
   ],
   "source": [
    "xgb_elasped_time = xgb_elapsed_time / 3600\n",
    "kgco2e, kgco2e_normalized = compute_kgco2e(pc, pg, xgb_elapsed_time)\n",
    "\n",
    "print(f\"kgCO2 emission: {kgco2e:.4f} kg\")\n",
    "print(f\"Normalized kgCO2 emission: {kgco2e_normalized:.4f}\")"
   ]
  },
  {
   "cell_type": "markdown",
   "metadata": {
    "id": "Q7UMVbjbP_j8"
   },
   "source": [
    "## MLP"
   ]
  },
  {
   "cell_type": "code",
   "execution_count": 35,
   "metadata": {
    "colab": {
     "base_uri": "https://localhost:8080/"
    },
    "executionInfo": {
     "elapsed": 5,
     "status": "ok",
     "timestamp": 1747891889214,
     "user": {
      "displayName": "Hung Thanh Do",
      "userId": "14602254202234053172"
     },
     "user_tz": -120
    },
    "id": "smf7gu7fc16R",
    "outputId": "805c63f9-2416-4bf8-8429-3ff2f5e97646"
   },
   "outputs": [
    {
     "name": "stdout",
     "output_type": "stream",
     "text": [
      "MLP trainable parameters: 1,401\n",
      "MLP FLOPs: 18.28M\n",
      "MLP MACs: 8.47M\n"
     ]
    }
   ],
   "source": [
    "# Count parameters\n",
    "total_params = count_mlp_parameters(mlp_model)\n",
    "print(f\"MLP trainable parameters: {total_params:,}\")\n",
    "\n",
    "# Estimate FLOPs for making predictions on test data\n",
    "n_test_samples = X_test_np.shape[0]\n",
    "flops = estimate_mlp_flops(mlp_model, n_test_samples)\n",
    "print(f\"MLP FLOPs: {flops / 1e6:.2f}M\")\n",
    "\n",
    "# Estimate MACs for making predictions on test data\n",
    "macs = estimate_mlp_macs(mlp_model, n_test_samples)\n",
    "print(f\"MLP MACs: {macs / 1e6:.2f}M\")"
   ]
  },
  {
   "cell_type": "code",
   "execution_count": 55,
   "metadata": {
    "colab": {
     "base_uri": "https://localhost:8080/"
    },
    "executionInfo": {
     "elapsed": 6,
     "status": "ok",
     "timestamp": 1747892202503,
     "user": {
      "displayName": "Hung Thanh Do",
      "userId": "14602254202234053172"
     },
     "user_tz": -120
    },
    "id": "QyRJ-YBzK5o_",
    "outputId": "48c16984-6fde-45db-fc63-2b0548f6d411"
   },
   "outputs": [
    {
     "name": "stdout",
     "output_type": "stream",
     "text": [
      "kgCO2 emission: 0.2391 kg\n",
      "Normalized kgCO2 emission: 0.0092\n"
     ]
    }
   ],
   "source": [
    "mlp_elasped_time = mlp_elapsed_time / 3600\n",
    "kgco2e, kgco2e_normalized = compute_kgco2e(pc, pg, mlp_elapsed_time)\n",
    "\n",
    "print(f\"kgCO2 emission: {kgco2e:.4f} kg\")\n",
    "print(f\"Normalized kgCO2 emission: {kgco2e_normalized:.4f}\")"
   ]
  },
  {
   "cell_type": "markdown",
   "metadata": {
    "id": "xNNhGaA7P_j8"
   },
   "source": [
    "## TabResNet"
   ]
  },
  {
   "cell_type": "code",
   "execution_count": 38,
   "metadata": {
    "colab": {
     "base_uri": "https://localhost:8080/"
    },
    "executionInfo": {
     "elapsed": 13,
     "status": "ok",
     "timestamp": 1747891934232,
     "user": {
      "displayName": "Hung Thanh Do",
      "userId": "14602254202234053172"
     },
     "user_tz": -120
    },
    "id": "_5_ongPFP_j8",
    "outputId": "b1ec76cb-ec5f-4adc-d196-2a50a4239054"
   },
   "outputs": [
    {
     "name": "stdout",
     "output_type": "stream",
     "text": [
      "Trainable parameters: 2,482\n"
     ]
    }
   ],
   "source": [
    "# Parameter Count (Pure PyTorch)\n",
    "def count_parameters(model):\n",
    "    return sum(p.numel() for p in model.parameters() if p.requires_grad)\n",
    "\n",
    "# Usage\n",
    "total_params = count_parameters(model)\n",
    "print(f\"Trainable parameters: {total_params:,}\")"
   ]
  },
  {
   "cell_type": "code",
   "execution_count": 39,
   "metadata": {
    "colab": {
     "base_uri": "https://localhost:8080/"
    },
    "executionInfo": {
     "elapsed": 201,
     "status": "ok",
     "timestamp": 1747891936765,
     "user": {
      "displayName": "Hung Thanh Do",
      "userId": "14602254202234053172"
     },
     "user_tz": -120
    },
    "id": "0BqR3poIP_j9",
    "outputId": "629d4c3a-8264-4420-e52e-badbfd2e783d"
   },
   "outputs": [
    {
     "name": "stdout",
     "output_type": "stream",
     "text": [
      "Module                          FLOP    % Total\n",
      "---------------------------  -------  ---------\n",
      "TabResNet                    29.595M    100.00%\n",
      " - aten.addmm                29.595M    100.00%\n",
      " TabResNet.input_projection   2.501M      8.45%\n",
      "  - aten.addmm                2.501M      8.45%\n",
      " TabResNet.predblock          0.417M      1.41%\n",
      "  - aten.addmm                0.417M      1.41%\n",
      "FLOPs: 29.60M\n"
     ]
    }
   ],
   "source": [
    "# Calculate FLOPS\n",
    "from torch.utils.flop_counter import FlopCounterMode\n",
    "\n",
    "model.eval()\n",
    "with torch.no_grad(), FlopCounterMode() as flop_counter:\n",
    "    _ = model(X_test_tensor)\n",
    "\n",
    "print(f\"FLOPs: {flop_counter.get_total_flops()/1e6:.2f}M\")"
   ]
  },
  {
   "cell_type": "code",
   "execution_count": 40,
   "metadata": {
    "colab": {
     "base_uri": "https://localhost:8080/"
    },
    "executionInfo": {
     "elapsed": 129,
     "status": "ok",
     "timestamp": 1747891938564,
     "user": {
      "displayName": "Hung Thanh Do",
      "userId": "14602254202234053172"
     },
     "user_tz": -120
    },
    "id": "YlUSZbfbNIQe",
    "outputId": "2834c5ad-85d3-48cc-e15b-aec7544953f4"
   },
   "outputs": [
    {
     "name": "stdout",
     "output_type": "stream",
     "text": [
      "Module                         FLOP    % Total\n",
      "---------------------------  ------  ---------\n",
      "TabResNet                      4544    100.00%\n",
      " - aten.addmm                  4544    100.00%\n",
      " TabResNet.input_projection     384      8.45%\n",
      "  - aten.addmm                  384      8.45%\n",
      " TabResNet.predblock             64      1.41%\n",
      "  - aten.addmm                   64      1.41%\n",
      "FLOPs per sample: 4.54 K\n",
      "FLOPs: 29.60M\n"
     ]
    }
   ],
   "source": [
    "sample_input = X_test_tensor[0:1]  # just one sample\n",
    "\n",
    "model.eval()\n",
    "with torch.no_grad(), FlopCounterMode() as flop_counter:\n",
    "    _ = model(sample_input)\n",
    "\n",
    "print(f\"FLOPs per sample: {flop_counter.get_total_flops()/1e3:.2f} K\")\n",
    "print(f\"FLOPs: {flop_counter.get_total_flops()*X_test_tensor.shape[0]/1e6:.2f}M\")"
   ]
  },
  {
   "cell_type": "code",
   "execution_count": 41,
   "metadata": {
    "colab": {
     "base_uri": "https://localhost:8080/"
    },
    "executionInfo": {
     "elapsed": 6270,
     "status": "ok",
     "timestamp": 1747891963056,
     "user": {
      "displayName": "Hung Thanh Do",
      "userId": "14602254202234053172"
     },
     "user_tz": -120
    },
    "id": "eIo3XKX-TIDV",
    "outputId": "12c41ea5-ef0f-4585-d222-b0a068443cd7"
   },
   "outputs": [
    {
     "name": "stdout",
     "output_type": "stream",
     "text": [
      "Warning: module Dropout is treated as a zero-op.\n",
      "Warning: module TabResBlock is treated as a zero-op.\n",
      "Warning: module TabResNet is treated as a zero-op.\n",
      "TabResNet(\n",
      "  2.48 k, 100.000% Params, 2.56 KMac, 96.972% MACs, \n",
      "  (input_projection): Linear(208, 8.380% Params, 208.0 Mac, 7.873% MACs, in_features=12, out_features=16, bias=True)\n",
      "  (resblocks): ModuleList(\n",
      "    (0-1): 2 x TabResBlock(\n",
      "      1.1 k, 44.480% Params, 1.14 KMac, 42.998% MACs, \n",
      "      (bn1): BatchNorm1d(32, 1.289% Params, 32.0 Mac, 1.211% MACs, 16, eps=1e-05, momentum=0.1, affine=True, track_running_stats=True)\n",
      "      (ln1): Linear(544, 21.918% Params, 544.0 Mac, 20.590% MACs, in_features=16, out_features=32, bias=True)\n",
      "      (relu1): ReLU(0, 0.000% Params, 32.0 Mac, 1.211% MACs, )\n",
      "      (drop1): Dropout(0, 0.000% Params, 0.0 Mac, 0.000% MACs, p=0.2, inplace=False)\n",
      "      (ln2): Linear(528, 21.273% Params, 528.0 Mac, 19.985% MACs, in_features=32, out_features=16, bias=True)\n",
      "      (drop2): Dropout(0, 0.000% Params, 0.0 Mac, 0.000% MACs, p=0.05, inplace=False)\n",
      "    )\n",
      "  )\n",
      "  (predblock): Sequential(\n",
      "    66, 2.659% Params, 82.0 Mac, 3.104% MACs, \n",
      "    (0): BatchNorm1d(32, 1.289% Params, 32.0 Mac, 1.211% MACs, 16, eps=1e-05, momentum=0.1, affine=True, track_running_stats=True)\n",
      "    (1): ReLU(0, 0.000% Params, 16.0 Mac, 0.606% MACs, )\n",
      "    (2): Linear(34, 1.370% Params, 34.0 Mac, 1.287% MACs, in_features=16, out_features=2, bias=True)\n",
      "  )\n",
      ")\n",
      "MACs per sample: 2.64K\n",
      "MACs: 17.19M\n"
     ]
    }
   ],
   "source": [
    "# Calculate MACS\n",
    "from ptflops import get_model_complexity_info\n",
    "\n",
    "# Instantiate the model for a dataset with 10 features and 2 output classes\n",
    "input_dim = X_test_np.shape[1]   # Number of features in tabular data\n",
    "num_classes = 2  # Number of output classes\n",
    "\n",
    "# Measure complexity using ptflops\n",
    "with torch.cuda.device(0):  # Remove or adjust this if running on CPU\n",
    "    macs, params = get_model_complexity_info(model, (input_dim,), as_strings=True,\n",
    "                                             print_per_layer_stat=True, verbose=True)\n",
    "\n",
    "# Convert string MACs to numeric (e.g., '2.64 KMac' → 2640)\n",
    "macs_single = float(macs.replace(' KMac', '')) * 1e3\n",
    "print(f\"MACs per sample: {macs_single/1e3:.2f}K\")\n",
    "print(f\"MACs: {macs_single*X_test_tensor.shape[0]/1e6:.2f}M\")\n"
   ]
  },
  {
   "cell_type": "code",
   "execution_count": 58,
   "metadata": {
    "colab": {
     "base_uri": "https://localhost:8080/"
    },
    "executionInfo": {
     "elapsed": 5,
     "status": "ok",
     "timestamp": 1747892261603,
     "user": {
      "displayName": "Hung Thanh Do",
      "userId": "14602254202234053172"
     },
     "user_tz": -120
    },
    "id": "ND29kl6lCaq7",
    "outputId": "0d5c52f0-41cd-408a-efe6-34c75281821d"
   },
   "outputs": [
    {
     "name": "stdout",
     "output_type": "stream",
     "text": [
      "kgCO2 emission: 0.0786 kg\n",
      "Normalized kgCO2 emission: 0.0030\n"
     ]
    }
   ],
   "source": [
    "elasped_time = elapsed_time / 3600\n",
    "kgco2e, kgco2e_normalized = compute_kgco2e(pc, pg, elapsed_time)\n",
    "\n",
    "print(f\"kgCO2 emission: {kgco2e:.4f} kg\")\n",
    "print(f\"Normalized kgCO2 emission: {kgco2e_normalized:.4f}\")"
   ]
  },
  {
   "cell_type": "markdown",
   "metadata": {
    "id": "BskrnadCwwf-"
   },
   "source": [
    "# Explainability Evaluation"
   ]
  },
  {
   "cell_type": "markdown",
   "metadata": {
    "id": "IGQDERCYNNpt"
   },
   "source": [
    "## XGB"
   ]
  },
  {
   "cell_type": "markdown",
   "metadata": {
    "id": "KretoTu3_jLi"
   },
   "source": [
    "### SHAP"
   ]
  },
  {
   "cell_type": "code",
   "execution_count": null,
   "metadata": {
    "id": "sm0nsHtG9AOt"
   },
   "outputs": [],
   "source": [
    "background = X_test_np[:100]\n",
    "xgb_explainer = shap.TreeExplainer(xgb_model, background, model_output=\"probability\")"
   ]
  },
  {
   "cell_type": "code",
   "execution_count": null,
   "metadata": {
    "id": "VkTQYzyu9tsd"
   },
   "outputs": [],
   "source": [
    "xgb_shap_values = xgb_explainer.shap_values(X_test_np)"
   ]
  },
  {
   "cell_type": "code",
   "execution_count": null,
   "metadata": {
    "colab": {
     "base_uri": "https://localhost:8080/",
     "height": 637
    },
    "executionInfo": {
     "elapsed": 4854,
     "status": "ok",
     "timestamp": 1747754392147,
     "user": {
      "displayName": "Hung Thanh Do",
      "userId": "14602254202234053172"
     },
     "user_tz": -120
    },
    "id": "DQaiPXLR9vZK",
    "outputId": "3e8aa743-3b7c-4bc3-e4da-abbde823d1c8"
   },
   "outputs": [
    {
     "data": {
      "image/png": "[encoded data removed]",
      "text/plain": [
       "<Figure size 800x630 with 2 Axes>"
      ]
     },
     "metadata": {},
     "output_type": "display_data"
    }
   ],
   "source": [
    "# shap_values is an array with shape (n_samples, n_features)\n",
    "shap.summary_plot(xgb_shap_values, X_test_np, feature_names=X_test.columns)"
   ]
  },
  {
   "cell_type": "code",
   "execution_count": null,
   "metadata": {
    "id": "QKbmrsFqORZU"
   },
   "outputs": [],
   "source": [
    "import pickle"
   ]
  },
  {
   "cell_type": "code",
   "execution_count": null,
   "metadata": {
    "id": "6A2W6tkf9Mqs"
   },
   "outputs": [],
   "source": [
    "# Save SHAP values\n",
    "with open('saved_shap/xgb_shap_values_adult.pkl', 'wb') as f:\n",
    "    pickle.dump(xgb_shap_values, f)"
   ]
  },
  {
   "cell_type": "code",
   "execution_count": null,
   "metadata": {
    "id": "7ZESUJ4O9Qio"
   },
   "outputs": [],
   "source": [
    "with open('saved_shap/xgb_shap_values_adult.pkl', 'rb') as f:\n",
    "    xgb_shap_values = pickle.load(f)"
   ]
  },
  {
   "cell_type": "markdown",
   "metadata": {
    "id": "gqDuAIy7NNpu"
   },
   "source": [
    "### Quantus"
   ]
  },
  {
   "cell_type": "code",
   "execution_count": null,
   "metadata": {
    "colab": {
     "base_uri": "https://localhost:8080/"
    },
    "executionInfo": {
     "elapsed": 6,
     "status": "ok",
     "timestamp": 1747754401327,
     "user": {
      "displayName": "Hung Thanh Do",
      "userId": "14602254202234053172"
     },
     "user_tz": -120
    },
    "id": "GEc1KUSOCxwJ",
    "outputId": "1f404863-0e68-4a66-980d-ab30c74d5130"
   },
   "outputs": [
    {
     "data": {
      "text/plain": [
       "DifferentiableXGBWrapper(\n",
       "  (proxy_layer): Linear(in_features=12, out_features=1, bias=True)\n",
       ")"
      ]
     },
     "execution_count": 18,
     "metadata": {},
     "output_type": "execute_result"
    }
   ],
   "source": [
    "class DifferentiableXGBWrapper(nn.Module):\n",
    "    def __init__(self, xgb_model):\n",
    "        super().__init__()\n",
    "        self.xgb = xgb_model\n",
    "        # Add simple differentiable layer\n",
    "        self.proxy_layer = nn.Linear(X_test_np.shape[1], 1)  # Match your feature count\n",
    "\n",
    "    def forward(self, x):\n",
    "        # Maintain gradient flow\n",
    "        with torch.no_grad():\n",
    "            xgb_out = torch.tensor(self.xgb.predict_proba(\n",
    "                x.cpu().numpy()\n",
    "            ), device=x.device)\n",
    "\n",
    "        # Differentiable processing\n",
    "        proxy_out = self.proxy_layer(x)\n",
    "        return xgb_out + 0.001*proxy_out  # Maintain XGB output dominance\n",
    "\n",
    "# Wrap model with gradient-preserving wrapper\n",
    "xgb_wrapped_model = DifferentiableXGBWrapper(xgb_model)\n",
    "xgb_wrapped_model.eval()"
   ]
  },
  {
   "cell_type": "code",
   "execution_count": null,
   "metadata": {
    "id": "29-b7UkyNNpu"
   },
   "outputs": [],
   "source": [
    "# ---------------------------\n",
    "# Evaluate FaithfulnessCorrelation with Quantus using SHAP attributions\n",
    "# ---------------------------\n",
    "# Ensure y_test is of integer type\n",
    "y_test_int = y_test_np.astype(np.int64)"
   ]
  },
  {
   "cell_type": "code",
   "execution_count": null,
   "metadata": {
    "colab": {
     "base_uri": "https://localhost:8080/",
     "height": 104,
     "referenced_widgets": [
      "082e378e26c64911bdd66a1f3fe6a65c",
      "60b970dd7ff54cf5853e32d15c2a33d3",
      "c7a3e6a955c34289b0bd8c5926855fcd",
      "e4ef2e7e52b842e282c0cfcc0613469d",
      "288cad65cbab4865bbcd0aa3b13d71cf",
      "ca699fe910b44f40b86d898f28be37c1",
      "2e589ecd2c724370a6991491d365c98a",
      "b44b1deec74d4f738391862fe6bf9a47",
      "2151b3544b614be58e1e1a3eeccb6c83",
      "26299110a0c249a0991cca7cf0820e62",
      "523ea83ee32d45b3a20367c8e2c18930"
     ]
    },
    "executionInfo": {
     "elapsed": 2224,
     "status": "ok",
     "timestamp": 1747754406583,
     "user": {
      "displayName": "Hung Thanh Do",
      "userId": "14602254202234053172"
     },
     "user_tz": -120
    },
    "id": "bLvMrn1_NNpv",
    "outputId": "cc9d181b-4e80-4f9c-c177-8161ad60a3a3"
   },
   "outputs": [
    {
     "data": {
      "application/vnd.jupyter.widget-view+json": {
       "model_id": "082e378e26c64911bdd66a1f3fe6a65c",
       "version_major": 2,
       "version_minor": 0
      },
      "text/plain": [
       "  0%|          | 0/102.0 [00:00<?, ?it/s]"
      ]
     },
     "metadata": {},
     "output_type": "display_data"
    },
    {
     "name": "stdout",
     "output_type": "stream",
     "text": [
      "Complexity: Complexity by Bhatt et al., 2020.\n",
      "\n",
      " • SHAP =  0.7042890779700618\n"
     ]
    }
   ],
   "source": [
    "# Apply Complexity metric using SHAP attributions\n",
    "Complexity_shap = quantus.Complexity(\n",
    "    normalise=False,\n",
    "    abs=True,  # Take absolute values of attributions\n",
    "    disable_warnings=True,\n",
    "    display_progressbar=True,\n",
    "    aggregate_func=np.mean,  # Compute mean complexity over all samples\n",
    ")(\n",
    "    model=xgb_wrapped_model,\n",
    "    x_batch=X_test_np,\n",
    "    y_batch=y_test_int,\n",
    "    a_batch=xgb_shap_values,   # use SHAP attributions computed above\n",
    "    explain_func=None      # explanations are precomputed\n",
    ")\n",
    "\n",
    "# Scale to 0-1\n",
    "Complexity_shap = (Complexity_shap - min(Complexity_shap)) / (\n",
    "    max(Complexity_shap) - min(Complexity_shap)\n",
    ")\n",
    "\n",
    "# Find mean\n",
    "Complexity_shap = np.mean(Complexity_shap)\n",
    "\n",
    "print(\n",
    "    f\"Complexity: Complexity by Bhatt et al., 2020.\\n\"\n",
    "    f\"\\n • SHAP = \",\n",
    "    Complexity_shap,\n",
    ")"
   ]
  },
  {
   "cell_type": "code",
   "execution_count": null,
   "metadata": {
    "colab": {
     "base_uri": "https://localhost:8080/",
     "height": 104,
     "referenced_widgets": [
      "9967939f72a640b8b03d66f26f335758",
      "26b2d6cbe22d49e18042c8f292807120",
      "3b5e9e5a93734cd18a43692d06f5e663",
      "8d14990aa6d4438799e7a77e3310e98b",
      "888b4763db174ae58d25e5a2a1cc41df",
      "45a62e729a324d1095854359244a4e04",
      "5156943452ea40b3b5c79a1c6890983d",
      "d1af46f884514dd0811222551481c9f4",
      "b194626bf5af47ec89a1d52a0a0b5001",
      "58624c9aad514b018ca1d0a47335e911",
      "ab209c430ad548d9b5d7285cf1ecbb3a"
     ]
    },
    "executionInfo": {
     "elapsed": 261,
     "status": "ok",
     "timestamp": 1747754409643,
     "user": {
      "displayName": "Hung Thanh Do",
      "userId": "14602254202234053172"
     },
     "user_tz": -120
    },
    "id": "fus8A9uuNNpv",
    "outputId": "17568eb3-6d6e-4bae-ebf2-38499c686af8"
   },
   "outputs": [
    {
     "data": {
      "application/vnd.jupyter.widget-view+json": {
       "model_id": "9967939f72a640b8b03d66f26f335758",
       "version_major": 2,
       "version_minor": 0
      },
      "text/plain": [
       "  0%|          | 0/102.0 [00:00<?, ?it/s]"
      ]
     },
     "metadata": {},
     "output_type": "display_data"
    },
    {
     "name": "stdout",
     "output_type": "stream",
     "text": [
      "Complexity: Sparseness by Chalasani et al., 2020.\n",
      "\n",
      " • SHAP =  [np.float64(0.6213013343704938)]\n"
     ]
    }
   ],
   "source": [
    "Sparseness_shap = quantus.Sparseness(\n",
    "    normalise=False,\n",
    "    abs=True, # take absolute values of attributions\n",
    "    disable_warnings=True,\n",
    "    display_progressbar=True,\n",
    "    return_aggregate=True, # find the mean of the complexity from all samples\n",
    "    aggregate_func=np.mean,\n",
    ")(\n",
    "    model=xgb_wrapped_model,\n",
    "    x_batch=X_test_np,\n",
    "    y_batch=y_test_int,\n",
    "    a_batch=xgb_shap_values,   # use SHAP attributions computed above\n",
    "    explain_func=None      # explanations are precomputed\n",
    ")\n",
    "\n",
    "# Already scaled to 0-1 -> keep aggregated (mean)\n",
    "\n",
    "print(\n",
    "    f\"Complexity: Sparseness by Chalasani et al., 2020.\\n\"\n",
    "    f\"\\n • SHAP = \",\n",
    "    Sparseness_shap,\n",
    ")"
   ]
  },
  {
   "cell_type": "code",
   "execution_count": null,
   "metadata": {
    "colab": {
     "base_uri": "https://localhost:8080/",
     "height": 104,
     "referenced_widgets": [
      "9b2599253874461a81a3ad35b2dc6ffa",
      "2fc4cfcf11a6492499461f938ef3485d",
      "80dd96a1d5214f488c87ac4e6132efb6",
      "f3381aadd28747799fce0a0127b82dad",
      "51e6ece72f074d2abd69a3eede52aca9",
      "65f85a6e444749c7a0da135cf29884d6",
      "bbd1f8050db9487dadb80ee6b1e538c0",
      "1eb572f0ce234cc1bb56d6e49e3a0312",
      "bb010089bcbe42cf9127de630979d3fa",
      "92c0e0f44cad4f6aa3fe1ef3227bec68",
      "75aaeed14f284ffb8bda2b9129b3a943"
     ]
    },
    "executionInfo": {
     "elapsed": 102199,
     "status": "ok",
     "timestamp": 1747754514350,
     "user": {
      "displayName": "Hung Thanh Do",
      "userId": "14602254202234053172"
     },
     "user_tz": -120
    },
    "id": "Sz32mvHENNpv",
    "outputId": "ed4d520b-6204-4e15-e2d5-de1adc54b328"
   },
   "outputs": [
    {
     "data": {
      "application/vnd.jupyter.widget-view+json": {
       "model_id": "9b2599253874461a81a3ad35b2dc6ffa",
       "version_major": 2,
       "version_minor": 0
      },
      "text/plain": [
       "  0%|          | 0/102.0 [00:00<?, ?it/s]"
      ]
     },
     "metadata": {},
     "output_type": "display_data"
    },
    {
     "name": "stdout",
     "output_type": "stream",
     "text": [
      "Faithfulness: Faithfulness Correlation by Bhatt et al., 2020.\n",
      "\n",
      " • SHAP =  0.7321279983520173\n"
     ]
    }
   ],
   "source": [
    "FaithfulnessCorrelation_shap = quantus.FaithfulnessCorrelation(\n",
    "    perturb_baseline=\"white\",\n",
    "    perturb_func=quantus.baseline_replacement_by_indices,\n",
    "    subset_size=5, # features to perturb\n",
    "    nr_runs=10,\n",
    "    similarity_func=quantus.similarity_func.correlation_pearson,\n",
    "    abs=True, # take absolute values of attributions\n",
    "    normalise=False, # do not normalise ohe data\n",
    "    return_aggregate=False, # (not) output 1 val instead of list of vals for all samples\n",
    "    aggregate_func=np.mean,\n",
    "    disable_warnings=True,\n",
    "    display_progressbar=True,\n",
    ")(\n",
    "    model=xgb_wrapped_model,\n",
    "    x_batch=X_test_np,\n",
    "    y_batch=y_test_int,\n",
    "    a_batch=xgb_shap_values,   # use SHAP attributions computed above\n",
    "    explain_func=None      # explanations are precomputed\n",
    ")\n",
    "\n",
    "# Scale to 0-1\n",
    "FaithfulnessCorrelation_shap = (FaithfulnessCorrelation_shap - np.min(FaithfulnessCorrelation_shap)) / (\n",
    "    np.max(FaithfulnessCorrelation_shap) - np.min(FaithfulnessCorrelation_shap)\n",
    ")\n",
    "\n",
    "# Find mean\n",
    "FaithfulnessCorrelation_shap = np.mean(FaithfulnessCorrelation_shap)\n",
    "\n",
    "print(\n",
    "    f\"Faithfulness: Faithfulness Correlation by Bhatt et al., 2020.\\n\"\n",
    "    f\"\\n • SHAP = \",\n",
    "    FaithfulnessCorrelation_shap,\n",
    ")"
   ]
  },
  {
   "cell_type": "code",
   "execution_count": null,
   "metadata": {
    "colab": {
     "base_uri": "https://localhost:8080/",
     "height": 160,
     "referenced_widgets": [
      "ef41ca6d6b7f4a9b9160cf73e2e7b1e2",
      "dd7036d222444504b660785cd75e6d6e",
      "5e318ca79b0848fa9f8b1236e7953f40",
      "e68dbf1a2c8b4397909cb0d184662f15",
      "91e0f0f482284792bae5e9b6b9e28e69",
      "e816d1e4e34c433ab99b2fb7535b6cfd",
      "8a7b7fc5fe77404e8287b0106fe1d3cc",
      "421160a1e4ed4d948107f440210094e6",
      "68048cf663494c2594711f4e8434650f",
      "816d6e472a484443b671371f6eec2747",
      "55332b25587e476eb99f142c50bafa48"
     ]
    },
    "executionInfo": {
     "elapsed": 102512,
     "status": "ok",
     "timestamp": 1747754616865,
     "user": {
      "displayName": "Hung Thanh Do",
      "userId": "14602254202234053172"
     },
     "user_tz": -120
    },
    "id": "Js_YDZigNNpv",
    "outputId": "edd43c8c-8cbe-4696-d6d4-d742c8a8381c"
   },
   "outputs": [
    {
     "data": {
      "application/vnd.jupyter.widget-view+json": {
       "model_id": "ef41ca6d6b7f4a9b9160cf73e2e7b1e2",
       "version_major": 2,
       "version_minor": 0
      },
      "text/plain": [
       "  0%|          | 0/102.0 [00:00<?, ?it/s]"
      ]
     },
     "metadata": {},
     "output_type": "display_data"
    },
    {
     "name": "stderr",
     "output_type": "stream",
     "text": [
      "/usr/local/lib/python3.11/dist-packages/quantus/helpers/warn.py:257: UserWarning: The settings for perturbing input e.g., 'perturb_func' didn't cause change in input. Reconsider the parameter settings.\n",
      "  warnings.warn(\n"
     ]
    },
    {
     "name": "stdout",
     "output_type": "stream",
     "text": [
      "Faithfulness: Faithfulness Estimate by Alvarez-Melis et al., 2018.\n",
      "\n",
      " • SHAP =  0.7400971577576112\n"
     ]
    }
   ],
   "source": [
    "FaithfulnessEstimate_shap = quantus.FaithfulnessEstimate(\n",
    "    perturb_baseline=\"white\",\n",
    "    perturb_func=quantus.baseline_replacement_by_indices,\n",
    "    features_in_step=1, # features to perturb\n",
    "    similarity_func=quantus.similarity_func.correlation_pearson,\n",
    "    abs=True, # take absolute values of attributions\n",
    "    normalise=False, # do not normalise ohe data\n",
    "    return_aggregate=False, # (not) output 1 val instead of list of vals for all samples\n",
    "    aggregate_func=np.mean,\n",
    "    disable_warnings=True,\n",
    "    display_progressbar=True,\n",
    ")(\n",
    "    model=xgb_wrapped_model,\n",
    "    x_batch=X_test_np,\n",
    "    y_batch=y_test_int,\n",
    "    a_batch=xgb_shap_values,   # use SHAP attributions computed above\n",
    "    explain_func=None      # explanations are precomputed\n",
    ")\n",
    "\n",
    "# Scale to 0-1\n",
    "FaithfulnessEstimate_shap = (FaithfulnessEstimate_shap - np.min(FaithfulnessEstimate_shap)) / (\n",
    "    np.max(FaithfulnessEstimate_shap) - np.min(FaithfulnessEstimate_shap)\n",
    ")\n",
    "\n",
    "# Find mean\n",
    "FaithfulnessEstimate_shap = np.mean(FaithfulnessEstimate_shap)\n",
    "\n",
    "print(\n",
    "    f\"Faithfulness: Faithfulness Estimate by Alvarez-Melis et al., 2018.\\n\"\n",
    "    f\"\\n • SHAP = \",\n",
    "    FaithfulnessEstimate_shap,\n",
    ")"
   ]
  },
  {
   "cell_type": "code",
   "execution_count": null,
   "metadata": {
    "colab": {
     "base_uri": "https://localhost:8080/",
     "height": 196,
     "referenced_widgets": [
      "02a6fe94efc04e11a137f62092e15092",
      "2fbd23ad8f15477fb20181c160b58ecc",
      "d546d8107667478e9ffd545795278ea7",
      "dc8408c5f6ef459bb33c49d82158625d",
      "53c7604b0b2b40c3805578bd33c156d3",
      "1135962808e24d629f6cd7c081b66f28",
      "4f05e059f7504ec1a143abe9e5de3f08",
      "5d7fddb95ab04e7095956b305638a497",
      "055cd2d77d6d4706ad219c02234e17ab",
      "e68582bd95984b74bcf12f487344bc67",
      "3d65bef81f80406bb3258447807aedae"
     ]
    },
    "executionInfo": {
     "elapsed": 350256,
     "status": "ok",
     "timestamp": 1747754967125,
     "user": {
      "displayName": "Hung Thanh Do",
      "userId": "14602254202234053172"
     },
     "user_tz": -120
    },
    "id": "JGxArw0cNNpv",
    "outputId": "e3eea097-5edd-41b0-b947-7e9e366f6847"
   },
   "outputs": [
    {
     "data": {
      "application/vnd.jupyter.widget-view+json": {
       "model_id": "02a6fe94efc04e11a137f62092e15092",
       "version_major": 2,
       "version_minor": 0
      },
      "text/plain": [
       "  0%|          | 0/102.0 [00:00<?, ?it/s]"
      ]
     },
     "metadata": {},
     "output_type": "display_data"
    },
    {
     "name": "stderr",
     "output_type": "stream",
     "text": [
      "/usr/local/lib/python3.11/dist-packages/captum/attr/_core/deep_lift.py:304: UserWarning: Setting forward, backward hooks and attributes on non-linear\n",
      "               activations. The hooks and attributes will be removed\n",
      "            after the attribution is finished\n",
      "  warnings.warn(\n"
     ]
    },
    {
     "name": "stdout",
     "output_type": "stream",
     "text": [
      "Robustness: Local Lipschitz Estimate by Alvarez-Melis et al., 2018.\n",
      "\n",
      " • SHAP =  0.461168645367532\n"
     ]
    }
   ],
   "source": [
    "LocalLipschitzEstimate_shap = quantus.LocalLipschitzEstimate(\n",
    "    normalise=False,\n",
    "    abs=True, # take absolute values of attributions\n",
    "    nr_samples = 20,\n",
    "    disable_warnings=True,\n",
    "    display_progressbar=True,\n",
    "    # return_aggregate=True, # find the mean of the complexity from all samples\n",
    "    aggregate_func=np.mean,\n",
    ")(\n",
    "    model=xgb_wrapped_model,\n",
    "    x_batch=X_test_np,\n",
    "    y_batch=y_test_int,\n",
    "    # a_batch=shap_values,   # use SHAP attributions computed above\n",
    "    # explain_func=None      # explanations are precomputed\n",
    "    a_batch=None,\n",
    "    explain_func=quantus.explain,\n",
    "    explain_func_kwargs={\"method\": \"DeepLiftShap\", \"reduce_axes\": ()},\n",
    "    # explain_func_kwargs={\"method\": \"GradientShap\", \"reduce_axes\": ()},\n",
    ")\n",
    "\n",
    "# Scale to 0-1\n",
    "LocalLipschitzEstimate_shap = (LocalLipschitzEstimate_shap - np.min(LocalLipschitzEstimate_shap)) / (\n",
    "    np.max(LocalLipschitzEstimate_shap) - np.min(LocalLipschitzEstimate_shap)\n",
    ")\n",
    "\n",
    "# Find mean\n",
    "LocalLipschitzEstimate_shap = np.mean(LocalLipschitzEstimate_shap)\n",
    "\n",
    "print(\n",
    "    f\"Robustness: Local Lipschitz Estimate by Alvarez-Melis et al., 2018.\\n\"\n",
    "    f\"\\n • SHAP = \",\n",
    "    LocalLipschitzEstimate_shap,\n",
    ")"
   ]
  },
  {
   "cell_type": "code",
   "execution_count": null,
   "metadata": {
    "colab": {
     "base_uri": "https://localhost:8080/",
     "height": 104,
     "referenced_widgets": [
      "e52ef2c1d9204aa8be8038052118c422",
      "33181b40f02043a8a944ae2cf3aa7377",
      "d3a2b375606c405db3acac5f95e8f2b2",
      "ba338e87a5a74290a1c3e4bc7d473e6c",
      "6a8e7efc750143c3a54bc489467752c4",
      "0af070cff4a343cb983f981f46a134f0",
      "ba94dad44aac4f7bb3d31c65f1d0b6fa",
      "efea0a87e71841d488c14f138602993e",
      "f9ee669e66b84c5a852d87983fa13139",
      "03bbe1fc0fb046bc9b48d056bcd5d6c3",
      "a03e0c1cb2c448a285edcd6c4dc5edd8"
     ]
    },
    "executionInfo": {
     "elapsed": 20756,
     "status": "ok",
     "timestamp": 1747754987883,
     "user": {
      "displayName": "Hung Thanh Do",
      "userId": "14602254202234053172"
     },
     "user_tz": -120
    },
    "id": "6z9ML2F6NNpv",
    "outputId": "2322d47b-202b-47dc-da1d-ff63d5cbe6be"
   },
   "outputs": [
    {
     "data": {
      "application/vnd.jupyter.widget-view+json": {
       "model_id": "e52ef2c1d9204aa8be8038052118c422",
       "version_major": 2,
       "version_minor": 0
      },
      "text/plain": [
       "  0%|          | 0/102.0 [00:00<?, ?it/s]"
      ]
     },
     "metadata": {},
     "output_type": "display_data"
    },
    {
     "name": "stdout",
     "output_type": "stream",
     "text": [
      "Randomisation: RandomLogit scores by Sixt et al., 2020.\n",
      "\n",
      " • SHAP =  [np.float64(1.0)]\n"
     ]
    }
   ],
   "source": [
    "RandomLogit_shap = quantus.RandomLogit(\n",
    "    num_classes=2,\n",
    "    disable_warnings=True,\n",
    "    normalise=False,\n",
    "    abs=True, # take absolute values of attributions\n",
    "    display_progressbar=True,\n",
    "    return_aggregate=True, # find the mean of the complexity from all samples\n",
    "    aggregate_func=np.mean,\n",
    ")(\n",
    "    model=xgb_wrapped_model,\n",
    "    x_batch=X_test_np,\n",
    "    y_batch=y_test_int,\n",
    "    # a_batch=shap_values,   # use SHAP attributions computed above\n",
    "    # explain_func=None      # explanations are precomputed\n",
    "    a_batch=None,\n",
    "    explain_func=quantus.explain,\n",
    "    explain_func_kwargs={\"method\": \"GradientShap\", \"reduce_axes\": ()},\n",
    ")\n",
    "\n",
    "# Already scaled to 0-1 -> keep aggregated (mean)\n",
    "\n",
    "print(\n",
    "    f\"Randomisation: RandomLogit scores by Sixt et al., 2020.\\n\"\n",
    "    f\"\\n • SHAP = \",\n",
    "    RandomLogit_shap,\n",
    ")"
   ]
  },
  {
   "cell_type": "code",
   "execution_count": null,
   "metadata": {
    "colab": {
     "base_uri": "https://localhost:8080/",
     "height": 104,
     "referenced_widgets": [
      "6a8ff2421de248e3a8eefe6d3fcdf873",
      "a03f495a8fbc4bcba9bb080491ae3043",
      "62cbd1686f444ae3a434fe10d9784abf",
      "74c4ecefa4f646b5a83230ccc008d4cb",
      "6a8066e4042c48e3b822adbb4a3abdf1",
      "13f6ee4e90c54f64b7817ba416b04673",
      "0244e5bb95c44e16808d7b4fb5007d7f",
      "26052721e2c145f0a69ccccc8cbaef7e",
      "acdb5c38066b41aeb0154d2b09bf37cd",
      "4ba48f313cc74d73b31dfbec867073c9",
      "c16d396c85e3479eafda221a8c0348ae"
     ]
    },
    "executionInfo": {
     "elapsed": 6286,
     "status": "ok",
     "timestamp": 1747754994167,
     "user": {
      "displayName": "Hung Thanh Do",
      "userId": "14602254202234053172"
     },
     "user_tz": -120
    },
    "id": "Zs_3_rdZNNpv",
    "outputId": "d80bbb44-ca22-4e97-a91f-ffd092221336"
   },
   "outputs": [
    {
     "data": {
      "application/vnd.jupyter.widget-view+json": {
       "model_id": "6a8ff2421de248e3a8eefe6d3fcdf873",
       "version_major": 2,
       "version_minor": 0
      },
      "text/plain": [
       "  0%|          | 0/6513 [00:00<?, ?it/s]"
      ]
     },
     "metadata": {},
     "output_type": "display_data"
    },
    {
     "name": "stdout",
     "output_type": "stream",
     "text": [
      "Randomisation: MPRT scores by Adebayo et al., 2018\n",
      "\n",
      " • SHAP =  0.5940487560782834\n"
     ]
    }
   ],
   "source": [
    "MPRT_shap = quantus.MPRT(\n",
    "    # similarity_func=quantus.similarity_func.correlation_spearman,\n",
    "    return_average_correlation=True,\n",
    "    # return_aggregate=True, # find the mean of the complexity from all samples\n",
    "    aggregate_func=np.mean,\n",
    "    layer_order=\"independent\",\n",
    "    similarity_func=quantus.ssim,\n",
    "    disable_warnings=True,\n",
    "    normalise=False,\n",
    "    abs=True, # take absolute values of attributions\n",
    "    display_progressbar=True,\n",
    ")(\n",
    "    model=xgb_wrapped_model,\n",
    "    x_batch=X_test_np,\n",
    "    y_batch=y_test_int,\n",
    "    # a_batch=shap_values,   # use SHAP attributions computed above\n",
    "    # explain_func=None      # explanations are precomputed\n",
    "    a_batch=None,\n",
    "    explain_func=quantus.explain,\n",
    "    explain_func_kwargs={\"method\": \"GradientShap\", \"reduce_axes\": ()},\n",
    ")\n",
    "\n",
    "# Scale to 0-1\n",
    "MPRT_shap = (MPRT_shap - np.min(MPRT_shap)) / (\n",
    "    np.max(MPRT_shap) - np.min(MPRT_shap)\n",
    ")\n",
    "\n",
    "# Find mean\n",
    "MPRT_shap = np.mean(MPRT_shap)\n",
    "\n",
    "print(\n",
    "    f\"Randomisation: MPRT scores by Adebayo et al., 2018\\n\"\n",
    "    f\"\\n • SHAP = \",\n",
    "    MPRT_shap,\n",
    ")"
   ]
  },
  {
   "cell_type": "code",
   "execution_count": null,
   "metadata": {
    "colab": {
     "base_uri": "https://localhost:8080/"
    },
    "executionInfo": {
     "elapsed": 67,
     "status": "ok",
     "timestamp": 1747754994242,
     "user": {
      "displayName": "Hung Thanh Do",
      "userId": "14602254202234053172"
     },
     "user_tz": -120
    },
    "id": "ia8xdIK8NNpv",
    "outputId": "857d49fa-7a98-4b2c-987c-36100b24ad3f"
   },
   "outputs": [
    {
     "name": "stderr",
     "output_type": "stream",
     "text": [
      "<ipython-input-27-acd3cc85ebb0>:12: DeprecationWarning: Conversion of an array with ndim > 0 to a scalar is deprecated, and will error in future. Ensure you extract a single element from your array before performing this operation. (Deprecated NumPy 1.25.)\n",
      "  Sparseness_shap = round(float(Sparseness_shap), 4)\n",
      "<ipython-input-27-acd3cc85ebb0>:14: DeprecationWarning: Conversion of an array with ndim > 0 to a scalar is deprecated, and will error in future. Ensure you extract a single element from your array before performing this operation. (Deprecated NumPy 1.25.)\n",
      "  RandomLogit_shap = round(float(RandomLogit_shap), 4)\n"
     ]
    }
   ],
   "source": [
    "# Convert from list to int\n",
    "Complexity_shap = np.float64(Complexity_shap)\n",
    "Sparseness_shap = np.float64(Sparseness_shap)\n",
    "MPRT_shap = np.float64(MPRT_shap)\n",
    "RandomLogit_shap = np.float64(RandomLogit_shap)\n",
    "FaithfulnessEstimate_shap = np.float64(FaithfulnessEstimate_shap)\n",
    "FaithfulnessCorrelation_shap = np.float64(FaithfulnessCorrelation_shap)\n",
    "LocalLipschitzEstimate_shap = np.float64(LocalLipschitzEstimate_shap)\n",
    "\n",
    "# Rounding one by one\n",
    "Complexity_shap = round(float(Complexity_shap), 4)\n",
    "Sparseness_shap = round(float(Sparseness_shap), 4)\n",
    "MPRT_shap = round(float(MPRT_shap), 4)\n",
    "RandomLogit_shap = round(float(RandomLogit_shap), 4)\n",
    "FaithfulnessEstimate_shap = round(float(FaithfulnessEstimate_shap), 4)\n",
    "FaithfulnessCorrelation_shap = round(float(FaithfulnessCorrelation_shap), 4)\n",
    "LocalLipschitzEstimate_shap = round(float(LocalLipschitzEstimate_shap), 4)"
   ]
  },
  {
   "cell_type": "code",
   "execution_count": null,
   "metadata": {
    "colab": {
     "base_uri": "https://localhost:8080/",
     "height": 439
    },
    "executionInfo": {
     "elapsed": 22,
     "status": "ok",
     "timestamp": 1747754994244,
     "user": {
      "displayName": "Hung Thanh Do",
      "userId": "14602254202234053172"
     },
     "user_tz": -120
    },
    "id": "0PQNHYbGNNpv",
    "outputId": "20aadf7c-0df5-46dd-d3a0-8e3bd01cb6f8"
   },
   "outputs": [
    {
     "data": {
      "text/markdown": [
       "#### Explanability scores"
      ],
      "text/plain": [
       "<IPython.core.display.Markdown object>"
      ]
     },
     "metadata": {},
     "output_type": "display_data"
    },
    {
     "name": "stdout",
     "output_type": "stream",
     "text": [
      "Complexity: Complexity by Bhatt et al., 2020.\n",
      "\n",
      " • SHAP =  0.7043\n",
      "Complexity: Sparseness by Chalasani et al., 2020.\n",
      "\n",
      " • SHAP =  0.6213\n",
      "Faithfulness: Faithfulness Estimate by Alvarez-Melis et al., 2018.\n",
      "\n",
      " • SHAP =  0.7401\n",
      "Faithfulness: Faithfulness Correlation by Bhatt et al., 2020.\n",
      "\n",
      " • SHAP =  0.7321\n",
      "Robustness: Local Lipschitz Estimate by Alvarez-Melis et al., 2018.\n",
      "\n",
      " • SHAP =  0.4612\n",
      "Randomisation: MPRT scores by Adebayo et al., 2018\n",
      "\n",
      " • SHAP =  0.594\n",
      "Randomisation: RandomLogit scores by Sixt et al., 2020.\n",
      "\n",
      " • SHAP =  1.0\n"
     ]
    }
   ],
   "source": [
    "display(Markdown(\"#### Explanability scores\"))\n",
    "\n",
    "# Complexity: Complexity\n",
    "print(\n",
    "    f\"Complexity: Complexity by Bhatt et al., 2020.\\n\"\n",
    "    f\"\\n • SHAP = \",\n",
    "    Complexity_shap,\n",
    ")\n",
    "\n",
    "# Complexity: Sparseness\n",
    "print(\n",
    "    f\"Complexity: Sparseness by Chalasani et al., 2020.\\n\"\n",
    "    f\"\\n • SHAP = \",\n",
    "    Sparseness_shap,\n",
    ")\n",
    "\n",
    "# Faithfulness: Faithfulness Estimate\n",
    "print(\n",
    "    f\"Faithfulness: Faithfulness Estimate by Alvarez-Melis et al., 2018.\\n\"\n",
    "    f\"\\n • SHAP = \",\n",
    "    FaithfulnessEstimate_shap,\n",
    ")\n",
    "\n",
    "# Faithfulness: Faithfulness Correlation\n",
    "print(\n",
    "    f\"Faithfulness: Faithfulness Correlation by Bhatt et al., 2020.\\n\"\n",
    "    f\"\\n • SHAP = \",\n",
    "    FaithfulnessCorrelation_shap,\n",
    ")\n",
    "\n",
    "# Robustness: Local Lipschitz Estimate\n",
    "print(\n",
    "    f\"Robustness: Local Lipschitz Estimate by Alvarez-Melis et al., 2018.\\n\"\n",
    "    f\"\\n • SHAP = \",\n",
    "    LocalLipschitzEstimate_shap,\n",
    ")\n",
    "\n",
    "# Randomisation: MPRT\n",
    "print(\n",
    "    f\"Randomisation: MPRT scores by Adebayo et al., 2018\\n\"\n",
    "    f\"\\n • SHAP = \",\n",
    "    MPRT_shap,\n",
    ")\n",
    "\n",
    "# Randomisation: RandomLogit\n",
    "print(\n",
    "    f\"Randomisation: RandomLogit scores by Sixt et al., 2020.\\n\"\n",
    "    f\"\\n • SHAP = \",\n",
    "    RandomLogit_shap,\n",
    ")"
   ]
  },
  {
   "cell_type": "code",
   "execution_count": null,
   "metadata": {
    "colab": {
     "base_uri": "https://localhost:8080/",
     "height": 202
    },
    "executionInfo": {
     "elapsed": 8,
     "status": "ok",
     "timestamp": 1747754994245,
     "user": {
      "displayName": "Hung Thanh Do",
      "userId": "14602254202234053172"
     },
     "user_tz": -120
    },
    "id": "QxKupGmENNpv",
    "outputId": "21721882-ee8b-40ad-df6d-329f6c22e9cc"
   },
   "outputs": [
    {
     "data": {
      "text/markdown": [
       "#### Explanability scores (grouped)"
      ],
      "text/plain": [
       "<IPython.core.display.Markdown object>"
      ]
     },
     "metadata": {},
     "output_type": "display_data"
    },
    {
     "name": "stdout",
     "output_type": "stream",
     "text": [
      "Complexity\n",
      " • SHAP =  0.6628\n",
      "Faithfulness\n",
      " • SHAP =  0.7361\n",
      "Robustness\n",
      " • SHAP =  0.4612\n",
      "Randomisation\n",
      " • SHAP =  0.797\n"
     ]
    }
   ],
   "source": [
    "display(Markdown(\"#### Explanability scores (grouped)\"))\n",
    "\n",
    "# Complexity: Complexity and Sparseness\n",
    "print(\n",
    "    f\"Complexity\"\n",
    "    f\"\\n • SHAP = \",\n",
    "    round(float((Complexity_shap+Sparseness_shap)/2), 4),\n",
    ")\n",
    "\n",
    "# Faithfulness: Faithfulness Estimate and Faithfulness Correlation\n",
    "print(\n",
    "    f\"Faithfulness\"\n",
    "    f\"\\n • SHAP = \",\n",
    "    round(float((FaithfulnessEstimate_shap+FaithfulnessCorrelation_shap)/2), 4),\n",
    ")\n",
    "\n",
    "# Robustness: Local Lipschitz Estimate\n",
    "print(\n",
    "    f\"Robustness\"\n",
    "    f\"\\n • SHAP = \",\n",
    "    round(float((LocalLipschitzEstimate_shap)), 4),\n",
    ")\n",
    "\n",
    "# Randomisation: MPRT and RandomLogit\n",
    "print(\n",
    "    f\"Randomisation\"\n",
    "    f\"\\n • SHAP = \",\n",
    "    round(float((MPRT_shap+RandomLogit_shap)/2), 4)\n",
    ")"
   ]
  },
  {
   "cell_type": "markdown",
   "metadata": {
    "id": "cCFmXYckxNFe"
   },
   "source": [
    "## MLP"
   ]
  },
  {
   "cell_type": "markdown",
   "metadata": {
    "id": "ski0Oztn50hc"
   },
   "source": [
    "### SHAP"
   ]
  },
  {
   "cell_type": "code",
   "execution_count": null,
   "metadata": {
    "id": "xVA5e6l455wU"
   },
   "outputs": [],
   "source": [
    "# Define a prediction function for SHAP that returns the probability for class 1\n",
    "def f_shap_mlp(X):\n",
    "    X = np.atleast_2d(X)\n",
    "    return mlp_model.predict_proba(X)[:, 1]  # Return probability for class 1\n",
    "\n",
    "# Use a subset of test data as background\n",
    "background_mlp = X_test_np[:100]\n",
    "mlp_explainer = shap.KernelExplainer(f_shap_mlp, background_mlp)"
   ]
  },
  {
   "cell_type": "code",
   "execution_count": null,
   "metadata": {
    "colab": {
     "base_uri": "https://localhost:8080/",
     "height": 49,
     "referenced_widgets": [
      "7306a3a4b809411ab55dba225edad292",
      "e736d5e8171a4587977f8a9fa980ad9d",
      "80eba73d5b97412a9756af4e91251b2d",
      "2c78dbfa4c03494da29251f7421f4b1e",
      "84c6ec507173427aae6092f44b9c6118",
      "b4db799ec222446e8d15ab5db0ed37fc",
      "4703f29f06004f9b88a036f52fdfd7f1",
      "453817ab7833431fbb73a0ea92978656",
      "c8eaa3b47e0a46c59ad0b96de344fc51",
      "6e42367c0fe643e4bd85d4c49f1e85e5",
      "4f0b09d8568f43f28236d2345aff8f5a"
     ]
    },
    "collapsed": true,
    "executionInfo": {
     "elapsed": 310535,
     "status": "ok",
     "timestamp": 1747753969293,
     "user": {
      "displayName": "Hung Thanh Do",
      "userId": "14602254202234053172"
     },
     "user_tz": -120
    },
    "id": "dvqkJLRr58LS",
    "outputId": "0539d490-80ff-45c9-ce5a-965603b38a56"
   },
   "outputs": [
    {
     "data": {
      "application/vnd.jupyter.widget-view+json": {
       "model_id": "7306a3a4b809411ab55dba225edad292",
       "version_major": 2,
       "version_minor": 0
      },
      "text/plain": [
       "  0%|          | 0/6513 [00:00<?, ?it/s]"
      ]
     },
     "metadata": {},
     "output_type": "display_data"
    }
   ],
   "source": [
    "# Compute SHAP values for the test set (using fewer samples for performance)\n",
    "mlp_shap_values = mlp_explainer.shap_values(X_test_np, nsamples=100)"
   ]
  },
  {
   "cell_type": "code",
   "execution_count": null,
   "metadata": {
    "colab": {
     "base_uri": "https://localhost:8080/",
     "height": 637
    },
    "executionInfo": {
     "elapsed": 1192,
     "status": "ok",
     "timestamp": 1747753980878,
     "user": {
      "displayName": "Hung Thanh Do",
      "userId": "14602254202234053172"
     },
     "user_tz": -120
    },
    "id": "KfWW1twW6GXd",
    "outputId": "5a1c83e9-7e74-455c-a379-a2fafb2acc00"
   },
   "outputs": [
    {
     "data": {
      "image/png": "[encoded data removed]",
      "text/plain": [
       "<Figure size 800x630 with 2 Axes>"
      ]
     },
     "metadata": {},
     "output_type": "display_data"
    }
   ],
   "source": [
    "# Plot SHAP summary plot\n",
    "shap.summary_plot(mlp_shap_values, X_test_np, feature_names=X_test.columns)"
   ]
  },
  {
   "cell_type": "code",
   "execution_count": null,
   "metadata": {
    "id": "dyGe7apl6OS8"
   },
   "outputs": [],
   "source": [
    "import pickle"
   ]
  },
  {
   "cell_type": "code",
   "execution_count": null,
   "metadata": {
    "id": "BEeoRtPw6EzV"
   },
   "outputs": [],
   "source": [
    "# Save the SHAP values for MLP\n",
    "with open('saved_shap/mlp_shap_values_adult.pkl', 'wb') as f:\n",
    "    pickle.dump(mlp_shap_values, f)"
   ]
  },
  {
   "cell_type": "code",
   "execution_count": null,
   "metadata": {
    "id": "eVVBhnu0T_2t"
   },
   "outputs": [],
   "source": [
    "with open('saved_shap/mlp_shap_values_adult.pkl', 'rb') as f:\n",
    "    mlp_shap_values = pickle.load(f)"
   ]
  },
  {
   "cell_type": "markdown",
   "metadata": {
    "id": "VJ0Mb-gM8lHj"
   },
   "source": [
    "### Quantus"
   ]
  },
  {
   "cell_type": "code",
   "execution_count": null,
   "metadata": {
    "colab": {
     "base_uri": "https://localhost:8080/"
    },
    "executionInfo": {
     "elapsed": 6,
     "status": "ok",
     "timestamp": 1747752095440,
     "user": {
      "displayName": "Hung Thanh Do",
      "userId": "14602254202234053172"
     },
     "user_tz": -120
    },
    "id": "n4DduQmVGQRS",
    "outputId": "51575b6a-2fc9-4039-a041-370181c9daad"
   },
   "outputs": [
    {
     "data": {
      "text/plain": [
       "DifferentiableMLPWrapper(\n",
       "  (proxy_layer): Linear(in_features=22, out_features=1, bias=True)\n",
       ")"
      ]
     },
     "execution_count": 236,
     "metadata": {},
     "output_type": "execute_result"
    }
   ],
   "source": [
    "class DifferentiableMLPWrapper(nn.Module):\n",
    "    def __init__(self, xgb_model):\n",
    "        super().__init__()\n",
    "        self.mlp = mlp_model\n",
    "        # Add simple differentiable layer\n",
    "        self.proxy_layer = nn.Linear(X_test_np.shape[1], 1)  # Match your feature count\n",
    "\n",
    "    def forward(self, x):\n",
    "        # Maintain gradient flow\n",
    "        with torch.no_grad():\n",
    "            mlp_out = torch.tensor(self.mlp.predict_proba(\n",
    "                x.cpu().numpy()\n",
    "            ), device=x.device)\n",
    "\n",
    "        # Differentiable processing\n",
    "        proxy_out = self.proxy_layer(x)\n",
    "        return mlp_out + 0.001*proxy_out  # Maintain MLP output dominance\n",
    "\n",
    "# Wrap model with gradient-preserving wrapper\n",
    "mlp_wrapped_model = DifferentiableMLPWrapper(mlp_model)\n",
    "mlp_wrapped_model.eval()"
   ]
  },
  {
   "cell_type": "code",
   "execution_count": null,
   "metadata": {
    "id": "SGtj_Idp834b"
   },
   "outputs": [],
   "source": [
    "# ---------------------------\n",
    "# Evaluate FaithfulnessCorrelation with Quantus using SHAP attributions\n",
    "# ---------------------------\n",
    "# Ensure y_test is of integer type\n",
    "y_test_int = y_test_np.astype(np.int64)"
   ]
  },
  {
   "cell_type": "code",
   "execution_count": null,
   "metadata": {
    "colab": {
     "base_uri": "https://localhost:8080/",
     "height": 104,
     "referenced_widgets": [
      "649ccde1257643dd9c7187a1c58ca38b",
      "b435415ab6ae41af98aed4dd6c899d5e",
      "44d3d78b44984246bd9393711e60e9eb",
      "0bcfb7be0e054d6986df17890e6eae7f",
      "0618057683984e1db8f3581b16d1b40f",
      "8fcbcdae3ff2421e92e231b77ade254d",
      "6f89b1f19c3144038d9d9c0a6f4dacff",
      "2d67c5e911484f389742b07ef98c8440",
      "6b29d529216a4613940ff0e1273323be",
      "3fc693eba5e146c6be0409e6e800630b",
      "2dfb066941154538a4e07c43cbd8ae6b"
     ]
    },
    "executionInfo": {
     "elapsed": 68,
     "status": "ok",
     "timestamp": 1747752098925,
     "user": {
      "displayName": "Hung Thanh Do",
      "userId": "14602254202234053172"
     },
     "user_tz": -120
    },
    "id": "MHzSb7wL834b",
    "outputId": "236f9fdd-5912-4cfe-c08f-8f82149ef90b"
   },
   "outputs": [
    {
     "data": {
      "application/vnd.jupyter.widget-view+json": {
       "model_id": "649ccde1257643dd9c7187a1c58ca38b",
       "version_major": 2,
       "version_minor": 0
      },
      "text/plain": [
       "  0%|          | 0/2.0 [00:00<?, ?it/s]"
      ]
     },
     "metadata": {},
     "output_type": "display_data"
    },
    {
     "name": "stdout",
     "output_type": "stream",
     "text": [
      "Complexity: Complexity by Bhatt et al., 2020.\n",
      "\n",
      " • SHAP =  0.6935125614221518\n"
     ]
    }
   ],
   "source": [
    "# Apply Complexity metric using SHAP attributions\n",
    "Complexity_shap = quantus.Complexity(\n",
    "    normalise=False,\n",
    "    abs=True,  # Take absolute values of attributions\n",
    "    disable_warnings=True,\n",
    "    display_progressbar=True,\n",
    "    aggregate_func=np.mean,  # Compute mean complexity over all samples\n",
    ")(\n",
    "    model=mlp_wrapped_model,\n",
    "    x_batch=X_test_np,\n",
    "    y_batch=y_test_int,\n",
    "    a_batch=mlp_shap_values,   # use SHAP attributions computed above\n",
    "    explain_func=None      # explanations are precomputed\n",
    ")\n",
    "\n",
    "# Scale to 0-1\n",
    "Complexity_shap = (Complexity_shap - min(Complexity_shap)) / (\n",
    "    max(Complexity_shap) - min(Complexity_shap)\n",
    ")\n",
    "\n",
    "# Find mean\n",
    "Complexity_shap = np.mean(Complexity_shap)\n",
    "\n",
    "print(\n",
    "    f\"Complexity: Complexity by Bhatt et al., 2020.\\n\"\n",
    "    f\"\\n • SHAP = \",\n",
    "    Complexity_shap,\n",
    ")"
   ]
  },
  {
   "cell_type": "code",
   "execution_count": null,
   "metadata": {
    "colab": {
     "base_uri": "https://localhost:8080/",
     "height": 104,
     "referenced_widgets": [
      "6ba26a5075114a14a6cf7698c5bddd85",
      "61717139cda649ada813ce1c1bfc2c3e",
      "7b9edba1fb784d4abd46215e286f7485",
      "58d8058ade5b47b3a3ea2d26df9994e3",
      "f4774dd556484e28aab63b849d5bdee1",
      "973c6642219b44c38b24f50555bf6b7c",
      "a043782ba9e34d80a9e185063dea0a10",
      "bb9e1883991249c689c385d65e05b04e",
      "1d93cac96ef34a8ca62d2b35edd2d59a",
      "e9f46af4c8324e48b95d4566ac6c83a5",
      "b5ca9114588d47098e83804c2de932fd"
     ]
    },
    "executionInfo": {
     "elapsed": 44,
     "status": "ok",
     "timestamp": 1747752101166,
     "user": {
      "displayName": "Hung Thanh Do",
      "userId": "14602254202234053172"
     },
     "user_tz": -120
    },
    "id": "RJu-ZCwn834b",
    "outputId": "3d9d9cb4-40fe-43b2-f8bc-623588268e8c"
   },
   "outputs": [
    {
     "data": {
      "application/vnd.jupyter.widget-view+json": {
       "model_id": "6ba26a5075114a14a6cf7698c5bddd85",
       "version_major": 2,
       "version_minor": 0
      },
      "text/plain": [
       "  0%|          | 0/2.0 [00:00<?, ?it/s]"
      ]
     },
     "metadata": {},
     "output_type": "display_data"
    },
    {
     "name": "stdout",
     "output_type": "stream",
     "text": [
      "Complexity: Sparseness by Chalasani et al., 2020.\n",
      "\n",
      " • SHAP =  [np.float64(0.7202306047018382)]\n"
     ]
    }
   ],
   "source": [
    "Sparseness_shap = quantus.Sparseness(\n",
    "    normalise=False,\n",
    "    abs=True, # take absolute values of attributions\n",
    "    disable_warnings=True,\n",
    "    display_progressbar=True,\n",
    "    return_aggregate=True, # find the mean of the complexity from all samples\n",
    "    aggregate_func=np.mean,\n",
    ")(\n",
    "    model=mlp_wrapped_model,\n",
    "    x_batch=X_test_np,\n",
    "    y_batch=y_test_int,\n",
    "    a_batch=mlp_shap_values,   # use SHAP attributions computed above\n",
    "    explain_func=None      # explanations are precomputed\n",
    ")\n",
    "\n",
    "# Already scaled to 0-1 -> keep aggregated (mean)\n",
    "\n",
    "print(\n",
    "    f\"Complexity: Sparseness by Chalasani et al., 2020.\\n\"\n",
    "    f\"\\n • SHAP = \",\n",
    "    Sparseness_shap,\n",
    ")"
   ]
  },
  {
   "cell_type": "code",
   "execution_count": null,
   "metadata": {
    "colab": {
     "base_uri": "https://localhost:8080/",
     "height": 104,
     "referenced_widgets": [
      "b8f983c37afd42e0bcea07b0dcd3a8af",
      "f0ede86140d848bdbcb1b93a2969429e",
      "979c1bf5a7134c22abd80506db7e8d9b",
      "2bcc0d174e154eb988f90888e9d9c687",
      "85aceccfc4284a4cafa24afc1354fd7b",
      "1faec732d95141498627fde1661a641e",
      "db0cc8db489e4a6e8cd878948ad6a908",
      "9b38c9dd4076457792e26364be53cbc9",
      "c82f03168aa6496e9510de830847408b",
      "91d016b2db7f4ab693155e30e8b23d79",
      "9470ce9e5e9c476dac23ec4ccef70f82"
     ]
    },
    "collapsed": true,
    "executionInfo": {
     "elapsed": 969,
     "status": "ok",
     "timestamp": 1747752195447,
     "user": {
      "displayName": "Hung Thanh Do",
      "userId": "14602254202234053172"
     },
     "user_tz": -120
    },
    "id": "dvIbfTPY834b",
    "outputId": "36661238-09cc-4679-9941-0c0b03d32fa6"
   },
   "outputs": [
    {
     "data": {
      "application/vnd.jupyter.widget-view+json": {
       "model_id": "b8f983c37afd42e0bcea07b0dcd3a8af",
       "version_major": 2,
       "version_minor": 0
      },
      "text/plain": [
       "  0%|          | 0/2.0 [00:00<?, ?it/s]"
      ]
     },
     "metadata": {},
     "output_type": "display_data"
    },
    {
     "name": "stdout",
     "output_type": "stream",
     "text": [
      "Faithfulness: Faithfulness Correlation by Bhatt et al., 2020.\n",
      "\n",
      " • SHAP =  0.49793088795510393\n"
     ]
    }
   ],
   "source": [
    "FaithfulnessCorrelation_shap = quantus.FaithfulnessCorrelation(\n",
    "    perturb_baseline=\"white\",\n",
    "    perturb_func=quantus.baseline_replacement_by_indices,\n",
    "    subset_size=5, # features to perturb\n",
    "    nr_runs=10,\n",
    "    similarity_func=quantus.similarity_func.correlation_pearson,\n",
    "    abs=True, # take absolute values of attributions\n",
    "    normalise=False, # do not normalise ohe data\n",
    "    return_aggregate=False, # (not) output 1 val instead of list of vals for all samples\n",
    "    aggregate_func=np.mean,\n",
    "    disable_warnings=True,\n",
    "    display_progressbar=True,\n",
    ")(\n",
    "    model=mlp_wrapped_model,\n",
    "    x_batch=X_test_np,\n",
    "    y_batch=y_test_int,\n",
    "    a_batch=mlp_shap_values,   # use SHAP attributions computed above\n",
    "    explain_func=None      # explanations are precomputed\n",
    ")\n",
    "\n",
    "# Scale to 0-1\n",
    "FaithfulnessCorrelation_shap = (FaithfulnessCorrelation_shap - np.min(FaithfulnessCorrelation_shap)) / (\n",
    "    np.max(FaithfulnessCorrelation_shap) - np.min(FaithfulnessCorrelation_shap)\n",
    ")\n",
    "\n",
    "# Find mean\n",
    "FaithfulnessCorrelation_shap = np.mean(FaithfulnessCorrelation_shap)\n",
    "\n",
    "print(\n",
    "    f\"Faithfulness: Faithfulness Correlation by Bhatt et al., 2020.\\n\"\n",
    "    f\"\\n • SHAP = \",\n",
    "    FaithfulnessCorrelation_shap,\n",
    ")"
   ]
  },
  {
   "cell_type": "code",
   "execution_count": null,
   "metadata": {
    "colab": {
     "base_uri": "https://localhost:8080/",
     "height": 1000,
     "referenced_widgets": [
      "e83ba96aaafd40739071b04a4e2f2551",
      "b082c8a00ece40cb8d28f1d582052af4",
      "58aa439624b04b2e921c4550de80d29a",
      "fe8a72df19184544bd2d9a0f3a39046a",
      "01538f2f93e5426a971ce5c8107bbf3d",
      "bd5b743513c947e08ec4e8037dd8f9d5",
      "826f88664d644df98bd7cac4cbdf1659",
      "26be79b8df9644dcb5d8074a47985950",
      "4a74ee086e964e6baa6645c34a962e1f",
      "fc5ffbc255d5484b85cb7ef1863cd8ab",
      "dbb3424db9544fbea4721178450155cb"
     ]
    },
    "collapsed": true,
    "executionInfo": {
     "elapsed": 1950,
     "status": "ok",
     "timestamp": 1747752243322,
     "user": {
      "displayName": "Hung Thanh Do",
      "userId": "14602254202234053172"
     },
     "user_tz": -120
    },
    "id": "XjuqiS_N834b",
    "outputId": "6f081abe-525f-4603-e93d-d7b242c2805e"
   },
   "outputs": [
    {
     "data": {
      "application/vnd.jupyter.widget-view+json": {
       "model_id": "e83ba96aaafd40739071b04a4e2f2551",
       "version_major": 2,
       "version_minor": 0
      },
      "text/plain": [
       "  0%|          | 0/2.0 [00:00<?, ?it/s]"
      ]
     },
     "metadata": {},
     "output_type": "display_data"
    },
    {
     "name": "stderr",
     "output_type": "stream",
     "text": [
      "/usr/local/lib/python3.11/dist-packages/quantus/helpers/warn.py:257: UserWarning: The settings for perturbing input e.g., 'perturb_func' didn't cause change in input. Reconsider the parameter settings.\n",
      "  warnings.warn(\n",
      "/usr/local/lib/python3.11/dist-packages/quantus/helpers/warn.py:257: UserWarning: The settings for perturbing input e.g., 'perturb_func' didn't cause change in input. Reconsider the parameter settings.\n",
      "  warnings.warn(\n",
      "/usr/local/lib/python3.11/dist-packages/quantus/helpers/warn.py:257: UserWarning: The settings for perturbing input e.g., 'perturb_func' didn't cause change in input. Reconsider the parameter settings.\n",
      "  warnings.warn(\n",
      "/usr/local/lib/python3.11/dist-packages/quantus/helpers/warn.py:257: UserWarning: The settings for perturbing input e.g., 'perturb_func' didn't cause change in input. Reconsider the parameter settings.\n",
      "  warnings.warn(\n",
      "/usr/local/lib/python3.11/dist-packages/quantus/helpers/warn.py:257: UserWarning: The settings for perturbing input e.g., 'perturb_func' didn't cause change in input. Reconsider the parameter settings.\n",
      "  warnings.warn(\n",
      "/usr/local/lib/python3.11/dist-packages/quantus/helpers/warn.py:257: UserWarning: The settings for perturbing input e.g., 'perturb_func' didn't cause change in input. Reconsider the parameter settings.\n",
      "  warnings.warn(\n",
      "/usr/local/lib/python3.11/dist-packages/quantus/helpers/warn.py:257: UserWarning: The settings for perturbing input e.g., 'perturb_func' didn't cause change in input. Reconsider the parameter settings.\n",
      "  warnings.warn(\n",
      "/usr/local/lib/python3.11/dist-packages/quantus/helpers/warn.py:257: UserWarning: The settings for perturbing input e.g., 'perturb_func' didn't cause change in input. Reconsider the parameter settings.\n",
      "  warnings.warn(\n",
      "/usr/local/lib/python3.11/dist-packages/quantus/helpers/warn.py:257: UserWarning: The settings for perturbing input e.g., 'perturb_func' didn't cause change in input. Reconsider the parameter settings.\n",
      "  warnings.warn(\n",
      "/usr/local/lib/python3.11/dist-packages/quantus/helpers/warn.py:257: UserWarning: The settings for perturbing input e.g., 'perturb_func' didn't cause change in input. Reconsider the parameter settings.\n",
      "  warnings.warn(\n",
      "/usr/local/lib/python3.11/dist-packages/quantus/helpers/warn.py:257: UserWarning: The settings for perturbing input e.g., 'perturb_func' didn't cause change in input. Reconsider the parameter settings.\n",
      "  warnings.warn(\n",
      "/usr/local/lib/python3.11/dist-packages/quantus/helpers/warn.py:257: UserWarning: The settings for perturbing input e.g., 'perturb_func' didn't cause change in input. Reconsider the parameter settings.\n",
      "  warnings.warn(\n",
      "/usr/local/lib/python3.11/dist-packages/quantus/helpers/warn.py:257: UserWarning: The settings for perturbing input e.g., 'perturb_func' didn't cause change in input. Reconsider the parameter settings.\n",
      "  warnings.warn(\n",
      "/usr/local/lib/python3.11/dist-packages/quantus/helpers/warn.py:257: UserWarning: The settings for perturbing input e.g., 'perturb_func' didn't cause change in input. Reconsider the parameter settings.\n",
      "  warnings.warn(\n",
      "/usr/local/lib/python3.11/dist-packages/quantus/helpers/warn.py:257: UserWarning: The settings for perturbing input e.g., 'perturb_func' didn't cause change in input. Reconsider the parameter settings.\n",
      "  warnings.warn(\n",
      "/usr/local/lib/python3.11/dist-packages/quantus/helpers/warn.py:257: UserWarning: The settings for perturbing input e.g., 'perturb_func' didn't cause change in input. Reconsider the parameter settings.\n",
      "  warnings.warn(\n",
      "/usr/local/lib/python3.11/dist-packages/quantus/helpers/warn.py:257: UserWarning: The settings for perturbing input e.g., 'perturb_func' didn't cause change in input. Reconsider the parameter settings.\n",
      "  warnings.warn(\n",
      "/usr/local/lib/python3.11/dist-packages/quantus/helpers/warn.py:257: UserWarning: The settings for perturbing input e.g., 'perturb_func' didn't cause change in input. Reconsider the parameter settings.\n",
      "  warnings.warn(\n",
      "/usr/local/lib/python3.11/dist-packages/quantus/helpers/warn.py:257: UserWarning: The settings for perturbing input e.g., 'perturb_func' didn't cause change in input. Reconsider the parameter settings.\n",
      "  warnings.warn(\n",
      "/usr/local/lib/python3.11/dist-packages/quantus/helpers/warn.py:257: UserWarning: The settings for perturbing input e.g., 'perturb_func' didn't cause change in input. Reconsider the parameter settings.\n",
      "  warnings.warn(\n",
      "/usr/local/lib/python3.11/dist-packages/quantus/helpers/warn.py:257: UserWarning: The settings for perturbing input e.g., 'perturb_func' didn't cause change in input. Reconsider the parameter settings.\n",
      "  warnings.warn(\n",
      "/usr/local/lib/python3.11/dist-packages/quantus/helpers/warn.py:257: UserWarning: The settings for perturbing input e.g., 'perturb_func' didn't cause change in input. Reconsider the parameter settings.\n",
      "  warnings.warn(\n",
      "/usr/local/lib/python3.11/dist-packages/quantus/helpers/warn.py:257: UserWarning: The settings for perturbing input e.g., 'perturb_func' didn't cause change in input. Reconsider the parameter settings.\n",
      "  warnings.warn(\n",
      "/usr/local/lib/python3.11/dist-packages/quantus/helpers/warn.py:257: UserWarning: The settings for perturbing input e.g., 'perturb_func' didn't cause change in input. Reconsider the parameter settings.\n",
      "  warnings.warn(\n",
      "/usr/local/lib/python3.11/dist-packages/quantus/helpers/warn.py:257: UserWarning: The settings for perturbing input e.g., 'perturb_func' didn't cause change in input. Reconsider the parameter settings.\n",
      "  warnings.warn(\n",
      "/usr/local/lib/python3.11/dist-packages/quantus/helpers/warn.py:257: UserWarning: The settings for perturbing input e.g., 'perturb_func' didn't cause change in input. Reconsider the parameter settings.\n",
      "  warnings.warn(\n",
      "/usr/local/lib/python3.11/dist-packages/quantus/helpers/warn.py:257: UserWarning: The settings for perturbing input e.g., 'perturb_func' didn't cause change in input. Reconsider the parameter settings.\n",
      "  warnings.warn(\n",
      "/usr/local/lib/python3.11/dist-packages/quantus/helpers/warn.py:257: UserWarning: The settings for perturbing input e.g., 'perturb_func' didn't cause change in input. Reconsider the parameter settings.\n",
      "  warnings.warn(\n",
      "/usr/local/lib/python3.11/dist-packages/quantus/helpers/warn.py:257: UserWarning: The settings for perturbing input e.g., 'perturb_func' didn't cause change in input. Reconsider the parameter settings.\n",
      "  warnings.warn(\n",
      "/usr/local/lib/python3.11/dist-packages/quantus/helpers/warn.py:257: UserWarning: The settings for perturbing input e.g., 'perturb_func' didn't cause change in input. Reconsider the parameter settings.\n",
      "  warnings.warn(\n",
      "/usr/local/lib/python3.11/dist-packages/quantus/helpers/warn.py:257: UserWarning: The settings for perturbing input e.g., 'perturb_func' didn't cause change in input. Reconsider the parameter settings.\n",
      "  warnings.warn(\n",
      "/usr/local/lib/python3.11/dist-packages/quantus/helpers/warn.py:257: UserWarning: The settings for perturbing input e.g., 'perturb_func' didn't cause change in input. Reconsider the parameter settings.\n",
      "  warnings.warn(\n",
      "/usr/local/lib/python3.11/dist-packages/quantus/helpers/warn.py:257: UserWarning: The settings for perturbing input e.g., 'perturb_func' didn't cause change in input. Reconsider the parameter settings.\n",
      "  warnings.warn(\n",
      "/usr/local/lib/python3.11/dist-packages/quantus/helpers/warn.py:257: UserWarning: The settings for perturbing input e.g., 'perturb_func' didn't cause change in input. Reconsider the parameter settings.\n",
      "  warnings.warn(\n",
      "/usr/local/lib/python3.11/dist-packages/quantus/helpers/warn.py:257: UserWarning: The settings for perturbing input e.g., 'perturb_func' didn't cause change in input. Reconsider the parameter settings.\n",
      "  warnings.warn(\n",
      "/usr/local/lib/python3.11/dist-packages/quantus/helpers/warn.py:257: UserWarning: The settings for perturbing input e.g., 'perturb_func' didn't cause change in input. Reconsider the parameter settings.\n",
      "  warnings.warn(\n",
      "/usr/local/lib/python3.11/dist-packages/quantus/helpers/warn.py:257: UserWarning: The settings for perturbing input e.g., 'perturb_func' didn't cause change in input. Reconsider the parameter settings.\n",
      "  warnings.warn(\n",
      "/usr/local/lib/python3.11/dist-packages/quantus/helpers/warn.py:257: UserWarning: The settings for perturbing input e.g., 'perturb_func' didn't cause change in input. Reconsider the parameter settings.\n",
      "  warnings.warn(\n",
      "/usr/local/lib/python3.11/dist-packages/quantus/helpers/warn.py:257: UserWarning: The settings for perturbing input e.g., 'perturb_func' didn't cause change in input. Reconsider the parameter settings.\n",
      "  warnings.warn(\n",
      "/usr/local/lib/python3.11/dist-packages/quantus/helpers/warn.py:257: UserWarning: The settings for perturbing input e.g., 'perturb_func' didn't cause change in input. Reconsider the parameter settings.\n",
      "  warnings.warn(\n",
      "/usr/local/lib/python3.11/dist-packages/quantus/helpers/warn.py:257: UserWarning: The settings for perturbing input e.g., 'perturb_func' didn't cause change in input. Reconsider the parameter settings.\n",
      "  warnings.warn(\n",
      "/usr/local/lib/python3.11/dist-packages/quantus/helpers/warn.py:257: UserWarning: The settings for perturbing input e.g., 'perturb_func' didn't cause change in input. Reconsider the parameter settings.\n",
      "  warnings.warn(\n",
      "/usr/local/lib/python3.11/dist-packages/quantus/helpers/warn.py:257: UserWarning: The settings for perturbing input e.g., 'perturb_func' didn't cause change in input. Reconsider the parameter settings.\n",
      "  warnings.warn(\n",
      "/usr/local/lib/python3.11/dist-packages/quantus/helpers/warn.py:257: UserWarning: The settings for perturbing input e.g., 'perturb_func' didn't cause change in input. Reconsider the parameter settings.\n",
      "  warnings.warn(\n",
      "/usr/local/lib/python3.11/dist-packages/quantus/helpers/warn.py:257: UserWarning: The settings for perturbing input e.g., 'perturb_func' didn't cause change in input. Reconsider the parameter settings.\n",
      "  warnings.warn(\n",
      "/usr/local/lib/python3.11/dist-packages/quantus/helpers/warn.py:257: UserWarning: The settings for perturbing input e.g., 'perturb_func' didn't cause change in input. Reconsider the parameter settings.\n",
      "  warnings.warn(\n",
      "/usr/local/lib/python3.11/dist-packages/quantus/helpers/warn.py:257: UserWarning: The settings for perturbing input e.g., 'perturb_func' didn't cause change in input. Reconsider the parameter settings.\n",
      "  warnings.warn(\n",
      "/usr/local/lib/python3.11/dist-packages/quantus/helpers/warn.py:257: UserWarning: The settings for perturbing input e.g., 'perturb_func' didn't cause change in input. Reconsider the parameter settings.\n",
      "  warnings.warn(\n",
      "/usr/local/lib/python3.11/dist-packages/quantus/helpers/warn.py:257: UserWarning: The settings for perturbing input e.g., 'perturb_func' didn't cause change in input. Reconsider the parameter settings.\n",
      "  warnings.warn(\n",
      "/usr/local/lib/python3.11/dist-packages/quantus/helpers/warn.py:257: UserWarning: The settings for perturbing input e.g., 'perturb_func' didn't cause change in input. Reconsider the parameter settings.\n",
      "  warnings.warn(\n",
      "/usr/local/lib/python3.11/dist-packages/quantus/helpers/warn.py:257: UserWarning: The settings for perturbing input e.g., 'perturb_func' didn't cause change in input. Reconsider the parameter settings.\n",
      "  warnings.warn(\n",
      "/usr/local/lib/python3.11/dist-packages/quantus/helpers/warn.py:257: UserWarning: The settings for perturbing input e.g., 'perturb_func' didn't cause change in input. Reconsider the parameter settings.\n",
      "  warnings.warn(\n",
      "/usr/local/lib/python3.11/dist-packages/quantus/helpers/warn.py:257: UserWarning: The settings for perturbing input e.g., 'perturb_func' didn't cause change in input. Reconsider the parameter settings.\n",
      "  warnings.warn(\n",
      "/usr/local/lib/python3.11/dist-packages/quantus/helpers/warn.py:257: UserWarning: The settings for perturbing input e.g., 'perturb_func' didn't cause change in input. Reconsider the parameter settings.\n",
      "  warnings.warn(\n",
      "/usr/local/lib/python3.11/dist-packages/quantus/helpers/warn.py:257: UserWarning: The settings for perturbing input e.g., 'perturb_func' didn't cause change in input. Reconsider the parameter settings.\n",
      "  warnings.warn(\n",
      "/usr/local/lib/python3.11/dist-packages/quantus/helpers/warn.py:257: UserWarning: The settings for perturbing input e.g., 'perturb_func' didn't cause change in input. Reconsider the parameter settings.\n",
      "  warnings.warn(\n",
      "/usr/local/lib/python3.11/dist-packages/quantus/helpers/warn.py:257: UserWarning: The settings for perturbing input e.g., 'perturb_func' didn't cause change in input. Reconsider the parameter settings.\n",
      "  warnings.warn(\n",
      "/usr/local/lib/python3.11/dist-packages/quantus/helpers/warn.py:257: UserWarning: The settings for perturbing input e.g., 'perturb_func' didn't cause change in input. Reconsider the parameter settings.\n",
      "  warnings.warn(\n",
      "/usr/local/lib/python3.11/dist-packages/quantus/helpers/warn.py:257: UserWarning: The settings for perturbing input e.g., 'perturb_func' didn't cause change in input. Reconsider the parameter settings.\n",
      "  warnings.warn(\n",
      "/usr/local/lib/python3.11/dist-packages/quantus/helpers/warn.py:257: UserWarning: The settings for perturbing input e.g., 'perturb_func' didn't cause change in input. Reconsider the parameter settings.\n",
      "  warnings.warn(\n",
      "/usr/local/lib/python3.11/dist-packages/quantus/helpers/warn.py:257: UserWarning: The settings for perturbing input e.g., 'perturb_func' didn't cause change in input. Reconsider the parameter settings.\n",
      "  warnings.warn(\n",
      "/usr/local/lib/python3.11/dist-packages/quantus/helpers/warn.py:257: UserWarning: The settings for perturbing input e.g., 'perturb_func' didn't cause change in input. Reconsider the parameter settings.\n",
      "  warnings.warn(\n",
      "/usr/local/lib/python3.11/dist-packages/quantus/helpers/warn.py:257: UserWarning: The settings for perturbing input e.g., 'perturb_func' didn't cause change in input. Reconsider the parameter settings.\n",
      "  warnings.warn(\n",
      "/usr/local/lib/python3.11/dist-packages/quantus/helpers/warn.py:257: UserWarning: The settings for perturbing input e.g., 'perturb_func' didn't cause change in input. Reconsider the parameter settings.\n",
      "  warnings.warn(\n",
      "/usr/local/lib/python3.11/dist-packages/quantus/helpers/warn.py:257: UserWarning: The settings for perturbing input e.g., 'perturb_func' didn't cause change in input. Reconsider the parameter settings.\n",
      "  warnings.warn(\n",
      "/usr/local/lib/python3.11/dist-packages/quantus/helpers/warn.py:257: UserWarning: The settings for perturbing input e.g., 'perturb_func' didn't cause change in input. Reconsider the parameter settings.\n",
      "  warnings.warn(\n",
      "/usr/local/lib/python3.11/dist-packages/quantus/helpers/warn.py:257: UserWarning: The settings for perturbing input e.g., 'perturb_func' didn't cause change in input. Reconsider the parameter settings.\n",
      "  warnings.warn(\n",
      "/usr/local/lib/python3.11/dist-packages/quantus/helpers/warn.py:257: UserWarning: The settings for perturbing input e.g., 'perturb_func' didn't cause change in input. Reconsider the parameter settings.\n",
      "  warnings.warn(\n",
      "/usr/local/lib/python3.11/dist-packages/quantus/helpers/warn.py:257: UserWarning: The settings for perturbing input e.g., 'perturb_func' didn't cause change in input. Reconsider the parameter settings.\n",
      "  warnings.warn(\n",
      "/usr/local/lib/python3.11/dist-packages/quantus/helpers/warn.py:257: UserWarning: The settings for perturbing input e.g., 'perturb_func' didn't cause change in input. Reconsider the parameter settings.\n",
      "  warnings.warn(\n",
      "/usr/local/lib/python3.11/dist-packages/quantus/helpers/warn.py:257: UserWarning: The settings for perturbing input e.g., 'perturb_func' didn't cause change in input. Reconsider the parameter settings.\n",
      "  warnings.warn(\n",
      "/usr/local/lib/python3.11/dist-packages/quantus/helpers/warn.py:257: UserWarning: The settings for perturbing input e.g., 'perturb_func' didn't cause change in input. Reconsider the parameter settings.\n",
      "  warnings.warn(\n",
      "/usr/local/lib/python3.11/dist-packages/quantus/helpers/warn.py:257: UserWarning: The settings for perturbing input e.g., 'perturb_func' didn't cause change in input. Reconsider the parameter settings.\n",
      "  warnings.warn(\n",
      "/usr/local/lib/python3.11/dist-packages/quantus/helpers/warn.py:257: UserWarning: The settings for perturbing input e.g., 'perturb_func' didn't cause change in input. Reconsider the parameter settings.\n",
      "  warnings.warn(\n",
      "/usr/local/lib/python3.11/dist-packages/quantus/helpers/warn.py:257: UserWarning: The settings for perturbing input e.g., 'perturb_func' didn't cause change in input. Reconsider the parameter settings.\n",
      "  warnings.warn(\n",
      "/usr/local/lib/python3.11/dist-packages/quantus/helpers/warn.py:257: UserWarning: The settings for perturbing input e.g., 'perturb_func' didn't cause change in input. Reconsider the parameter settings.\n",
      "  warnings.warn(\n",
      "/usr/local/lib/python3.11/dist-packages/quantus/helpers/warn.py:257: UserWarning: The settings for perturbing input e.g., 'perturb_func' didn't cause change in input. Reconsider the parameter settings.\n",
      "  warnings.warn(\n",
      "/usr/local/lib/python3.11/dist-packages/quantus/helpers/warn.py:257: UserWarning: The settings for perturbing input e.g., 'perturb_func' didn't cause change in input. Reconsider the parameter settings.\n",
      "  warnings.warn(\n",
      "/usr/local/lib/python3.11/dist-packages/quantus/helpers/warn.py:257: UserWarning: The settings for perturbing input e.g., 'perturb_func' didn't cause change in input. Reconsider the parameter settings.\n",
      "  warnings.warn(\n",
      "/usr/local/lib/python3.11/dist-packages/quantus/helpers/warn.py:257: UserWarning: The settings for perturbing input e.g., 'perturb_func' didn't cause change in input. Reconsider the parameter settings.\n",
      "  warnings.warn(\n",
      "/usr/local/lib/python3.11/dist-packages/quantus/helpers/warn.py:257: UserWarning: The settings for perturbing input e.g., 'perturb_func' didn't cause change in input. Reconsider the parameter settings.\n",
      "  warnings.warn(\n",
      "/usr/local/lib/python3.11/dist-packages/quantus/helpers/warn.py:257: UserWarning: The settings for perturbing input e.g., 'perturb_func' didn't cause change in input. Reconsider the parameter settings.\n",
      "  warnings.warn(\n",
      "/usr/local/lib/python3.11/dist-packages/quantus/helpers/warn.py:257: UserWarning: The settings for perturbing input e.g., 'perturb_func' didn't cause change in input. Reconsider the parameter settings.\n",
      "  warnings.warn(\n",
      "/usr/local/lib/python3.11/dist-packages/quantus/helpers/warn.py:257: UserWarning: The settings for perturbing input e.g., 'perturb_func' didn't cause change in input. Reconsider the parameter settings.\n",
      "  warnings.warn(\n",
      "/usr/local/lib/python3.11/dist-packages/quantus/helpers/warn.py:257: UserWarning: The settings for perturbing input e.g., 'perturb_func' didn't cause change in input. Reconsider the parameter settings.\n",
      "  warnings.warn(\n",
      "/usr/local/lib/python3.11/dist-packages/quantus/helpers/warn.py:257: UserWarning: The settings for perturbing input e.g., 'perturb_func' didn't cause change in input. Reconsider the parameter settings.\n",
      "  warnings.warn(\n",
      "/usr/local/lib/python3.11/dist-packages/quantus/helpers/warn.py:257: UserWarning: The settings for perturbing input e.g., 'perturb_func' didn't cause change in input. Reconsider the parameter settings.\n",
      "  warnings.warn(\n",
      "/usr/local/lib/python3.11/dist-packages/quantus/helpers/warn.py:257: UserWarning: The settings for perturbing input e.g., 'perturb_func' didn't cause change in input. Reconsider the parameter settings.\n",
      "  warnings.warn(\n",
      "/usr/local/lib/python3.11/dist-packages/quantus/helpers/warn.py:257: UserWarning: The settings for perturbing input e.g., 'perturb_func' didn't cause change in input. Reconsider the parameter settings.\n",
      "  warnings.warn(\n",
      "/usr/local/lib/python3.11/dist-packages/quantus/helpers/warn.py:257: UserWarning: The settings for perturbing input e.g., 'perturb_func' didn't cause change in input. Reconsider the parameter settings.\n",
      "  warnings.warn(\n",
      "/usr/local/lib/python3.11/dist-packages/quantus/helpers/warn.py:257: UserWarning: The settings for perturbing input e.g., 'perturb_func' didn't cause change in input. Reconsider the parameter settings.\n",
      "  warnings.warn(\n",
      "/usr/local/lib/python3.11/dist-packages/quantus/helpers/warn.py:257: UserWarning: The settings for perturbing input e.g., 'perturb_func' didn't cause change in input. Reconsider the parameter settings.\n",
      "  warnings.warn(\n",
      "/usr/local/lib/python3.11/dist-packages/quantus/helpers/warn.py:257: UserWarning: The settings for perturbing input e.g., 'perturb_func' didn't cause change in input. Reconsider the parameter settings.\n",
      "  warnings.warn(\n",
      "/usr/local/lib/python3.11/dist-packages/quantus/helpers/warn.py:257: UserWarning: The settings for perturbing input e.g., 'perturb_func' didn't cause change in input. Reconsider the parameter settings.\n",
      "  warnings.warn(\n",
      "/usr/local/lib/python3.11/dist-packages/quantus/helpers/warn.py:257: UserWarning: The settings for perturbing input e.g., 'perturb_func' didn't cause change in input. Reconsider the parameter settings.\n",
      "  warnings.warn(\n",
      "/usr/local/lib/python3.11/dist-packages/quantus/helpers/warn.py:257: UserWarning: The settings for perturbing input e.g., 'perturb_func' didn't cause change in input. Reconsider the parameter settings.\n",
      "  warnings.warn(\n",
      "/usr/local/lib/python3.11/dist-packages/quantus/helpers/warn.py:257: UserWarning: The settings for perturbing input e.g., 'perturb_func' didn't cause change in input. Reconsider the parameter settings.\n",
      "  warnings.warn(\n",
      "/usr/local/lib/python3.11/dist-packages/quantus/helpers/warn.py:257: UserWarning: The settings for perturbing input e.g., 'perturb_func' didn't cause change in input. Reconsider the parameter settings.\n",
      "  warnings.warn(\n"
     ]
    },
    {
     "name": "stdout",
     "output_type": "stream",
     "text": [
      "Faithfulness: Faithfulness Estimate by Alvarez-Melis et al., 2018.\n",
      "\n",
      " • SHAP =  0.34890137748149114\n"
     ]
    },
    {
     "name": "stderr",
     "output_type": "stream",
     "text": [
      "/usr/local/lib/python3.11/dist-packages/quantus/helpers/warn.py:257: UserWarning: The settings for perturbing input e.g., 'perturb_func' didn't cause change in input. Reconsider the parameter settings.\n",
      "  warnings.warn(\n",
      "/usr/local/lib/python3.11/dist-packages/quantus/helpers/warn.py:257: UserWarning: The settings for perturbing input e.g., 'perturb_func' didn't cause change in input. Reconsider the parameter settings.\n",
      "  warnings.warn(\n"
     ]
    }
   ],
   "source": [
    "FaithfulnessEstimate_shap = quantus.FaithfulnessEstimate(\n",
    "    perturb_baseline=\"white\",\n",
    "    perturb_func=quantus.baseline_replacement_by_indices,\n",
    "    features_in_step=1, # features to perturb\n",
    "    similarity_func=quantus.similarity_func.correlation_pearson,\n",
    "    abs=True, # take absolute values of attributions\n",
    "    normalise=False, # do not normalise ohe data\n",
    "    return_aggregate=False, # (not) output 1 val instead of list of vals for all samples\n",
    "    aggregate_func=np.mean,\n",
    "    disable_warnings=True,\n",
    "    display_progressbar=True,\n",
    ")(\n",
    "    model=mlp_wrapped_model,\n",
    "    x_batch=X_test_np,\n",
    "    y_batch=y_test_int,\n",
    "    a_batch=mlp_shap_values,   # use SHAP attributions computed above\n",
    "    explain_func=None      # explanations are precomputed\n",
    ")\n",
    "\n",
    "# Scale to 0-1\n",
    "FaithfulnessEstimate_shap = (FaithfulnessEstimate_shap - np.min(FaithfulnessEstimate_shap)) / (\n",
    "    np.max(FaithfulnessEstimate_shap) - np.min(FaithfulnessEstimate_shap)\n",
    ")\n",
    "\n",
    "# Find mean\n",
    "FaithfulnessEstimate_shap = np.mean(FaithfulnessEstimate_shap)\n",
    "\n",
    "print(\n",
    "    f\"Faithfulness: Faithfulness Estimate by Alvarez-Melis et al., 2018.\\n\"\n",
    "    f\"\\n • SHAP = \",\n",
    "    FaithfulnessEstimate_shap,\n",
    ")"
   ]
  },
  {
   "cell_type": "code",
   "execution_count": null,
   "metadata": {
    "colab": {
     "base_uri": "https://localhost:8080/",
     "height": 1000,
     "referenced_widgets": [
      "896b6f1e77b54e0cae91f7789cc8e528",
      "c430ae6f841841868598eb8d0392ebc1",
      "6d8b056fe288490884151b7c4f3fd7af",
      "b9288a2543764486ae70cb75f468266d",
      "a375a975b37a43a7b79d146b3feb8817",
      "e57ab293f20e4036a3624f6d472ece04",
      "8b5fc7adc103463b82ede05c6dd7bf43",
      "ad971f16894d424cb997fdac7ec8c628",
      "3680160a29e741e6a34f8e7f627b4b6c",
      "be0a0070c04b4500bdaee4b1e68d2266",
      "3e28eba35eb9457dacecc6e39ea5d438"
     ]
    },
    "collapsed": true,
    "executionInfo": {
     "elapsed": 6595,
     "status": "ok",
     "timestamp": 1747752253736,
     "user": {
      "displayName": "Hung Thanh Do",
      "userId": "14602254202234053172"
     },
     "user_tz": -120
    },
    "id": "FP14ta0a834b",
    "outputId": "b7cfa195-e095-4189-dd73-fabb93eb8e1c"
   },
   "outputs": [
    {
     "data": {
      "application/vnd.jupyter.widget-view+json": {
       "model_id": "896b6f1e77b54e0cae91f7789cc8e528",
       "version_major": 2,
       "version_minor": 0
      },
      "text/plain": [
       "  0%|          | 0/2.0 [00:00<?, ?it/s]"
      ]
     },
     "metadata": {},
     "output_type": "display_data"
    },
    {
     "name": "stderr",
     "output_type": "stream",
     "text": [
      "/usr/local/lib/python3.11/dist-packages/captum/attr/_core/deep_lift.py:304: UserWarning: Setting forward, backward hooks and attributes on non-linear\n",
      "               activations. The hooks and attributes will be removed\n",
      "            after the attribution is finished\n",
      "  warnings.warn(\n",
      "/usr/local/lib/python3.11/dist-packages/captum/attr/_core/deep_lift.py:304: UserWarning: Setting forward, backward hooks and attributes on non-linear\n",
      "               activations. The hooks and attributes will be removed\n",
      "            after the attribution is finished\n",
      "  warnings.warn(\n",
      "/usr/local/lib/python3.11/dist-packages/captum/attr/_core/deep_lift.py:304: UserWarning: Setting forward, backward hooks and attributes on non-linear\n",
      "               activations. The hooks and attributes will be removed\n",
      "            after the attribution is finished\n",
      "  warnings.warn(\n",
      "/usr/local/lib/python3.11/dist-packages/captum/attr/_core/deep_lift.py:304: UserWarning: Setting forward, backward hooks and attributes on non-linear\n",
      "               activations. The hooks and attributes will be removed\n",
      "            after the attribution is finished\n",
      "  warnings.warn(\n",
      "/usr/local/lib/python3.11/dist-packages/captum/attr/_core/deep_lift.py:304: UserWarning: Setting forward, backward hooks and attributes on non-linear\n",
      "               activations. The hooks and attributes will be removed\n",
      "            after the attribution is finished\n",
      "  warnings.warn(\n",
      "/usr/local/lib/python3.11/dist-packages/captum/attr/_core/deep_lift.py:304: UserWarning: Setting forward, backward hooks and attributes on non-linear\n",
      "               activations. The hooks and attributes will be removed\n",
      "            after the attribution is finished\n",
      "  warnings.warn(\n",
      "/usr/local/lib/python3.11/dist-packages/captum/attr/_core/deep_lift.py:304: UserWarning: Setting forward, backward hooks and attributes on non-linear\n",
      "               activations. The hooks and attributes will be removed\n",
      "            after the attribution is finished\n",
      "  warnings.warn(\n",
      "/usr/local/lib/python3.11/dist-packages/captum/attr/_core/deep_lift.py:304: UserWarning: Setting forward, backward hooks and attributes on non-linear\n",
      "               activations. The hooks and attributes will be removed\n",
      "            after the attribution is finished\n",
      "  warnings.warn(\n",
      "/usr/local/lib/python3.11/dist-packages/captum/attr/_core/deep_lift.py:304: UserWarning: Setting forward, backward hooks and attributes on non-linear\n",
      "               activations. The hooks and attributes will be removed\n",
      "            after the attribution is finished\n",
      "  warnings.warn(\n",
      "/usr/local/lib/python3.11/dist-packages/captum/attr/_core/deep_lift.py:304: UserWarning: Setting forward, backward hooks and attributes on non-linear\n",
      "               activations. The hooks and attributes will be removed\n",
      "            after the attribution is finished\n",
      "  warnings.warn(\n",
      "/usr/local/lib/python3.11/dist-packages/captum/attr/_core/deep_lift.py:304: UserWarning: Setting forward, backward hooks and attributes on non-linear\n",
      "               activations. The hooks and attributes will be removed\n",
      "            after the attribution is finished\n",
      "  warnings.warn(\n",
      "/usr/local/lib/python3.11/dist-packages/captum/attr/_core/deep_lift.py:304: UserWarning: Setting forward, backward hooks and attributes on non-linear\n",
      "               activations. The hooks and attributes will be removed\n",
      "            after the attribution is finished\n",
      "  warnings.warn(\n",
      "/usr/local/lib/python3.11/dist-packages/captum/attr/_core/deep_lift.py:304: UserWarning: Setting forward, backward hooks and attributes on non-linear\n",
      "               activations. The hooks and attributes will be removed\n",
      "            after the attribution is finished\n",
      "  warnings.warn(\n",
      "/usr/local/lib/python3.11/dist-packages/captum/attr/_core/deep_lift.py:304: UserWarning: Setting forward, backward hooks and attributes on non-linear\n",
      "               activations. The hooks and attributes will be removed\n",
      "            after the attribution is finished\n",
      "  warnings.warn(\n",
      "/usr/local/lib/python3.11/dist-packages/captum/attr/_core/deep_lift.py:304: UserWarning: Setting forward, backward hooks and attributes on non-linear\n",
      "               activations. The hooks and attributes will be removed\n",
      "            after the attribution is finished\n",
      "  warnings.warn(\n",
      "/usr/local/lib/python3.11/dist-packages/captum/attr/_core/deep_lift.py:304: UserWarning: Setting forward, backward hooks and attributes on non-linear\n",
      "               activations. The hooks and attributes will be removed\n",
      "            after the attribution is finished\n",
      "  warnings.warn(\n",
      "/usr/local/lib/python3.11/dist-packages/captum/attr/_core/deep_lift.py:304: UserWarning: Setting forward, backward hooks and attributes on non-linear\n",
      "               activations. The hooks and attributes will be removed\n",
      "            after the attribution is finished\n",
      "  warnings.warn(\n",
      "/usr/local/lib/python3.11/dist-packages/captum/attr/_core/deep_lift.py:304: UserWarning: Setting forward, backward hooks and attributes on non-linear\n",
      "               activations. The hooks and attributes will be removed\n",
      "            after the attribution is finished\n",
      "  warnings.warn(\n",
      "/usr/local/lib/python3.11/dist-packages/captum/attr/_core/deep_lift.py:304: UserWarning: Setting forward, backward hooks and attributes on non-linear\n",
      "               activations. The hooks and attributes will be removed\n",
      "            after the attribution is finished\n",
      "  warnings.warn(\n",
      "/usr/local/lib/python3.11/dist-packages/captum/attr/_core/deep_lift.py:304: UserWarning: Setting forward, backward hooks and attributes on non-linear\n",
      "               activations. The hooks and attributes will be removed\n",
      "            after the attribution is finished\n",
      "  warnings.warn(\n",
      "/usr/local/lib/python3.11/dist-packages/captum/attr/_core/deep_lift.py:304: UserWarning: Setting forward, backward hooks and attributes on non-linear\n",
      "               activations. The hooks and attributes will be removed\n",
      "            after the attribution is finished\n",
      "  warnings.warn(\n",
      "/usr/local/lib/python3.11/dist-packages/captum/attr/_core/deep_lift.py:304: UserWarning: Setting forward, backward hooks and attributes on non-linear\n",
      "               activations. The hooks and attributes will be removed\n",
      "            after the attribution is finished\n",
      "  warnings.warn(\n",
      "/usr/local/lib/python3.11/dist-packages/captum/attr/_core/deep_lift.py:304: UserWarning: Setting forward, backward hooks and attributes on non-linear\n",
      "               activations. The hooks and attributes will be removed\n",
      "            after the attribution is finished\n",
      "  warnings.warn(\n",
      "/usr/local/lib/python3.11/dist-packages/captum/attr/_core/deep_lift.py:304: UserWarning: Setting forward, backward hooks and attributes on non-linear\n",
      "               activations. The hooks and attributes will be removed\n",
      "            after the attribution is finished\n",
      "  warnings.warn(\n",
      "/usr/local/lib/python3.11/dist-packages/captum/attr/_core/deep_lift.py:304: UserWarning: Setting forward, backward hooks and attributes on non-linear\n",
      "               activations. The hooks and attributes will be removed\n",
      "            after the attribution is finished\n",
      "  warnings.warn(\n",
      "/usr/local/lib/python3.11/dist-packages/captum/attr/_core/deep_lift.py:304: UserWarning: Setting forward, backward hooks and attributes on non-linear\n",
      "               activations. The hooks and attributes will be removed\n",
      "            after the attribution is finished\n",
      "  warnings.warn(\n",
      "/usr/local/lib/python3.11/dist-packages/captum/attr/_core/deep_lift.py:304: UserWarning: Setting forward, backward hooks and attributes on non-linear\n",
      "               activations. The hooks and attributes will be removed\n",
      "            after the attribution is finished\n",
      "  warnings.warn(\n",
      "/usr/local/lib/python3.11/dist-packages/captum/attr/_core/deep_lift.py:304: UserWarning: Setting forward, backward hooks and attributes on non-linear\n",
      "               activations. The hooks and attributes will be removed\n",
      "            after the attribution is finished\n",
      "  warnings.warn(\n",
      "/usr/local/lib/python3.11/dist-packages/captum/attr/_core/deep_lift.py:304: UserWarning: Setting forward, backward hooks and attributes on non-linear\n",
      "               activations. The hooks and attributes will be removed\n",
      "            after the attribution is finished\n",
      "  warnings.warn(\n",
      "/usr/local/lib/python3.11/dist-packages/captum/attr/_core/deep_lift.py:304: UserWarning: Setting forward, backward hooks and attributes on non-linear\n",
      "               activations. The hooks and attributes will be removed\n",
      "            after the attribution is finished\n",
      "  warnings.warn(\n",
      "/usr/local/lib/python3.11/dist-packages/captum/attr/_core/deep_lift.py:304: UserWarning: Setting forward, backward hooks and attributes on non-linear\n",
      "               activations. The hooks and attributes will be removed\n",
      "            after the attribution is finished\n",
      "  warnings.warn(\n",
      "/usr/local/lib/python3.11/dist-packages/captum/attr/_core/deep_lift.py:304: UserWarning: Setting forward, backward hooks and attributes on non-linear\n",
      "               activations. The hooks and attributes will be removed\n",
      "            after the attribution is finished\n",
      "  warnings.warn(\n",
      "/usr/local/lib/python3.11/dist-packages/captum/attr/_core/deep_lift.py:304: UserWarning: Setting forward, backward hooks and attributes on non-linear\n",
      "               activations. The hooks and attributes will be removed\n",
      "            after the attribution is finished\n",
      "  warnings.warn(\n",
      "/usr/local/lib/python3.11/dist-packages/captum/attr/_core/deep_lift.py:304: UserWarning: Setting forward, backward hooks and attributes on non-linear\n",
      "               activations. The hooks and attributes will be removed\n",
      "            after the attribution is finished\n",
      "  warnings.warn(\n",
      "/usr/local/lib/python3.11/dist-packages/captum/attr/_core/deep_lift.py:304: UserWarning: Setting forward, backward hooks and attributes on non-linear\n",
      "               activations. The hooks and attributes will be removed\n",
      "            after the attribution is finished\n",
      "  warnings.warn(\n",
      "/usr/local/lib/python3.11/dist-packages/captum/attr/_core/deep_lift.py:304: UserWarning: Setting forward, backward hooks and attributes on non-linear\n",
      "               activations. The hooks and attributes will be removed\n",
      "            after the attribution is finished\n",
      "  warnings.warn(\n",
      "/usr/local/lib/python3.11/dist-packages/captum/attr/_core/deep_lift.py:304: UserWarning: Setting forward, backward hooks and attributes on non-linear\n",
      "               activations. The hooks and attributes will be removed\n",
      "            after the attribution is finished\n",
      "  warnings.warn(\n",
      "/usr/local/lib/python3.11/dist-packages/captum/attr/_core/deep_lift.py:304: UserWarning: Setting forward, backward hooks and attributes on non-linear\n",
      "               activations. The hooks and attributes will be removed\n",
      "            after the attribution is finished\n",
      "  warnings.warn(\n",
      "/usr/local/lib/python3.11/dist-packages/captum/attr/_core/deep_lift.py:304: UserWarning: Setting forward, backward hooks and attributes on non-linear\n",
      "               activations. The hooks and attributes will be removed\n",
      "            after the attribution is finished\n",
      "  warnings.warn(\n",
      "/usr/local/lib/python3.11/dist-packages/captum/attr/_core/deep_lift.py:304: UserWarning: Setting forward, backward hooks and attributes on non-linear\n",
      "               activations. The hooks and attributes will be removed\n",
      "            after the attribution is finished\n",
      "  warnings.warn(\n",
      "/usr/local/lib/python3.11/dist-packages/captum/attr/_core/deep_lift.py:304: UserWarning: Setting forward, backward hooks and attributes on non-linear\n",
      "               activations. The hooks and attributes will be removed\n",
      "            after the attribution is finished\n",
      "  warnings.warn(\n"
     ]
    },
    {
     "name": "stdout",
     "output_type": "stream",
     "text": [
      "Robustness: Local Lipschitz Estimate by Alvarez-Melis et al., 2018.\n",
      "\n",
      " • SHAP =  0.4487262868298595\n"
     ]
    },
    {
     "name": "stderr",
     "output_type": "stream",
     "text": [
      "/usr/local/lib/python3.11/dist-packages/captum/attr/_core/deep_lift.py:304: UserWarning: Setting forward, backward hooks and attributes on non-linear\n",
      "               activations. The hooks and attributes will be removed\n",
      "            after the attribution is finished\n",
      "  warnings.warn(\n"
     ]
    }
   ],
   "source": [
    "LocalLipschitzEstimate_shap = quantus.LocalLipschitzEstimate(\n",
    "    normalise=False,\n",
    "    abs=True, # take absolute values of attributions\n",
    "    nr_samples = 20,\n",
    "    disable_warnings=True,\n",
    "    display_progressbar=True,\n",
    "    # return_aggregate=True, # find the mean of the complexity from all samples\n",
    "    aggregate_func=np.mean,\n",
    ")(\n",
    "    model=mlp_wrapped_model,\n",
    "    x_batch=X_test_np,\n",
    "    y_batch=y_test_int,\n",
    "    # a_batch=shap_values,   # use SHAP attributions computed above\n",
    "    # explain_func=None      # explanations are precomputed\n",
    "    a_batch=None,\n",
    "    explain_func=quantus.explain,\n",
    "    explain_func_kwargs={\"method\": \"DeepLiftShap\", \"reduce_axes\": ()},\n",
    "    # explain_func_kwargs={\"method\": \"GradientShap\", \"reduce_axes\": ()},\n",
    ")\n",
    "\n",
    "# Scale to 0-1\n",
    "LocalLipschitzEstimate_shap = (LocalLipschitzEstimate_shap - np.min(LocalLipschitzEstimate_shap)) / (\n",
    "    np.max(LocalLipschitzEstimate_shap) - np.min(LocalLipschitzEstimate_shap)\n",
    ")\n",
    "\n",
    "# Find mean\n",
    "LocalLipschitzEstimate_shap = np.mean(LocalLipschitzEstimate_shap)\n",
    "\n",
    "print(\n",
    "    f\"Robustness: Local Lipschitz Estimate by Alvarez-Melis et al., 2018.\\n\"\n",
    "    f\"\\n • SHAP = \",\n",
    "    LocalLipschitzEstimate_shap,\n",
    ")"
   ]
  },
  {
   "cell_type": "code",
   "execution_count": null,
   "metadata": {
    "colab": {
     "base_uri": "https://localhost:8080/",
     "height": 104,
     "referenced_widgets": [
      "e53763f569e648f5a52617625800fee3",
      "e000fb7d066f45f6af169a09d05aceb9",
      "5d5bdbc66cde47328231621c24a75614",
      "bf00517dd7e04f7792fc4c30db2c3e9b",
      "79d16fa742034ab186404e8981e99eab",
      "a96d6faa911e417382040fa017162c25",
      "9d0ddcee0c4040d2974ccbeb5dcd1dd9",
      "9cfb2d1559454984b8e54b5d2bdd1523",
      "cc2a9d6f84e7459aab13a2b2ba0a5ff1",
      "85d7d2136b6e454fb6570a4f097c5f38",
      "776199c7dc644ef4a90e4c63b5254e01"
     ]
    },
    "executionInfo": {
     "elapsed": 416,
     "status": "ok",
     "timestamp": 1747752256003,
     "user": {
      "displayName": "Hung Thanh Do",
      "userId": "14602254202234053172"
     },
     "user_tz": -120
    },
    "id": "zI7ujpVl834b",
    "outputId": "c2d6f248-b6db-422f-b140-966424d1f839"
   },
   "outputs": [
    {
     "data": {
      "application/vnd.jupyter.widget-view+json": {
       "model_id": "e53763f569e648f5a52617625800fee3",
       "version_major": 2,
       "version_minor": 0
      },
      "text/plain": [
       "  0%|          | 0/2.0 [00:00<?, ?it/s]"
      ]
     },
     "metadata": {},
     "output_type": "display_data"
    },
    {
     "name": "stdout",
     "output_type": "stream",
     "text": [
      "Randomisation: RandomLogit scores by Sixt et al., 2020.\n",
      "\n",
      " • SHAP =  [np.float64(1.0)]\n"
     ]
    }
   ],
   "source": [
    "RandomLogit_shap = quantus.RandomLogit(\n",
    "    num_classes=2,\n",
    "    disable_warnings=True,\n",
    "    normalise=False,\n",
    "    abs=True, # take absolute values of attributions\n",
    "    display_progressbar=True,\n",
    "    return_aggregate=True, # find the mean of the complexity from all samples\n",
    "    aggregate_func=np.mean,\n",
    ")(\n",
    "    model=mlp_wrapped_model,\n",
    "    x_batch=X_test_np,\n",
    "    y_batch=y_test_int,\n",
    "    # a_batch=shap_values,   # use SHAP attributions computed above\n",
    "    # explain_func=None      # explanations are precomputed\n",
    "    a_batch=None,\n",
    "    explain_func=quantus.explain,\n",
    "    explain_func_kwargs={\"method\": \"GradientShap\", \"reduce_axes\": ()},\n",
    ")\n",
    "\n",
    "# Already scaled to 0-1 -> keep aggregated (mean)\n",
    "\n",
    "print(\n",
    "    f\"Randomisation: RandomLogit scores by Sixt et al., 2020.\\n\"\n",
    "    f\"\\n • SHAP = \",\n",
    "    RandomLogit_shap,\n",
    ")"
   ]
  },
  {
   "cell_type": "code",
   "execution_count": null,
   "metadata": {
    "colab": {
     "base_uri": "https://localhost:8080/",
     "height": 104,
     "referenced_widgets": [
      "414cb5772ee04fc791909e55d4bf4026",
      "f60f9fe619da486f8151ce28bb556f39",
      "38cb1ea77674424680d792ccfea72e10",
      "5c80e5727b4a4a5c8b4b7a86ac5d93a7",
      "5e5fdd48662f41edb884880eaa95c4e6",
      "de1bfb4d49bc4f33b6fc2dc4d88e5c4c",
      "e57ad63fb0fb43ebbebeffcf5522a355",
      "75cfb0f9cac44743ac2a378b9f849183",
      "9496411aa7cb4591b195a853c442cdbf",
      "23991b31ed58438c8026416e8c99d89d",
      "9c8dc2da65784579a1f4b656ad46516a"
     ]
    },
    "executionInfo": {
     "elapsed": 127,
     "status": "ok",
     "timestamp": 1747752274427,
     "user": {
      "displayName": "Hung Thanh Do",
      "userId": "14602254202234053172"
     },
     "user_tz": -120
    },
    "id": "Lhnls5SP834b",
    "outputId": "db21d714-2663-4295-e4c9-3474624a8159"
   },
   "outputs": [
    {
     "data": {
      "application/vnd.jupyter.widget-view+json": {
       "model_id": "414cb5772ee04fc791909e55d4bf4026",
       "version_major": 2,
       "version_minor": 0
      },
      "text/plain": [
       "  0%|          | 0/100 [00:00<?, ?it/s]"
      ]
     },
     "metadata": {},
     "output_type": "display_data"
    },
    {
     "name": "stdout",
     "output_type": "stream",
     "text": [
      "Randomisation: MPRT scores by Adebayo et al., 2018\n",
      "\n",
      " • SHAP =  0.8672812438132176\n"
     ]
    }
   ],
   "source": [
    "MPRT_shap = quantus.MPRT(\n",
    "    # similarity_func=quantus.similarity_func.correlation_spearman,\n",
    "    return_average_correlation=True,\n",
    "    # return_aggregate=True, # find the mean of the complexity from all samples\n",
    "    aggregate_func=np.mean,\n",
    "    layer_order=\"independent\",\n",
    "    similarity_func=quantus.ssim,\n",
    "    disable_warnings=True,\n",
    "    normalise=False,\n",
    "    abs=True, # take absolute values of attributions\n",
    "    display_progressbar=True,\n",
    ")(\n",
    "    model=mlp_wrapped_model,\n",
    "    x_batch=X_test_np,\n",
    "    y_batch=y_test_int,\n",
    "    # a_batch=shap_values,   # use SHAP attributions computed above\n",
    "    # explain_func=None      # explanations are precomputed\n",
    "    a_batch=None,\n",
    "    explain_func=quantus.explain,\n",
    "    explain_func_kwargs={\"method\": \"GradientShap\", \"reduce_axes\": ()},\n",
    ")\n",
    "\n",
    "# Scale to 0-1\n",
    "MPRT_shap = (MPRT_shap - np.min(MPRT_shap)) / (\n",
    "    np.max(MPRT_shap) - np.min(MPRT_shap)\n",
    ")\n",
    "\n",
    "# Find mean\n",
    "MPRT_shap = np.mean(MPRT_shap)\n",
    "\n",
    "print(\n",
    "    f\"Randomisation: MPRT scores by Adebayo et al., 2018\\n\"\n",
    "    f\"\\n • SHAP = \",\n",
    "    MPRT_shap,\n",
    ")"
   ]
  },
  {
   "cell_type": "code",
   "execution_count": null,
   "metadata": {
    "colab": {
     "base_uri": "https://localhost:8080/"
    },
    "executionInfo": {
     "elapsed": 11,
     "status": "ok",
     "timestamp": 1747752277524,
     "user": {
      "displayName": "Hung Thanh Do",
      "userId": "14602254202234053172"
     },
     "user_tz": -120
    },
    "id": "8asgESIt834b",
    "outputId": "4c95b4ba-4065-4647-ae4d-4f8266a25858"
   },
   "outputs": [
    {
     "name": "stderr",
     "output_type": "stream",
     "text": [
      "<ipython-input-272-acd3cc85ebb0>:12: DeprecationWarning: Conversion of an array with ndim > 0 to a scalar is deprecated, and will error in future. Ensure you extract a single element from your array before performing this operation. (Deprecated NumPy 1.25.)\n",
      "  Sparseness_shap = round(float(Sparseness_shap), 4)\n",
      "<ipython-input-272-acd3cc85ebb0>:14: DeprecationWarning: Conversion of an array with ndim > 0 to a scalar is deprecated, and will error in future. Ensure you extract a single element from your array before performing this operation. (Deprecated NumPy 1.25.)\n",
      "  RandomLogit_shap = round(float(RandomLogit_shap), 4)\n"
     ]
    }
   ],
   "source": [
    "# Convert from list to int\n",
    "Complexity_shap = np.float64(Complexity_shap)\n",
    "Sparseness_shap = np.float64(Sparseness_shap)\n",
    "MPRT_shap = np.float64(MPRT_shap)\n",
    "RandomLogit_shap = np.float64(RandomLogit_shap)\n",
    "FaithfulnessEstimate_shap = np.float64(FaithfulnessEstimate_shap)\n",
    "FaithfulnessCorrelation_shap = np.float64(FaithfulnessCorrelation_shap)\n",
    "LocalLipschitzEstimate_shap = np.float64(LocalLipschitzEstimate_shap)\n",
    "\n",
    "# Rounding one by one\n",
    "Complexity_shap = round(float(Complexity_shap), 4)\n",
    "Sparseness_shap = round(float(Sparseness_shap), 4)\n",
    "MPRT_shap = round(float(MPRT_shap), 4)\n",
    "RandomLogit_shap = round(float(RandomLogit_shap), 4)\n",
    "FaithfulnessEstimate_shap = round(float(FaithfulnessEstimate_shap), 4)\n",
    "FaithfulnessCorrelation_shap = round(float(FaithfulnessCorrelation_shap), 4)\n",
    "LocalLipschitzEstimate_shap = round(float(LocalLipschitzEstimate_shap), 4)"
   ]
  },
  {
   "cell_type": "code",
   "execution_count": null,
   "metadata": {
    "colab": {
     "base_uri": "https://localhost:8080/",
     "height": 439
    },
    "executionInfo": {
     "elapsed": 6,
     "status": "ok",
     "timestamp": 1747752279828,
     "user": {
      "displayName": "Hung Thanh Do",
      "userId": "14602254202234053172"
     },
     "user_tz": -120
    },
    "id": "LnUolIgv834b",
    "outputId": "158c329d-2272-416e-8b89-b58db3397589"
   },
   "outputs": [
    {
     "data": {
      "text/markdown": [
       "#### Explanability scores"
      ],
      "text/plain": [
       "<IPython.core.display.Markdown object>"
      ]
     },
     "metadata": {},
     "output_type": "display_data"
    },
    {
     "name": "stdout",
     "output_type": "stream",
     "text": [
      "Complexity: Complexity by Bhatt et al., 2020.\n",
      "\n",
      " • SHAP =  0.6935\n",
      "Complexity: Sparseness by Chalasani et al., 2020.\n",
      "\n",
      " • SHAP =  0.7202\n",
      "Faithfulness: Faithfulness Estimate by Alvarez-Melis et al., 2018.\n",
      "\n",
      " • SHAP =  0.3489\n",
      "Faithfulness: Faithfulness Correlation by Bhatt et al., 2020.\n",
      "\n",
      " • SHAP =  0.4979\n",
      "Robustness: Local Lipschitz Estimate by Alvarez-Melis et al., 2018.\n",
      "\n",
      " • SHAP =  0.4487\n",
      "Randomisation: MPRT scores by Adebayo et al., 2018\n",
      "\n",
      " • SHAP =  0.8673\n",
      "Randomisation: RandomLogit scores by Sixt et al., 2020.\n",
      "\n",
      " • SHAP =  1.0\n"
     ]
    }
   ],
   "source": [
    "display(Markdown(\"#### Explanability scores\"))\n",
    "\n",
    "# Complexity: Complexity\n",
    "print(\n",
    "    f\"Complexity: Complexity by Bhatt et al., 2020.\\n\"\n",
    "    f\"\\n • SHAP = \",\n",
    "    Complexity_shap,\n",
    ")\n",
    "\n",
    "# Complexity: Sparseness\n",
    "print(\n",
    "    f\"Complexity: Sparseness by Chalasani et al., 2020.\\n\"\n",
    "    f\"\\n • SHAP = \",\n",
    "    Sparseness_shap,\n",
    ")\n",
    "\n",
    "# Faithfulness: Faithfulness Estimate\n",
    "print(\n",
    "    f\"Faithfulness: Faithfulness Estimate by Alvarez-Melis et al., 2018.\\n\"\n",
    "    f\"\\n • SHAP = \",\n",
    "    FaithfulnessEstimate_shap,\n",
    ")\n",
    "\n",
    "# Faithfulness: Faithfulness Correlation\n",
    "print(\n",
    "    f\"Faithfulness: Faithfulness Correlation by Bhatt et al., 2020.\\n\"\n",
    "    f\"\\n • SHAP = \",\n",
    "    FaithfulnessCorrelation_shap,\n",
    ")\n",
    "\n",
    "# Robustness: Local Lipschitz Estimate\n",
    "print(\n",
    "    f\"Robustness: Local Lipschitz Estimate by Alvarez-Melis et al., 2018.\\n\"\n",
    "    f\"\\n • SHAP = \",\n",
    "    LocalLipschitzEstimate_shap,\n",
    ")\n",
    "\n",
    "# Randomisation: MPRT\n",
    "print(\n",
    "    f\"Randomisation: MPRT scores by Adebayo et al., 2018\\n\"\n",
    "    f\"\\n • SHAP = \",\n",
    "    MPRT_shap,\n",
    ")\n",
    "\n",
    "# Randomisation: RandomLogit\n",
    "print(\n",
    "    f\"Randomisation: RandomLogit scores by Sixt et al., 2020.\\n\"\n",
    "    f\"\\n • SHAP = \",\n",
    "    RandomLogit_shap,\n",
    ")"
   ]
  },
  {
   "cell_type": "code",
   "execution_count": null,
   "metadata": {
    "colab": {
     "base_uri": "https://localhost:8080/",
     "height": 202
    },
    "executionInfo": {
     "elapsed": 27,
     "status": "ok",
     "timestamp": 1747752285668,
     "user": {
      "displayName": "Hung Thanh Do",
      "userId": "14602254202234053172"
     },
     "user_tz": -120
    },
    "id": "ZHohqOhu834b",
    "outputId": "3183687f-588b-46d2-ee5d-b7737399c3f3"
   },
   "outputs": [
    {
     "data": {
      "text/markdown": [
       "#### Explanability scores (grouped)"
      ],
      "text/plain": [
       "<IPython.core.display.Markdown object>"
      ]
     },
     "metadata": {},
     "output_type": "display_data"
    },
    {
     "name": "stdout",
     "output_type": "stream",
     "text": [
      "Complexity\n",
      " • SHAP =  0.7068\n",
      "Faithfulness\n",
      " • SHAP =  0.4234\n",
      "Robustness\n",
      " • SHAP =  0.4487\n",
      "Randomisation\n",
      " • SHAP =  0.9336\n"
     ]
    }
   ],
   "source": [
    "display(Markdown(\"#### Explanability scores (grouped)\"))\n",
    "\n",
    "# Complexity: Complexity and Sparseness\n",
    "print(\n",
    "    f\"Complexity\"\n",
    "    f\"\\n • SHAP = \",\n",
    "    round(float((Complexity_shap+Sparseness_shap)/2), 4),\n",
    ")\n",
    "\n",
    "# Faithfulness: Faithfulness Estimate and Faithfulness Correlation\n",
    "print(\n",
    "    f\"Faithfulness\"\n",
    "    f\"\\n • SHAP = \",\n",
    "    round(float((FaithfulnessEstimate_shap+FaithfulnessCorrelation_shap)/2), 4),\n",
    ")\n",
    "\n",
    "# Robustness: Local Lipschitz Estimate\n",
    "print(\n",
    "    f\"Robustness\"\n",
    "    f\"\\n • SHAP = \",\n",
    "    round(float((LocalLipschitzEstimate_shap)), 4),\n",
    ")\n",
    "\n",
    "# Randomisation: MPRT and RandomLogit\n",
    "print(\n",
    "    f\"Randomisation\"\n",
    "    f\"\\n • SHAP = \",\n",
    "    round(float((MPRT_shap+RandomLogit_shap)/2), 4)\n",
    ")"
   ]
  },
  {
   "cell_type": "markdown",
   "metadata": {
    "id": "gYvMWkgOxOP-"
   },
   "source": [
    "## TabResNet"
   ]
  },
  {
   "cell_type": "markdown",
   "metadata": {
    "id": "kjEZEuYLvuKI"
   },
   "source": [
    "### SHAP"
   ]
  },
  {
   "cell_type": "code",
   "execution_count": null,
   "metadata": {
    "id": "EwL2dPtRvuKI"
   },
   "outputs": [],
   "source": [
    "# ---------------------------\n",
    "# SHAP Explanation Setup\n",
    "# ---------------------------\n",
    "# Define a prediction function for SHAP that returns the probability for class 1.\n",
    "def f_shap(X):\n",
    "    model.eval()\n",
    "    with torch.no_grad():\n",
    "        X_tensor = torch.from_numpy(np.atleast_2d(X).astype(np.float32))\n",
    "        logits = model(X_tensor)\n",
    "        probs = torch.softmax(logits, dim=1).cpu().numpy()\n",
    "        return probs[:, 1]  # return probability for class 1"
   ]
  },
  {
   "cell_type": "code",
   "execution_count": null,
   "metadata": {
    "id": "LPE4o6c8vuKJ"
   },
   "outputs": [],
   "source": [
    "# Use a subset of test data as background (e.g., 50 samples)\n",
    "background = X_test_np[:100]\n",
    "explainer = shap.KernelExplainer(f_shap, background)"
   ]
  },
  {
   "cell_type": "code",
   "execution_count": null,
   "metadata": {
    "colab": {
     "base_uri": "https://localhost:8080/",
     "height": 49,
     "referenced_widgets": [
      "e602c88652164de0857e78bc025f1a9d",
      "83ec9d4fb75d44b1a7c7fbd4dd9276bb",
      "2284497777714959afbb0ee3e84851f6",
      "e010815c20054b9491128d5c61f44dff",
      "e0ecb503a5474812822bb8b12ee27441",
      "98ed06df256a453783e2b452906b5e45",
      "4c5b46a026f64ef192e74a74c9e4b490",
      "c15900a354d54bd8bfea2caab36df320",
      "437e480b2bdf4fe3a869465e6932cd78",
      "6511438435584cd488e7fbc06723b1ea",
      "b6591d94aaaa4c4f9047b00fab39f6b1"
     ]
    },
    "executionInfo": {
     "elapsed": 101737,
     "status": "ok",
     "timestamp": 1747724367298,
     "user": {
      "displayName": "Hung Thanh Do",
      "userId": "14602254202234053172"
     },
     "user_tz": -120
    },
    "id": "z0nUU-85vuKP",
    "outputId": "2f216657-be78-4528-8feb-32e09b850d08"
   },
   "outputs": [
    {
     "data": {
      "application/vnd.jupyter.widget-view+json": {
       "model_id": "e602c88652164de0857e78bc025f1a9d",
       "version_major": 2,
       "version_minor": 0
      },
      "text/plain": [
       "  0%|          | 0/6513 [00:00<?, ?it/s]"
      ]
     },
     "metadata": {},
     "output_type": "display_data"
    }
   ],
   "source": [
    "# Compute SHAP values for the entire test set\n",
    "shap_values = explainer.shap_values(X_test_np, nsamples=100)"
   ]
  },
  {
   "cell_type": "code",
   "execution_count": null,
   "metadata": {
    "colab": {
     "base_uri": "https://localhost:8080/",
     "height": 637
    },
    "executionInfo": {
     "elapsed": 2653,
     "status": "ok",
     "timestamp": 1747725200146,
     "user": {
      "displayName": "Hung Thanh Do",
      "userId": "14602254202234053172"
     },
     "user_tz": -120
    },
    "id": "jViMtsQ9EVGM",
    "outputId": "6d484b41-af7c-44ff-aa91-7359efcdab5a"
   },
   "outputs": [
    {
     "data": {
      "image/png": "[encoded data removed]",
      "text/plain": [
       "<Figure size 800x630 with 2 Axes>"
      ]
     },
     "metadata": {},
     "output_type": "display_data"
    }
   ],
   "source": [
    "# shap_values is an array with shape (n_samples, n_features)\n",
    "shap.summary_plot(shap_values, X_test_np, feature_names=X_test.columns)"
   ]
  },
  {
   "cell_type": "code",
   "execution_count": null,
   "metadata": {
    "id": "d2X71GgNvuKQ"
   },
   "outputs": [],
   "source": [
    "import pickle"
   ]
  },
  {
   "cell_type": "code",
   "execution_count": null,
   "metadata": {
    "id": "5x6FotQIvuKQ"
   },
   "outputs": [],
   "source": [
    "\n",
    "with open('saved_shap/tabresnet_shap_values_adult.pkl', 'wb') as f:\n",
    "    pickle.dump(shap_values, f)"
   ]
  },
  {
   "cell_type": "code",
   "execution_count": null,
   "metadata": {
    "id": "uySCLc8mvuKR"
   },
   "outputs": [],
   "source": [
    "with open('saved_shap/tabresnet_shap_values_adult.pkl', 'rb') as f:\n",
    "    shap_values = pickle.load(f)"
   ]
  },
  {
   "cell_type": "markdown",
   "metadata": {
    "id": "pfBSpsCNvuKT"
   },
   "source": [
    "### Quantus"
   ]
  },
  {
   "cell_type": "code",
   "execution_count": null,
   "metadata": {
    "colab": {
     "base_uri": "https://localhost:8080/"
    },
    "collapsed": true,
    "executionInfo": {
     "elapsed": 21,
     "status": "ok",
     "timestamp": 1747725203693,
     "user": {
      "displayName": "Hung Thanh Do",
      "userId": "14602254202234053172"
     },
     "user_tz": -120
    },
    "id": "mR5mjGqkvuKS",
    "outputId": "a82e87d4-bd6b-436d-9be3-62c015a25cad"
   },
   "outputs": [
    {
     "data": {
      "text/plain": [
       "TorchModelWrapper(\n",
       "  (model): TabResNet(\n",
       "    (input_projection): Linear(in_features=12, out_features=16, bias=True)\n",
       "    (resblocks): ModuleList(\n",
       "      (0-1): 2 x TabResBlock(\n",
       "        (bn1): BatchNorm1d(16, eps=1e-05, momentum=0.1, affine=True, track_running_stats=True)\n",
       "        (ln1): Linear(in_features=16, out_features=32, bias=True)\n",
       "        (relu1): ReLU()\n",
       "        (drop1): Dropout(p=0.2, inplace=False)\n",
       "        (ln2): Linear(in_features=32, out_features=16, bias=True)\n",
       "        (drop2): Dropout(p=0.05, inplace=False)\n",
       "      )\n",
       "    )\n",
       "    (predblock): Sequential(\n",
       "      (0): BatchNorm1d(16, eps=1e-05, momentum=0.1, affine=True, track_running_stats=True)\n",
       "      (1): ReLU()\n",
       "      (2): Linear(in_features=16, out_features=2, bias=True)\n",
       "    )\n",
       "  )\n",
       ")"
      ]
     },
     "execution_count": 18,
     "metadata": {},
     "output_type": "execute_result"
    }
   ],
   "source": [
    "# ---------------------------\n",
    "# Wrap Model for Quantus FaithfulnessCorrelation\n",
    "# ---------------------------\n",
    "class TorchModelWrapper(nn.Module):\n",
    "    def __init__(self, model):\n",
    "        super(TorchModelWrapper, self).__init__()\n",
    "        self.model = model\n",
    "        self.model.eval()\n",
    "\n",
    "    def forward(self, x):\n",
    "        return self.model(x)\n",
    "\n",
    "    def predict(self, X):\n",
    "        X = np.atleast_2d(X)\n",
    "        self.model.eval()\n",
    "        with torch.no_grad():\n",
    "            X_tensor = torch.from_numpy(X).float()\n",
    "            logits = self.model(X_tensor)\n",
    "            probs = torch.softmax(logits, dim=1).cpu().numpy()  # shape: (n_samples, 2)\n",
    "        return probs\n",
    "\n",
    "    def shape_input(self, x, shape, channel_first):\n",
    "        return np.atleast_2d(x)\n",
    "\n",
    "wrapped_model = TorchModelWrapper(model)\n",
    "wrapped_model.eval()"
   ]
  },
  {
   "cell_type": "code",
   "execution_count": null,
   "metadata": {
    "id": "IcWpW8IevuKT"
   },
   "outputs": [],
   "source": [
    "# ---------------------------\n",
    "# Evaluate FaithfulnessCorrelation with Quantus using SHAP attributions\n",
    "# ---------------------------\n",
    "# Ensure y_test is of integer type\n",
    "y_test_int = y_test_np.astype(np.int64)"
   ]
  },
  {
   "cell_type": "code",
   "execution_count": null,
   "metadata": {
    "colab": {
     "base_uri": "https://localhost:8080/",
     "height": 104,
     "referenced_widgets": [
      "f4cc962ae56049babc6005765897fd2e",
      "31f06b14a0254673ad36b4264a186323",
      "3dd39de55f5e41bb8e37f9535f095226",
      "50721abaa6994574808fb1fd23281abc",
      "92c45251e7424ca7842adbe8daed9a40",
      "872cff8cfa394401b32fe6c48133e5ec",
      "da7082d6358143d590d5d6de80f6b27e",
      "db4c7c8cc9724d2c9d174735a289e640",
      "85448b392d13417fb32d104d350d2c9c",
      "f6d2b834525446068273c0034b23689b",
      "23c1c113fa19492eae4ca859ce0b37fc"
     ]
    },
    "executionInfo": {
     "elapsed": 5347,
     "status": "ok",
     "timestamp": 1747725213791,
     "user": {
      "displayName": "Hung Thanh Do",
      "userId": "14602254202234053172"
     },
     "user_tz": -120
    },
    "id": "hmfEtOnlvuKU",
    "outputId": "46a7e776-196a-49e8-905a-1f0842e8c78f"
   },
   "outputs": [
    {
     "data": {
      "application/vnd.jupyter.widget-view+json": {
       "model_id": "f4cc962ae56049babc6005765897fd2e",
       "version_major": 2,
       "version_minor": 0
      },
      "text/plain": [
       "  0%|          | 0/102.0 [00:00<?, ?it/s]"
      ]
     },
     "metadata": {},
     "output_type": "display_data"
    },
    {
     "name": "stdout",
     "output_type": "stream",
     "text": [
      "Complexity: Complexity by Bhatt et al., 2020.\n",
      "\n",
      " • SHAP =  0.7118238707228673\n"
     ]
    }
   ],
   "source": [
    "# Apply Complexity metric using SHAP attributions\n",
    "Complexity_shap = quantus.Complexity(\n",
    "    normalise=False,\n",
    "    abs=True,  # Take absolute values of attributions\n",
    "    disable_warnings=True,\n",
    "    display_progressbar=True,\n",
    "    aggregate_func=np.mean,  # Compute mean complexity over all samples\n",
    ")(\n",
    "    model=wrapped_model,\n",
    "    x_batch=X_test_np,\n",
    "    y_batch=y_test_int,\n",
    "    a_batch=shap_values,   # use SHAP attributions computed above\n",
    "    explain_func=None      # explanations are precomputed\n",
    ")\n",
    "\n",
    "# Scale to 0-1\n",
    "Complexity_shap = (Complexity_shap - min(Complexity_shap)) / (\n",
    "    max(Complexity_shap) - min(Complexity_shap)\n",
    ")\n",
    "\n",
    "# Find mean\n",
    "Complexity_shap = np.mean(Complexity_shap)\n",
    "\n",
    "print(\n",
    "    f\"Complexity: Complexity by Bhatt et al., 2020.\\n\"\n",
    "    f\"\\n • SHAP = \",\n",
    "    Complexity_shap,\n",
    ")"
   ]
  },
  {
   "cell_type": "code",
   "execution_count": null,
   "metadata": {
    "colab": {
     "base_uri": "https://localhost:8080/",
     "height": 104,
     "referenced_widgets": [
      "ec7c3a3921bc407fbd0533b28f419738",
      "05860e1e8aa848c990b447e35fba353c",
      "0c9bea1a3bb94d438e10b88a77825250",
      "cee9543d7ffc459cbcdd51c1ab94d1fb",
      "a780401d1e1f40bf963aed59bb727588",
      "d6eee35ad3ac459c8e0561ff085f01c9",
      "c0b17d88989940249c9a80e93246ca26",
      "6431328d12c64e32a705be70e00c8b7d",
      "16b4ebc90f174b25b7d8b8b6a66f8f6d",
      "b2fa9ad4beff41a1a0e3b33e56dff5ae",
      "b305e72dc40f474abe8b6d5ce3831e36"
     ]
    },
    "executionInfo": {
     "elapsed": 232,
     "status": "ok",
     "timestamp": 1747725214026,
     "user": {
      "displayName": "Hung Thanh Do",
      "userId": "14602254202234053172"
     },
     "user_tz": -120
    },
    "id": "VRAOiEAdvuKX",
    "outputId": "600fb100-396c-40e4-da54-160523f0ae27"
   },
   "outputs": [
    {
     "data": {
      "application/vnd.jupyter.widget-view+json": {
       "model_id": "ec7c3a3921bc407fbd0533b28f419738",
       "version_major": 2,
       "version_minor": 0
      },
      "text/plain": [
       "  0%|          | 0/102.0 [00:00<?, ?it/s]"
      ]
     },
     "metadata": {},
     "output_type": "display_data"
    },
    {
     "name": "stdout",
     "output_type": "stream",
     "text": [
      "Complexity: Sparseness by Chalasani et al., 2020.\n",
      "\n",
      " • SHAP =  [np.float64(0.6369843674783338)]\n"
     ]
    }
   ],
   "source": [
    "Sparseness_shap = quantus.Sparseness(\n",
    "    normalise=False,\n",
    "    abs=True, # take absolute values of attributions\n",
    "    disable_warnings=True,\n",
    "    display_progressbar=True,\n",
    "    return_aggregate=True, # find the mean of the complexity from all samples\n",
    "    aggregate_func=np.mean,\n",
    ")(\n",
    "    model=wrapped_model,\n",
    "    x_batch=X_test_np,\n",
    "    y_batch=y_test_int,\n",
    "    a_batch=shap_values,   # use SHAP attributions computed above\n",
    "    explain_func=None      # explanations are precomputed\n",
    ")\n",
    "\n",
    "# Already scaled to 0-1 -> keep aggregated (mean)\n",
    "\n",
    "print(\n",
    "    f\"Complexity: Sparseness by Chalasani et al., 2020.\\n\"\n",
    "    f\"\\n • SHAP = \",\n",
    "    Sparseness_shap,\n",
    ")"
   ]
  },
  {
   "cell_type": "code",
   "execution_count": null,
   "metadata": {
    "colab": {
     "base_uri": "https://localhost:8080/",
     "height": 104,
     "referenced_widgets": [
      "555b849cbf6141cd97472697f8b7b74a",
      "8d4bb5d8d8044c57a66c17111585b82a",
      "cde57d2a6a27438082a6371170fbb1b8",
      "d3c43b4e8ece4c368159fb7b6a7cd90a",
      "13fe90ae3b1c406ab754651e49c964e9",
      "4a9f0b3f40a447e2a4af5d51330a1626",
      "0e1fea51e7da4cd588ba80585b5633a5",
      "d24b086bec724fdfa7910d55c2c62e93",
      "e1a9d4221dd14cf1bdaff5b7f0bf455e",
      "e11033f18480421e9a2afba723103cea",
      "902b65ffd867459ab37742d454816c7e"
     ]
    },
    "executionInfo": {
     "elapsed": 58182,
     "status": "ok",
     "timestamp": 1747725272206,
     "user": {
      "displayName": "Hung Thanh Do",
      "userId": "14602254202234053172"
     },
     "user_tz": -120
    },
    "id": "eIMOqOBpvuKY",
    "outputId": "4e07969b-c0f9-4707-81aa-11c681426c5c"
   },
   "outputs": [
    {
     "data": {
      "application/vnd.jupyter.widget-view+json": {
       "model_id": "555b849cbf6141cd97472697f8b7b74a",
       "version_major": 2,
       "version_minor": 0
      },
      "text/plain": [
       "  0%|          | 0/102.0 [00:00<?, ?it/s]"
      ]
     },
     "metadata": {},
     "output_type": "display_data"
    },
    {
     "name": "stdout",
     "output_type": "stream",
     "text": [
      "Faithfulness: Faithfulness Correlation by Bhatt et al., 2020.\n",
      "\n",
      " • SHAP =  0.6292019934582465\n"
     ]
    }
   ],
   "source": [
    "FaithfulnessCorrelation_shap = quantus.FaithfulnessCorrelation(\n",
    "    perturb_baseline=\"white\",\n",
    "    perturb_func=quantus.baseline_replacement_by_indices,\n",
    "    subset_size=5, # features to perturb\n",
    "    nr_runs=10,\n",
    "    similarity_func=quantus.similarity_func.correlation_pearson,\n",
    "    abs=True, # take absolute values of attributions\n",
    "    normalise=False, # do not normalise ohe data\n",
    "    return_aggregate=False, # (not) output 1 val instead of list of vals for all samples\n",
    "    aggregate_func=np.mean,\n",
    "    disable_warnings=True,\n",
    "    display_progressbar=True,\n",
    ")(\n",
    "    model=wrapped_model,\n",
    "    x_batch=X_test_np,\n",
    "    y_batch=y_test_int,\n",
    "    a_batch=shap_values,   # use SHAP attributions computed above\n",
    "    explain_func=None      # explanations are precomputed\n",
    ")\n",
    "\n",
    "# Scale to 0-1\n",
    "FaithfulnessCorrelation_shap = (FaithfulnessCorrelation_shap - np.min(FaithfulnessCorrelation_shap)) / (\n",
    "    np.max(FaithfulnessCorrelation_shap) - np.min(FaithfulnessCorrelation_shap)\n",
    ")\n",
    "\n",
    "# Find mean\n",
    "FaithfulnessCorrelation_shap = np.mean(FaithfulnessCorrelation_shap)\n",
    "\n",
    "print(\n",
    "    f\"Faithfulness: Faithfulness Correlation by Bhatt et al., 2020.\\n\"\n",
    "    f\"\\n • SHAP = \",\n",
    "    FaithfulnessCorrelation_shap,\n",
    ")"
   ]
  },
  {
   "cell_type": "code",
   "execution_count": null,
   "metadata": {
    "colab": {
     "base_uri": "https://localhost:8080/",
     "height": 160,
     "referenced_widgets": [
      "023c14e2c1bb46d38b74020467a407b4",
      "38c71bc04f074847a3aea0eb59ba4ae7",
      "6236979d7c154d5e8e8a87a0e4a12d78",
      "069ddfa3c185474e9874882ef6cae7ad",
      "dbc27f60f41345539b94b05b34fa3fa9",
      "4d92301275214ab3bb65e419762441d0",
      "fab8763ef957480a924dfa16a691c78b",
      "2fa4315852174937a12ef17803cc9d29",
      "931761232ac54b43b5faa61835fac179",
      "9a07b8e239044c3c83fe6506582f6f8e",
      "aa473fefefdc4c10a77b3e656b74f154"
     ]
    },
    "executionInfo": {
     "elapsed": 68737,
     "status": "ok",
     "timestamp": 1747725340949,
     "user": {
      "displayName": "Hung Thanh Do",
      "userId": "14602254202234053172"
     },
     "user_tz": -120
    },
    "id": "Qc3VkdPmvuKa",
    "outputId": "067d5103-e32c-4f73-b6de-f5462dfef342"
   },
   "outputs": [
    {
     "data": {
      "application/vnd.jupyter.widget-view+json": {
       "model_id": "023c14e2c1bb46d38b74020467a407b4",
       "version_major": 2,
       "version_minor": 0
      },
      "text/plain": [
       "  0%|          | 0/102.0 [00:00<?, ?it/s]"
      ]
     },
     "metadata": {},
     "output_type": "display_data"
    },
    {
     "name": "stderr",
     "output_type": "stream",
     "text": [
      "/usr/local/lib/python3.11/dist-packages/quantus/helpers/warn.py:257: UserWarning: The settings for perturbing input e.g., 'perturb_func' didn't cause change in input. Reconsider the parameter settings.\n",
      "  warnings.warn(\n"
     ]
    },
    {
     "name": "stdout",
     "output_type": "stream",
     "text": [
      "Faithfulness: Faithfulness Estimate by Alvarez-Melis et al., 2018.\n",
      "\n",
      " • SHAP =  0.6503076319361475\n"
     ]
    }
   ],
   "source": [
    "FaithfulnessEstimate_shap = quantus.FaithfulnessEstimate(\n",
    "    perturb_baseline=\"white\",\n",
    "    perturb_func=quantus.baseline_replacement_by_indices,\n",
    "    features_in_step=1, # features to perturb\n",
    "    similarity_func=quantus.similarity_func.correlation_pearson,\n",
    "    abs=True, # take absolute values of attributions\n",
    "    normalise=False, # do not normalise ohe data\n",
    "    return_aggregate=False, # (not) output 1 val instead of list of vals for all samples\n",
    "    aggregate_func=np.mean,\n",
    "    disable_warnings=True,\n",
    "    display_progressbar=True,\n",
    ")(\n",
    "    model=wrapped_model,\n",
    "    x_batch=X_test_np,\n",
    "    y_batch=y_test_int,\n",
    "    a_batch=shap_values,   # use SHAP attributions computed above\n",
    "    explain_func=None      # explanations are precomputed\n",
    ")\n",
    "\n",
    "# Scale to 0-1\n",
    "FaithfulnessEstimate_shap = (FaithfulnessEstimate_shap - np.min(FaithfulnessEstimate_shap)) / (\n",
    "    np.max(FaithfulnessEstimate_shap) - np.min(FaithfulnessEstimate_shap)\n",
    ")\n",
    "\n",
    "# Find mean\n",
    "FaithfulnessEstimate_shap = np.mean(FaithfulnessEstimate_shap)\n",
    "\n",
    "print(\n",
    "    f\"Faithfulness: Faithfulness Estimate by Alvarez-Melis et al., 2018.\\n\"\n",
    "    f\"\\n • SHAP = \",\n",
    "    FaithfulnessEstimate_shap,\n",
    ")"
   ]
  },
  {
   "cell_type": "code",
   "execution_count": null,
   "metadata": {
    "colab": {
     "base_uri": "https://localhost:8080/",
     "height": 196,
     "referenced_widgets": [
      "97fc80cd4fb4424f9c551ccac14bc9a0",
      "03b242ac42ac450da116e926810fd34e",
      "a185342173e8437a80436e89139204bf",
      "5844dd55a87548acbf5511a167190640",
      "9d44f81b7e414846aa5ffb752e64f3ba",
      "5fed194e123c44aa8afdccfbd33bc671",
      "cde5510014ef4095a016d63f69a6ec48",
      "2777f029f0134294b2e868d2863a3368",
      "05d32d70942b4f709e29608be51a5708",
      "31086c1e91384792b3913dda9d42f9df",
      "5081738dfad049628b80459b7fdb0df2"
     ]
    },
    "executionInfo": {
     "elapsed": 330341,
     "status": "ok",
     "timestamp": 1747725671292,
     "user": {
      "displayName": "Hung Thanh Do",
      "userId": "14602254202234053172"
     },
     "user_tz": -120
    },
    "id": "L8vMdC6svuKb",
    "outputId": "d628bbfb-919a-45e4-d121-bf5cfb12c1ec"
   },
   "outputs": [
    {
     "data": {
      "application/vnd.jupyter.widget-view+json": {
       "model_id": "97fc80cd4fb4424f9c551ccac14bc9a0",
       "version_major": 2,
       "version_minor": 0
      },
      "text/plain": [
       "  0%|          | 0/102.0 [00:00<?, ?it/s]"
      ]
     },
     "metadata": {},
     "output_type": "display_data"
    },
    {
     "name": "stderr",
     "output_type": "stream",
     "text": [
      "/usr/local/lib/python3.11/dist-packages/captum/attr/_core/deep_lift.py:304: UserWarning: Setting forward, backward hooks and attributes on non-linear\n",
      "               activations. The hooks and attributes will be removed\n",
      "            after the attribution is finished\n",
      "  warnings.warn(\n"
     ]
    },
    {
     "name": "stdout",
     "output_type": "stream",
     "text": [
      "Robustness: Local Lipschitz Estimate by Alvarez-Melis et al., 2018.\n",
      "\n",
      " • SHAP =  0.19426315514786843\n"
     ]
    }
   ],
   "source": [
    "LocalLipschitzEstimate_shap = quantus.LocalLipschitzEstimate(\n",
    "    normalise=False,\n",
    "    abs=True, # take absolute values of attributions\n",
    "    nr_samples = 20,\n",
    "    disable_warnings=True,\n",
    "    display_progressbar=True,\n",
    "    # return_aggregate=True, # find the mean of the complexity from all samples\n",
    "    aggregate_func=np.mean,\n",
    ")(\n",
    "    model=wrapped_model,\n",
    "    x_batch=X_test_np,\n",
    "    y_batch=y_test_int,\n",
    "    # a_batch=shap_values,   # use SHAP attributions computed above\n",
    "    # explain_func=None      # explanations are precomputed\n",
    "    a_batch=None,\n",
    "    explain_func=quantus.explain,\n",
    "    explain_func_kwargs={\"method\": \"DeepLiftShap\", \"reduce_axes\": ()},\n",
    "    # explain_func_kwargs={\"method\": \"GradientShap\", \"reduce_axes\": ()},\n",
    ")\n",
    "\n",
    "# Scale to 0-1\n",
    "LocalLipschitzEstimate_shap = (LocalLipschitzEstimate_shap - np.min(LocalLipschitzEstimate_shap)) / (\n",
    "    np.max(LocalLipschitzEstimate_shap) - np.min(LocalLipschitzEstimate_shap)\n",
    ")\n",
    "\n",
    "# Find mean\n",
    "LocalLipschitzEstimate_shap = np.mean(LocalLipschitzEstimate_shap)\n",
    "\n",
    "print(\n",
    "    f\"Robustness: Local Lipschitz Estimate by Alvarez-Melis et al., 2018.\\n\"\n",
    "    f\"\\n • SHAP = \",\n",
    "    LocalLipschitzEstimate_shap,\n",
    ")"
   ]
  },
  {
   "cell_type": "code",
   "execution_count": null,
   "metadata": {
    "colab": {
     "base_uri": "https://localhost:8080/",
     "height": 104,
     "referenced_widgets": [
      "7cce6da77aec44ba8d16df09a593b3ca",
      "2928e64f75724d48a323f646619201df",
      "6f86ad0f7c7f4ae09016cf5a2f79705a",
      "4a9c4309d0cc4f03af5c7c31166bd264",
      "d946cebd8e944726ab28c8fb2d0cd632",
      "496831f6e408413b8a2b111119b37aea",
      "a6300aef5f1e41b39c034a8dc8cf00e3",
      "58375da0540d4fa9b03cb9bda4b8f74d",
      "cf8fe3dbf11742f188f630fb6cb2a1cb",
      "1407c5ea9d0647f7acd56a1de3519004",
      "bc63e6109c0c486887ba455b6bb94cf6"
     ]
    },
    "executionInfo": {
     "elapsed": 26022,
     "status": "ok",
     "timestamp": 1747725697319,
     "user": {
      "displayName": "Hung Thanh Do",
      "userId": "14602254202234053172"
     },
     "user_tz": -120
    },
    "id": "-aw8tQs_vuKc",
    "outputId": "4839f6ae-4c5a-4791-ed37-6bffc19a6e53"
   },
   "outputs": [
    {
     "data": {
      "application/vnd.jupyter.widget-view+json": {
       "model_id": "7cce6da77aec44ba8d16df09a593b3ca",
       "version_major": 2,
       "version_minor": 0
      },
      "text/plain": [
       "  0%|          | 0/102.0 [00:00<?, ?it/s]"
      ]
     },
     "metadata": {},
     "output_type": "display_data"
    },
    {
     "name": "stdout",
     "output_type": "stream",
     "text": [
      "Randomisation: RandomLogit scores by Sixt et al., 2020.\n",
      "\n",
      " • SHAP =  [np.float64(0.6554645565518843)]\n"
     ]
    }
   ],
   "source": [
    "RandomLogit_shap = quantus.RandomLogit(\n",
    "    num_classes=2,\n",
    "    disable_warnings=True,\n",
    "    normalise=False,\n",
    "    abs=True, # take absolute values of attributions\n",
    "    display_progressbar=True,\n",
    "    return_aggregate=True, # find the mean of the complexity from all samples\n",
    "    aggregate_func=np.mean,\n",
    ")(\n",
    "    model=wrapped_model,\n",
    "    x_batch=X_test_np,\n",
    "    y_batch=y_test_int,\n",
    "    # a_batch=shap_values,   # use SHAP attributions computed above\n",
    "    # explain_func=None      # explanations are precomputed\n",
    "    a_batch=None,\n",
    "    explain_func=quantus.explain,\n",
    "    explain_func_kwargs={\"method\": \"GradientShap\", \"reduce_axes\": ()},\n",
    ")\n",
    "\n",
    "# Already scaled to 0-1 -> keep aggregated (mean)\n",
    "\n",
    "print(\n",
    "    f\"Randomisation: RandomLogit scores by Sixt et al., 2020.\\n\"\n",
    "    f\"\\n • SHAP = \",\n",
    "    RandomLogit_shap,\n",
    ")"
   ]
  },
  {
   "cell_type": "code",
   "execution_count": null,
   "metadata": {
    "colab": {
     "base_uri": "https://localhost:8080/",
     "height": 104,
     "referenced_widgets": [
      "c58d0ebb5f484857bc75e658caf4679b",
      "159b37df556544919222fa3285f594d0",
      "d73978f9d34342deaf143bccec54f9c6",
      "d8a9c69f0ca646ee8f780bff93cc263c",
      "8b5b4ed7068e4e16bf485f652d650f0c",
      "8c2a1c74355344f29de8a3b6c5f88f3d",
      "ec1e7807c0bb4bb5b7284a121607b010",
      "92718b0ecc41426e98a7d37b65a880b1",
      "521a847feb2240529e4cc664f64900d9",
      "1984d9ce958e479ab63887d3a1c2e15c",
      "82829cf7341346d79f1289f4ba96eae1"
     ]
    },
    "executionInfo": {
     "elapsed": 25610,
     "status": "ok",
     "timestamp": 1747725722932,
     "user": {
      "displayName": "Hung Thanh Do",
      "userId": "14602254202234053172"
     },
     "user_tz": -120
    },
    "id": "grXRGiQzvuKd",
    "outputId": "f29f9978-615f-44b3-c4cb-ca500b57b0bc"
   },
   "outputs": [
    {
     "data": {
      "application/vnd.jupyter.widget-view+json": {
       "model_id": "c58d0ebb5f484857bc75e658caf4679b",
       "version_major": 2,
       "version_minor": 0
      },
      "text/plain": [
       "  0%|          | 0/58617 [00:00<?, ?it/s]"
      ]
     },
     "metadata": {},
     "output_type": "display_data"
    },
    {
     "name": "stdout",
     "output_type": "stream",
     "text": [
      "Randomisation: MPRT scores by Adebayo et al., 2018\n",
      "\n",
      " • SHAP =  0.6883214614618629\n"
     ]
    }
   ],
   "source": [
    "MPRT_shap = quantus.MPRT(\n",
    "    # similarity_func=quantus.similarity_func.correlation_spearman,\n",
    "    return_average_correlation=True,\n",
    "    # return_aggregate=True, # find the mean of the complexity from all samples\n",
    "    aggregate_func=np.mean,\n",
    "    layer_order=\"independent\",\n",
    "    similarity_func=quantus.ssim,\n",
    "    disable_warnings=True,\n",
    "    normalise=False,\n",
    "    abs=True, # take absolute values of attributions\n",
    "    display_progressbar=True,\n",
    ")(\n",
    "    model=wrapped_model,\n",
    "    x_batch=X_test_np,\n",
    "    y_batch=y_test_int,\n",
    "    # a_batch=shap_values,   # use SHAP attributions computed above\n",
    "    # explain_func=None      # explanations are precomputed\n",
    "    a_batch=None,\n",
    "    explain_func=quantus.explain,\n",
    "    explain_func_kwargs={\"method\": \"GradientShap\", \"reduce_axes\": ()},\n",
    ")\n",
    "\n",
    "# Scale to 0-1\n",
    "MPRT_shap = (MPRT_shap - np.min(MPRT_shap)) / (\n",
    "    np.max(MPRT_shap) - np.min(MPRT_shap)\n",
    ")\n",
    "\n",
    "# Find mean\n",
    "MPRT_shap = np.mean(MPRT_shap)\n",
    "\n",
    "print(\n",
    "    f\"Randomisation: MPRT scores by Adebayo et al., 2018\\n\"\n",
    "    f\"\\n • SHAP = \",\n",
    "    MPRT_shap,\n",
    ")"
   ]
  },
  {
   "cell_type": "code",
   "execution_count": null,
   "metadata": {
    "colab": {
     "base_uri": "https://localhost:8080/"
    },
    "executionInfo": {
     "elapsed": 14,
     "status": "ok",
     "timestamp": 1747725722949,
     "user": {
      "displayName": "Hung Thanh Do",
      "userId": "14602254202234053172"
     },
     "user_tz": -120
    },
    "id": "qIL8nwlivuKe",
    "outputId": "01bdf3ae-7886-436b-cd74-21c91ff49a86"
   },
   "outputs": [
    {
     "name": "stderr",
     "output_type": "stream",
     "text": [
      "<ipython-input-27-acd3cc85ebb0>:12: DeprecationWarning: Conversion of an array with ndim > 0 to a scalar is deprecated, and will error in future. Ensure you extract a single element from your array before performing this operation. (Deprecated NumPy 1.25.)\n",
      "  Sparseness_shap = round(float(Sparseness_shap), 4)\n",
      "<ipython-input-27-acd3cc85ebb0>:14: DeprecationWarning: Conversion of an array with ndim > 0 to a scalar is deprecated, and will error in future. Ensure you extract a single element from your array before performing this operation. (Deprecated NumPy 1.25.)\n",
      "  RandomLogit_shap = round(float(RandomLogit_shap), 4)\n"
     ]
    }
   ],
   "source": [
    "# Convert from list to int\n",
    "Complexity_shap = np.float64(Complexity_shap)\n",
    "Sparseness_shap = np.float64(Sparseness_shap)\n",
    "MPRT_shap = np.float64(MPRT_shap)\n",
    "RandomLogit_shap = np.float64(RandomLogit_shap)\n",
    "FaithfulnessEstimate_shap = np.float64(FaithfulnessEstimate_shap)\n",
    "FaithfulnessCorrelation_shap = np.float64(FaithfulnessCorrelation_shap)\n",
    "LocalLipschitzEstimate_shap = np.float64(LocalLipschitzEstimate_shap)\n",
    "\n",
    "# Rounding one by one\n",
    "Complexity_shap = round(float(Complexity_shap), 4)\n",
    "Sparseness_shap = round(float(Sparseness_shap), 4)\n",
    "MPRT_shap = round(float(MPRT_shap), 4)\n",
    "RandomLogit_shap = round(float(RandomLogit_shap), 4)\n",
    "FaithfulnessEstimate_shap = round(float(FaithfulnessEstimate_shap), 4)\n",
    "FaithfulnessCorrelation_shap = round(float(FaithfulnessCorrelation_shap), 4)\n",
    "LocalLipschitzEstimate_shap = round(float(LocalLipschitzEstimate_shap), 4)"
   ]
  },
  {
   "cell_type": "code",
   "execution_count": null,
   "metadata": {
    "colab": {
     "base_uri": "https://localhost:8080/",
     "height": 439
    },
    "executionInfo": {
     "elapsed": 9,
     "status": "ok",
     "timestamp": 1747725722960,
     "user": {
      "displayName": "Hung Thanh Do",
      "userId": "14602254202234053172"
     },
     "user_tz": -120
    },
    "id": "XPQB0Z3WvuKg",
    "outputId": "91299865-f1de-4f1c-f0a3-7322f6b542d9"
   },
   "outputs": [
    {
     "data": {
      "text/markdown": [
       "#### Explanability scores"
      ],
      "text/plain": [
       "<IPython.core.display.Markdown object>"
      ]
     },
     "metadata": {},
     "output_type": "display_data"
    },
    {
     "name": "stdout",
     "output_type": "stream",
     "text": [
      "Complexity: Complexity by Bhatt et al., 2020.\n",
      "\n",
      " • SHAP =  0.7118\n",
      "Complexity: Sparseness by Chalasani et al., 2020.\n",
      "\n",
      " • SHAP =  0.637\n",
      "Faithfulness: Faithfulness Estimate by Alvarez-Melis et al., 2018.\n",
      "\n",
      " • SHAP =  0.6503\n",
      "Faithfulness: Faithfulness Correlation by Bhatt et al., 2020.\n",
      "\n",
      " • SHAP =  0.6292\n",
      "Robustness: Local Lipschitz Estimate by Alvarez-Melis et al., 2018.\n",
      "\n",
      " • SHAP =  0.1943\n",
      "Randomisation: MPRT scores by Adebayo et al., 2018\n",
      "\n",
      " • SHAP =  0.6883\n",
      "Randomisation: RandomLogit scores by Sixt et al., 2020.\n",
      "\n",
      " • SHAP =  0.6555\n"
     ]
    }
   ],
   "source": [
    "display(Markdown(\"#### Explanability scores\"))\n",
    "\n",
    "# Complexity: Complexity\n",
    "print(\n",
    "    f\"Complexity: Complexity by Bhatt et al., 2020.\\n\"\n",
    "    f\"\\n • SHAP = \",\n",
    "    Complexity_shap,\n",
    ")\n",
    "\n",
    "# Complexity: Sparseness\n",
    "print(\n",
    "    f\"Complexity: Sparseness by Chalasani et al., 2020.\\n\"\n",
    "    f\"\\n • SHAP = \",\n",
    "    Sparseness_shap,\n",
    ")\n",
    "\n",
    "# Faithfulness: Faithfulness Estimate\n",
    "print(\n",
    "    f\"Faithfulness: Faithfulness Estimate by Alvarez-Melis et al., 2018.\\n\"\n",
    "    f\"\\n • SHAP = \",\n",
    "    FaithfulnessEstimate_shap,\n",
    ")\n",
    "\n",
    "# Faithfulness: Faithfulness Correlation\n",
    "print(\n",
    "    f\"Faithfulness: Faithfulness Correlation by Bhatt et al., 2020.\\n\"\n",
    "    f\"\\n • SHAP = \",\n",
    "    FaithfulnessCorrelation_shap,\n",
    ")\n",
    "\n",
    "# Robustness: Local Lipschitz Estimate\n",
    "print(\n",
    "    f\"Robustness: Local Lipschitz Estimate by Alvarez-Melis et al., 2018.\\n\"\n",
    "    f\"\\n • SHAP = \",\n",
    "    LocalLipschitzEstimate_shap,\n",
    ")\n",
    "\n",
    "# Randomisation: MPRT\n",
    "print(\n",
    "    f\"Randomisation: MPRT scores by Adebayo et al., 2018\\n\"\n",
    "    f\"\\n • SHAP = \",\n",
    "    MPRT_shap,\n",
    ")\n",
    "\n",
    "# Randomisation: RandomLogit\n",
    "print(\n",
    "    f\"Randomisation: RandomLogit scores by Sixt et al., 2020.\\n\"\n",
    "    f\"\\n • SHAP = \",\n",
    "    RandomLogit_shap,\n",
    ")"
   ]
  },
  {
   "cell_type": "code",
   "execution_count": null,
   "metadata": {
    "colab": {
     "base_uri": "https://localhost:8080/",
     "height": 202
    },
    "executionInfo": {
     "elapsed": 40,
     "status": "ok",
     "timestamp": 1747725723004,
     "user": {
      "displayName": "Hung Thanh Do",
      "userId": "14602254202234053172"
     },
     "user_tz": -120
    },
    "id": "NkHLlprhvuKg",
    "outputId": "9345ccd0-cc76-43b0-aba0-5188b3d017a6"
   },
   "outputs": [
    {
     "data": {
      "text/markdown": [
       "#### Explanability scores (grouped)"
      ],
      "text/plain": [
       "<IPython.core.display.Markdown object>"
      ]
     },
     "metadata": {},
     "output_type": "display_data"
    },
    {
     "name": "stdout",
     "output_type": "stream",
     "text": [
      "Complexity\n",
      " • SHAP =  0.6744\n",
      "Faithfulness\n",
      " • SHAP =  0.6398\n",
      "Robustness\n",
      " • SHAP =  0.1943\n",
      "Randomisation\n",
      " • SHAP =  0.6719\n"
     ]
    }
   ],
   "source": [
    "display(Markdown(\"#### Explanability scores (grouped)\"))\n",
    "\n",
    "# Complexity: Complexity and Sparseness\n",
    "print(\n",
    "    f\"Complexity\"\n",
    "    f\"\\n • SHAP = \",\n",
    "    round(float((Complexity_shap+Sparseness_shap)/2), 4),\n",
    ")\n",
    "\n",
    "# Faithfulness: Faithfulness Estimate and Faithfulness Correlation\n",
    "print(\n",
    "    f\"Faithfulness\"\n",
    "    f\"\\n • SHAP = \",\n",
    "    round(float((FaithfulnessEstimate_shap+FaithfulnessCorrelation_shap)/2), 4),\n",
    ")\n",
    "\n",
    "# Robustness: Local Lipschitz Estimate\n",
    "print(\n",
    "    f\"Robustness\"\n",
    "    f\"\\n • SHAP = \",\n",
    "    round(float((LocalLipschitzEstimate_shap)), 4),\n",
    ")\n",
    "\n",
    "# Randomisation: MPRT and RandomLogit\n",
    "print(\n",
    "    f\"Randomisation\"\n",
    "    f\"\\n • SHAP = \",\n",
    "    round(float((MPRT_shap+RandomLogit_shap)/2), 4)\n",
    ")"
   ]
  }
 ],
 "metadata": {
  "accelerator": "GPU",
  "colab": {
   "collapsed_sections": [
    "X1xZaKH-vuJg",
    "2vrHIbptvuJk",
    "WQ85p69vvuJx",
    "enSAKrFmvuJy",
    "UgJ9XJAWDev3",
    "BskrnadCwwf-",
    "KretoTu3_jLi",
    "cCFmXYckxNFe",
    "gYvMWkgOxOP-"
   ],
   "gpuType": "T4",
   "provenance": []
  },
  "kernelspec": {
   "display_name": "responsive-ai-env",
   "language": "python",
   "name": "python3"
  },
  "language_info": {
   "codemirror_mode": {
    "name": "ipython",
    "version": 3
   },
   "file_extension": ".py",
   "mimetype": "text/x-python",
   "name": "python",
   "nbconvert_exporter": "python",
   "pygments_lexer": "ipython3",
   "version": "3.11.11"
  }
 },
 "nbformat": 4,
 "nbformat_minor": 0
}
