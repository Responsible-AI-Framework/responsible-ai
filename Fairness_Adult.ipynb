{
 "cells": [
  {
   "cell_type": "markdown",
   "metadata": {},
   "source": [
    "## Test Adult dataset\n",
    "- Document of dataset: \n",
    "    + https://fairlearn.org/main/user_guide/datasets/acs_income.html#dataset-description\n",
    "    + https://fairlearn.org/main/api_reference/generated/fairlearn.datasets.fetch_adult.html\n",
    "    + https://archive.ics.uci.edu/dataset/2/adult\n"
   ]
  },
  {
   "cell_type": "code",
   "execution_count": 47,
   "metadata": {},
   "outputs": [],
   "source": [
    "# Custom imports\n",
    "# import my_helper # my helper functions\n",
    "from TabResNet import TabResNet  # Import from existing script\n",
    "\n",
    "# General imports\n",
    "from IPython.display import Markdown, display, clear_output\n",
    "from functools import partial\n",
    "import pathlib\n",
    "import numpy as np\n",
    "import pandas as pd\n",
    "import shap\n",
    "\n",
    "# DL imports\n",
    "import torch\n",
    "import torch.nn as nn\n",
    "import torch.optim as optim\n",
    "from sklearn.metrics import accuracy_score, precision_score\n",
    "from sklearn.model_selection import train_test_split\n",
    "\n",
    "# Choose the fairness metric\n",
    "from fairlearn.metrics import (\n",
    "    MetricFrame,\n",
    "    count,\n",
    "    false_negative_rate,\n",
    "    false_positive_rate,\n",
    "    selection_rate,\n",
    ")\n",
    "\n",
    "# Some \"difference\" metrics (as in Nils' paper)\n",
    "# All ranges are [0,1] -> no need to scale \n",
    "from fairlearn.metrics import (\n",
    "    demographic_parity_difference,\n",
    "    equalized_odds_difference,\n",
    "    true_positive_rate_difference,\n",
    "    false_positive_rate_difference,\n",
    ")\n",
    "\n",
    "torch.manual_seed(27)\n",
    "clear_output()\n",
    "np.random.seed(27)"
   ]
  },
  {
   "cell_type": "markdown",
   "metadata": {},
   "source": [
    "## Data Loading"
   ]
  },
  {
   "cell_type": "code",
   "execution_count": 51,
   "metadata": {},
   "outputs": [],
   "source": [
    "# ---------------------------\n",
    "# Data Loading and Preparation\n",
    "# ---------------------------\n",
    "# X_display, y_display = shap.datasets.adult(display=True)\n",
    "\n",
    "# Load the dataset which has been label-encoded\n",
    "X, y = shap.datasets.adult()"
   ]
  },
  {
   "cell_type": "code",
   "execution_count": 52,
   "metadata": {},
   "outputs": [],
   "source": [
    "y_df = pd.DataFrame(y)"
   ]
  },
  {
   "cell_type": "code",
   "execution_count": 53,
   "metadata": {},
   "outputs": [
    {
     "name": "stdout",
     "output_type": "stream",
     "text": [
      "0    \n",
      "False    0.75919\n",
      "True     0.24081\n",
      "Name: proportion, dtype: float64\n"
     ]
    }
   ],
   "source": [
    "print(y_df.value_counts(normalize=True))"
   ]
  },
  {
   "cell_type": "markdown",
   "metadata": {},
   "source": [
    "## Data Preprocessing"
   ]
  },
  {
   "cell_type": "markdown",
   "metadata": {},
   "source": [
    "### Label Encoding\n",
    "Already done by SHAP - only need to drop attributes column \"Sex\""
   ]
  },
  {
   "cell_type": "code",
   "execution_count": 48,
   "metadata": {},
   "outputs": [],
   "source": [
    "X_le = X.drop(columns=[\"Sex\"])"
   ]
  },
  {
   "cell_type": "markdown",
   "metadata": {},
   "source": [
    "### Data Splitting & Formatting"
   ]
  },
  {
   "cell_type": "code",
   "execution_count": 54,
   "metadata": {},
   "outputs": [],
   "source": [
    "random_state = 7\n",
    "X_train, X_test, y_train, y_test, A_train, A_test = train_test_split(\n",
    "    X_le, y, X[\"Sex\"], test_size=0.2, random_state=random_state\n",
    ")"
   ]
  },
  {
   "cell_type": "code",
   "execution_count": 55,
   "metadata": {},
   "outputs": [
    {
     "name": "stdout",
     "output_type": "stream",
     "text": [
      "Class distribution by sex group (as percentage):\n",
      "Label  False  True \n",
      "Sex                \n",
      "0      88.99  11.01\n",
      "1      69.54  30.46\n"
     ]
    }
   ],
   "source": [
    "# Combine into DataFrame for easy grouping\n",
    "df_test = pd.DataFrame({\n",
    "    'Sex': A_test,\n",
    "    'Label': y_test\n",
    "})\n",
    "\n",
    "# Count distribution of classes per group\n",
    "distribution = df_test.groupby('Sex')['Label'].value_counts(normalize=True).unstack()\n",
    "print(\"Class distribution by sex group (as percentage):\")\n",
    "print((distribution * 100).round(2))\n"
   ]
  },
  {
   "cell_type": "code",
   "execution_count": 56,
   "metadata": {},
   "outputs": [
    {
     "name": "stdout",
     "output_type": "stream",
     "text": [
      "Shape of X_train:  (26048, 11)\n",
      "Shape of y_train:  (26048,)\n",
      "Shape of A_train:  (26048,)\n",
      "Shape of A_test:  (6513,)\n",
      "Shape of X_test:  (6513, 11)\n",
      "Shape of y_test:  (6513,)\n"
     ]
    }
   ],
   "source": [
    "print(\"Shape of X_train: \", X_train.shape)\n",
    "print(\"Shape of y_train: \", y_train.shape)\n",
    "print(\"Shape of A_train: \", A_train.shape)\n",
    "print(\"Shape of A_test: \", A_test.shape)\n",
    "print(\"Shape of X_test: \", X_test.shape)\n",
    "print(\"Shape of y_test: \", y_test.shape)"
   ]
  },
  {
   "cell_type": "code",
   "execution_count": 57,
   "metadata": {},
   "outputs": [],
   "source": [
    "X_train_np = X_train.values.astype(np.float32)\n",
    "X_test_np = X_test.values.astype(np.float32)\n",
    "\n",
    "# Convert all data to integers -> avoid errors in training\n",
    "y_train_np = y_train.astype(np.int64).values if isinstance(y_train, pd.Series) else y_train.astype(np.int64)\n",
    "y_test_np = y_test.astype(np.int64).values if isinstance(y_test, pd.Series) else y_test.astype(np.int64)\n",
    "\n",
    "# Convert data to tensors\n",
    "X_train_tensor = torch.from_numpy(X_train_np)\n",
    "y_train_tensor = torch.from_numpy(y_train_np)\n",
    "X_test_tensor = torch.from_numpy(X_test_np)\n",
    "y_test_tensor = torch.from_numpy(y_test_np) #.type(torch.LongTensor) \n"
   ]
  },
  {
   "cell_type": "markdown",
   "metadata": {},
   "source": [
    "## Train"
   ]
  },
  {
   "cell_type": "markdown",
   "metadata": {},
   "source": [
    "### XGB"
   ]
  },
  {
   "cell_type": "code",
   "execution_count": 58,
   "metadata": {},
   "outputs": [],
   "source": [
    "from xgboost import XGBClassifier\n",
    "# Train XGBoost model\n",
    "xgb_model = XGBClassifier(\n",
    "    objective='binary:logistic',\n",
    "    eval_metric='logloss',\n",
    "    n_estimators=100,\n",
    "    max_depth=3,\n",
    "    learning_rate=0.1,\n",
    "    random_state=random_state\n",
    ")"
   ]
  },
  {
   "cell_type": "code",
   "execution_count": 59,
   "metadata": {},
   "outputs": [
    {
     "name": "stdout",
     "output_type": "stream",
     "text": [
      "XGBoost Test Accuracy: 0.8670\n"
     ]
    }
   ],
   "source": [
    "xgb_model.fit(X_train_np, y_train_np)\n",
    "\n",
    "# Predict and evaluate\n",
    "xgb_preds = xgb_model.predict(X_test_np)\n",
    "xgb_accuracy = accuracy_score(y_test_np, xgb_preds)\n",
    "print(f\"XGBoost Test Accuracy: {xgb_accuracy:.4f}\")"
   ]
  },
  {
   "cell_type": "markdown",
   "metadata": {},
   "source": [
    "### MLP"
   ]
  },
  {
   "cell_type": "code",
   "execution_count": 60,
   "metadata": {},
   "outputs": [],
   "source": [
    "from sklearn.neural_network import MLPClassifier\n",
    "\n",
    "# Train MLP model\n",
    "mlp_model = MLPClassifier(\n",
    "    hidden_layer_sizes=100,\n",
    "    activation='relu',\n",
    "    solver='adam',\n",
    "    learning_rate_init=1e-3,\n",
    "    max_iter=400,\n",
    "    random_state=random_state,\n",
    "    early_stopping=True,\n",
    "    n_iter_no_change=20\n",
    ")"
   ]
  },
  {
   "cell_type": "code",
   "execution_count": 61,
   "metadata": {},
   "outputs": [
    {
     "name": "stdout",
     "output_type": "stream",
     "text": [
      "MLP Test Accuracy: 0.8366\n"
     ]
    }
   ],
   "source": [
    "\n",
    "mlp_model.fit(X_train_np, y_train_np)\n",
    "\n",
    "# Predict and evaluate\n",
    "mlp_preds = mlp_model.predict(X_test_np)\n",
    "mlp_accuracy = accuracy_score(y_test_np, mlp_preds)\n",
    "print(f\"MLP Test Accuracy: {mlp_accuracy:.4f}\")"
   ]
  },
  {
   "cell_type": "markdown",
   "metadata": {},
   "source": [
    "### TabResNet"
   ]
  },
  {
   "cell_type": "code",
   "execution_count": 62,
   "metadata": {},
   "outputs": [],
   "source": [
    "# Instantiate model\n",
    "model = TabResNet(\n",
    "    d_in=X_test.shape[1], # Match input features\n",
    "    d_out=2,\n",
    "    n_blocks=2,\n",
    "    d_block=32,\n",
    "    d_hidden=64,\n",
    "    dropout1=0.2,\n",
    "    dropout2=0.05\n",
    ")\n",
    "\n",
    "# Loss function and optimizer\n",
    "criterion = nn.CrossEntropyLoss() \n",
    "optimizer = optim.Adam(model.parameters(), lr=0.001)\n",
    "\n",
    "num_epochs = 400"
   ]
  },
  {
   "cell_type": "code",
   "execution_count": 63,
   "metadata": {},
   "outputs": [
    {
     "name": "stdout",
     "output_type": "stream",
     "text": [
      "Epoch [100/400], Loss: 0.4915\n",
      "Epoch [200/400], Loss: 0.3714\n",
      "Epoch [300/400], Loss: 0.3315\n",
      "Epoch [400/400], Loss: 0.3256\n"
     ]
    }
   ],
   "source": [
    "\n",
    "for epoch in range(num_epochs):\n",
    "    model.train()\n",
    "    logits = model(X_train_tensor)\n",
    "    loss = criterion(logits, y_train_tensor)\n",
    "    optimizer.zero_grad()\n",
    "    loss.backward()\n",
    "    optimizer.step()\n",
    "    if (epoch + 1) % 100 == 0:\n",
    "        print(f\"Epoch [{epoch+1}/{num_epochs}], Loss: {loss.item():.4f}\")\n"
   ]
  },
  {
   "cell_type": "code",
   "execution_count": 64,
   "metadata": {},
   "outputs": [
    {
     "name": "stdout",
     "output_type": "stream",
     "text": [
      "Test Accuracy: 0.8474\n"
     ]
    }
   ],
   "source": [
    "# Evaluate on test data\n",
    "model.eval()\n",
    "with torch.no_grad():\n",
    "    logits = model(X_test_tensor) \n",
    "    probs = torch.softmax(logits, dim=1)\n",
    "    preds = torch.argmax(probs, dim=1)\n",
    "    accuracy = (preds == y_test_tensor).float().mean().item()\n",
    "    print(f\"Test Accuracy: {accuracy:.4f}\")"
   ]
  },
  {
   "cell_type": "markdown",
   "metadata": {},
   "source": [
    "## Results"
   ]
  },
  {
   "cell_type": "markdown",
   "metadata": {},
   "source": [
    "### Predicted positive counts by group (Income):"
   ]
  },
  {
   "cell_type": "code",
   "execution_count": 75,
   "metadata": {},
   "outputs": [
    {
     "name": "stdout",
     "output_type": "stream",
     "text": [
      "Class distribution by Sex group (as percentage) - Income Dataset:\n",
      "Label  False  True \n",
      "Sex                \n",
      "0      88.99  11.01\n",
      "1      69.54  30.46\n"
     ]
    }
   ],
   "source": [
    "# Combine into DataFrame for easy grouping\n",
    "df_test = pd.DataFrame({\n",
    "    'Sex': A_test,\n",
    "    'Label': y_test\n",
    "})\n",
    "\n",
    "# Count distribution of classes per group\n",
    "distribution = df_test.groupby('Sex')['Label'].value_counts(normalize=True).unstack()\n",
    "print(\"Class distribution by Sex group (as percentage) - Income Dataset:\")\n",
    "print((distribution * 100).round(2))"
   ]
  },
  {
   "cell_type": "markdown",
   "metadata": {},
   "source": [
    "Imbalance Assessment\n",
    "\n",
    "ACSIncome:\n",
    "\n",
    "Sex 0 (likely female): 11.01% positive, Sex 1 (likely male): 30.46% positive.\n",
    "\n",
    "Huge class imbalance (over 19 percentage points) between groups — clear structural disparity.\n",
    "\n",
    "Despite this, models like TabResNet managed relatively good fairness (0.9191), suggesting it was better at mitigating inherent bias."
   ]
  },
  {
   "cell_type": "code",
   "execution_count": 72,
   "metadata": {},
   "outputs": [
    {
     "name": "stdout",
     "output_type": "stream",
     "text": [
      "Predicted positive counts by group of Model XGB:\n",
      "Sex\n",
      "0     131\n",
      "1    1037\n",
      "dtype: int64\n"
     ]
    }
   ],
   "source": [
    "print(\"Predicted positive counts by group of Model XGB:\")\n",
    "print(pd.Series(xgb_preds, index=A_test.index).groupby(A_test).sum())"
   ]
  },
  {
   "cell_type": "code",
   "execution_count": 73,
   "metadata": {},
   "outputs": [
    {
     "name": "stdout",
     "output_type": "stream",
     "text": [
      "Predicted positive counts by group of Model MLP:\n",
      "Sex\n",
      "0     192\n",
      "1    1020\n",
      "dtype: int64\n"
     ]
    }
   ],
   "source": [
    "print(\"Predicted positive counts by group of Model MLP:\")\n",
    "print(pd.Series(mlp_preds, index=A_test.index).groupby(A_test).sum())"
   ]
  },
  {
   "cell_type": "code",
   "execution_count": 74,
   "metadata": {},
   "outputs": [
    {
     "name": "stdout",
     "output_type": "stream",
     "text": [
      "Predicted positive counts by group of Model TabResNet:\n",
      "Sex\n",
      "0     172\n",
      "1    1030\n",
      "dtype: int64\n"
     ]
    }
   ],
   "source": [
    "print(\"Predicted positive counts by group of Model TabResNet:\")\n",
    "print(pd.Series(preds, index=A_test.index).groupby(A_test).sum())"
   ]
  },
  {
   "cell_type": "markdown",
   "metadata": {},
   "source": [
    "### XGB"
   ]
  },
  {
   "cell_type": "code",
   "execution_count": 65,
   "metadata": {},
   "outputs": [
    {
     "name": "stdout",
     "output_type": "stream",
     "text": [
      "Predicted positive counts by group:\n",
      "Sex\n",
      "0     131\n",
      "1    1037\n",
      "dtype: int64\n"
     ]
    }
   ],
   "source": [
    "print(\"Predicted positive counts by group:\")\n",
    "print(pd.Series(xgb_preds, index=A_test.index).groupby(A_test).sum())"
   ]
  },
  {
   "cell_type": "code",
   "execution_count": 66,
   "metadata": {},
   "outputs": [
    {
     "data": {
      "text/plain": [
       "array([[<Axes: title={'center': 'Accuracy'}, xlabel='Sex'>,\n",
       "        <Axes: title={'center': 'Precision'}, xlabel='Sex'>,\n",
       "        <Axes: title={'center': 'False positive rate'}, xlabel='Sex'>],\n",
       "       [<Axes: title={'center': 'False negative rate'}, xlabel='Sex'>,\n",
       "        <Axes: title={'center': 'Selection rate'}, xlabel='Sex'>,\n",
       "        <Axes: title={'center': 'Count'}, xlabel='Sex'>],\n",
       "       [<Axes: xlabel='Sex'>, <Axes: xlabel='Sex'>, <Axes: xlabel='Sex'>]],\n",
       "      dtype=object)"
      ]
     },
     "execution_count": 66,
     "metadata": {},
     "output_type": "execute_result"
    },
    {
     "data": {
      "image/png": "[encoded data removed]",
      "text/plain": [
       "<Figure size 1200x800 with 9 Axes>"
      ]
     },
     "metadata": {},
     "output_type": "display_data"
    }
   ],
   "source": [
    "# Plot metrics using MetricFrame\n",
    "xgb_metrics = {\n",
    "    \"Accuracy\": accuracy_score,\n",
    "    \"Precision\": precision_score,\n",
    "    \"False positive rate\": false_positive_rate,\n",
    "    \"False negative rate\": false_negative_rate,\n",
    "    \"Selection rate\": selection_rate,\n",
    "    \"Count\": count,\n",
    "}\n",
    "\n",
    "xgb_metric_frame = MetricFrame(\n",
    "    metrics=xgb_metrics, y_true=y_test_np, y_pred=xgb_preds, sensitive_features=A_test\n",
    ")\n",
    "\n",
    "# Plotting\n",
    "xgb_metric_frame.by_group.plot.bar(\n",
    "    subplots=True,\n",
    "    layout=[3, 3],\n",
    "    legend=False,\n",
    "    figsize=[12, 8],\n",
    "    title=\"Metrics by Sex\",\n",
    ")"
   ]
  },
  {
   "cell_type": "code",
   "execution_count": 67,
   "metadata": {},
   "outputs": [
    {
     "data": {
      "text/markdown": [
       "#### Raw values"
      ],
      "text/plain": [
       "<IPython.core.display.Markdown object>"
      ]
     },
     "metadata": {},
     "output_type": "display_data"
    },
    {
     "name": "stdout",
     "output_type": "stream",
     "text": [
      "Accuracy difference: 0.0985\n",
      "Precision difference: 0.0642\n",
      "True positive rate difference: 0.1512\n",
      "False positive rate difference: 0.0620\n",
      "Demographic parity difference: 0.1784\n",
      "Equalized odds difference: 0.1512\n"
     ]
    }
   ],
   "source": [
    "# Some \"difference\" metrics (as in Nils' paper)\n",
    "display(Markdown(\"#### Raw values\")) \n",
    "\n",
    "# Accuracy difference\n",
    "xgb_accuracy_values = xgb_metric_frame.by_group[\"Accuracy\"]\n",
    "xgb_acc_diff = xgb_accuracy_values.max() - xgb_accuracy_values.min()\n",
    "print(f\"Accuracy difference: {xgb_acc_diff:.4f}\")\n",
    "\n",
    "# Precision difference\n",
    "xgb_precision_values = xgb_metric_frame.by_group[\"Precision\"]\n",
    "xgb_prec_diff = xgb_precision_values.max() - xgb_precision_values.min()\n",
    "print(f\"Precision difference: {xgb_prec_diff:.4f}\")\n",
    "\n",
    "# True positive rate (TPR) difference\n",
    "# tpr_diff = true_positive_rate_difference(y_true=y_test, y_pred=y_pred, sensitive_features=A_test) # still work but not seen in current version of fairlearn\n",
    "xgb_tpr_values = 1 - xgb_metric_frame.by_group[\"False negative rate\"]\n",
    "xgb_tpr_diff = xgb_tpr_values.max() - xgb_tpr_values.min() \n",
    "print(f\"True positive rate difference: {xgb_tpr_diff:.4f}\")\n",
    "\n",
    "# False positive rate (FPR) difference\n",
    "# fpr_diff = false_positive_rate_difference(y_true=y_test, y_pred=y_pred, sensitive_features=A_test) # still work but not seen in current version of fairlearn\n",
    "xgb_fpr_values = xgb_metric_frame.by_group[\"False positive rate\"]\n",
    "xgb_fpr_diff = xgb_fpr_values.max() - xgb_fpr_values.min()\n",
    "print(f\"False positive rate difference: {xgb_fpr_diff:.4f}\")\n",
    "\n",
    "# Demographic parity (DemP) difference\n",
    "xgb_dp_diff = demographic_parity_difference(y_true=y_test, y_pred=xgb_preds, sensitive_features=A_test)\n",
    "print(f\"Demographic parity difference: {xgb_dp_diff:.4f}\")\n",
    "\n",
    "# Equalized odds (EO) difference\n",
    "# Defined as the greater of the 2 metrics: TPR difference and the FPR difference: max(tpr_diff, fpr_diff)\n",
    "# Currently, this is the same as the TPR difference\n",
    "xgb_eo_diff = equalized_odds_difference(y_true=y_test, y_pred=xgb_preds, sensitive_features=A_test)\n",
    "print(f\"Equalized odds difference: {xgb_eo_diff:.4f}\")"
   ]
  },
  {
   "cell_type": "markdown",
   "metadata": {},
   "source": [
    "### MLP"
   ]
  },
  {
   "cell_type": "code",
   "execution_count": 68,
   "metadata": {},
   "outputs": [
    {
     "data": {
      "text/plain": [
       "array([[<Axes: title={'center': 'Accuracy'}, xlabel='Sex'>,\n",
       "        <Axes: title={'center': 'Precision'}, xlabel='Sex'>,\n",
       "        <Axes: title={'center': 'False positive rate'}, xlabel='Sex'>],\n",
       "       [<Axes: title={'center': 'False negative rate'}, xlabel='Sex'>,\n",
       "        <Axes: title={'center': 'Selection rate'}, xlabel='Sex'>,\n",
       "        <Axes: title={'center': 'Count'}, xlabel='Sex'>],\n",
       "       [<Axes: xlabel='Sex'>, <Axes: xlabel='Sex'>, <Axes: xlabel='Sex'>]],\n",
       "      dtype=object)"
      ]
     },
     "execution_count": 68,
     "metadata": {},
     "output_type": "execute_result"
    },
    {
     "data": {
      "image/png": "[encoded data removed]",
      "text/plain": [
       "<Figure size 1200x800 with 9 Axes>"
      ]
     },
     "metadata": {},
     "output_type": "display_data"
    }
   ],
   "source": [
    "# Plot metrics using MetricFrame\n",
    "mlp_metrics = {\n",
    "    \"Accuracy\": accuracy_score,\n",
    "    \"Precision\": precision_score,\n",
    "    \"False positive rate\": false_positive_rate,\n",
    "    \"False negative rate\": false_negative_rate,\n",
    "    \"Selection rate\": selection_rate,\n",
    "    \"Count\": count,\n",
    "}\n",
    "\n",
    "mlp_metric_frame = MetricFrame(\n",
    "    metrics=mlp_metrics, y_true=y_test, y_pred=mlp_preds, sensitive_features=A_test\n",
    ")\n",
    "\n",
    "# Plotting\n",
    "mlp_metric_frame.by_group.plot.bar(\n",
    "    subplots=True,\n",
    "    layout=[3, 3],\n",
    "    legend=False,\n",
    "    figsize=[12, 8],\n",
    "    title=\"Metrics by Sex\",\n",
    ")"
   ]
  },
  {
   "cell_type": "code",
   "execution_count": 69,
   "metadata": {},
   "outputs": [
    {
     "data": {
      "text/markdown": [
       "#### Raw values"
      ],
      "text/plain": [
       "<IPython.core.display.Markdown object>"
      ]
     },
     "metadata": {},
     "output_type": "display_data"
    },
    {
     "name": "stdout",
     "output_type": "stream",
     "text": [
      "Accuracy difference: 0.1144\n",
      "Precision difference: 0.0894\n",
      "True positive rate difference: 0.0485\n",
      "False positive rate difference: 0.0579\n",
      "Demographic parity difference: 0.1464\n",
      "Equalized odds difference: 0.0579\n"
     ]
    }
   ],
   "source": [
    "# Some \"difference\" metrics (as in Nils' paper)\n",
    "display(Markdown(\"#### Raw values\")) \n",
    "\n",
    "# Accuracy difference\n",
    "mlp_accuracy_values = mlp_metric_frame.by_group[\"Accuracy\"]\n",
    "mlp_acc_diff = mlp_accuracy_values.max() - mlp_accuracy_values.min()\n",
    "print(f\"Accuracy difference: {mlp_acc_diff:.4f}\")\n",
    "\n",
    "# Precision difference\n",
    "mlp_precision_values = mlp_metric_frame.by_group[\"Precision\"]\n",
    "mlp_prec_diff = mlp_precision_values.max() - mlp_precision_values.min()\n",
    "print(f\"Precision difference: {mlp_prec_diff:.4f}\")\n",
    "\n",
    "# True positive rate (TPR) difference\n",
    "# tpr_diff = true_positive_rate_difference(y_true=y_test, y_pred=y_pred, sensitive_features=A_test) # still work but not seen in current version of fairlearn\n",
    "mlp_tpr_values = 1 - mlp_metric_frame.by_group[\"False negative rate\"]\n",
    "mlp_tpr_diff = mlp_tpr_values.max() - mlp_tpr_values.min() \n",
    "print(f\"True positive rate difference: {mlp_tpr_diff:.4f}\")\n",
    "\n",
    "# False positive rate (FPR) difference\n",
    "# fpr_diff = false_positive_rate_difference(y_true=y_test, y_pred=y_pred, sensitive_features=A_test) # still work but not seen in current version of fairlearn\n",
    "mlp_fpr_values = mlp_metric_frame.by_group[\"False positive rate\"]\n",
    "mlp_fpr_diff = mlp_fpr_values.max() - mlp_fpr_values.min()\n",
    "print(f\"False positive rate difference: {mlp_fpr_diff:.4f}\")\n",
    "\n",
    "# Demographic parity (DemP) difference\n",
    "mlp_dp_diff = demographic_parity_difference(y_true=y_test, y_pred=mlp_preds, sensitive_features=A_test)\n",
    "print(f\"Demographic parity difference: {mlp_dp_diff:.4f}\")\n",
    "\n",
    "# Equalized odds (EO) difference\n",
    "# Defined as the greater of the 2 metrics: TPR difference and the FPR difference: max(tpr_diff, fpr_diff)\n",
    "# Currently, this is the same as the TPR difference\n",
    "mlp_eo_diff = equalized_odds_difference(y_true=y_test, y_pred=mlp_preds, sensitive_features=A_test)\n",
    "print(f\"Equalized odds difference: {mlp_eo_diff:.4f}\")"
   ]
  },
  {
   "cell_type": "markdown",
   "metadata": {},
   "source": [
    "### TabResNet"
   ]
  },
  {
   "cell_type": "code",
   "execution_count": 70,
   "metadata": {},
   "outputs": [
    {
     "data": {
      "text/plain": [
       "array([[<Axes: title={'center': 'Accuracy'}, xlabel='Sex'>,\n",
       "        <Axes: title={'center': 'Precision'}, xlabel='Sex'>,\n",
       "        <Axes: title={'center': 'False positive rate'}, xlabel='Sex'>],\n",
       "       [<Axes: title={'center': 'False negative rate'}, xlabel='Sex'>,\n",
       "        <Axes: title={'center': 'Selection rate'}, xlabel='Sex'>,\n",
       "        <Axes: title={'center': 'Count'}, xlabel='Sex'>],\n",
       "       [<Axes: xlabel='Sex'>, <Axes: xlabel='Sex'>, <Axes: xlabel='Sex'>]],\n",
       "      dtype=object)"
      ]
     },
     "execution_count": 70,
     "metadata": {},
     "output_type": "execute_result"
    },
    {
     "data": {
      "image/png": "[encoded data removed]",
      "text/plain": [
       "<Figure size 1200x800 with 9 Axes>"
      ]
     },
     "metadata": {},
     "output_type": "display_data"
    }
   ],
   "source": [
    "# Plot metrics using MetricFrame\n",
    "metrics = {\n",
    "    \"Accuracy\": accuracy_score,\n",
    "    \"Precision\": precision_score,\n",
    "    \"False positive rate\": false_positive_rate,\n",
    "    \"False negative rate\": false_negative_rate,\n",
    "    \"Selection rate\": selection_rate,\n",
    "    \"Count\": count,\n",
    "}\n",
    "\n",
    "metric_frame = MetricFrame(\n",
    "    metrics=metrics, y_true=y_test, y_pred=preds, sensitive_features=A_test\n",
    ")\n",
    "\n",
    "# Plotting\n",
    "metric_frame.by_group.plot.bar(\n",
    "    subplots=True,\n",
    "    layout=[3, 3],\n",
    "    legend=False,\n",
    "    figsize=[12, 8],\n",
    "    title=\"Metrics by Sex & Age Groups\",\n",
    ")"
   ]
  },
  {
   "cell_type": "code",
   "execution_count": 71,
   "metadata": {},
   "outputs": [
    {
     "data": {
      "text/markdown": [
       "#### Raw values"
      ],
      "text/plain": [
       "<IPython.core.display.Markdown object>"
      ]
     },
     "metadata": {},
     "output_type": "display_data"
    },
    {
     "name": "stdout",
     "output_type": "stream",
     "text": [
      "Accuracy difference: 0.1148\n",
      "Precision difference: 0.0247\n",
      "True positive rate difference: 0.0613\n",
      "False positive rate difference: 0.0634\n",
      "Demographic parity difference: 0.1579\n",
      "Equalized odds difference: 0.0634\n"
     ]
    }
   ],
   "source": [
    "# Some \"difference\" metrics (as in Nils' paper)\n",
    "display(Markdown(\"#### Raw values\")) \n",
    "\n",
    "# Accuracy difference\n",
    "accuracy_values = metric_frame.by_group[\"Accuracy\"]\n",
    "acc_diff = accuracy_values.max() - accuracy_values.min()\n",
    "print(f\"Accuracy difference: {acc_diff:.4f}\")\n",
    "\n",
    "# Precision difference\n",
    "precision_values = metric_frame.by_group[\"Precision\"]\n",
    "prec_diff = precision_values.max() - precision_values.min()\n",
    "print(f\"Precision difference: {prec_diff:.4f}\")\n",
    "\n",
    "# True positive rate (TPR) difference\n",
    "# tpr_diff = true_positive_rate_difference(y_true=y_test, y_pred=y_pred, sensitive_features=A_test) # still work but not seen in current version of fairlearn\n",
    "tpr_values = 1 - metric_frame.by_group[\"False negative rate\"]\n",
    "tpr_diff = tpr_values.max() - tpr_values.min() \n",
    "print(f\"True positive rate difference: {tpr_diff:.4f}\")\n",
    "\n",
    "# False positive rate (FPR) difference\n",
    "# fpr_diff = false_positive_rate_difference(y_true=y_test, y_pred=y_pred, sensitive_features=A_test) # still work but not seen in current version of fairlearn\n",
    "fpr_values = metric_frame.by_group[\"False positive rate\"]\n",
    "fpr_diff = fpr_values.max() - fpr_values.min()\n",
    "print(f\"False positive rate difference: {fpr_diff:.4f}\")\n",
    "\n",
    "# Demographic parity (DemP) difference\n",
    "dp_diff = demographic_parity_difference(y_true=y_test, y_pred=preds, sensitive_features=A_test)\n",
    "print(f\"Demographic parity difference: {dp_diff:.4f}\")\n",
    "\n",
    "# Equalized odds (EO) difference\n",
    "# Defined as the greater of the 2 metrics: TPR difference and the FPR difference: max(tpr_diff, fpr_diff)\n",
    "# Currently, this is the same as the TPR difference\n",
    "eo_diff = equalized_odds_difference(y_true=y_test, y_pred=preds, sensitive_features=A_test)\n",
    "print(f\"Equalized odds difference: {eo_diff:.4f}\")"
   ]
  }
 ],
 "metadata": {
  "kernelspec": {
   "display_name": "fair-ai-env",
   "language": "python",
   "name": "python3"
  },
  "language_info": {
   "codemirror_mode": {
    "name": "ipython",
    "version": 3
   },
   "file_extension": ".py",
   "mimetype": "text/x-python",
   "name": "python",
   "nbconvert_exporter": "python",
   "pygments_lexer": "ipython3",
   "version": "3.10.16"
  }
 },
 "nbformat": 4,
 "nbformat_minor": 2
}
